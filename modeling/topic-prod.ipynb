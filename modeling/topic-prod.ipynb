{
 "cells": [
  {
   "cell_type": "markdown",
   "metadata": {},
   "source": [
    "# News Topic Modeling\n",
    "\n",
    "This notebook is used to derive topics from news text\n",
    "\n",
    "The model used here is the Universal Sentence Encoder Lite from Tensorflow Hub\n",
    "\n",
    "https://www.tensorflow.org/hub/tutorials/semantic_similarity_with_tf_hub_universal_encoder_lite"
   ]
  },
  {
   "cell_type": "code",
   "execution_count": null,
   "metadata": {
    "tags": []
   },
   "outputs": [],
<<<<<<< HEAD
   "source": [
    "# # change gcloud config for running locally\n",
    "# !gcloud config configurations activate news-site"
=======
   "source": [
    "# # change gcloud config for running locally\n",
    "# !gcloud config configurations activate news-site"
   ]
  },
  {
   "cell_type": "code",
   "execution_count": 1,
   "metadata": {},
   "outputs": [
    {
     "name": "stdout",
     "output_type": "stream",
     "text": [
      "WARNING:tensorflow:From /Users/steve/.pyenv/versions/3.8.0/lib/python3.8/site-packages/tensorflow/python/compat/v2_compat.py:96: disable_resource_variables (from tensorflow.python.ops.variable_scope) is deprecated and will be removed in a future version.\n",
      "Instructions for updating:\n",
      "non-resource variables are not supported in the long term\n"
     ]
    }
   ],
   "source": [
    "from google.cloud import bigquery\n",
    "\n",
    "import pandas\n",
    "import re\n",
    "import numpy\n",
    "import tensorflow.compat.v1 as tf\n",
    "tf.disable_v2_behavior()\n",
    "\n",
    "import tensorflow_hub as hub\n",
    "import sentencepiece as spm\n",
    "from sklearn.cluster import KMeans"
>>>>>>> c48867e8b9d536a3e69380b75c0d5013ce7d6963
   ]
  },
  {
   "cell_type": "code",
   "execution_count": 2,
   "metadata": {},
   "outputs": [
    {
     "name": "stdout",
     "output_type": "stream",
     "text": [
      "WARNING:tensorflow:From /Users/steve/.pyenv/versions/3.8.0/lib/python3.8/site-packages/tensorflow/python/compat/v2_compat.py:96: disable_resource_variables (from tensorflow.python.ops.variable_scope) is deprecated and will be removed in a future version.\n",
      "Instructions for updating:\n",
      "non-resource variables are not supported in the long term\n"
     ]
    }
   ],
   "source": [
<<<<<<< HEAD
    "from google.cloud import bigquery\n",
    "\n",
    "import pandas\n",
    "import re\n",
    "import numpy\n",
    "import tensorflow.compat.v1 as tf\n",
    "tf.disable_v2_behavior()\n",
    "\n",
    "import tensorflow_hub as hub\n",
    "import sentencepiece as spm\n",
    "from sklearn.cluster import KMeans"
=======
    "# # use this approach to create local credentials\n",
    "# token = !gcloud auth print-access-token\n",
    "# import google.oauth2.credentials\n",
    "# credentials = google.oauth2.credentials.Credentials(token[0])\n",
    "# client = bigquery.Client(credentials=credentials)"
>>>>>>> c48867e8b9d536a3e69380b75c0d5013ce7d6963
   ]
  },
  {
   "cell_type": "code",
   "execution_count": 3,
   "metadata": {},
   "outputs": [],
   "source": [
    "# # use this approach to create local credentials\n",
    "# token = !gcloud auth print-access-token\n",
    "# import google.oauth2.credentials\n",
    "# credentials = google.oauth2.credentials.Credentials(token[0])\n",
    "# client = bigquery.Client(credentials=credentials)"
   ]
  },
  {
   "cell_type": "code",
   "execution_count": 4,
   "metadata": {
    "tags": []
   },
   "outputs": [
    {
     "name": "stdout",
     "output_type": "stream",
     "text": [
      "<class 'pandas.core.frame.DataFrame'>\n",
<<<<<<< HEAD
      "RangeIndex: 999 entries, 0 to 998\n",
      "Data columns (total 3 columns):\n",
      " #   Column       Non-Null Count  Dtype              \n",
      "---  ------       --------------  -----              \n",
      " 0   article_id   999 non-null    object             \n",
      " 1   publishedAt  999 non-null    datetime64[ns, UTC]\n",
      " 2   text         999 non-null    object             \n",
      "dtypes: datetime64[ns, UTC](1), object(2)\n",
      "memory usage: 23.5+ KB\n"
=======
      "RangeIndex: 1244 entries, 0 to 1243\n",
      "Data columns (total 3 columns):\n",
      " #   Column       Non-Null Count  Dtype              \n",
      "---  ------       --------------  -----              \n",
      " 0   article_id   1244 non-null   object             \n",
      " 1   publishedAt  1244 non-null   datetime64[ns, UTC]\n",
      " 2   text         1244 non-null   object             \n",
      "dtypes: datetime64[ns, UTC](1), object(2)\n",
      "memory usage: 29.3+ KB\n"
>>>>>>> c48867e8b9d536a3e69380b75c0d5013ce7d6963
     ]
    }
   ],
   "source": [
    "# use credentials with client when running locally\n",
    "client = bigquery.Client()\n",
    "\n",
    "sql = \"\"\"\n",
    "    SELECT \n",
    "        article_id,\n",
    "        publishedAt,\n",
    "        CONCAT(title, '. ', description, '. ', content) AS text\n",
    "    FROM `news-site-280319.news.articles`\n",
    "    WHERE\n",
    "      title IS NOT NULL\n",
    "      AND description IS NOT NULL\n",
    "      AND content IS NOT NULL\n",
    "      AND DATE(publishedAt) >= DATE_SUB(CURRENT_DATE(), INTERVAL 7 DAY)\n",
    "\"\"\"\n",
    "\n",
    "df = client.query(sql).to_dataframe()\n",
    "\n",
    "df.info()"
   ]
  },
  {
   "cell_type": "code",
<<<<<<< HEAD
   "execution_count": 5,
=======
   "execution_count": 4,
>>>>>>> c48867e8b9d536a3e69380b75c0d5013ce7d6963
   "metadata": {},
   "outputs": [
    {
     "data": {
      "text/html": [
       "<div>\n",
       "<style scoped>\n",
       "    .dataframe tbody tr th:only-of-type {\n",
       "        vertical-align: middle;\n",
       "    }\n",
       "\n",
       "    .dataframe tbody tr th {\n",
       "        vertical-align: top;\n",
       "    }\n",
       "\n",
       "    .dataframe thead th {\n",
       "        text-align: right;\n",
       "    }\n",
       "</style>\n",
       "<table border=\"1\" class=\"dataframe\">\n",
       "  <thead>\n",
       "    <tr style=\"text-align: right;\">\n",
       "      <th></th>\n",
       "      <th>article_id</th>\n",
       "      <th>publishedAt</th>\n",
       "      <th>text</th>\n",
       "    </tr>\n",
       "  </thead>\n",
       "  <tbody>\n",
       "    <tr>\n",
       "      <th>0</th>\n",
<<<<<<< HEAD
       "      <td>c2b2b5d8-9b26-4c9f-8f43-4521889be456</td>\n",
       "      <td>2021-08-24 10:47:42+00:00</td>\n",
       "      <td>South African Unemployment Rate Rises to Highe...</td>\n",
       "    </tr>\n",
       "    <tr>\n",
       "      <th>1</th>\n",
       "      <td>b7ffdf3f-fd51-4fdf-8426-90f21e7a2267</td>\n",
       "      <td>2021-08-24 10:53:28+00:00</td>\n",
       "      <td>Afghan basketball star welcomed by new team in...</td>\n",
       "    </tr>\n",
       "    <tr>\n",
       "      <th>2</th>\n",
       "      <td>aea7857a-6e9a-43a6-96a8-5a52de44e6de</td>\n",
       "      <td>2021-08-24 11:24:21+00:00</td>\n",
       "      <td>How are women in Afghanistan reacting to Talib...</td>\n",
       "    </tr>\n",
       "    <tr>\n",
       "      <th>3</th>\n",
       "      <td>d9c15bd2-d69e-4ddb-bf38-e8cf686389f1</td>\n",
       "      <td>2021-08-24 11:21:35+00:00</td>\n",
       "      <td>Afghan women footballers evacuated by Australi...</td>\n",
       "    </tr>\n",
       "    <tr>\n",
       "      <th>4</th>\n",
       "      <td>444a5117-e1fe-40ea-b297-5c9929531dd1</td>\n",
       "      <td>2021-08-24 11:34:53+00:00</td>\n",
       "      <td>Housing inventories continue rebound with July...</td>\n",
=======
       "      <td>ca2e0821-9dca-4d7a-a61a-3b7f1bc30bdf</td>\n",
       "      <td>2021-02-21 22:16:12+00:00</td>\n",
       "      <td>Paris St Germain 0-2 Monaco: Pochettino loses ...</td>\n",
       "    </tr>\n",
       "    <tr>\n",
       "      <th>1</th>\n",
       "      <td>ca1fa44f-3a3a-4163-970d-6502b32837a0</td>\n",
       "      <td>2021-02-21 21:22:20+00:00</td>\n",
       "      <td>Ross County 1-0 Celtic: John Hughes' side off ...</td>\n",
       "    </tr>\n",
       "    <tr>\n",
       "      <th>2</th>\n",
       "      <td>d34bef50-cb17-4eef-a663-d8f0bdfa6557</td>\n",
       "      <td>2021-02-21 20:56:23+00:00</td>\n",
       "      <td>Manchester United 3-1 Newcastle United: Marcus...</td>\n",
       "    </tr>\n",
       "    <tr>\n",
       "      <th>3</th>\n",
       "      <td>8cebfabb-b80f-4c8d-95cd-455fb7296b7a</td>\n",
       "      <td>2021-02-21 21:06:00+00:00</td>\n",
       "      <td>2021/02/21 21:00 GMT. The latest five minute n...</td>\n",
       "    </tr>\n",
       "    <tr>\n",
       "      <th>4</th>\n",
       "      <td>a718a782-93dc-462a-ad35-9f539b2f0d35</td>\n",
       "      <td>2021-02-21 22:12:00+00:00</td>\n",
       "      <td>Iran and the IAEA come to a temporary agreemen...</td>\n",
>>>>>>> c48867e8b9d536a3e69380b75c0d5013ce7d6963
       "    </tr>\n",
       "  </tbody>\n",
       "</table>\n",
       "</div>"
      ],
      "text/plain": [
       "                             article_id               publishedAt  \\\n",
<<<<<<< HEAD
       "0  c2b2b5d8-9b26-4c9f-8f43-4521889be456 2021-08-24 10:47:42+00:00   \n",
       "1  b7ffdf3f-fd51-4fdf-8426-90f21e7a2267 2021-08-24 10:53:28+00:00   \n",
       "2  aea7857a-6e9a-43a6-96a8-5a52de44e6de 2021-08-24 11:24:21+00:00   \n",
       "3  d9c15bd2-d69e-4ddb-bf38-e8cf686389f1 2021-08-24 11:21:35+00:00   \n",
       "4  444a5117-e1fe-40ea-b297-5c9929531dd1 2021-08-24 11:34:53+00:00   \n",
       "\n",
       "                                                text  \n",
       "0  South African Unemployment Rate Rises to Highe...  \n",
       "1  Afghan basketball star welcomed by new team in...  \n",
       "2  How are women in Afghanistan reacting to Talib...  \n",
       "3  Afghan women footballers evacuated by Australi...  \n",
       "4  Housing inventories continue rebound with July...  "
      ]
     },
     "execution_count": 5,
=======
       "0  ca2e0821-9dca-4d7a-a61a-3b7f1bc30bdf 2021-02-21 22:16:12+00:00   \n",
       "1  ca1fa44f-3a3a-4163-970d-6502b32837a0 2021-02-21 21:22:20+00:00   \n",
       "2  d34bef50-cb17-4eef-a663-d8f0bdfa6557 2021-02-21 20:56:23+00:00   \n",
       "3  8cebfabb-b80f-4c8d-95cd-455fb7296b7a 2021-02-21 21:06:00+00:00   \n",
       "4  a718a782-93dc-462a-ad35-9f539b2f0d35 2021-02-21 22:12:00+00:00   \n",
       "\n",
       "                                                text  \n",
       "0  Paris St Germain 0-2 Monaco: Pochettino loses ...  \n",
       "1  Ross County 1-0 Celtic: John Hughes' side off ...  \n",
       "2  Manchester United 3-1 Newcastle United: Marcus...  \n",
       "3  2021/02/21 21:00 GMT. The latest five minute n...  \n",
       "4  Iran and the IAEA come to a temporary agreemen...  "
      ]
     },
     "execution_count": 4,
>>>>>>> c48867e8b9d536a3e69380b75c0d5013ce7d6963
     "metadata": {},
     "output_type": "execute_result"
    }
   ],
   "source": [
    "news_df = df\n",
    "news_df.head()"
   ]
  },
  {
   "cell_type": "code",
   "execution_count": 5,
   "metadata": {},
   "outputs": [],
   "source": [
    "module = hub.Module(\"https://tfhub.dev/google/universal-sentence-encoder-lite/2\")"
<<<<<<< HEAD
=======
   ]
  },
  {
   "cell_type": "code",
   "execution_count": 6,
   "metadata": {},
   "outputs": [
    {
     "name": "stdout",
     "output_type": "stream",
     "text": [
      "INFO:tensorflow:Saver not created because there are no variables in the graph to restore\n"
     ]
    },
    {
     "name": "stderr",
     "output_type": "stream",
     "text": [
      "INFO:tensorflow:Saver not created because there are no variables in the graph to restore\n"
     ]
    }
   ],
   "source": [
    "input_placeholder = tf.sparse_placeholder(tf.int64, shape=[None, None])\n",
    "encodings = module(\n",
    "    inputs=dict(\n",
    "        values=input_placeholder.values,\n",
    "        indices=input_placeholder.indices,\n",
    "        dense_shape=input_placeholder.dense_shape))"
>>>>>>> c48867e8b9d536a3e69380b75c0d5013ce7d6963
   ]
  },
  {
   "cell_type": "code",
   "execution_count": 7,
   "metadata": {},
   "outputs": [
    {
     "name": "stdout",
     "output_type": "stream",
     "text": [
      "INFO:tensorflow:Saver not created because there are no variables in the graph to restore\n"
     ]
    },
    {
     "name": "stderr",
     "output_type": "stream",
     "text": [
      "INFO:tensorflow:Saver not created because there are no variables in the graph to restore\n"
     ]
<<<<<<< HEAD
    }
   ],
   "source": [
    "input_placeholder = tf.sparse_placeholder(tf.int64, shape=[None, None])\n",
    "encodings = module(\n",
    "    inputs=dict(\n",
    "        values=input_placeholder.values,\n",
    "        indices=input_placeholder.indices,\n",
    "        dense_shape=input_placeholder.dense_shape))"
=======
    },
    {
     "name": "stdout",
     "output_type": "stream",
     "text": [
      "SentencePiece model loaded at b'/var/folders/99/_fcjbs5d08ndbt_1__blsphm0000gn/T/tfhub_modules/539544f0a997d91c327c23285ea00c37588d92cc/assets/universal_encoder_8k_spm.model'.\n"
     ]
    }
   ],
   "source": [
    "with tf.Session() as sess:\n",
    "    spm_path = sess.run(module(signature=\"spm_path\"))\n",
    "\n",
    "sp = spm.SentencePieceProcessor()\n",
    "with tf.io.gfile.GFile(spm_path, mode=\"rb\") as f:\n",
    "    sp.LoadFromSerializedProto(f.read())\n",
    "print(\"SentencePiece model loaded at {}.\".format(spm_path))"
>>>>>>> c48867e8b9d536a3e69380b75c0d5013ce7d6963
   ]
  },
  {
   "cell_type": "code",
   "execution_count": 8,
   "metadata": {},
   "outputs": [
    {
     "name": "stdout",
     "output_type": "stream",
     "text": [
      "INFO:tensorflow:Saver not created because there are no variables in the graph to restore\n"
     ]
    },
    {
     "name": "stderr",
     "output_type": "stream",
     "text": [
      "INFO:tensorflow:Saver not created because there are no variables in the graph to restore\n"
     ]
    },
    {
     "name": "stdout",
     "output_type": "stream",
     "text": [
      "SentencePiece model loaded at b'/var/folders/99/_fcjbs5d08ndbt_1__blsphm0000gn/T/tfhub_modules/539544f0a997d91c327c23285ea00c37588d92cc/assets/universal_encoder_8k_spm.model'.\n"
     ]
    }
   ],
   "source": [
<<<<<<< HEAD
    "with tf.Session() as sess:\n",
    "    spm_path = sess.run(module(signature=\"spm_path\"))\n",
    "\n",
    "sp = spm.SentencePieceProcessor()\n",
    "with tf.io.gfile.GFile(spm_path, mode=\"rb\") as f:\n",
    "    sp.LoadFromSerializedProto(f.read())\n",
    "print(\"SentencePiece model loaded at {}.\".format(spm_path))"
=======
    "def process_to_IDs_in_sparse_format(sp, sentences):\n",
    "    # An utility method that processes sentences with the sentence piece processor\n",
    "    # 'sp' and returns the results in tf.SparseTensor-similar format:\n",
    "    # (values, indices, dense_shape)\n",
    "    ids = [sp.EncodeAsIds(x) for x in sentences]\n",
    "    max_len = max(len(x) for x in ids)\n",
    "    dense_shape=(len(ids), max_len)\n",
    "    values=[item for sublist in ids for item in sublist]\n",
    "    indices=[[row,col] for row in range(len(ids)) for col in range(len(ids[row]))]\n",
    "    return (values, indices, dense_shape)"
>>>>>>> c48867e8b9d536a3e69380b75c0d5013ce7d6963
   ]
  },
  {
   "cell_type": "code",
   "execution_count": 9,
   "metadata": {},
   "outputs": [],
   "source": [
<<<<<<< HEAD
    "def process_to_IDs_in_sparse_format(sp, sentences):\n",
    "    # An utility method that processes sentences with the sentence piece processor\n",
    "    # 'sp' and returns the results in tf.SparseTensor-similar format:\n",
    "    # (values, indices, dense_shape)\n",
    "    ids = [sp.EncodeAsIds(x) for x in sentences]\n",
    "    max_len = max(len(x) for x in ids)\n",
    "    dense_shape=(len(ids), max_len)\n",
    "    values=[item for sublist in ids for item in sublist]\n",
    "    indices=[[row,col] for row in range(len(ids)) for col in range(len(ids[row]))]\n",
    "    return (values, indices, dense_shape)"
=======
    "# pass the text field from the news data into the messages\n",
    "messages = news_df['text']\n",
    "values, indices, dense_shape = process_to_IDs_in_sparse_format(sp, messages)"
>>>>>>> c48867e8b9d536a3e69380b75c0d5013ce7d6963
   ]
  },
  {
   "cell_type": "code",
   "execution_count": 10,
   "metadata": {},
   "outputs": [],
   "source": [
<<<<<<< HEAD
    "# pass the text field from the news data into the messages\n",
    "messages = news_df['text']\n",
    "values, indices, dense_shape = process_to_IDs_in_sparse_format(sp, messages)"
=======
    "# generate embeddings\n",
    "with tf.Session() as session:\n",
    "    session.run([tf.global_variables_initializer(), tf.tables_initializer()])\n",
    "    message_embeddings = session.run(\n",
    "        encodings,\n",
    "        feed_dict={input_placeholder.values: values,\n",
    "                   input_placeholder.indices: indices,\n",
    "                   input_placeholder.dense_shape: dense_shape})"
>>>>>>> c48867e8b9d536a3e69380b75c0d5013ce7d6963
   ]
  },
  {
   "cell_type": "code",
   "execution_count": 15,
   "metadata": {},
   "outputs": [],
   "source": [
<<<<<<< HEAD
    "# generate embeddings\n",
    "with tf.Session() as session:\n",
    "    session.run([tf.global_variables_initializer(), tf.tables_initializer()])\n",
    "    message_embeddings = session.run(\n",
    "        encodings,\n",
    "        feed_dict={input_placeholder.values: values,\n",
    "                   input_placeholder.indices: indices,\n",
    "                   input_placeholder.dense_shape: dense_shape})"
=======
    "# convert message_embeddings to list for use with sklearn kmeans\n",
    "news_df['embedding'] = message_embeddings.tolist()"
   ]
  },
  {
   "cell_type": "code",
   "execution_count": 16,
   "metadata": {},
   "outputs": [
    {
     "data": {
      "text/html": [
       "<div>\n",
       "<style scoped>\n",
       "    .dataframe tbody tr th:only-of-type {\n",
       "        vertical-align: middle;\n",
       "    }\n",
       "\n",
       "    .dataframe tbody tr th {\n",
       "        vertical-align: top;\n",
       "    }\n",
       "\n",
       "    .dataframe thead th {\n",
       "        text-align: right;\n",
       "    }\n",
       "</style>\n",
       "<table border=\"1\" class=\"dataframe\">\n",
       "  <thead>\n",
       "    <tr style=\"text-align: right;\">\n",
       "      <th></th>\n",
       "      <th>article_id</th>\n",
       "      <th>publishedAt</th>\n",
       "      <th>text</th>\n",
       "      <th>embedding</th>\n",
       "    </tr>\n",
       "  </thead>\n",
       "  <tbody>\n",
       "    <tr>\n",
       "      <th>0</th>\n",
       "      <td>ca2e0821-9dca-4d7a-a61a-3b7f1bc30bdf</td>\n",
       "      <td>2021-02-21 22:16:12+00:00</td>\n",
       "      <td>Paris St Germain 0-2 Monaco: Pochettino loses ...</td>\n",
       "      <td>[-0.028592605143785477, 0.04850605130195618, -...</td>\n",
       "    </tr>\n",
       "    <tr>\n",
       "      <th>1</th>\n",
       "      <td>ca1fa44f-3a3a-4163-970d-6502b32837a0</td>\n",
       "      <td>2021-02-21 21:22:20+00:00</td>\n",
       "      <td>Ross County 1-0 Celtic: John Hughes' side off ...</td>\n",
       "      <td>[-0.023736482486128807, 0.03493289276957512, -...</td>\n",
       "    </tr>\n",
       "    <tr>\n",
       "      <th>2</th>\n",
       "      <td>d34bef50-cb17-4eef-a663-d8f0bdfa6557</td>\n",
       "      <td>2021-02-21 20:56:23+00:00</td>\n",
       "      <td>Manchester United 3-1 Newcastle United: Marcus...</td>\n",
       "      <td>[0.016477283090353012, 0.00411869864910841, -0...</td>\n",
       "    </tr>\n",
       "    <tr>\n",
       "      <th>3</th>\n",
       "      <td>8cebfabb-b80f-4c8d-95cd-455fb7296b7a</td>\n",
       "      <td>2021-02-21 21:06:00+00:00</td>\n",
       "      <td>2021/02/21 21:00 GMT. The latest five minute n...</td>\n",
       "      <td>[-0.06045500934123993, -0.059935059398412704, ...</td>\n",
       "    </tr>\n",
       "    <tr>\n",
       "      <th>4</th>\n",
       "      <td>a718a782-93dc-462a-ad35-9f539b2f0d35</td>\n",
       "      <td>2021-02-21 22:12:00+00:00</td>\n",
       "      <td>Iran and the IAEA come to a temporary agreemen...</td>\n",
       "      <td>[0.04008898884057999, -0.012774740345776081, -...</td>\n",
       "    </tr>\n",
       "  </tbody>\n",
       "</table>\n",
       "</div>"
      ],
      "text/plain": [
       "                             article_id               publishedAt  \\\n",
       "0  ca2e0821-9dca-4d7a-a61a-3b7f1bc30bdf 2021-02-21 22:16:12+00:00   \n",
       "1  ca1fa44f-3a3a-4163-970d-6502b32837a0 2021-02-21 21:22:20+00:00   \n",
       "2  d34bef50-cb17-4eef-a663-d8f0bdfa6557 2021-02-21 20:56:23+00:00   \n",
       "3  8cebfabb-b80f-4c8d-95cd-455fb7296b7a 2021-02-21 21:06:00+00:00   \n",
       "4  a718a782-93dc-462a-ad35-9f539b2f0d35 2021-02-21 22:12:00+00:00   \n",
       "\n",
       "                                                text  \\\n",
       "0  Paris St Germain 0-2 Monaco: Pochettino loses ...   \n",
       "1  Ross County 1-0 Celtic: John Hughes' side off ...   \n",
       "2  Manchester United 3-1 Newcastle United: Marcus...   \n",
       "3  2021/02/21 21:00 GMT. The latest five minute n...   \n",
       "4  Iran and the IAEA come to a temporary agreemen...   \n",
       "\n",
       "                                           embedding  \n",
       "0  [-0.028592605143785477, 0.04850605130195618, -...  \n",
       "1  [-0.023736482486128807, 0.03493289276957512, -...  \n",
       "2  [0.016477283090353012, 0.00411869864910841, -0...  \n",
       "3  [-0.06045500934123993, -0.059935059398412704, ...  \n",
       "4  [0.04008898884057999, -0.012774740345776081, -...  "
      ]
     },
     "execution_count": 16,
     "metadata": {},
     "output_type": "execute_result"
    }
   ],
   "source": [
    "news_df.head()"
>>>>>>> c48867e8b9d536a3e69380b75c0d5013ce7d6963
   ]
  },
  {
   "cell_type": "code",
   "execution_count": 18,
   "metadata": {},
   "outputs": [],
   "source": [
<<<<<<< HEAD
    "# convert message_embeddings to list for use with sklearn kmeans\n",
    "news_df['embedding'] = message_embeddings.tolist()"
=======
    "# rearrange embedding series from dataframe into vertical stack for kmeans model\n",
    "X = numpy.vstack(news_df['embedding'])\n",
    "X.shape"
>>>>>>> c48867e8b9d536a3e69380b75c0d5013ce7d6963
   ]
  },
  {
   "cell_type": "code",
   "execution_count": 20,
   "metadata": {},
   "outputs": [
    {
     "data": {
      "text/html": [
       "<div>\n",
       "<style scoped>\n",
       "    .dataframe tbody tr th:only-of-type {\n",
       "        vertical-align: middle;\n",
       "    }\n",
       "\n",
       "    .dataframe tbody tr th {\n",
       "        vertical-align: top;\n",
       "    }\n",
       "\n",
       "    .dataframe thead th {\n",
       "        text-align: right;\n",
       "    }\n",
       "</style>\n",
       "<table border=\"1\" class=\"dataframe\">\n",
       "  <thead>\n",
       "    <tr style=\"text-align: right;\">\n",
       "      <th></th>\n",
       "      <th>article_id</th>\n",
       "      <th>publishedAt</th>\n",
       "      <th>text</th>\n",
       "      <th>embedding</th>\n",
       "    </tr>\n",
       "  </thead>\n",
       "  <tbody>\n",
       "    <tr>\n",
       "      <th>0</th>\n",
       "      <td>c2b2b5d8-9b26-4c9f-8f43-4521889be456</td>\n",
       "      <td>2021-08-24 10:47:42+00:00</td>\n",
       "      <td>South African Unemployment Rate Rises to Highe...</td>\n",
       "      <td>[-0.015288193710148335, -0.056386541575193405,...</td>\n",
       "    </tr>\n",
       "    <tr>\n",
       "      <th>1</th>\n",
       "      <td>b7ffdf3f-fd51-4fdf-8426-90f21e7a2267</td>\n",
       "      <td>2021-08-24 10:53:28+00:00</td>\n",
       "      <td>Afghan basketball star welcomed by new team in...</td>\n",
       "      <td>[0.018410377204418182, 0.049869049340486526, -...</td>\n",
       "    </tr>\n",
       "    <tr>\n",
       "      <th>2</th>\n",
       "      <td>aea7857a-6e9a-43a6-96a8-5a52de44e6de</td>\n",
       "      <td>2021-08-24 11:24:21+00:00</td>\n",
       "      <td>How are women in Afghanistan reacting to Talib...</td>\n",
       "      <td>[0.022476550191640854, 0.021421032026410103, 0...</td>\n",
       "    </tr>\n",
       "    <tr>\n",
       "      <th>3</th>\n",
       "      <td>d9c15bd2-d69e-4ddb-bf38-e8cf686389f1</td>\n",
       "      <td>2021-08-24 11:21:35+00:00</td>\n",
       "      <td>Afghan women footballers evacuated by Australi...</td>\n",
       "      <td>[0.037078578025102615, 0.05098992958664894, -0...</td>\n",
       "    </tr>\n",
       "    <tr>\n",
       "      <th>4</th>\n",
       "      <td>444a5117-e1fe-40ea-b297-5c9929531dd1</td>\n",
       "      <td>2021-08-24 11:34:53+00:00</td>\n",
       "      <td>Housing inventories continue rebound with July...</td>\n",
       "      <td>[-0.03148503229022026, 0.03165409713983536, -0...</td>\n",
       "    </tr>\n",
       "  </tbody>\n",
       "</table>\n",
       "</div>"
      ],
      "text/plain": [
       "                             article_id               publishedAt  \\\n",
       "0  c2b2b5d8-9b26-4c9f-8f43-4521889be456 2021-08-24 10:47:42+00:00   \n",
       "1  b7ffdf3f-fd51-4fdf-8426-90f21e7a2267 2021-08-24 10:53:28+00:00   \n",
       "2  aea7857a-6e9a-43a6-96a8-5a52de44e6de 2021-08-24 11:24:21+00:00   \n",
       "3  d9c15bd2-d69e-4ddb-bf38-e8cf686389f1 2021-08-24 11:21:35+00:00   \n",
       "4  444a5117-e1fe-40ea-b297-5c9929531dd1 2021-08-24 11:34:53+00:00   \n",
       "\n",
       "                                                text  \\\n",
       "0  South African Unemployment Rate Rises to Highe...   \n",
       "1  Afghan basketball star welcomed by new team in...   \n",
       "2  How are women in Afghanistan reacting to Talib...   \n",
       "3  Afghan women footballers evacuated by Australi...   \n",
       "4  Housing inventories continue rebound with July...   \n",
       "\n",
       "                                           embedding  \n",
       "0  [-0.015288193710148335, -0.056386541575193405,...  \n",
       "1  [0.018410377204418182, 0.049869049340486526, -...  \n",
       "2  [0.022476550191640854, 0.021421032026410103, 0...  \n",
       "3  [0.037078578025102615, 0.05098992958664894, -0...  \n",
       "4  [-0.03148503229022026, 0.03165409713983536, -0...  "
      ]
     },
     "execution_count": 13,
     "metadata": {},
     "output_type": "execute_result"
    }
   ],
   "source": [
<<<<<<< HEAD
    "news_df.head()"
=======
    "#Applying kmeans to the dataset / Creating the kmeans classifier\n",
    "kmeans = KMeans(n_clusters = 20, init = 'k-means++', max_iter = 100, random_state = 0)\n",
    "y_kmeans = kmeans.fit_predict(X)"
>>>>>>> c48867e8b9d536a3e69380b75c0d5013ce7d6963
   ]
  },
  {
   "cell_type": "code",
<<<<<<< HEAD
   "execution_count": 14,
   "metadata": {},
   "outputs": [
    {
     "data": {
      "text/plain": [
       "(999, 512)"
      ]
     },
     "execution_count": 14,
     "metadata": {},
     "output_type": "execute_result"
    }
   ],
   "source": [
    "# rearrange embedding series from dataframe into vertical stack for kmeans model\n",
    "X = numpy.vstack(news_df['embedding'])\n",
    "X.shape"
=======
   "execution_count": 21,
   "metadata": {},
   "outputs": [],
   "source": [
    "# add cluster predictions to dataframe\n",
    "news_df['cluster'] = y_kmeans"
>>>>>>> c48867e8b9d536a3e69380b75c0d5013ce7d6963
   ]
  },
  {
   "cell_type": "code",
<<<<<<< HEAD
   "execution_count": 15,
   "metadata": {},
   "outputs": [],
   "source": [
    "#Applying kmeans to the dataset / Creating the kmeans classifier\n",
    "kmeans = KMeans(n_clusters = 20, init = 'k-means++', max_iter = 100, random_state = 0)\n",
    "y_kmeans = kmeans.fit_predict(X)"
=======
   "execution_count": 22,
   "metadata": {},
   "outputs": [],
   "source": [
    "# add distance to nearest cluster\n",
    "news_df['distance'] = numpy.min(kmeans.fit_transform(X), axis=1)"
>>>>>>> c48867e8b9d536a3e69380b75c0d5013ce7d6963
   ]
  },
  {
   "cell_type": "code",
<<<<<<< HEAD
   "execution_count": 16,
   "metadata": {},
   "outputs": [],
   "source": [
    "# add cluster predictions to dataframe\n",
    "news_df['cluster'] = y_kmeans"
   ]
  },
  {
   "cell_type": "code",
   "execution_count": 17,
   "metadata": {},
   "outputs": [],
   "source": [
    "# add distance to nearest cluster\n",
    "news_df['distance'] = numpy.min(kmeans.fit_transform(X), axis=1)"
   ]
  },
  {
   "cell_type": "code",
   "execution_count": 18,
=======
   "execution_count": 26,
>>>>>>> c48867e8b9d536a3e69380b75c0d5013ce7d6963
   "metadata": {},
   "outputs": [
    {
     "data": {
      "text/html": [
       "<div>\n",
       "<style scoped>\n",
       "    .dataframe tbody tr th:only-of-type {\n",
       "        vertical-align: middle;\n",
       "    }\n",
       "\n",
       "    .dataframe tbody tr th {\n",
       "        vertical-align: top;\n",
       "    }\n",
       "\n",
       "    .dataframe thead th {\n",
       "        text-align: right;\n",
       "    }\n",
       "</style>\n",
       "<table border=\"1\" class=\"dataframe\">\n",
       "  <thead>\n",
       "    <tr style=\"text-align: right;\">\n",
       "      <th></th>\n",
       "      <th>text</th>\n",
       "      <th>cluster</th>\n",
       "      <th>distance</th>\n",
       "    </tr>\n",
       "  </thead>\n",
       "  <tbody>\n",
       "    <tr>\n",
<<<<<<< HEAD
       "      <th>613</th>\n",
       "      <td>9 takeaways from the Bears’ 18th training camp practice. From a healthy offensive line to Justin Fields getting some reps with starting receivers, here's what we learned from Monday's practice.. Following their preseason loss to the Buffalo Bills, the Chicago Bears returned to the practice field Monday at Halas Hall for a non-padded practice to kick off their final week of preseason.\\r\\nThere … [+8325 chars]</td>\n",
       "      <td>1</td>\n",
       "      <td>0.439975</td>\n",
       "    </tr>\n",
       "    <tr>\n",
       "      <th>344</th>\n",
       "      <td>Falcons QB AJ McCarron out for season with ACL injury. With rookie Feleipe Franks as the lone quarterback behind Matt Ryan, the Falcons are in the market for a third QB.. The Atlanta Falcons were limited to just one quarterback for the majority of Saturdays preseason game against the Dolphins after AJ McCarron went down with an apparent knee injury.\\r\\nMcCarron was in o… [+691 chars]</td>\n",
       "      <td>1</td>\n",
       "      <td>0.459337</td>\n",
       "    </tr>\n",
       "    <tr>\n",
       "      <th>900</th>\n",
       "      <td>Packers preseason highlights: Oren Burks flashes potential against Texans. The Packers got an encouraging performance from LB Oren Burks to open the preseason.. Green Bay Packers inside linebacker Oren Burks is off to a strong start in his fourth preseason. Burks jumped off the screen against the Houston Texans, totaling a team-high seven tackles, two tackle… [+2626 chars]</td>\n",
       "      <td>1</td>\n",
       "      <td>0.462438</td>\n",
       "    </tr>\n",
       "    <tr>\n",
       "      <th>328</th>\n",
       "      <td>Eagles Draft news: Carson Wentz returns to Colts’ practice as he trends towards playing Week 1. Eagles Draft news: Carson Wentz returns to Colts' practice as he trends towards playing Week 1. While the Indianapolis Colts deal with the pressure to make a Super Bowl run, the Eagles are banking on quarterback Carson Wentz playing well and deep into the playoffs.\\r\\nAfter some fears that Wentz … [+882 chars]</td>\n",
       "      <td>1</td>\n",
       "      <td>0.463118</td>\n",
       "    </tr>\n",
       "    <tr>\n",
       "      <th>985</th>\n",
       "      <td>Packers trade Josh Jackson to Giants for Isaac Yiadom in cornerback swap. The Packers are parting ways with Josh Jackson, sending the fourth-year cornerback to the Giants for cornerback Isaac Yiadom.. GREEN BAY - The Green Bay Packers are parting ways with Josh Jackson, sending the fourth-year cornerback to the New York Giants for cornerback Isaac Yiadom, a person with knowledge of the deal confir… [+3587 chars]</td>\n",
       "      <td>1</td>\n",
       "      <td>0.470674</td>\n",
=======
       "      <th>524</th>\n",
       "      <td>Aretha Franklin's son puts upcoming 'Genius' series on blast, says family does not support it. Five weeks before the eight-part series starring Cynthia Erivo as Aretha, Kecalf Franklin claims a deal was \"pushed through without our consent.\". Months after her death, a set of three handwritten wills were discovered in Franklin's home\\r\\nTime People\\r\\nAretha Franklins youngest son has slammed the forthcoming National Geographic series about th… [+3412 chars]</td>\n",
       "      <td>1</td>\n",
       "      <td>0.667728</td>\n",
       "    </tr>\n",
       "    <tr>\n",
       "      <th>1157</th>\n",
       "      <td>HBO Max’s Bold, Witty and Wrenching AIDS Drama It’s a Sin Is the First Must-See Show of 2021. Russell T. Davies' bold, witty, wrenching HBO Max drama follows five young friends through the first decade of the AIDS crisis in London.. It’s one of the oldest stories of modern times: after growing up in a place that makes them feel like a freak or an abomination or a space alien, a young person lights out for the big city, in search… [+6306 chars]</td>\n",
       "      <td>1</td>\n",
       "      <td>0.686509</td>\n",
       "    </tr>\n",
       "    <tr>\n",
       "      <th>1187</th>\n",
       "      <td>'It's a Sin' Review: HBO Max AIDS Drama is Revolutionary But Rushed. \"It's a Sin\" is the new show from \"Queer as Folk\" creator Russell T. Davies, streaming now on HBO Max.. The AIDS crisis of the 1980s and 1990s is a topic that has been covered in many excellent pieces of art in the U.S., from Angels in America and When We Rise to must-watch documentaries like How to Su… [+6440 chars]</td>\n",
       "      <td>1</td>\n",
       "      <td>0.686666</td>\n",
       "    </tr>\n",
       "    <tr>\n",
       "      <th>895</th>\n",
       "      <td>The trials and triumph of the Fisk Jubilee Singers, one of America's great musical institutions. The creation, rise and endurance of the Fisk Jubilee Singers — many of them former slaves — is a true American triumph.. As the National Museum of African American Music opens its doors, journalists from the USA TODAY Network explore the stories, places and people who helped make music what it is today in our expansive… [+6589 chars]</td>\n",
       "      <td>1</td>\n",
       "      <td>0.716526</td>\n",
       "    </tr>\n",
       "    <tr>\n",
       "      <th>893</th>\n",
       "      <td>'Nomadland': The True Story Behind the Hulu Movie. \"Nomadland\" is streaming now on Hulu, meaning viewers can finally see the Oscar-tipped movie for themselves and learn the true stories of some of the urban nomads in the film.. Nomadland has spent the last few months racking up awards, with the central performance of Frances McDormand as a woman who goes out on the road after her husband died. Apart from McDormand, however,… [+5634 chars]</td>\n",
       "      <td>1</td>\n",
       "      <td>0.719286</td>\n",
>>>>>>> c48867e8b9d536a3e69380b75c0d5013ce7d6963
       "    </tr>\n",
       "  </tbody>\n",
       "</table>\n",
       "</div>"
      ],
      "text/plain": [
<<<<<<< HEAD
       "                                                                                                                                                                                                                                                                                                                                                                                                                                text  \\\n",
       "613      9 takeaways from the Bears’ 18th training camp practice. From a healthy offensive line to Justin Fields getting some reps with starting receivers, here's what we learned from Monday's practice.. Following their preseason loss to the Buffalo Bills, the Chicago Bears returned to the practice field Monday at Halas Hall for a non-padded practice to kick off their final week of preseason.\\r\\nThere … [+8325 chars]   \n",
       "344                               Falcons QB AJ McCarron out for season with ACL injury. With rookie Feleipe Franks as the lone quarterback behind Matt Ryan, the Falcons are in the market for a third QB.. The Atlanta Falcons were limited to just one quarterback for the majority of Saturdays preseason game against the Dolphins after AJ McCarron went down with an apparent knee injury.\\r\\nMcCarron was in o… [+691 chars]   \n",
       "900                                          Packers preseason highlights: Oren Burks flashes potential against Texans. The Packers got an encouraging performance from LB Oren Burks to open the preseason.. Green Bay Packers inside linebacker Oren Burks is off to a strong start in his fourth preseason. Burks jumped off the screen against the Houston Texans, totaling a team-high seven tackles, two tackle… [+2626 chars]   \n",
       "328          Eagles Draft news: Carson Wentz returns to Colts’ practice as he trends towards playing Week 1. Eagles Draft news: Carson Wentz returns to Colts' practice as he trends towards playing Week 1. While the Indianapolis Colts deal with the pressure to make a Super Bowl run, the Eagles are banking on quarterback Carson Wentz playing well and deep into the playoffs.\\r\\nAfter some fears that Wentz … [+882 chars]   \n",
       "985  Packers trade Josh Jackson to Giants for Isaac Yiadom in cornerback swap. The Packers are parting ways with Josh Jackson, sending the fourth-year cornerback to the Giants for cornerback Isaac Yiadom.. GREEN BAY - The Green Bay Packers are parting ways with Josh Jackson, sending the fourth-year cornerback to the New York Giants for cornerback Isaac Yiadom, a person with knowledge of the deal confir… [+3587 chars]   \n",
       "\n",
       "     cluster  distance  \n",
       "613        1  0.439975  \n",
       "344        1  0.459337  \n",
       "900        1  0.462438  \n",
       "328        1  0.463118  \n",
       "985        1  0.470674  "
      ]
     },
     "execution_count": 18,
=======
       "                                                                                                                                                                                                                                                                                                                                                                                                                                                                              text  \\\n",
       "524   Aretha Franklin's son puts upcoming 'Genius' series on blast, says family does not support it. Five weeks before the eight-part series starring Cynthia Erivo as Aretha, Kecalf Franklin claims a deal was \"pushed through without our consent.\". Months after her death, a set of three handwritten wills were discovered in Franklin's home\\r\\nTime People\\r\\nAretha Franklins youngest son has slammed the forthcoming National Geographic series about th… [+3412 chars]   \n",
       "1157               HBO Max’s Bold, Witty and Wrenching AIDS Drama It’s a Sin Is the First Must-See Show of 2021. Russell T. Davies' bold, witty, wrenching HBO Max drama follows five young friends through the first decade of the AIDS crisis in London.. It’s one of the oldest stories of modern times: after growing up in a place that makes them feel like a freak or an abomination or a space alien, a young person lights out for the big city, in search… [+6306 chars]   \n",
       "1187                                                                           'It's a Sin' Review: HBO Max AIDS Drama is Revolutionary But Rushed. \"It's a Sin\" is the new show from \"Queer as Folk\" creator Russell T. Davies, streaming now on HBO Max.. The AIDS crisis of the 1980s and 1990s is a topic that has been covered in many excellent pieces of art in the U.S., from Angels in America and When We Rise to must-watch documentaries like How to Su… [+6440 chars]   \n",
       "895                               The trials and triumph of the Fisk Jubilee Singers, one of America's great musical institutions. The creation, rise and endurance of the Fisk Jubilee Singers — many of them former slaves — is a true American triumph.. As the National Museum of African American Music opens its doors, journalists from the USA TODAY Network explore the stories, places and people who helped make music what it is today in our expansive… [+6589 chars]   \n",
       "893                     'Nomadland': The True Story Behind the Hulu Movie. \"Nomadland\" is streaming now on Hulu, meaning viewers can finally see the Oscar-tipped movie for themselves and learn the true stories of some of the urban nomads in the film.. Nomadland has spent the last few months racking up awards, with the central performance of Frances McDormand as a woman who goes out on the road after her husband died. Apart from McDormand, however,… [+5634 chars]   \n",
       "\n",
       "      cluster  distance  \n",
       "524         1  0.667728  \n",
       "1157        1  0.686509  \n",
       "1187        1  0.686666  \n",
       "895         1  0.716526  \n",
       "893         1  0.719286  "
      ]
     },
     "execution_count": 26,
>>>>>>> c48867e8b9d536a3e69380b75c0d5013ce7d6963
     "metadata": {},
     "output_type": "execute_result"
    }
   ],
   "source": [
    "# evaluate closest articles for clusters\n",
    "pandas.set_option('display.max_colwidth', None)\n",
    "news_df[['text','cluster','distance']][news_df['cluster'] == 1].sort_values(by=['distance']).head(5)"
   ]
  },
  {
   "cell_type": "code",
<<<<<<< HEAD
   "execution_count": 19,
=======
   "execution_count": 27,
>>>>>>> c48867e8b9d536a3e69380b75c0d5013ce7d6963
   "metadata": {},
   "outputs": [
    {
     "data": {
      "text/html": [
       "<div>\n",
       "<style scoped>\n",
       "    .dataframe tbody tr th:only-of-type {\n",
       "        vertical-align: middle;\n",
       "    }\n",
       "\n",
       "    .dataframe tbody tr th {\n",
       "        vertical-align: top;\n",
       "    }\n",
       "\n",
       "    .dataframe thead th {\n",
       "        text-align: right;\n",
       "    }\n",
       "</style>\n",
       "<table border=\"1\" class=\"dataframe\">\n",
       "  <thead>\n",
       "    <tr style=\"text-align: right;\">\n",
       "      <th></th>\n",
       "      <th>text</th>\n",
       "      <th>cluster</th>\n",
       "      <th>distance</th>\n",
       "    </tr>\n",
       "  </thead>\n",
       "  <tbody>\n",
       "    <tr>\n",
<<<<<<< HEAD
       "      <th>36</th>\n",
       "      <td>Two Men Arrested After Woman's Body Found in Trunk of Car. David Manuel Mestas and Richard Anthony Sanchez were arrested on Sunday afternoon while allegedly fleeing to Las Vegas, Nevada, from South Dakota.. Two men have been arrested in Utah after a woman was found dead in the trunk of a car parked at a gas station with a gunshot wound to the head.\\r\\nDavid Manuel Mestas and Richard Anthony Sanchez, who a… [+2902 chars]</td>\n",
       "      <td>2</td>\n",
       "      <td>0.543041</td>\n",
       "    </tr>\n",
       "    <tr>\n",
       "      <th>147</th>\n",
       "      <td>Texas woman accused of setting deadly fire was previously charged with another murder. A Texas woman accused of setting a man on fire and is charged with another murder remains at large, police said.. A Texas woman accused of setting a man on fire and killing him remains at large, police said, and it's not the first time she's been accused of a deadly crime. \\r\\nEmma Presler, 19, is charged with mur… [+1329 chars]</td>\n",
       "      <td>2</td>\n",
       "      <td>0.562615</td>\n",
       "    </tr>\n",
       "    <tr>\n",
       "      <th>953</th>\n",
       "      <td>Georgia Man Arrested After Threatening to Shoot Judge During Livestream. The man made his threats to county officials and law enforcement in a 24-minute video live-streamed to social media.. A Georgia man has been arrested for threatening the life of a judge during a video live-streamed to social media. Micquel Deandre Gay, 36, was taken into police custody on Monday after threatening to… [+2786 chars]</td>\n",
       "      <td>2</td>\n",
       "      <td>0.573833</td>\n",
       "    </tr>\n",
       "    <tr>\n",
       "      <th>661</th>\n",
       "      <td>California Police Officer Accidentally Kills Bystander After Attempting to Shoot at Suspect. \"The suspect with the felony warrant was ultimately arrested at the scene. Neither the officers nor the suspect were injured,\" the Santa Barbara County Sheriff's Office said in the press release.. A police officer in California accidentally killed a bystander while attempting to shoot at a suspect over the past weekend.\\r\\nAccording to a press release from the Santa Barbara County Sheriff's Offi… [+2784 chars]</td>\n",
       "      <td>2</td>\n",
       "      <td>0.576131</td>\n",
       "    </tr>\n",
       "    <tr>\n",
       "      <th>482</th>\n",
       "      <td>Man arrested over Birmingham Gay Village attack. Two men needed hospital treatment after the attack which began with abuse from inside a car.. image captionRob and Patrick faced homophobic abuse and were hit with bottles during a night out in Birmingham\\r\\nA man has been arrested in connection with a violent homophobic attack in Birmingham.\\r\\n… [+1226 chars]</td>\n",
       "      <td>2</td>\n",
       "      <td>0.583191</td>\n",
=======
       "      <th>394</th>\n",
       "      <td>Amid GOP Infighting Over Trump, Republicans Agree on Opposing Biden's Agenda. President Joe Biden wanted to govern with Congress in a bipartisan manner, but that looks increasingly unlikely.. As tensions continue to simmer within the Republican Party over the role of former President Donald Trump going forward, GOP lawmakers appear to be largely aligned behind a unified agenda of opposing… [+6850 chars]</td>\n",
       "      <td>2</td>\n",
       "      <td>0.488300</td>\n",
       "    </tr>\n",
       "    <tr>\n",
       "      <th>575</th>\n",
       "      <td>Live updates: Biden seeks to return attention to combating the coronavirus with televised town hall. The president plans to travel to Milwaukee on Tuesday to talk to a socially distanced audience about the pandemic and its economic fallout. It comes as he is pushing Congress to pass a $1.9 trillion relief bill.. Sen. Richard Burr (N.C.) became the latest Republican to face pushback for his guilty vote in Trumps impeachment trial, as the central committee of the North Carolina Republican Party unanimously vot… [+1602 chars]</td>\n",
       "      <td>2</td>\n",
       "      <td>0.498470</td>\n",
       "    </tr>\n",
       "    <tr>\n",
       "      <th>1164</th>\n",
       "      <td>Mitch McConnell's Condemnation of Donald Trump Firmly at Odds with GOP Consensus. The Senate minority leader has faced the wrath of the former president in recent days, after stating the president held responsibility of the violence at the Capitol on January 6.. Senate Minority Leader Mitch McConnell's suggestion former President Donald Trump is \"practically and morally responsible\" for provoking the violence of January 6 stands firmly at odds with the opini… [+3182 chars]</td>\n",
       "      <td>2</td>\n",
       "      <td>0.509849</td>\n",
       "    </tr>\n",
       "    <tr>\n",
       "      <th>659</th>\n",
       "      <td>North Carolina GOP censures Sen. Burr for impeachment vote. \"My party’ s leadership has chosen loyalty to one man over the core principles of the Republican Party and the founders of our great nation,” Burr said in response.. RALEIGH, N.C. The North Carolina Republican Party unanimously approved a resolution Monday to censure Sen. Richard Burr over his vote to convict former President Donald Trump during his second impeac… [+5172 chars]</td>\n",
       "      <td>2</td>\n",
       "      <td>0.535489</td>\n",
       "    </tr>\n",
       "    <tr>\n",
       "      <th>316</th>\n",
       "      <td>GOP Rep. Tom Reed 'definitely looking' at challenging NY Gov. Cuomo amid nursing home controversy. Republican Rep. Tom Reed of New York says that he’s \"definitely looking\" at running next year against Gov. Andrew Cuomo when the embattled three-term Democratic governor bids for re-election.. Republican Rep. Tom Reed of New York says that hes \"definitely looking\" at running next year against Gov. Andrew Cuomo when the embattled three-term Democratic governor bids for re-election.\\r\\n\"People… [+3674 chars]</td>\n",
       "      <td>2</td>\n",
       "      <td>0.537370</td>\n",
>>>>>>> c48867e8b9d536a3e69380b75c0d5013ce7d6963
       "    </tr>\n",
       "  </tbody>\n",
       "</table>\n",
       "</div>"
      ],
      "text/plain": [
<<<<<<< HEAD
       "                                                                                                                                                                                                                                                                                                                                                                                                                                                                                                                           text  \\\n",
       "36                                                                                      Two Men Arrested After Woman's Body Found in Trunk of Car. David Manuel Mestas and Richard Anthony Sanchez were arrested on Sunday afternoon while allegedly fleeing to Las Vegas, Nevada, from South Dakota.. Two men have been arrested in Utah after a woman was found dead in the trunk of a car parked at a gas station with a gunshot wound to the head.\\r\\nDavid Manuel Mestas and Richard Anthony Sanchez, who a… [+2902 chars]   \n",
       "147                                                                                           Texas woman accused of setting deadly fire was previously charged with another murder. A Texas woman accused of setting a man on fire and is charged with another murder remains at large, police said.. A Texas woman accused of setting a man on fire and killing him remains at large, police said, and it's not the first time she's been accused of a deadly crime. \\r\\nEmma Presler, 19, is charged with mur… [+1329 chars]   \n",
       "953                                                                                                       Georgia Man Arrested After Threatening to Shoot Judge During Livestream. The man made his threats to county officials and law enforcement in a 24-minute video live-streamed to social media.. A Georgia man has been arrested for threatening the life of a judge during a video live-streamed to social media. Micquel Deandre Gay, 36, was taken into police custody on Monday after threatening to… [+2786 chars]   \n",
       "661  California Police Officer Accidentally Kills Bystander After Attempting to Shoot at Suspect. \"The suspect with the felony warrant was ultimately arrested at the scene. Neither the officers nor the suspect were injured,\" the Santa Barbara County Sheriff's Office said in the press release.. A police officer in California accidentally killed a bystander while attempting to shoot at a suspect over the past weekend.\\r\\nAccording to a press release from the Santa Barbara County Sheriff's Offi… [+2784 chars]   \n",
       "482                                                                                                                                                   Man arrested over Birmingham Gay Village attack. Two men needed hospital treatment after the attack which began with abuse from inside a car.. image captionRob and Patrick faced homophobic abuse and were hit with bottles during a night out in Birmingham\\r\\nA man has been arrested in connection with a violent homophobic attack in Birmingham.\\r\\n… [+1226 chars]   \n",
       "\n",
       "     cluster  distance  \n",
       "36         2  0.543041  \n",
       "147        2  0.562615  \n",
       "953        2  0.573833  \n",
       "661        2  0.576131  \n",
       "482        2  0.583191  "
      ]
     },
     "execution_count": 19,
=======
       "                                                                                                                                                                                                                                                                                                                                                                                                                                                                                                                                                  text  \\\n",
       "394                                                                                                                             Amid GOP Infighting Over Trump, Republicans Agree on Opposing Biden's Agenda. President Joe Biden wanted to govern with Congress in a bipartisan manner, but that looks increasingly unlikely.. As tensions continue to simmer within the Republican Party over the role of former President Donald Trump going forward, GOP lawmakers appear to be largely aligned behind a unified agenda of opposing… [+6850 chars]   \n",
       "575   Live updates: Biden seeks to return attention to combating the coronavirus with televised town hall. The president plans to travel to Milwaukee on Tuesday to talk to a socially distanced audience about the pandemic and its economic fallout. It comes as he is pushing Congress to pass a $1.9 trillion relief bill.. Sen. Richard Burr (N.C.) became the latest Republican to face pushback for his guilty vote in Trumps impeachment trial, as the central committee of the North Carolina Republican Party unanimously vot… [+1602 chars]   \n",
       "1164                                                     Mitch McConnell's Condemnation of Donald Trump Firmly at Odds with GOP Consensus. The Senate minority leader has faced the wrath of the former president in recent days, after stating the president held responsibility of the violence at the Capitol on January 6.. Senate Minority Leader Mitch McConnell's suggestion former President Donald Trump is \"practically and morally responsible\" for provoking the violence of January 6 stands firmly at odds with the opini… [+3182 chars]   \n",
       "659                                                                                           North Carolina GOP censures Sen. Burr for impeachment vote. \"My party’ s leadership has chosen loyalty to one man over the core principles of the Republican Party and the founders of our great nation,” Burr said in response.. RALEIGH, N.C. The North Carolina Republican Party unanimously approved a resolution Monday to censure Sen. Richard Burr over his vote to convict former President Donald Trump during his second impeac… [+5172 chars]   \n",
       "316                       GOP Rep. Tom Reed 'definitely looking' at challenging NY Gov. Cuomo amid nursing home controversy. Republican Rep. Tom Reed of New York says that he’s \"definitely looking\" at running next year against Gov. Andrew Cuomo when the embattled three-term Democratic governor bids for re-election.. Republican Rep. Tom Reed of New York says that hes \"definitely looking\" at running next year against Gov. Andrew Cuomo when the embattled three-term Democratic governor bids for re-election.\\r\\n\"People… [+3674 chars]   \n",
       "\n",
       "      cluster  distance  \n",
       "394         2  0.488300  \n",
       "575         2  0.498470  \n",
       "1164        2  0.509849  \n",
       "659         2  0.535489  \n",
       "316         2  0.537370  "
      ]
     },
     "execution_count": 27,
>>>>>>> c48867e8b9d536a3e69380b75c0d5013ce7d6963
     "metadata": {},
     "output_type": "execute_result"
    }
   ],
   "source": [
    "# evaluate closest articles for clusters\n",
    "news_df[['text','cluster','distance']][news_df['cluster'] == 2].sort_values(by=['distance']).head(5)"
   ]
  },
  {
   "cell_type": "code",
<<<<<<< HEAD
   "execution_count": 20,
=======
   "execution_count": 28,
>>>>>>> c48867e8b9d536a3e69380b75c0d5013ce7d6963
   "metadata": {},
   "outputs": [
    {
     "data": {
      "text/html": [
       "<div>\n",
       "<style scoped>\n",
       "    .dataframe tbody tr th:only-of-type {\n",
       "        vertical-align: middle;\n",
       "    }\n",
       "\n",
       "    .dataframe tbody tr th {\n",
       "        vertical-align: top;\n",
       "    }\n",
       "\n",
       "    .dataframe thead th {\n",
       "        text-align: right;\n",
       "    }\n",
       "</style>\n",
       "<table border=\"1\" class=\"dataframe\">\n",
       "  <thead>\n",
       "    <tr style=\"text-align: right;\">\n",
       "      <th></th>\n",
       "      <th>text</th>\n",
       "      <th>cluster</th>\n",
       "      <th>distance</th>\n",
       "    </tr>\n",
       "  </thead>\n",
       "  <tbody>\n",
       "    <tr>\n",
<<<<<<< HEAD
       "      <th>391</th>\n",
       "      <td>The Last Bus: Timothy Spall film gives teen busker big break. Caitlin Agnew was just 16 when two of her songs were picked to feature on the soundtrack for The Last Bus.. image sourceCaitlin Agnew\\r\\nimage captionCaitlin Agnew sings and plays guitar, ukulele and keyboard\\r\\nA Scottish teenage busker is celebrating after two of her songs were selected for the soundtrack of… [+3075 chars]</td>\n",
       "      <td>3</td>\n",
       "      <td>0.674235</td>\n",
       "    </tr>\n",
       "    <tr>\n",
       "      <th>405</th>\n",
       "      <td>Henri Cuts Short Manilow Set At New York Virus Recovery Concert. New York (AP) -- This time, Barry Manilow didn’t make it through the rain.. New York (AP) -- This time, Barry Manilow didnt make it through the rain.\\r\\nUnlike the Grammy-winning recording artists 1980 hit, I Made It Through Rain, the superstar-laden Homecoming Concert in New … [+4936 chars]</td>\n",
       "      <td>3</td>\n",
       "      <td>0.684552</td>\n",
       "    </tr>\n",
       "    <tr>\n",
       "      <th>938</th>\n",
       "      <td>Madonna celebrates 63rd birthday in Italy with boyfriend and kids. Madonna was glammed out in a multi-colored dress and heels as she ate ice cream and mingled with friends.. Madonna celebrated her 63rd birthday with her boyfriend Ahlamalik Williams and her kids in Italy this week.\\r\\n\"Let the birthday games begin,\" the musician captioned a photo album on social media. \\r\\nMa… [+2004 chars]</td>\n",
       "      <td>3</td>\n",
       "      <td>0.700668</td>\n",
       "    </tr>\n",
       "    <tr>\n",
       "      <th>73</th>\n",
       "      <td>Every Taylor Swift Era Featured In Her TikTok Debut. Taylor Swift has been rerecording her old albums with all new versions, and used TikTok to make an important announcement.. Taylor Swift has arrived on TikTok, and has already amassed more than one million followers in just a few hours. Her debut video has shown her in various Swift eras, harking back to her music of old.… [+3095 chars]</td>\n",
       "      <td>3</td>\n",
       "      <td>0.709620</td>\n",
       "    </tr>\n",
       "    <tr>\n",
       "      <th>477</th>\n",
       "      <td>Henri cuts short Manilow set at NYC virus recovery concert. NEW YORK (AP) — This time, Barry Manilow didn’t make it through the rain.. Mayor Bill de Blasio later tweeted, While its disappointing that tonights concert had to end early, the safety of everyone in attendance had to come first.\\r\\nThe highly promoted mega-concert featured … [+1248 chars]</td>\n",
       "      <td>3</td>\n",
       "      <td>0.724578</td>\n",
=======
       "      <th>1021</th>\n",
       "      <td>Diablo 2 Resurrected remasters Blizzard’s classic RPG for console and PC. To close out this year’s BlizzCon opening ceremony, Blizzard announced the long-awaited Diablo 2 Resurrection, a remaster of the ARPG classic. This new version of Diablo 2 will launch later this year on both console and PC.. The long-rumored Diablo 2 makeover is confirmed Diablo 2 Resurrected will be a faithful remaster of Diablo 2 and its expansion, Lord of Destruction. Blizzard announced Resurrected in the closing mome… [+990 chars]</td>\n",
       "      <td>3</td>\n",
       "      <td>0.554347</td>\n",
       "    </tr>\n",
       "    <tr>\n",
       "      <th>753</th>\n",
       "      <td>The Legend of Zelda: Skyward Sword coming to Nintendo Switch. The Legend of Zelda: Skyward Sword is coming to the Nintendo Switch as part of the 35th anniversary collection in 2020, as announced via the Nintendo Direct Feb. 17.. Nintendo is bringing The Legend of Zelda: Skyward Sword, Links high-flying 2011 Wii adventure, to the Switch later this year. The Switch port of Skyward Sword will offer a major visual upgrade over t… [+1135 chars]</td>\n",
       "      <td>3</td>\n",
       "      <td>0.562915</td>\n",
       "    </tr>\n",
       "    <tr>\n",
       "      <th>1010</th>\n",
       "      <td>Blizzard Arcade Collection bundles three of the studio’s more obscure classics. During the opening ceremony for BlizzCon Online, the World of Warcraft developer announced today that it will release a new video game anthology called Blizzard Arcade Collection, a compilation of three games from the 1990s.. Available now\\r\\nAs part of BlizzCon Onlines opening ceremony, Blizzard Entertainment announced a new video game anthology that includes some of the earlier titles created by the World of Warcraft deve… [+876 chars]</td>\n",
       "      <td>3</td>\n",
       "      <td>0.587458</td>\n",
       "    </tr>\n",
       "    <tr>\n",
       "      <th>965</th>\n",
       "      <td>Diablo II is getting remastered for console and PC. Diablo 2 is getting a new remastered edition, called Diablo II Resurrected, which was announced at Blizzcon 2021. It’s coming to PC, Switch, PS4, PS4, and Xbox Series X and S, with cross-progression between PC and console.. Diablo II is getting a big overhaul in a new remaster. After a few leaks, Blizzard officially announced Diablo II Resurrected at its online-only edition of Blizzcon 2021. The new version of the game … [+361 chars]</td>\n",
       "      <td>3</td>\n",
       "      <td>0.598774</td>\n",
       "    </tr>\n",
       "    <tr>\n",
       "      <th>959</th>\n",
       "      <td>Blizzard Arcade Collection of Enhanced Retro Classics Announced. Classic retro games from Blizzard's past are being enhanced and re-released in the Blizzard Arcade Collection.. Blizzard has announced the Blizzard Arcade Collection, a set of three enhanced editions of some of Blizzards earliest, pre-Warcraft games. The collection is available today on PC and consoles.The Bli… [+2886 chars]</td>\n",
       "      <td>3</td>\n",
       "      <td>0.600433</td>\n",
>>>>>>> c48867e8b9d536a3e69380b75c0d5013ce7d6963
       "    </tr>\n",
       "  </tbody>\n",
       "</table>\n",
       "</div>"
      ],
      "text/plain": [
<<<<<<< HEAD
       "                                                                                                                                                                                                                                                                                                                                                                                                         text  \\\n",
       "391      The Last Bus: Timothy Spall film gives teen busker big break. Caitlin Agnew was just 16 when two of her songs were picked to feature on the soundtrack for The Last Bus.. image sourceCaitlin Agnew\\r\\nimage captionCaitlin Agnew sings and plays guitar, ukulele and keyboard\\r\\nA Scottish teenage busker is celebrating after two of her songs were selected for the soundtrack of… [+3075 chars]   \n",
       "405                                     Henri Cuts Short Manilow Set At New York Virus Recovery Concert. New York (AP) -- This time, Barry Manilow didn’t make it through the rain.. New York (AP) -- This time, Barry Manilow didnt make it through the rain.\\r\\nUnlike the Grammy-winning recording artists 1980 hit, I Made It Through Rain, the superstar-laden Homecoming Concert in New … [+4936 chars]   \n",
       "938  Madonna celebrates 63rd birthday in Italy with boyfriend and kids. Madonna was glammed out in a multi-colored dress and heels as she ate ice cream and mingled with friends.. Madonna celebrated her 63rd birthday with her boyfriend Ahlamalik Williams and her kids in Italy this week.\\r\\n\"Let the birthday games begin,\" the musician captioned a photo album on social media. \\r\\nMa… [+2004 chars]   \n",
       "73    Every Taylor Swift Era Featured In Her TikTok Debut. Taylor Swift has been rerecording her old albums with all new versions, and used TikTok to make an important announcement.. Taylor Swift has arrived on TikTok, and has already amassed more than one million followers in just a few hours. Her debut video has shown her in various Swift eras, harking back to her music of old.… [+3095 chars]   \n",
       "477                                           Henri cuts short Manilow set at NYC virus recovery concert. NEW YORK (AP) — This time, Barry Manilow didn’t make it through the rain.. Mayor Bill de Blasio later tweeted, While its disappointing that tonights concert had to end early, the safety of everyone in attendance had to come first.\\r\\nThe highly promoted mega-concert featured … [+1248 chars]   \n",
       "\n",
       "     cluster  distance  \n",
       "391        3  0.674235  \n",
       "405        3  0.684552  \n",
       "938        3  0.700668  \n",
       "73         3  0.709620  \n",
       "477        3  0.724578  "
      ]
     },
     "execution_count": 20,
=======
       "                                                                                                                                                                                                                                                                                                                                                                                                                                                                                                                                           text  \\\n",
       "1021           Diablo 2 Resurrected remasters Blizzard’s classic RPG for console and PC. To close out this year’s BlizzCon opening ceremony, Blizzard announced the long-awaited Diablo 2 Resurrection, a remaster of the ARPG classic. This new version of Diablo 2 will launch later this year on both console and PC.. The long-rumored Diablo 2 makeover is confirmed Diablo 2 Resurrected will be a faithful remaster of Diablo 2 and its expansion, Lord of Destruction. Blizzard announced Resurrected in the closing mome… [+990 chars]   \n",
       "753                                                                                 The Legend of Zelda: Skyward Sword coming to Nintendo Switch. The Legend of Zelda: Skyward Sword is coming to the Nintendo Switch as part of the 35th anniversary collection in 2020, as announced via the Nintendo Direct Feb. 17.. Nintendo is bringing The Legend of Zelda: Skyward Sword, Links high-flying 2011 Wii adventure, to the Switch later this year. The Switch port of Skyward Sword will offer a major visual upgrade over t… [+1135 chars]   \n",
       "1010  Blizzard Arcade Collection bundles three of the studio’s more obscure classics. During the opening ceremony for BlizzCon Online, the World of Warcraft developer announced today that it will release a new video game anthology called Blizzard Arcade Collection, a compilation of three games from the 1990s.. Available now\\r\\nAs part of BlizzCon Onlines opening ceremony, Blizzard Entertainment announced a new video game anthology that includes some of the earlier titles created by the World of Warcraft deve… [+876 chars]   \n",
       "965                                   Diablo II is getting remastered for console and PC. Diablo 2 is getting a new remastered edition, called Diablo II Resurrected, which was announced at Blizzcon 2021. It’s coming to PC, Switch, PS4, PS4, and Xbox Series X and S, with cross-progression between PC and console.. Diablo II is getting a big overhaul in a new remaster. After a few leaks, Blizzard officially announced Diablo II Resurrected at its online-only edition of Blizzcon 2021. The new version of the game … [+361 chars]   \n",
       "959                                                                                                                                     Blizzard Arcade Collection of Enhanced Retro Classics Announced. Classic retro games from Blizzard's past are being enhanced and re-released in the Blizzard Arcade Collection.. Blizzard has announced the Blizzard Arcade Collection, a set of three enhanced editions of some of Blizzards earliest, pre-Warcraft games. The collection is available today on PC and consoles.The Bli… [+2886 chars]   \n",
       "\n",
       "      cluster  distance  \n",
       "1021        3  0.554347  \n",
       "753         3  0.562915  \n",
       "1010        3  0.587458  \n",
       "965         3  0.598774  \n",
       "959         3  0.600433  "
      ]
     },
     "execution_count": 28,
>>>>>>> c48867e8b9d536a3e69380b75c0d5013ce7d6963
     "metadata": {},
     "output_type": "execute_result"
    }
   ],
   "source": [
    "# evaluate closest articles for clusters\n",
    "news_df[['text','cluster','distance']][news_df['cluster'] == 3].sort_values(by=['distance']).head(5)"
   ]
  },
  {
   "cell_type": "code",
<<<<<<< HEAD
   "execution_count": 21,
=======
   "execution_count": 29,
>>>>>>> c48867e8b9d536a3e69380b75c0d5013ce7d6963
   "metadata": {},
   "outputs": [],
   "source": [
    "# add temporary columns for keywords\n",
    "news_df['keywords'] = numpy.nan\n",
    "\n",
    "# rename distance to topic_perc_contrib to fit legacy schema\n",
    "news_df.rename(columns={'cluster': 'dominant_topic', 'distance': 'topic_perc_contrib'}, inplace=True)\n",
    "\n",
    "# drop embedding columns\n",
    "news_df.drop(['embedding'], axis=1, inplace=True)"
   ]
  },
  {
   "cell_type": "code",
<<<<<<< HEAD
   "execution_count": 22,
=======
   "execution_count": 30,
>>>>>>> c48867e8b9d536a3e69380b75c0d5013ce7d6963
   "metadata": {},
   "outputs": [
    {
     "data": {
      "text/html": [
       "<div>\n",
       "<style scoped>\n",
       "    .dataframe tbody tr th:only-of-type {\n",
       "        vertical-align: middle;\n",
       "    }\n",
       "\n",
       "    .dataframe tbody tr th {\n",
       "        vertical-align: top;\n",
       "    }\n",
       "\n",
       "    .dataframe thead th {\n",
       "        text-align: right;\n",
       "    }\n",
       "</style>\n",
       "<table border=\"1\" class=\"dataframe\">\n",
       "  <thead>\n",
       "    <tr style=\"text-align: right;\">\n",
       "      <th></th>\n",
       "      <th>article_id</th>\n",
       "      <th>publishedAt</th>\n",
       "      <th>text</th>\n",
       "      <th>dominant_topic</th>\n",
       "      <th>topic_perc_contrib</th>\n",
       "      <th>keywords</th>\n",
       "    </tr>\n",
       "  </thead>\n",
       "  <tbody>\n",
       "    <tr>\n",
       "      <th>0</th>\n",
<<<<<<< HEAD
       "      <td>c2b2b5d8-9b26-4c9f-8f43-4521889be456</td>\n",
       "      <td>2021-08-24 10:47:42+00:00</td>\n",
       "      <td>South African Unemployment Rate Rises to Highe...</td>\n",
       "      <td>15</td>\n",
       "      <td>0.753930</td>\n",
=======
       "      <td>ca2e0821-9dca-4d7a-a61a-3b7f1bc30bdf</td>\n",
       "      <td>2021-02-21 22:16:12+00:00</td>\n",
       "      <td>Paris St Germain 0-2 Monaco: Pochettino loses ...</td>\n",
       "      <td>10</td>\n",
       "      <td>0.526822</td>\n",
>>>>>>> c48867e8b9d536a3e69380b75c0d5013ce7d6963
       "      <td>NaN</td>\n",
       "    </tr>\n",
       "    <tr>\n",
       "      <th>1</th>\n",
<<<<<<< HEAD
       "      <td>b7ffdf3f-fd51-4fdf-8426-90f21e7a2267</td>\n",
       "      <td>2021-08-24 10:53:28+00:00</td>\n",
       "      <td>Afghan basketball star welcomed by new team in...</td>\n",
       "      <td>18</td>\n",
       "      <td>0.635603</td>\n",
=======
       "      <td>ca1fa44f-3a3a-4163-970d-6502b32837a0</td>\n",
       "      <td>2021-02-21 21:22:20+00:00</td>\n",
       "      <td>Ross County 1-0 Celtic: John Hughes' side off ...</td>\n",
       "      <td>10</td>\n",
       "      <td>0.458980</td>\n",
>>>>>>> c48867e8b9d536a3e69380b75c0d5013ce7d6963
       "      <td>NaN</td>\n",
       "    </tr>\n",
       "    <tr>\n",
       "      <th>2</th>\n",
<<<<<<< HEAD
       "      <td>aea7857a-6e9a-43a6-96a8-5a52de44e6de</td>\n",
       "      <td>2021-08-24 11:24:21+00:00</td>\n",
       "      <td>How are women in Afghanistan reacting to Talib...</td>\n",
       "      <td>18</td>\n",
       "      <td>0.713864</td>\n",
=======
       "      <td>d34bef50-cb17-4eef-a663-d8f0bdfa6557</td>\n",
       "      <td>2021-02-21 20:56:23+00:00</td>\n",
       "      <td>Manchester United 3-1 Newcastle United: Marcus...</td>\n",
       "      <td>10</td>\n",
       "      <td>0.512203</td>\n",
>>>>>>> c48867e8b9d536a3e69380b75c0d5013ce7d6963
       "      <td>NaN</td>\n",
       "    </tr>\n",
       "    <tr>\n",
       "      <th>3</th>\n",
<<<<<<< HEAD
       "      <td>d9c15bd2-d69e-4ddb-bf38-e8cf686389f1</td>\n",
       "      <td>2021-08-24 11:21:35+00:00</td>\n",
       "      <td>Afghan women footballers evacuated by Australi...</td>\n",
       "      <td>18</td>\n",
       "      <td>0.683186</td>\n",
=======
       "      <td>8cebfabb-b80f-4c8d-95cd-455fb7296b7a</td>\n",
       "      <td>2021-02-21 21:06:00+00:00</td>\n",
       "      <td>2021/02/21 21:00 GMT. The latest five minute n...</td>\n",
       "      <td>0</td>\n",
       "      <td>0.048618</td>\n",
>>>>>>> c48867e8b9d536a3e69380b75c0d5013ce7d6963
       "      <td>NaN</td>\n",
       "    </tr>\n",
       "    <tr>\n",
       "      <th>4</th>\n",
<<<<<<< HEAD
       "      <td>444a5117-e1fe-40ea-b297-5c9929531dd1</td>\n",
       "      <td>2021-08-24 11:34:53+00:00</td>\n",
       "      <td>Housing inventories continue rebound with July...</td>\n",
       "      <td>15</td>\n",
       "      <td>0.780097</td>\n",
=======
       "      <td>a718a782-93dc-462a-ad35-9f539b2f0d35</td>\n",
       "      <td>2021-02-21 22:12:00+00:00</td>\n",
       "      <td>Iran and the IAEA come to a temporary agreemen...</td>\n",
       "      <td>4</td>\n",
       "      <td>0.597285</td>\n",
>>>>>>> c48867e8b9d536a3e69380b75c0d5013ce7d6963
       "      <td>NaN</td>\n",
       "    </tr>\n",
       "  </tbody>\n",
       "</table>\n",
       "</div>"
      ],
      "text/plain": [
       "                             article_id               publishedAt  \\\n",
<<<<<<< HEAD
       "0  c2b2b5d8-9b26-4c9f-8f43-4521889be456 2021-08-24 10:47:42+00:00   \n",
       "1  b7ffdf3f-fd51-4fdf-8426-90f21e7a2267 2021-08-24 10:53:28+00:00   \n",
       "2  aea7857a-6e9a-43a6-96a8-5a52de44e6de 2021-08-24 11:24:21+00:00   \n",
       "3  d9c15bd2-d69e-4ddb-bf38-e8cf686389f1 2021-08-24 11:21:35+00:00   \n",
       "4  444a5117-e1fe-40ea-b297-5c9929531dd1 2021-08-24 11:34:53+00:00   \n",
       "\n",
       "                                                text  dominant_topic  \\\n",
       "0  South African Unemployment Rate Rises to Highe...              15   \n",
       "1  Afghan basketball star welcomed by new team in...              18   \n",
       "2  How are women in Afghanistan reacting to Talib...              18   \n",
       "3  Afghan women footballers evacuated by Australi...              18   \n",
       "4  Housing inventories continue rebound with July...              15   \n",
       "\n",
       "   topic_perc_contrib  keywords  \n",
       "0            0.753930       NaN  \n",
       "1            0.635603       NaN  \n",
       "2            0.713864       NaN  \n",
       "3            0.683186       NaN  \n",
       "4            0.780097       NaN  "
      ]
     },
     "execution_count": 22,
=======
       "0  ca2e0821-9dca-4d7a-a61a-3b7f1bc30bdf 2021-02-21 22:16:12+00:00   \n",
       "1  ca1fa44f-3a3a-4163-970d-6502b32837a0 2021-02-21 21:22:20+00:00   \n",
       "2  d34bef50-cb17-4eef-a663-d8f0bdfa6557 2021-02-21 20:56:23+00:00   \n",
       "3  8cebfabb-b80f-4c8d-95cd-455fb7296b7a 2021-02-21 21:06:00+00:00   \n",
       "4  a718a782-93dc-462a-ad35-9f539b2f0d35 2021-02-21 22:12:00+00:00   \n",
       "\n",
       "                                                text  dominant_topic  \\\n",
       "0  Paris St Germain 0-2 Monaco: Pochettino loses ...              10   \n",
       "1  Ross County 1-0 Celtic: John Hughes' side off ...              10   \n",
       "2  Manchester United 3-1 Newcastle United: Marcus...              10   \n",
       "3  2021/02/21 21:00 GMT. The latest five minute n...               0   \n",
       "4  Iran and the IAEA come to a temporary agreemen...               4   \n",
       "\n",
       "   topic_perc_contrib  keywords  \n",
       "0            0.526822       NaN  \n",
       "1            0.458980       NaN  \n",
       "2            0.512203       NaN  \n",
       "3            0.048618       NaN  \n",
       "4            0.597285       NaN  "
      ]
     },
     "execution_count": 30,
>>>>>>> c48867e8b9d536a3e69380b75c0d5013ce7d6963
     "metadata": {},
     "output_type": "execute_result"
    }
   ],
   "source": [
    "# evaluate data to be written to bigquery\n",
    "pandas.reset_option('display')\n",
    "\n",
    "news_df.head()"
   ]
  },
  {
   "cell_type": "code",
<<<<<<< HEAD
   "execution_count": 23,
=======
   "execution_count": 31,
>>>>>>> c48867e8b9d536a3e69380b75c0d5013ce7d6963
   "metadata": {},
   "outputs": [],
   "source": [
    "# configure BigQuery job\n",
    "job_config = bigquery.LoadJobConfig(\n",
    "    # Specify a (partial) schema. All columns are always written to the\n",
    "    # table. The schema is used to assist in data type definitions.\n",
    "    schema=[\n",
    "        # Specify the type of columns whose type cannot be auto-detected. For\n",
    "        # example the \"title\" column uses pandas dtype \"object\", so its\n",
    "        # data type is ambiguous.\n",
    "        bigquery.SchemaField(\"article_id\", bigquery.enums.SqlTypeNames.STRING),\n",
    "        bigquery.SchemaField(\"publishedAt\", bigquery.enums.SqlTypeNames.TIMESTAMP),\n",
    "        bigquery.SchemaField(\"text\", bigquery.enums.SqlTypeNames.STRING),\n",
    "        bigquery.SchemaField(\"dominant_topic\", bigquery.enums.SqlTypeNames.INT64),\n",
    "        bigquery.SchemaField(\"topic_perc_contrib\", bigquery.enums.SqlTypeNames.FLOAT64),\n",
    "        bigquery.SchemaField(\"keywords\", bigquery.enums.SqlTypeNames.STRING),\n",
    "    ],\n",
    "    # Optionally, set the write disposition. BigQuery appends loaded rows\n",
    "    # to an existing table by default, but with WRITE_TRUNCATE write\n",
    "    # disposition it replaces the table with the loaded data.\n",
    "    write_disposition=\"WRITE_TRUNCATE\",\n",
    ")"
   ]
  },
  {
   "cell_type": "code",
<<<<<<< HEAD
   "execution_count": 24,
=======
   "execution_count": 32,
>>>>>>> c48867e8b9d536a3e69380b75c0d5013ce7d6963
   "metadata": {},
   "outputs": [
    {
     "data": {
      "text/plain": [
<<<<<<< HEAD
       "<google.cloud.bigquery.job.LoadJob at 0x155370820>"
      ]
     },
     "execution_count": 24,
=======
       "<google.cloud.bigquery.job.LoadJob at 0x156cbabe0>"
      ]
     },
     "execution_count": 32,
>>>>>>> c48867e8b9d536a3e69380b75c0d5013ce7d6963
     "metadata": {},
     "output_type": "execute_result"
    }
   ],
   "source": [
    "table_id = \"news-site-280319.topics.article_topics\"\n",
    "job = client.load_table_from_dataframe(\n",
    "    news_df,\n",
    "    table_id, \n",
    "    job_config=job_config\n",
    ")  # Make an API request.\n",
    "job.result()  # Wait for the job to complete."
   ]
  },
  {
   "cell_type": "code",
<<<<<<< HEAD
   "execution_count": 25,
=======
   "execution_count": 33,
>>>>>>> c48867e8b9d536a3e69380b75c0d5013ce7d6963
   "metadata": {
    "tags": []
   },
   "outputs": [
    {
     "data": {
      "text/plain": [
       "'DONE'"
      ]
     },
<<<<<<< HEAD
     "execution_count": 25,
=======
     "execution_count": 33,
>>>>>>> c48867e8b9d536a3e69380b75c0d5013ce7d6963
     "metadata": {},
     "output_type": "execute_result"
    }
   ],
   "source": [
    "# check job status\n",
    "job.result().state"
   ]
  }
 ],
 "metadata": {
  "kernelspec": {
   "display_name": "Python 3",
   "language": "python",
   "name": "python3"
  },
  "language_info": {
   "codemirror_mode": {
    "name": "ipython",
    "version": 3
   },
   "file_extension": ".py",
   "mimetype": "text/x-python",
   "name": "python",
   "nbconvert_exporter": "python",
   "pygments_lexer": "ipython3",
   "version": "3.8.0"
  }
 },
 "nbformat": 4,
 "nbformat_minor": 4
}
