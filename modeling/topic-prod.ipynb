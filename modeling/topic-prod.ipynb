{
 "cells": [
  {
   "cell_type": "markdown",
   "metadata": {},
   "source": [
    "# News Topic Modeling\n",
    "\n",
    "This notebook is used to derive topics from news text\n",
    "\n",
    "The model used here is the Universal Sentence Encoder Lite from Tensorflow Hub\n",
    "\n",
    "https://www.tensorflow.org/hub/tutorials/semantic_similarity_with_tf_hub_universal_encoder_lite"
   ]
  },
  {
   "cell_type": "code",
   "execution_count": null,
   "metadata": {
    "tags": []
   },
   "outputs": [],
   "source": [
    "# # change gcloud config for running locally\n",
    "# !gcloud config configurations activate news-site"
   ]
  },
  {
   "cell_type": "code",
   "execution_count": 1,
   "metadata": {},
   "outputs": [
    {
     "name": "stdout",
     "output_type": "stream",
     "text": [
      "WARNING:tensorflow:From /Users/steve/.pyenv/versions/3.8.0/lib/python3.8/site-packages/tensorflow/python/compat/v2_compat.py:96: disable_resource_variables (from tensorflow.python.ops.variable_scope) is deprecated and will be removed in a future version.\n",
      "Instructions for updating:\n",
      "non-resource variables are not supported in the long term\n"
     ]
    }
   ],
   "source": [
    "from google.cloud import bigquery\n",
    "\n",
    "import pandas\n",
    "import re\n",
    "import numpy\n",
    "import tensorflow.compat.v1 as tf\n",
    "tf.disable_v2_behavior()\n",
    "\n",
    "import tensorflow_hub as hub\n",
    "import sentencepiece as spm\n",
    "from sklearn.cluster import KMeans"
   ]
  },
  {
   "cell_type": "code",
   "execution_count": 2,
   "metadata": {},
   "outputs": [],
   "source": [
    "# # use this approach to create local credentials\n",
    "# token = !gcloud auth print-access-token\n",
    "# import google.oauth2.credentials\n",
    "# credentials = google.oauth2.credentials.Credentials(token[0])\n",
    "# client = bigquery.Client(credentials=credentials)"
   ]
  },
  {
   "cell_type": "code",
   "execution_count": 3,
   "metadata": {
    "tags": []
   },
   "outputs": [
    {
     "name": "stdout",
     "output_type": "stream",
     "text": [
      "<class 'pandas.core.frame.DataFrame'>\n",
      "RangeIndex: 1244 entries, 0 to 1243\n",
      "Data columns (total 3 columns):\n",
      " #   Column       Non-Null Count  Dtype              \n",
      "---  ------       --------------  -----              \n",
      " 0   article_id   1244 non-null   object             \n",
      " 1   publishedAt  1244 non-null   datetime64[ns, UTC]\n",
      " 2   text         1244 non-null   object             \n",
      "dtypes: datetime64[ns, UTC](1), object(2)\n",
      "memory usage: 29.3+ KB\n"
     ]
    }
   ],
   "source": [
    "# use credentials with client when running locally\n",
    "client = bigquery.Client()\n",
    "\n",
    "sql = \"\"\"\n",
    "    SELECT \n",
    "        article_id,\n",
    "        publishedAt,\n",
    "        CONCAT(title, '. ', description, '. ', content) AS text\n",
    "    FROM `news-site-280319.news.articles`\n",
    "    WHERE\n",
    "      title IS NOT NULL\n",
    "      AND description IS NOT NULL\n",
    "      AND content IS NOT NULL\n",
    "      AND DATE(publishedAt) >= DATE_SUB(CURRENT_DATE(), INTERVAL 7 DAY)\n",
    "\"\"\"\n",
    "\n",
    "df = client.query(sql).to_dataframe()\n",
    "\n",
    "df.info()"
   ]
  },
  {
   "cell_type": "code",
   "execution_count": 4,
   "metadata": {},
   "outputs": [
    {
     "data": {
      "text/html": [
       "<div>\n",
       "<style scoped>\n",
       "    .dataframe tbody tr th:only-of-type {\n",
       "        vertical-align: middle;\n",
       "    }\n",
       "\n",
       "    .dataframe tbody tr th {\n",
       "        vertical-align: top;\n",
       "    }\n",
       "\n",
       "    .dataframe thead th {\n",
       "        text-align: right;\n",
       "    }\n",
       "</style>\n",
       "<table border=\"1\" class=\"dataframe\">\n",
       "  <thead>\n",
       "    <tr style=\"text-align: right;\">\n",
       "      <th></th>\n",
       "      <th>article_id</th>\n",
       "      <th>publishedAt</th>\n",
       "      <th>text</th>\n",
       "    </tr>\n",
       "  </thead>\n",
       "  <tbody>\n",
       "    <tr>\n",
       "      <th>0</th>\n",
       "      <td>ca2e0821-9dca-4d7a-a61a-3b7f1bc30bdf</td>\n",
       "      <td>2021-02-21 22:16:12+00:00</td>\n",
       "      <td>Paris St Germain 0-2 Monaco: Pochettino loses ...</td>\n",
       "    </tr>\n",
       "    <tr>\n",
       "      <th>1</th>\n",
       "      <td>ca1fa44f-3a3a-4163-970d-6502b32837a0</td>\n",
       "      <td>2021-02-21 21:22:20+00:00</td>\n",
       "      <td>Ross County 1-0 Celtic: John Hughes' side off ...</td>\n",
       "    </tr>\n",
       "    <tr>\n",
       "      <th>2</th>\n",
       "      <td>d34bef50-cb17-4eef-a663-d8f0bdfa6557</td>\n",
       "      <td>2021-02-21 20:56:23+00:00</td>\n",
       "      <td>Manchester United 3-1 Newcastle United: Marcus...</td>\n",
       "    </tr>\n",
       "    <tr>\n",
       "      <th>3</th>\n",
       "      <td>8cebfabb-b80f-4c8d-95cd-455fb7296b7a</td>\n",
       "      <td>2021-02-21 21:06:00+00:00</td>\n",
       "      <td>2021/02/21 21:00 GMT. The latest five minute n...</td>\n",
       "    </tr>\n",
       "    <tr>\n",
       "      <th>4</th>\n",
       "      <td>a718a782-93dc-462a-ad35-9f539b2f0d35</td>\n",
       "      <td>2021-02-21 22:12:00+00:00</td>\n",
       "      <td>Iran and the IAEA come to a temporary agreemen...</td>\n",
       "    </tr>\n",
       "  </tbody>\n",
       "</table>\n",
       "</div>"
      ],
      "text/plain": [
       "                             article_id               publishedAt  \\\n",
       "0  ca2e0821-9dca-4d7a-a61a-3b7f1bc30bdf 2021-02-21 22:16:12+00:00   \n",
       "1  ca1fa44f-3a3a-4163-970d-6502b32837a0 2021-02-21 21:22:20+00:00   \n",
       "2  d34bef50-cb17-4eef-a663-d8f0bdfa6557 2021-02-21 20:56:23+00:00   \n",
       "3  8cebfabb-b80f-4c8d-95cd-455fb7296b7a 2021-02-21 21:06:00+00:00   \n",
       "4  a718a782-93dc-462a-ad35-9f539b2f0d35 2021-02-21 22:12:00+00:00   \n",
       "\n",
       "                                                text  \n",
       "0  Paris St Germain 0-2 Monaco: Pochettino loses ...  \n",
       "1  Ross County 1-0 Celtic: John Hughes' side off ...  \n",
       "2  Manchester United 3-1 Newcastle United: Marcus...  \n",
       "3  2021/02/21 21:00 GMT. The latest five minute n...  \n",
       "4  Iran and the IAEA come to a temporary agreemen...  "
      ]
     },
     "execution_count": 4,
     "metadata": {},
     "output_type": "execute_result"
    }
   ],
   "source": [
    "news_df = df\n",
    "news_df.head()"
   ]
  },
  {
   "cell_type": "code",
   "execution_count": 5,
   "metadata": {},
   "outputs": [],
   "source": [
    "module = hub.Module(\"https://tfhub.dev/google/universal-sentence-encoder-lite/2\")"
   ]
  },
  {
   "cell_type": "code",
   "execution_count": 6,
   "metadata": {},
   "outputs": [
    {
     "name": "stdout",
     "output_type": "stream",
     "text": [
      "INFO:tensorflow:Saver not created because there are no variables in the graph to restore\n"
     ]
    },
    {
     "name": "stderr",
     "output_type": "stream",
     "text": [
      "INFO:tensorflow:Saver not created because there are no variables in the graph to restore\n"
     ]
    }
   ],
   "source": [
    "input_placeholder = tf.sparse_placeholder(tf.int64, shape=[None, None])\n",
    "encodings = module(\n",
    "    inputs=dict(\n",
    "        values=input_placeholder.values,\n",
    "        indices=input_placeholder.indices,\n",
    "        dense_shape=input_placeholder.dense_shape))"
   ]
  },
  {
   "cell_type": "code",
   "execution_count": 7,
   "metadata": {},
   "outputs": [
    {
     "name": "stdout",
     "output_type": "stream",
     "text": [
      "INFO:tensorflow:Saver not created because there are no variables in the graph to restore\n"
     ]
    },
    {
     "name": "stderr",
     "output_type": "stream",
     "text": [
      "INFO:tensorflow:Saver not created because there are no variables in the graph to restore\n"
     ]
    },
    {
     "name": "stdout",
     "output_type": "stream",
     "text": [
      "SentencePiece model loaded at b'/var/folders/99/_fcjbs5d08ndbt_1__blsphm0000gn/T/tfhub_modules/539544f0a997d91c327c23285ea00c37588d92cc/assets/universal_encoder_8k_spm.model'.\n"
     ]
    }
   ],
   "source": [
    "with tf.Session() as sess:\n",
    "    spm_path = sess.run(module(signature=\"spm_path\"))\n",
    "\n",
    "sp = spm.SentencePieceProcessor()\n",
    "with tf.io.gfile.GFile(spm_path, mode=\"rb\") as f:\n",
    "    sp.LoadFromSerializedProto(f.read())\n",
    "print(\"SentencePiece model loaded at {}.\".format(spm_path))"
   ]
  },
  {
   "cell_type": "code",
   "execution_count": 8,
   "metadata": {},
   "outputs": [],
   "source": [
    "def process_to_IDs_in_sparse_format(sp, sentences):\n",
    "    # An utility method that processes sentences with the sentence piece processor\n",
    "    # 'sp' and returns the results in tf.SparseTensor-similar format:\n",
    "    # (values, indices, dense_shape)\n",
    "    ids = [sp.EncodeAsIds(x) for x in sentences]\n",
    "    max_len = max(len(x) for x in ids)\n",
    "    dense_shape=(len(ids), max_len)\n",
    "    values=[item for sublist in ids for item in sublist]\n",
    "    indices=[[row,col] for row in range(len(ids)) for col in range(len(ids[row]))]\n",
    "    return (values, indices, dense_shape)"
   ]
  },
  {
   "cell_type": "code",
   "execution_count": 9,
   "metadata": {},
   "outputs": [],
   "source": [
    "# pass the text field from the news data into the messages\n",
    "messages = news_df['text']\n",
    "values, indices, dense_shape = process_to_IDs_in_sparse_format(sp, messages)"
   ]
  },
  {
   "cell_type": "code",
   "execution_count": 10,
   "metadata": {},
   "outputs": [],
   "source": [
    "# generate embeddings\n",
    "with tf.Session() as session:\n",
    "    session.run([tf.global_variables_initializer(), tf.tables_initializer()])\n",
    "    message_embeddings = session.run(\n",
    "        encodings,\n",
    "        feed_dict={input_placeholder.values: values,\n",
    "                   input_placeholder.indices: indices,\n",
    "                   input_placeholder.dense_shape: dense_shape})"
   ]
  },
  {
   "cell_type": "code",
   "execution_count": 15,
   "metadata": {},
   "outputs": [],
   "source": [
    "# convert message_embeddings to list for use with sklearn kmeans\n",
    "news_df['embedding'] = message_embeddings.tolist()"
   ]
  },
  {
   "cell_type": "code",
   "execution_count": 16,
   "metadata": {},
   "outputs": [
    {
     "data": {
      "text/html": [
       "<div>\n",
       "<style scoped>\n",
       "    .dataframe tbody tr th:only-of-type {\n",
       "        vertical-align: middle;\n",
       "    }\n",
       "\n",
       "    .dataframe tbody tr th {\n",
       "        vertical-align: top;\n",
       "    }\n",
       "\n",
       "    .dataframe thead th {\n",
       "        text-align: right;\n",
       "    }\n",
       "</style>\n",
       "<table border=\"1\" class=\"dataframe\">\n",
       "  <thead>\n",
       "    <tr style=\"text-align: right;\">\n",
       "      <th></th>\n",
       "      <th>article_id</th>\n",
       "      <th>publishedAt</th>\n",
       "      <th>text</th>\n",
       "      <th>embedding</th>\n",
       "    </tr>\n",
       "  </thead>\n",
       "  <tbody>\n",
       "    <tr>\n",
       "      <th>0</th>\n",
       "      <td>ca2e0821-9dca-4d7a-a61a-3b7f1bc30bdf</td>\n",
       "      <td>2021-02-21 22:16:12+00:00</td>\n",
       "      <td>Paris St Germain 0-2 Monaco: Pochettino loses ...</td>\n",
       "      <td>[-0.028592605143785477, 0.04850605130195618, -...</td>\n",
       "    </tr>\n",
       "    <tr>\n",
       "      <th>1</th>\n",
       "      <td>ca1fa44f-3a3a-4163-970d-6502b32837a0</td>\n",
       "      <td>2021-02-21 21:22:20+00:00</td>\n",
       "      <td>Ross County 1-0 Celtic: John Hughes' side off ...</td>\n",
       "      <td>[-0.023736482486128807, 0.03493289276957512, -...</td>\n",
       "    </tr>\n",
       "    <tr>\n",
       "      <th>2</th>\n",
       "      <td>d34bef50-cb17-4eef-a663-d8f0bdfa6557</td>\n",
       "      <td>2021-02-21 20:56:23+00:00</td>\n",
       "      <td>Manchester United 3-1 Newcastle United: Marcus...</td>\n",
       "      <td>[0.016477283090353012, 0.00411869864910841, -0...</td>\n",
       "    </tr>\n",
       "    <tr>\n",
       "      <th>3</th>\n",
       "      <td>8cebfabb-b80f-4c8d-95cd-455fb7296b7a</td>\n",
       "      <td>2021-02-21 21:06:00+00:00</td>\n",
       "      <td>2021/02/21 21:00 GMT. The latest five minute n...</td>\n",
       "      <td>[-0.06045500934123993, -0.059935059398412704, ...</td>\n",
       "    </tr>\n",
       "    <tr>\n",
       "      <th>4</th>\n",
       "      <td>a718a782-93dc-462a-ad35-9f539b2f0d35</td>\n",
       "      <td>2021-02-21 22:12:00+00:00</td>\n",
       "      <td>Iran and the IAEA come to a temporary agreemen...</td>\n",
       "      <td>[0.04008898884057999, -0.012774740345776081, -...</td>\n",
       "    </tr>\n",
       "  </tbody>\n",
       "</table>\n",
       "</div>"
      ],
      "text/plain": [
       "                             article_id               publishedAt  \\\n",
       "0  ca2e0821-9dca-4d7a-a61a-3b7f1bc30bdf 2021-02-21 22:16:12+00:00   \n",
       "1  ca1fa44f-3a3a-4163-970d-6502b32837a0 2021-02-21 21:22:20+00:00   \n",
       "2  d34bef50-cb17-4eef-a663-d8f0bdfa6557 2021-02-21 20:56:23+00:00   \n",
       "3  8cebfabb-b80f-4c8d-95cd-455fb7296b7a 2021-02-21 21:06:00+00:00   \n",
       "4  a718a782-93dc-462a-ad35-9f539b2f0d35 2021-02-21 22:12:00+00:00   \n",
       "\n",
       "                                                text  \\\n",
       "0  Paris St Germain 0-2 Monaco: Pochettino loses ...   \n",
       "1  Ross County 1-0 Celtic: John Hughes' side off ...   \n",
       "2  Manchester United 3-1 Newcastle United: Marcus...   \n",
       "3  2021/02/21 21:00 GMT. The latest five minute n...   \n",
       "4  Iran and the IAEA come to a temporary agreemen...   \n",
       "\n",
       "                                           embedding  \n",
       "0  [-0.028592605143785477, 0.04850605130195618, -...  \n",
       "1  [-0.023736482486128807, 0.03493289276957512, -...  \n",
       "2  [0.016477283090353012, 0.00411869864910841, -0...  \n",
       "3  [-0.06045500934123993, -0.059935059398412704, ...  \n",
       "4  [0.04008898884057999, -0.012774740345776081, -...  "
      ]
     },
     "execution_count": 16,
     "metadata": {},
     "output_type": "execute_result"
    }
   ],
   "source": [
    "news_df.head()"
   ]
  },
  {
   "cell_type": "code",
   "execution_count": 18,
   "metadata": {},
   "outputs": [],
   "source": [
    "# rearrange embedding series from dataframe into vertical stack for kmeans model\n",
    "X = numpy.vstack(news_df['embedding'])\n",
    "X.shape"
   ]
  },
  {
   "cell_type": "code",
   "execution_count": 20,
   "metadata": {},
   "outputs": [],
   "source": [
    "#Applying kmeans to the dataset / Creating the kmeans classifier\n",
    "kmeans = KMeans(n_clusters = 20, init = 'k-means++', max_iter = 100, random_state = 0)\n",
    "y_kmeans = kmeans.fit_predict(X)"
   ]
  },
  {
   "cell_type": "code",
   "execution_count": 21,
   "metadata": {},
   "outputs": [],
   "source": [
    "# add cluster predictions to dataframe\n",
    "news_df['cluster'] = y_kmeans"
   ]
  },
  {
   "cell_type": "code",
   "execution_count": 22,
   "metadata": {},
   "outputs": [],
   "source": [
    "# add distance to nearest cluster\n",
    "news_df['distance'] = numpy.min(kmeans.fit_transform(X), axis=1)"
   ]
  },
  {
   "cell_type": "code",
   "execution_count": 26,
   "metadata": {},
   "outputs": [
    {
     "data": {
      "text/html": [
       "<div>\n",
       "<style scoped>\n",
       "    .dataframe tbody tr th:only-of-type {\n",
       "        vertical-align: middle;\n",
       "    }\n",
       "\n",
       "    .dataframe tbody tr th {\n",
       "        vertical-align: top;\n",
       "    }\n",
       "\n",
       "    .dataframe thead th {\n",
       "        text-align: right;\n",
       "    }\n",
       "</style>\n",
       "<table border=\"1\" class=\"dataframe\">\n",
       "  <thead>\n",
       "    <tr style=\"text-align: right;\">\n",
       "      <th></th>\n",
       "      <th>text</th>\n",
       "      <th>cluster</th>\n",
       "      <th>distance</th>\n",
       "    </tr>\n",
       "  </thead>\n",
       "  <tbody>\n",
       "    <tr>\n",
       "      <th>524</th>\n",
       "      <td>Aretha Franklin's son puts upcoming 'Genius' series on blast, says family does not support it. Five weeks before the eight-part series starring Cynthia Erivo as Aretha, Kecalf Franklin claims a deal was \"pushed through without our consent.\". Months after her death, a set of three handwritten wills were discovered in Franklin's home\\r\\nTime People\\r\\nAretha Franklins youngest son has slammed the forthcoming National Geographic series about th… [+3412 chars]</td>\n",
       "      <td>1</td>\n",
       "      <td>0.667728</td>\n",
       "    </tr>\n",
       "    <tr>\n",
       "      <th>1157</th>\n",
       "      <td>HBO Max’s Bold, Witty and Wrenching AIDS Drama It’s a Sin Is the First Must-See Show of 2021. Russell T. Davies' bold, witty, wrenching HBO Max drama follows five young friends through the first decade of the AIDS crisis in London.. It’s one of the oldest stories of modern times: after growing up in a place that makes them feel like a freak or an abomination or a space alien, a young person lights out for the big city, in search… [+6306 chars]</td>\n",
       "      <td>1</td>\n",
       "      <td>0.686509</td>\n",
       "    </tr>\n",
       "    <tr>\n",
       "      <th>1187</th>\n",
       "      <td>'It's a Sin' Review: HBO Max AIDS Drama is Revolutionary But Rushed. \"It's a Sin\" is the new show from \"Queer as Folk\" creator Russell T. Davies, streaming now on HBO Max.. The AIDS crisis of the 1980s and 1990s is a topic that has been covered in many excellent pieces of art in the U.S., from Angels in America and When We Rise to must-watch documentaries like How to Su… [+6440 chars]</td>\n",
       "      <td>1</td>\n",
       "      <td>0.686666</td>\n",
       "    </tr>\n",
       "    <tr>\n",
       "      <th>895</th>\n",
       "      <td>The trials and triumph of the Fisk Jubilee Singers, one of America's great musical institutions. The creation, rise and endurance of the Fisk Jubilee Singers — many of them former slaves — is a true American triumph.. As the National Museum of African American Music opens its doors, journalists from the USA TODAY Network explore the stories, places and people who helped make music what it is today in our expansive… [+6589 chars]</td>\n",
       "      <td>1</td>\n",
       "      <td>0.716526</td>\n",
       "    </tr>\n",
       "    <tr>\n",
       "      <th>893</th>\n",
       "      <td>'Nomadland': The True Story Behind the Hulu Movie. \"Nomadland\" is streaming now on Hulu, meaning viewers can finally see the Oscar-tipped movie for themselves and learn the true stories of some of the urban nomads in the film.. Nomadland has spent the last few months racking up awards, with the central performance of Frances McDormand as a woman who goes out on the road after her husband died. Apart from McDormand, however,… [+5634 chars]</td>\n",
       "      <td>1</td>\n",
       "      <td>0.719286</td>\n",
       "    </tr>\n",
       "  </tbody>\n",
       "</table>\n",
       "</div>"
      ],
      "text/plain": [
       "                                                                                                                                                                                                                                                                                                                                                                                                                                                                              text  \\\n",
       "524   Aretha Franklin's son puts upcoming 'Genius' series on blast, says family does not support it. Five weeks before the eight-part series starring Cynthia Erivo as Aretha, Kecalf Franklin claims a deal was \"pushed through without our consent.\". Months after her death, a set of three handwritten wills were discovered in Franklin's home\\r\\nTime People\\r\\nAretha Franklins youngest son has slammed the forthcoming National Geographic series about th… [+3412 chars]   \n",
       "1157               HBO Max’s Bold, Witty and Wrenching AIDS Drama It’s a Sin Is the First Must-See Show of 2021. Russell T. Davies' bold, witty, wrenching HBO Max drama follows five young friends through the first decade of the AIDS crisis in London.. It’s one of the oldest stories of modern times: after growing up in a place that makes them feel like a freak or an abomination or a space alien, a young person lights out for the big city, in search… [+6306 chars]   \n",
       "1187                                                                           'It's a Sin' Review: HBO Max AIDS Drama is Revolutionary But Rushed. \"It's a Sin\" is the new show from \"Queer as Folk\" creator Russell T. Davies, streaming now on HBO Max.. The AIDS crisis of the 1980s and 1990s is a topic that has been covered in many excellent pieces of art in the U.S., from Angels in America and When We Rise to must-watch documentaries like How to Su… [+6440 chars]   \n",
       "895                               The trials and triumph of the Fisk Jubilee Singers, one of America's great musical institutions. The creation, rise and endurance of the Fisk Jubilee Singers — many of them former slaves — is a true American triumph.. As the National Museum of African American Music opens its doors, journalists from the USA TODAY Network explore the stories, places and people who helped make music what it is today in our expansive… [+6589 chars]   \n",
       "893                     'Nomadland': The True Story Behind the Hulu Movie. \"Nomadland\" is streaming now on Hulu, meaning viewers can finally see the Oscar-tipped movie for themselves and learn the true stories of some of the urban nomads in the film.. Nomadland has spent the last few months racking up awards, with the central performance of Frances McDormand as a woman who goes out on the road after her husband died. Apart from McDormand, however,… [+5634 chars]   \n",
       "\n",
       "      cluster  distance  \n",
       "524         1  0.667728  \n",
       "1157        1  0.686509  \n",
       "1187        1  0.686666  \n",
       "895         1  0.716526  \n",
       "893         1  0.719286  "
      ]
     },
     "execution_count": 26,
     "metadata": {},
     "output_type": "execute_result"
    }
   ],
   "source": [
    "# evaluate closest articles for clusters\n",
    "pandas.set_option('display.max_colwidth', None)\n",
    "news_df[['text','cluster','distance']][news_df['cluster'] == 1].sort_values(by=['distance']).head(5)"
   ]
  },
  {
   "cell_type": "code",
   "execution_count": 27,
   "metadata": {},
   "outputs": [
    {
     "data": {
      "text/html": [
       "<div>\n",
       "<style scoped>\n",
       "    .dataframe tbody tr th:only-of-type {\n",
       "        vertical-align: middle;\n",
       "    }\n",
       "\n",
       "    .dataframe tbody tr th {\n",
       "        vertical-align: top;\n",
       "    }\n",
       "\n",
       "    .dataframe thead th {\n",
       "        text-align: right;\n",
       "    }\n",
       "</style>\n",
       "<table border=\"1\" class=\"dataframe\">\n",
       "  <thead>\n",
       "    <tr style=\"text-align: right;\">\n",
       "      <th></th>\n",
       "      <th>text</th>\n",
       "      <th>cluster</th>\n",
       "      <th>distance</th>\n",
       "    </tr>\n",
       "  </thead>\n",
       "  <tbody>\n",
       "    <tr>\n",
       "      <th>394</th>\n",
       "      <td>Amid GOP Infighting Over Trump, Republicans Agree on Opposing Biden's Agenda. President Joe Biden wanted to govern with Congress in a bipartisan manner, but that looks increasingly unlikely.. As tensions continue to simmer within the Republican Party over the role of former President Donald Trump going forward, GOP lawmakers appear to be largely aligned behind a unified agenda of opposing… [+6850 chars]</td>\n",
       "      <td>2</td>\n",
       "      <td>0.488300</td>\n",
       "    </tr>\n",
       "    <tr>\n",
       "      <th>575</th>\n",
       "      <td>Live updates: Biden seeks to return attention to combating the coronavirus with televised town hall. The president plans to travel to Milwaukee on Tuesday to talk to a socially distanced audience about the pandemic and its economic fallout. It comes as he is pushing Congress to pass a $1.9 trillion relief bill.. Sen. Richard Burr (N.C.) became the latest Republican to face pushback for his guilty vote in Trumps impeachment trial, as the central committee of the North Carolina Republican Party unanimously vot… [+1602 chars]</td>\n",
       "      <td>2</td>\n",
       "      <td>0.498470</td>\n",
       "    </tr>\n",
       "    <tr>\n",
       "      <th>1164</th>\n",
       "      <td>Mitch McConnell's Condemnation of Donald Trump Firmly at Odds with GOP Consensus. The Senate minority leader has faced the wrath of the former president in recent days, after stating the president held responsibility of the violence at the Capitol on January 6.. Senate Minority Leader Mitch McConnell's suggestion former President Donald Trump is \"practically and morally responsible\" for provoking the violence of January 6 stands firmly at odds with the opini… [+3182 chars]</td>\n",
       "      <td>2</td>\n",
       "      <td>0.509849</td>\n",
       "    </tr>\n",
       "    <tr>\n",
       "      <th>659</th>\n",
       "      <td>North Carolina GOP censures Sen. Burr for impeachment vote. \"My party’ s leadership has chosen loyalty to one man over the core principles of the Republican Party and the founders of our great nation,” Burr said in response.. RALEIGH, N.C. The North Carolina Republican Party unanimously approved a resolution Monday to censure Sen. Richard Burr over his vote to convict former President Donald Trump during his second impeac… [+5172 chars]</td>\n",
       "      <td>2</td>\n",
       "      <td>0.535489</td>\n",
       "    </tr>\n",
       "    <tr>\n",
       "      <th>316</th>\n",
       "      <td>GOP Rep. Tom Reed 'definitely looking' at challenging NY Gov. Cuomo amid nursing home controversy. Republican Rep. Tom Reed of New York says that he’s \"definitely looking\" at running next year against Gov. Andrew Cuomo when the embattled three-term Democratic governor bids for re-election.. Republican Rep. Tom Reed of New York says that hes \"definitely looking\" at running next year against Gov. Andrew Cuomo when the embattled three-term Democratic governor bids for re-election.\\r\\n\"People… [+3674 chars]</td>\n",
       "      <td>2</td>\n",
       "      <td>0.537370</td>\n",
       "    </tr>\n",
       "  </tbody>\n",
       "</table>\n",
       "</div>"
      ],
      "text/plain": [
       "                                                                                                                                                                                                                                                                                                                                                                                                                                                                                                                                                  text  \\\n",
       "394                                                                                                                             Amid GOP Infighting Over Trump, Republicans Agree on Opposing Biden's Agenda. President Joe Biden wanted to govern with Congress in a bipartisan manner, but that looks increasingly unlikely.. As tensions continue to simmer within the Republican Party over the role of former President Donald Trump going forward, GOP lawmakers appear to be largely aligned behind a unified agenda of opposing… [+6850 chars]   \n",
       "575   Live updates: Biden seeks to return attention to combating the coronavirus with televised town hall. The president plans to travel to Milwaukee on Tuesday to talk to a socially distanced audience about the pandemic and its economic fallout. It comes as he is pushing Congress to pass a $1.9 trillion relief bill.. Sen. Richard Burr (N.C.) became the latest Republican to face pushback for his guilty vote in Trumps impeachment trial, as the central committee of the North Carolina Republican Party unanimously vot… [+1602 chars]   \n",
       "1164                                                     Mitch McConnell's Condemnation of Donald Trump Firmly at Odds with GOP Consensus. The Senate minority leader has faced the wrath of the former president in recent days, after stating the president held responsibility of the violence at the Capitol on January 6.. Senate Minority Leader Mitch McConnell's suggestion former President Donald Trump is \"practically and morally responsible\" for provoking the violence of January 6 stands firmly at odds with the opini… [+3182 chars]   \n",
       "659                                                                                           North Carolina GOP censures Sen. Burr for impeachment vote. \"My party’ s leadership has chosen loyalty to one man over the core principles of the Republican Party and the founders of our great nation,” Burr said in response.. RALEIGH, N.C. The North Carolina Republican Party unanimously approved a resolution Monday to censure Sen. Richard Burr over his vote to convict former President Donald Trump during his second impeac… [+5172 chars]   \n",
       "316                       GOP Rep. Tom Reed 'definitely looking' at challenging NY Gov. Cuomo amid nursing home controversy. Republican Rep. Tom Reed of New York says that he’s \"definitely looking\" at running next year against Gov. Andrew Cuomo when the embattled three-term Democratic governor bids for re-election.. Republican Rep. Tom Reed of New York says that hes \"definitely looking\" at running next year against Gov. Andrew Cuomo when the embattled three-term Democratic governor bids for re-election.\\r\\n\"People… [+3674 chars]   \n",
       "\n",
       "      cluster  distance  \n",
       "394         2  0.488300  \n",
       "575         2  0.498470  \n",
       "1164        2  0.509849  \n",
       "659         2  0.535489  \n",
       "316         2  0.537370  "
      ]
     },
     "execution_count": 27,
     "metadata": {},
     "output_type": "execute_result"
    }
   ],
   "source": [
    "# evaluate closest articles for clusters\n",
    "news_df[['text','cluster','distance']][news_df['cluster'] == 2].sort_values(by=['distance']).head(5)"
   ]
  },
  {
   "cell_type": "code",
   "execution_count": 28,
   "metadata": {},
   "outputs": [
    {
     "data": {
      "text/html": [
       "<div>\n",
       "<style scoped>\n",
       "    .dataframe tbody tr th:only-of-type {\n",
       "        vertical-align: middle;\n",
       "    }\n",
       "\n",
       "    .dataframe tbody tr th {\n",
       "        vertical-align: top;\n",
       "    }\n",
       "\n",
       "    .dataframe thead th {\n",
       "        text-align: right;\n",
       "    }\n",
       "</style>\n",
       "<table border=\"1\" class=\"dataframe\">\n",
       "  <thead>\n",
       "    <tr style=\"text-align: right;\">\n",
       "      <th></th>\n",
       "      <th>text</th>\n",
       "      <th>cluster</th>\n",
       "      <th>distance</th>\n",
       "    </tr>\n",
       "  </thead>\n",
       "  <tbody>\n",
       "    <tr>\n",
       "      <th>1021</th>\n",
       "      <td>Diablo 2 Resurrected remasters Blizzard’s classic RPG for console and PC. To close out this year’s BlizzCon opening ceremony, Blizzard announced the long-awaited Diablo 2 Resurrection, a remaster of the ARPG classic. This new version of Diablo 2 will launch later this year on both console and PC.. The long-rumored Diablo 2 makeover is confirmed Diablo 2 Resurrected will be a faithful remaster of Diablo 2 and its expansion, Lord of Destruction. Blizzard announced Resurrected in the closing mome… [+990 chars]</td>\n",
       "      <td>3</td>\n",
       "      <td>0.554347</td>\n",
       "    </tr>\n",
       "    <tr>\n",
       "      <th>753</th>\n",
       "      <td>The Legend of Zelda: Skyward Sword coming to Nintendo Switch. The Legend of Zelda: Skyward Sword is coming to the Nintendo Switch as part of the 35th anniversary collection in 2020, as announced via the Nintendo Direct Feb. 17.. Nintendo is bringing The Legend of Zelda: Skyward Sword, Links high-flying 2011 Wii adventure, to the Switch later this year. The Switch port of Skyward Sword will offer a major visual upgrade over t… [+1135 chars]</td>\n",
       "      <td>3</td>\n",
       "      <td>0.562915</td>\n",
       "    </tr>\n",
       "    <tr>\n",
       "      <th>1010</th>\n",
       "      <td>Blizzard Arcade Collection bundles three of the studio’s more obscure classics. During the opening ceremony for BlizzCon Online, the World of Warcraft developer announced today that it will release a new video game anthology called Blizzard Arcade Collection, a compilation of three games from the 1990s.. Available now\\r\\nAs part of BlizzCon Onlines opening ceremony, Blizzard Entertainment announced a new video game anthology that includes some of the earlier titles created by the World of Warcraft deve… [+876 chars]</td>\n",
       "      <td>3</td>\n",
       "      <td>0.587458</td>\n",
       "    </tr>\n",
       "    <tr>\n",
       "      <th>965</th>\n",
       "      <td>Diablo II is getting remastered for console and PC. Diablo 2 is getting a new remastered edition, called Diablo II Resurrected, which was announced at Blizzcon 2021. It’s coming to PC, Switch, PS4, PS4, and Xbox Series X and S, with cross-progression between PC and console.. Diablo II is getting a big overhaul in a new remaster. After a few leaks, Blizzard officially announced Diablo II Resurrected at its online-only edition of Blizzcon 2021. The new version of the game … [+361 chars]</td>\n",
       "      <td>3</td>\n",
       "      <td>0.598774</td>\n",
       "    </tr>\n",
       "    <tr>\n",
       "      <th>959</th>\n",
       "      <td>Blizzard Arcade Collection of Enhanced Retro Classics Announced. Classic retro games from Blizzard's past are being enhanced and re-released in the Blizzard Arcade Collection.. Blizzard has announced the Blizzard Arcade Collection, a set of three enhanced editions of some of Blizzards earliest, pre-Warcraft games. The collection is available today on PC and consoles.The Bli… [+2886 chars]</td>\n",
       "      <td>3</td>\n",
       "      <td>0.600433</td>\n",
       "    </tr>\n",
       "  </tbody>\n",
       "</table>\n",
       "</div>"
      ],
      "text/plain": [
       "                                                                                                                                                                                                                                                                                                                                                                                                                                                                                                                                           text  \\\n",
       "1021           Diablo 2 Resurrected remasters Blizzard’s classic RPG for console and PC. To close out this year’s BlizzCon opening ceremony, Blizzard announced the long-awaited Diablo 2 Resurrection, a remaster of the ARPG classic. This new version of Diablo 2 will launch later this year on both console and PC.. The long-rumored Diablo 2 makeover is confirmed Diablo 2 Resurrected will be a faithful remaster of Diablo 2 and its expansion, Lord of Destruction. Blizzard announced Resurrected in the closing mome… [+990 chars]   \n",
       "753                                                                                 The Legend of Zelda: Skyward Sword coming to Nintendo Switch. The Legend of Zelda: Skyward Sword is coming to the Nintendo Switch as part of the 35th anniversary collection in 2020, as announced via the Nintendo Direct Feb. 17.. Nintendo is bringing The Legend of Zelda: Skyward Sword, Links high-flying 2011 Wii adventure, to the Switch later this year. The Switch port of Skyward Sword will offer a major visual upgrade over t… [+1135 chars]   \n",
       "1010  Blizzard Arcade Collection bundles three of the studio’s more obscure classics. During the opening ceremony for BlizzCon Online, the World of Warcraft developer announced today that it will release a new video game anthology called Blizzard Arcade Collection, a compilation of three games from the 1990s.. Available now\\r\\nAs part of BlizzCon Onlines opening ceremony, Blizzard Entertainment announced a new video game anthology that includes some of the earlier titles created by the World of Warcraft deve… [+876 chars]   \n",
       "965                                   Diablo II is getting remastered for console and PC. Diablo 2 is getting a new remastered edition, called Diablo II Resurrected, which was announced at Blizzcon 2021. It’s coming to PC, Switch, PS4, PS4, and Xbox Series X and S, with cross-progression between PC and console.. Diablo II is getting a big overhaul in a new remaster. After a few leaks, Blizzard officially announced Diablo II Resurrected at its online-only edition of Blizzcon 2021. The new version of the game … [+361 chars]   \n",
       "959                                                                                                                                     Blizzard Arcade Collection of Enhanced Retro Classics Announced. Classic retro games from Blizzard's past are being enhanced and re-released in the Blizzard Arcade Collection.. Blizzard has announced the Blizzard Arcade Collection, a set of three enhanced editions of some of Blizzards earliest, pre-Warcraft games. The collection is available today on PC and consoles.The Bli… [+2886 chars]   \n",
       "\n",
       "      cluster  distance  \n",
       "1021        3  0.554347  \n",
       "753         3  0.562915  \n",
       "1010        3  0.587458  \n",
       "965         3  0.598774  \n",
       "959         3  0.600433  "
      ]
     },
     "execution_count": 28,
     "metadata": {},
     "output_type": "execute_result"
    }
   ],
   "source": [
    "# evaluate closest articles for clusters\n",
    "news_df[['text','cluster','distance']][news_df['cluster'] == 3].sort_values(by=['distance']).head(5)"
   ]
  },
  {
   "cell_type": "code",
   "execution_count": 29,
   "metadata": {},
   "outputs": [],
   "source": [
    "# add temporary columns for keywords\n",
    "news_df['keywords'] = numpy.nan\n",
    "\n",
    "# rename distance to topic_perc_contrib to fit legacy schema\n",
    "news_df.rename(columns={'cluster': 'dominant_topic', 'distance': 'topic_perc_contrib'}, inplace=True)\n",
    "\n",
    "# drop embedding columns\n",
    "news_df.drop(['embedding'], axis=1, inplace=True)"
   ]
  },
  {
   "cell_type": "code",
   "execution_count": 30,
   "metadata": {},
   "outputs": [
    {
     "data": {
      "text/html": [
       "<div>\n",
       "<style scoped>\n",
       "    .dataframe tbody tr th:only-of-type {\n",
       "        vertical-align: middle;\n",
       "    }\n",
       "\n",
       "    .dataframe tbody tr th {\n",
       "        vertical-align: top;\n",
       "    }\n",
       "\n",
       "    .dataframe thead th {\n",
       "        text-align: right;\n",
       "    }\n",
       "</style>\n",
       "<table border=\"1\" class=\"dataframe\">\n",
       "  <thead>\n",
       "    <tr style=\"text-align: right;\">\n",
       "      <th></th>\n",
       "      <th>article_id</th>\n",
       "      <th>publishedAt</th>\n",
       "      <th>text</th>\n",
       "      <th>dominant_topic</th>\n",
       "      <th>topic_perc_contrib</th>\n",
       "      <th>keywords</th>\n",
       "    </tr>\n",
       "  </thead>\n",
       "  <tbody>\n",
       "    <tr>\n",
       "      <th>0</th>\n",
       "      <td>ca2e0821-9dca-4d7a-a61a-3b7f1bc30bdf</td>\n",
       "      <td>2021-02-21 22:16:12+00:00</td>\n",
       "      <td>Paris St Germain 0-2 Monaco: Pochettino loses ...</td>\n",
       "      <td>10</td>\n",
       "      <td>0.526822</td>\n",
       "      <td>NaN</td>\n",
       "    </tr>\n",
       "    <tr>\n",
       "      <th>1</th>\n",
       "      <td>ca1fa44f-3a3a-4163-970d-6502b32837a0</td>\n",
       "      <td>2021-02-21 21:22:20+00:00</td>\n",
       "      <td>Ross County 1-0 Celtic: John Hughes' side off ...</td>\n",
       "      <td>10</td>\n",
       "      <td>0.458980</td>\n",
       "      <td>NaN</td>\n",
       "    </tr>\n",
       "    <tr>\n",
       "      <th>2</th>\n",
       "      <td>d34bef50-cb17-4eef-a663-d8f0bdfa6557</td>\n",
       "      <td>2021-02-21 20:56:23+00:00</td>\n",
       "      <td>Manchester United 3-1 Newcastle United: Marcus...</td>\n",
       "      <td>10</td>\n",
       "      <td>0.512203</td>\n",
       "      <td>NaN</td>\n",
       "    </tr>\n",
       "    <tr>\n",
       "      <th>3</th>\n",
       "      <td>8cebfabb-b80f-4c8d-95cd-455fb7296b7a</td>\n",
       "      <td>2021-02-21 21:06:00+00:00</td>\n",
       "      <td>2021/02/21 21:00 GMT. The latest five minute n...</td>\n",
       "      <td>0</td>\n",
       "      <td>0.048618</td>\n",
       "      <td>NaN</td>\n",
       "    </tr>\n",
       "    <tr>\n",
       "      <th>4</th>\n",
       "      <td>a718a782-93dc-462a-ad35-9f539b2f0d35</td>\n",
       "      <td>2021-02-21 22:12:00+00:00</td>\n",
       "      <td>Iran and the IAEA come to a temporary agreemen...</td>\n",
       "      <td>4</td>\n",
       "      <td>0.597285</td>\n",
       "      <td>NaN</td>\n",
       "    </tr>\n",
       "  </tbody>\n",
       "</table>\n",
       "</div>"
      ],
      "text/plain": [
       "                             article_id               publishedAt  \\\n",
       "0  ca2e0821-9dca-4d7a-a61a-3b7f1bc30bdf 2021-02-21 22:16:12+00:00   \n",
       "1  ca1fa44f-3a3a-4163-970d-6502b32837a0 2021-02-21 21:22:20+00:00   \n",
       "2  d34bef50-cb17-4eef-a663-d8f0bdfa6557 2021-02-21 20:56:23+00:00   \n",
       "3  8cebfabb-b80f-4c8d-95cd-455fb7296b7a 2021-02-21 21:06:00+00:00   \n",
       "4  a718a782-93dc-462a-ad35-9f539b2f0d35 2021-02-21 22:12:00+00:00   \n",
       "\n",
       "                                                text  dominant_topic  \\\n",
       "0  Paris St Germain 0-2 Monaco: Pochettino loses ...              10   \n",
       "1  Ross County 1-0 Celtic: John Hughes' side off ...              10   \n",
       "2  Manchester United 3-1 Newcastle United: Marcus...              10   \n",
       "3  2021/02/21 21:00 GMT. The latest five minute n...               0   \n",
       "4  Iran and the IAEA come to a temporary agreemen...               4   \n",
       "\n",
       "   topic_perc_contrib  keywords  \n",
       "0            0.526822       NaN  \n",
       "1            0.458980       NaN  \n",
       "2            0.512203       NaN  \n",
       "3            0.048618       NaN  \n",
       "4            0.597285       NaN  "
      ]
     },
     "execution_count": 30,
     "metadata": {},
     "output_type": "execute_result"
    }
   ],
   "source": [
    "# evaluate data to be written to bigquery\n",
    "pandas.reset_option('display')\n",
    "\n",
    "news_df.head()"
   ]
  },
  {
   "cell_type": "code",
   "execution_count": 31,
   "metadata": {},
   "outputs": [],
   "source": [
    "# configure BigQuery job\n",
    "job_config = bigquery.LoadJobConfig(\n",
    "    # Specify a (partial) schema. All columns are always written to the\n",
    "    # table. The schema is used to assist in data type definitions.\n",
    "    schema=[\n",
    "        # Specify the type of columns whose type cannot be auto-detected. For\n",
    "        # example the \"title\" column uses pandas dtype \"object\", so its\n",
    "        # data type is ambiguous.\n",
    "        bigquery.SchemaField(\"article_id\", bigquery.enums.SqlTypeNames.STRING),\n",
    "        bigquery.SchemaField(\"publishedAt\", bigquery.enums.SqlTypeNames.TIMESTAMP),\n",
    "        bigquery.SchemaField(\"text\", bigquery.enums.SqlTypeNames.STRING),\n",
    "        bigquery.SchemaField(\"dominant_topic\", bigquery.enums.SqlTypeNames.INT64),\n",
    "        bigquery.SchemaField(\"topic_perc_contrib\", bigquery.enums.SqlTypeNames.FLOAT64),\n",
    "        bigquery.SchemaField(\"keywords\", bigquery.enums.SqlTypeNames.STRING),\n",
    "    ],\n",
    "    # Optionally, set the write disposition. BigQuery appends loaded rows\n",
    "    # to an existing table by default, but with WRITE_TRUNCATE write\n",
    "    # disposition it replaces the table with the loaded data.\n",
    "    write_disposition=\"WRITE_TRUNCATE\",\n",
    ")"
   ]
  },
  {
   "cell_type": "code",
   "execution_count": 32,
   "metadata": {},
   "outputs": [
    {
     "data": {
      "text/plain": [
       "<google.cloud.bigquery.job.LoadJob at 0x156cbabe0>"
      ]
     },
     "execution_count": 32,
     "metadata": {},
     "output_type": "execute_result"
    }
   ],
   "source": [
    "table_id = \"news-site-280319.topics.article_topics\"\n",
    "job = client.load_table_from_dataframe(\n",
    "    news_df,\n",
    "    table_id, \n",
    "    job_config=job_config\n",
    ")  # Make an API request.\n",
    "job.result()  # Wait for the job to complete."
   ]
  },
  {
   "cell_type": "code",
   "execution_count": 33,
   "metadata": {
    "tags": []
   },
   "outputs": [
    {
     "data": {
      "text/plain": [
       "'DONE'"
      ]
     },
     "execution_count": 33,
     "metadata": {},
     "output_type": "execute_result"
    }
   ],
   "source": [
    "# check job status\n",
    "job.result().state"
   ]
  }
 ],
 "metadata": {
  "kernelspec": {
   "display_name": "Python 3",
   "language": "python",
   "name": "python3"
  },
  "language_info": {
   "codemirror_mode": {
    "name": "ipython",
    "version": 3
   },
   "file_extension": ".py",
   "mimetype": "text/x-python",
   "name": "python",
   "nbconvert_exporter": "python",
   "pygments_lexer": "ipython3",
   "version": "3.8.0"
  }
 },
 "nbformat": 4,
 "nbformat_minor": 4
}
