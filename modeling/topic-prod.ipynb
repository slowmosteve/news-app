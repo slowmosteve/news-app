{
 "cells": [
  {
   "cell_type": "markdown",
   "metadata": {},
   "source": [
    "# News Topic Modeling\n",
    "\n",
    "This notebook is used to derive topics from news text\n"
   ]
  },
  {
   "cell_type": "code",
   "execution_count": 1,
   "metadata": {
    "tags": []
   },
   "outputs": [
    {
     "name": "stdout",
     "output_type": "stream",
     "text": [
      "Activated [news-site].\n"
     ]
    }
   ],
   "source": [
    "!gcloud config configurations activate news-site"
   ]
  },
  {
   "cell_type": "code",
   "execution_count": 2,
   "metadata": {},
   "outputs": [],
   "source": [
    "from google.cloud import bigquery\n",
    "\n",
    "import pandas\n",
    "import re\n",
    "import numpy\n",
    "import matplotlib.pyplot as plt\n",
    "from pprint import pprint"
   ]
  },
  {
   "cell_type": "code",
   "execution_count": 3,
   "metadata": {},
   "outputs": [],
   "source": [
    "token = !gcloud auth print-access-token\n",
    "import google.oauth2.credentials\n",
    "credentials = google.oauth2.credentials.Credentials(token[0])"
   ]
  },
  {
   "cell_type": "code",
   "execution_count": 4,
   "metadata": {
    "tags": []
   },
   "outputs": [
    {
     "name": "stdout",
     "output_type": "stream",
     "text": [
      "<class 'pandas.core.frame.DataFrame'>\n",
      "RangeIndex: 2570 entries, 0 to 2569\n",
      "Data columns (total 3 columns):\n",
      " #   Column       Non-Null Count  Dtype              \n",
      "---  ------       --------------  -----              \n",
      " 0   article_id   2570 non-null   object             \n",
      " 1   publishedAt  2570 non-null   datetime64[ns, UTC]\n",
      " 2   text         2570 non-null   object             \n",
      "dtypes: datetime64[ns, UTC](1), object(2)\n",
      "memory usage: 60.4+ KB\n"
     ]
    }
   ],
   "source": [
    "client = bigquery.Client(credentials=credentials)\n",
    "sql = \"\"\"\n",
    "    SELECT \n",
    "        article_id,\n",
    "        publishedAt,\n",
    "        CONCAT(title, '. ', description, '. ', content) AS text\n",
    "    FROM `news-site-280319.news.articles`\n",
    "    WHERE\n",
    "      title IS NOT NULL\n",
    "      AND description IS NOT NULL\n",
    "      AND content IS NOT NULL\n",
    "      AND DATE(publishedAt) >= DATE_SUB(CURRENT_DATE(), INTERVAL 14 DAY)\n",
    "\"\"\"\n",
    "\n",
    "df = client.query(sql).to_dataframe()\n",
    "\n",
    "df.info()"
   ]
  },
  {
   "cell_type": "code",
   "execution_count": 5,
   "metadata": {},
   "outputs": [
    {
     "data": {
      "text/html": [
       "<div>\n",
       "<style scoped>\n",
       "    .dataframe tbody tr th:only-of-type {\n",
       "        vertical-align: middle;\n",
       "    }\n",
       "\n",
       "    .dataframe tbody tr th {\n",
       "        vertical-align: top;\n",
       "    }\n",
       "\n",
       "    .dataframe thead th {\n",
       "        text-align: right;\n",
       "    }\n",
       "</style>\n",
       "<table border=\"1\" class=\"dataframe\">\n",
       "  <thead>\n",
       "    <tr style=\"text-align: right;\">\n",
       "      <th></th>\n",
       "      <th>article_id</th>\n",
       "      <th>publishedAt</th>\n",
       "      <th>text</th>\n",
       "    </tr>\n",
       "  </thead>\n",
       "  <tbody>\n",
       "    <tr>\n",
       "      <th>0</th>\n",
       "      <td>f8993822-3164-4478-bacb-643a476fd8f3</td>\n",
       "      <td>2021-02-14 22:00:11+00:00</td>\n",
       "      <td>Here's the biggest news you missed this weeken...</td>\n",
       "    </tr>\n",
       "    <tr>\n",
       "      <th>1</th>\n",
       "      <td>e5546dc0-fc08-4fa0-ae0e-0e67e6390e2a</td>\n",
       "      <td>2021-02-14 21:11:11+00:00</td>\n",
       "      <td>Celtics embarrassed by Wiz on the road, drop 2...</td>\n",
       "    </tr>\n",
       "    <tr>\n",
       "      <th>2</th>\n",
       "      <td>f37f2f79-0125-4338-852a-43e7e01ca1f9</td>\n",
       "      <td>2021-02-14 21:15:04+00:00</td>\n",
       "      <td>John Wall ready for first return to Washington...</td>\n",
       "    </tr>\n",
       "    <tr>\n",
       "      <th>3</th>\n",
       "      <td>1d9bfeb9-484f-4800-b8ef-87b28c3ca836</td>\n",
       "      <td>2021-02-14 21:24:13+00:00</td>\n",
       "      <td>Victor Oladipo remains sidelined for Rockets w...</td>\n",
       "    </tr>\n",
       "    <tr>\n",
       "      <th>4</th>\n",
       "      <td>b71ca1c4-2d88-49ca-90db-04ab6dc22398</td>\n",
       "      <td>2021-02-14 21:37:07+00:00</td>\n",
       "      <td>Kevin Durant says he speaks with Klay Thompson...</td>\n",
       "    </tr>\n",
       "  </tbody>\n",
       "</table>\n",
       "</div>"
      ],
      "text/plain": [
       "                             article_id               publishedAt  \\\n",
       "0  f8993822-3164-4478-bacb-643a476fd8f3 2021-02-14 22:00:11+00:00   \n",
       "1  e5546dc0-fc08-4fa0-ae0e-0e67e6390e2a 2021-02-14 21:11:11+00:00   \n",
       "2  f37f2f79-0125-4338-852a-43e7e01ca1f9 2021-02-14 21:15:04+00:00   \n",
       "3  1d9bfeb9-484f-4800-b8ef-87b28c3ca836 2021-02-14 21:24:13+00:00   \n",
       "4  b71ca1c4-2d88-49ca-90db-04ab6dc22398 2021-02-14 21:37:07+00:00   \n",
       "\n",
       "                                                text  \n",
       "0  Here's the biggest news you missed this weeken...  \n",
       "1  Celtics embarrassed by Wiz on the road, drop 2...  \n",
       "2  John Wall ready for first return to Washington...  \n",
       "3  Victor Oladipo remains sidelined for Rockets w...  \n",
       "4  Kevin Durant says he speaks with Klay Thompson...  "
      ]
     },
     "execution_count": 5,
     "metadata": {},
     "output_type": "execute_result"
    }
   ],
   "source": [
    "df.head()"
   ]
  },
  {
   "cell_type": "code",
   "execution_count": 6,
   "metadata": {},
   "outputs": [],
   "source": [
    "import tensorflow as tf\n",
    "import tensorflow_hub as hub"
   ]
  },
  {
   "cell_type": "code",
   "execution_count": 7,
   "metadata": {},
   "outputs": [],
   "source": [
    "embed = hub.load(\"https://tfhub.dev/google/universal-sentence-encoder/4\")"
   ]
  },
  {
   "cell_type": "code",
   "execution_count": 8,
   "metadata": {},
   "outputs": [],
   "source": [
    "from sklearn.cluster import KMeans"
   ]
  },
  {
   "cell_type": "code",
   "execution_count": 9,
   "metadata": {},
   "outputs": [],
   "source": [
    "news_df = df"
   ]
  },
  {
   "cell_type": "code",
   "execution_count": 10,
   "metadata": {},
   "outputs": [],
   "source": [
    "news_df['tf_embedding'] = embed(news_df['text'])"
   ]
  },
  {
   "cell_type": "code",
   "execution_count": 11,
   "metadata": {},
   "outputs": [
    {
     "data": {
      "text/plain": [
       "0       (tf.Tensor(-0.0123543525, shape=(), dtype=floa...\n",
       "1       (tf.Tensor(-0.009412782, shape=(), dtype=float...\n",
       "2       (tf.Tensor(0.04508125, shape=(), dtype=float32...\n",
       "3       (tf.Tensor(-0.051791146, shape=(), dtype=float...\n",
       "4       (tf.Tensor(0.028435577, shape=(), dtype=float3...\n",
       "                              ...                        \n",
       "2565    (tf.Tensor(-0.039459262, shape=(), dtype=float...\n",
       "2566    (tf.Tensor(-0.028848702, shape=(), dtype=float...\n",
       "2567    (tf.Tensor(-0.059504002, shape=(), dtype=float...\n",
       "2568    (tf.Tensor(-0.022636443, shape=(), dtype=float...\n",
       "2569    (tf.Tensor(0.008352046, shape=(), dtype=float3...\n",
       "Name: tf_embedding, Length: 2570, dtype: object"
      ]
     },
     "execution_count": 11,
     "metadata": {},
     "output_type": "execute_result"
    }
   ],
   "source": [
    "news_df['tf_embedding']"
   ]
  },
  {
   "cell_type": "code",
   "execution_count": 12,
   "metadata": {},
   "outputs": [],
   "source": [
    "def tensor_to_array(tuple_tensors):\n",
    "    embedding_list = []\n",
    "    for tensor in tuple_tensors:\n",
    "        embedding_list.append(tensor.numpy())\n",
    "    embedding_list = numpy.asarray(embedding_list)\n",
    "    return embedding_list\n",
    "\n",
    "news_df['embedding'] = news_df['tf_embedding'].apply(lambda x: tensor_to_array(x))"
   ]
  },
  {
   "cell_type": "code",
   "execution_count": 13,
   "metadata": {},
   "outputs": [
    {
     "data": {
      "text/html": [
       "<div>\n",
       "<style scoped>\n",
       "    .dataframe tbody tr th:only-of-type {\n",
       "        vertical-align: middle;\n",
       "    }\n",
       "\n",
       "    .dataframe tbody tr th {\n",
       "        vertical-align: top;\n",
       "    }\n",
       "\n",
       "    .dataframe thead th {\n",
       "        text-align: right;\n",
       "    }\n",
       "</style>\n",
       "<table border=\"1\" class=\"dataframe\">\n",
       "  <thead>\n",
       "    <tr style=\"text-align: right;\">\n",
       "      <th></th>\n",
       "      <th>article_id</th>\n",
       "      <th>publishedAt</th>\n",
       "      <th>text</th>\n",
       "      <th>tf_embedding</th>\n",
       "      <th>embedding</th>\n",
       "    </tr>\n",
       "  </thead>\n",
       "  <tbody>\n",
       "    <tr>\n",
       "      <th>0</th>\n",
       "      <td>f8993822-3164-4478-bacb-643a476fd8f3</td>\n",
       "      <td>2021-02-14 22:00:11+00:00</td>\n",
       "      <td>Here's the biggest news you missed this weeken...</td>\n",
       "      <td>(tf.Tensor(-0.0123543525, shape=(), dtype=floa...</td>\n",
       "      <td>[-0.0123543525, -0.05595495, -0.054358713, -0....</td>\n",
       "    </tr>\n",
       "    <tr>\n",
       "      <th>1</th>\n",
       "      <td>e5546dc0-fc08-4fa0-ae0e-0e67e6390e2a</td>\n",
       "      <td>2021-02-14 21:11:11+00:00</td>\n",
       "      <td>Celtics embarrassed by Wiz on the road, drop 2...</td>\n",
       "      <td>(tf.Tensor(-0.009412782, shape=(), dtype=float...</td>\n",
       "      <td>[-0.009412782, -0.043367088, 0.052012645, -0.0...</td>\n",
       "    </tr>\n",
       "    <tr>\n",
       "      <th>2</th>\n",
       "      <td>f37f2f79-0125-4338-852a-43e7e01ca1f9</td>\n",
       "      <td>2021-02-14 21:15:04+00:00</td>\n",
       "      <td>John Wall ready for first return to Washington...</td>\n",
       "      <td>(tf.Tensor(0.04508125, shape=(), dtype=float32...</td>\n",
       "      <td>[0.04508125, -0.061285354, 0.065952845, 0.0424...</td>\n",
       "    </tr>\n",
       "    <tr>\n",
       "      <th>3</th>\n",
       "      <td>1d9bfeb9-484f-4800-b8ef-87b28c3ca836</td>\n",
       "      <td>2021-02-14 21:24:13+00:00</td>\n",
       "      <td>Victor Oladipo remains sidelined for Rockets w...</td>\n",
       "      <td>(tf.Tensor(-0.051791146, shape=(), dtype=float...</td>\n",
       "      <td>[-0.051791146, -0.06263638, 0.063439004, -0.00...</td>\n",
       "    </tr>\n",
       "    <tr>\n",
       "      <th>4</th>\n",
       "      <td>b71ca1c4-2d88-49ca-90db-04ab6dc22398</td>\n",
       "      <td>2021-02-14 21:37:07+00:00</td>\n",
       "      <td>Kevin Durant says he speaks with Klay Thompson...</td>\n",
       "      <td>(tf.Tensor(0.028435577, shape=(), dtype=float3...</td>\n",
       "      <td>[0.028435577, 0.025807155, 0.064303845, -0.049...</td>\n",
       "    </tr>\n",
       "  </tbody>\n",
       "</table>\n",
       "</div>"
      ],
      "text/plain": [
       "                             article_id               publishedAt  \\\n",
       "0  f8993822-3164-4478-bacb-643a476fd8f3 2021-02-14 22:00:11+00:00   \n",
       "1  e5546dc0-fc08-4fa0-ae0e-0e67e6390e2a 2021-02-14 21:11:11+00:00   \n",
       "2  f37f2f79-0125-4338-852a-43e7e01ca1f9 2021-02-14 21:15:04+00:00   \n",
       "3  1d9bfeb9-484f-4800-b8ef-87b28c3ca836 2021-02-14 21:24:13+00:00   \n",
       "4  b71ca1c4-2d88-49ca-90db-04ab6dc22398 2021-02-14 21:37:07+00:00   \n",
       "\n",
       "                                                text  \\\n",
       "0  Here's the biggest news you missed this weeken...   \n",
       "1  Celtics embarrassed by Wiz on the road, drop 2...   \n",
       "2  John Wall ready for first return to Washington...   \n",
       "3  Victor Oladipo remains sidelined for Rockets w...   \n",
       "4  Kevin Durant says he speaks with Klay Thompson...   \n",
       "\n",
       "                                        tf_embedding  \\\n",
       "0  (tf.Tensor(-0.0123543525, shape=(), dtype=floa...   \n",
       "1  (tf.Tensor(-0.009412782, shape=(), dtype=float...   \n",
       "2  (tf.Tensor(0.04508125, shape=(), dtype=float32...   \n",
       "3  (tf.Tensor(-0.051791146, shape=(), dtype=float...   \n",
       "4  (tf.Tensor(0.028435577, shape=(), dtype=float3...   \n",
       "\n",
       "                                           embedding  \n",
       "0  [-0.0123543525, -0.05595495, -0.054358713, -0....  \n",
       "1  [-0.009412782, -0.043367088, 0.052012645, -0.0...  \n",
       "2  [0.04508125, -0.061285354, 0.065952845, 0.0424...  \n",
       "3  [-0.051791146, -0.06263638, 0.063439004, -0.00...  \n",
       "4  [0.028435577, 0.025807155, 0.064303845, -0.049...  "
      ]
     },
     "execution_count": 13,
     "metadata": {},
     "output_type": "execute_result"
    }
   ],
   "source": [
    "news_df.head()"
   ]
  },
  {
   "cell_type": "code",
   "execution_count": 14,
   "metadata": {},
   "outputs": [],
   "source": [
    "X = numpy.vstack(news_df['embedding'])"
   ]
  },
  {
   "cell_type": "code",
   "execution_count": 15,
   "metadata": {},
   "outputs": [
    {
     "data": {
      "text/plain": [
       "(2570, 512)"
      ]
     },
     "execution_count": 15,
     "metadata": {},
     "output_type": "execute_result"
    }
   ],
   "source": [
    "X.shape"
   ]
  },
  {
   "cell_type": "code",
   "execution_count": 16,
   "metadata": {},
   "outputs": [],
   "source": [
    "#Applying kmeans to the dataset / Creating the kmeans classifier\n",
    "kmeans = KMeans(n_clusters = 20, init = 'k-means++', max_iter = 100, random_state = 0)\n",
    "y_kmeans = kmeans.fit_predict(X)"
   ]
  },
  {
   "cell_type": "code",
   "execution_count": 17,
   "metadata": {},
   "outputs": [],
   "source": [
    "# add cluster predictions to dataframe\n",
    "news_df['cluster'] = y_kmeans"
   ]
  },
  {
   "cell_type": "code",
   "execution_count": 18,
   "metadata": {},
   "outputs": [],
   "source": [
    "# add distance to nearest cluster\n",
    "news_df['distance'] = numpy.min(kmeans.fit_transform(X), axis=1)"
   ]
  },
  {
   "cell_type": "code",
   "execution_count": 19,
   "metadata": {},
   "outputs": [
    {
     "data": {
      "text/html": [
       "<div>\n",
       "<style scoped>\n",
       "    .dataframe tbody tr th:only-of-type {\n",
       "        vertical-align: middle;\n",
       "    }\n",
       "\n",
       "    .dataframe tbody tr th {\n",
       "        vertical-align: top;\n",
       "    }\n",
       "\n",
       "    .dataframe thead th {\n",
       "        text-align: right;\n",
       "    }\n",
       "</style>\n",
       "<table border=\"1\" class=\"dataframe\">\n",
       "  <thead>\n",
       "    <tr style=\"text-align: right;\">\n",
       "      <th></th>\n",
       "      <th>text</th>\n",
       "      <th>cluster</th>\n",
       "      <th>distance</th>\n",
       "    </tr>\n",
       "  </thead>\n",
       "  <tbody>\n",
       "    <tr>\n",
       "      <th>50</th>\n",
       "      <td>Everton 0-2 Fulham: Scott Parker welcomes Cottagers win. Fulham manager Scott Parker praises a \"superb, brilliant\" performance from his side after a 2-0 Premier League win over Everton at Goodison Park.. Fulham manager Scott Parker praises a \"superb, brilliant\" performance from his side after a 2-0 Premier League win over Everton at Goodison Park.\\r\\nMATCH REPORT: Everton 0-2 Fulham\\r\\nWatch highlights f… [+128 chars]</td>\n",
       "      <td>0</td>\n",
       "      <td>0.690412</td>\n",
       "    </tr>\n",
       "    <tr>\n",
       "      <th>1256</th>\n",
       "      <td>Everton 1-3 Manchester City: Twelve league wins in a row for Pep Guardiola's side. Manchester City open up a 10-point lead at the top of the Premier League with victory at Everton.. Manchester City conceded from open play in the Premier League for the first time since 3 January\\r\\nManchester City's relentless pursuit of a third Premier League title in four seasons continued after … [+5133 chars]</td>\n",
       "      <td>0</td>\n",
       "      <td>0.696691</td>\n",
       "    </tr>\n",
       "    <tr>\n",
       "      <th>370</th>\n",
       "      <td>Manchester City v Tottenham Hotspur. Preview followed by live coverage of Saturday's Premier League game between Manchester City and Tottenham Hotspur.. Manchester City have only conceded one goal in Ruben Dias' nine most recent starts\\r\\nTEAM NEWS\\r\\nManchester City are hopeful Rodrigo will be fit, despite the Spaniard limping off during the FA Cup win … [+3383 chars]</td>\n",
       "      <td>0</td>\n",
       "      <td>0.711231</td>\n",
       "    </tr>\n",
       "    <tr>\n",
       "      <th>1886</th>\n",
       "      <td>FA Cup Highlights: Man Utd edge past West Ham in extra time. Watch highlights as Scott McTominay's well-taken extra-time strike is enough to send Manchester United into the FA Cup quarter-finals at the expense of West Ham.. Watch highlights as Scott McTominay's well-taken extra-time strike is enough to send Manchester United into the FA Cup quarter-finals at the expense of West Ham.\\r\\nMATCH REPORT: Man Utd 1-0 West Ham\\r\\n… [+26 chars]</td>\n",
       "      <td>0</td>\n",
       "      <td>0.720839</td>\n",
       "    </tr>\n",
       "    <tr>\n",
       "      <th>1049</th>\n",
       "      <td>Wolverhampton Wanderers 1-0 Leeds United: Illan Meslier's own goal gives hosts victory. Illan Meslier's unfortunate own goal following Adama Traore's sensational strike gives Wolves victory against Leeds in an entertaining encounter.. Wolves have now won back-to-back league games for the first time since October\\r\\nIllan Meslier's unfortunate own goal following Adama Traore's sensational strike gave Wolverhampton Wanderers victory a… [+5377 chars]</td>\n",
       "      <td>0</td>\n",
       "      <td>0.725705</td>\n",
       "    </tr>\n",
       "  </tbody>\n",
       "</table>\n",
       "</div>"
      ],
      "text/plain": [
       "                                                                                                                                                                                                                                                                                                                                                                                                                                                                     text  \\\n",
       "50                                  Everton 0-2 Fulham: Scott Parker welcomes Cottagers win. Fulham manager Scott Parker praises a \"superb, brilliant\" performance from his side after a 2-0 Premier League win over Everton at Goodison Park.. Fulham manager Scott Parker praises a \"superb, brilliant\" performance from his side after a 2-0 Premier League win over Everton at Goodison Park.\\r\\nMATCH REPORT: Everton 0-2 Fulham\\r\\nWatch highlights f… [+128 chars]   \n",
       "1256                                                       Everton 1-3 Manchester City: Twelve league wins in a row for Pep Guardiola's side. Manchester City open up a 10-point lead at the top of the Premier League with victory at Everton.. Manchester City conceded from open play in the Premier League for the first time since 3 January\\r\\nManchester City's relentless pursuit of a third Premier League title in four seasons continued after … [+5133 chars]   \n",
       "370                                                                                   Manchester City v Tottenham Hotspur. Preview followed by live coverage of Saturday's Premier League game between Manchester City and Tottenham Hotspur.. Manchester City have only conceded one goal in Ruben Dias' nine most recent starts\\r\\nTEAM NEWS\\r\\nManchester City are hopeful Rodrigo will be fit, despite the Spaniard limping off during the FA Cup win … [+3383 chars]   \n",
       "1886             FA Cup Highlights: Man Utd edge past West Ham in extra time. Watch highlights as Scott McTominay's well-taken extra-time strike is enough to send Manchester United into the FA Cup quarter-finals at the expense of West Ham.. Watch highlights as Scott McTominay's well-taken extra-time strike is enough to send Manchester United into the FA Cup quarter-finals at the expense of West Ham.\\r\\nMATCH REPORT: Man Utd 1-0 West Ham\\r\\n… [+26 chars]   \n",
       "1049  Wolverhampton Wanderers 1-0 Leeds United: Illan Meslier's own goal gives hosts victory. Illan Meslier's unfortunate own goal following Adama Traore's sensational strike gives Wolves victory against Leeds in an entertaining encounter.. Wolves have now won back-to-back league games for the first time since October\\r\\nIllan Meslier's unfortunate own goal following Adama Traore's sensational strike gave Wolverhampton Wanderers victory a… [+5377 chars]   \n",
       "\n",
       "      cluster  distance  \n",
       "50          0  0.690412  \n",
       "1256        0  0.696691  \n",
       "370         0  0.711231  \n",
       "1886        0  0.720839  \n",
       "1049        0  0.725705  "
      ]
     },
     "execution_count": 19,
     "metadata": {},
     "output_type": "execute_result"
    }
   ],
   "source": [
    "# evaluate closest articles for clusters\n",
    "pandas.set_option('display.max_colwidth', None)\n",
    "news_df[['text','cluster','distance']][news_df['cluster'] == 0].sort_values(by=['distance']).head(5)"
   ]
  },
  {
   "cell_type": "code",
   "execution_count": 20,
   "metadata": {},
   "outputs": [
    {
     "data": {
      "text/html": [
       "<div>\n",
       "<style scoped>\n",
       "    .dataframe tbody tr th:only-of-type {\n",
       "        vertical-align: middle;\n",
       "    }\n",
       "\n",
       "    .dataframe tbody tr th {\n",
       "        vertical-align: top;\n",
       "    }\n",
       "\n",
       "    .dataframe thead th {\n",
       "        text-align: right;\n",
       "    }\n",
       "</style>\n",
       "<table border=\"1\" class=\"dataframe\">\n",
       "  <thead>\n",
       "    <tr style=\"text-align: right;\">\n",
       "      <th></th>\n",
       "      <th>text</th>\n",
       "      <th>cluster</th>\n",
       "      <th>distance</th>\n",
       "    </tr>\n",
       "  </thead>\n",
       "  <tbody>\n",
       "    <tr>\n",
       "      <th>1764</th>\n",
       "      <td>Things to Know: In pandemic, Americans choose dying at home. Here’s what’s happening Sunday with the coronavirus pandemic in the U.S.:. California Gov. Gavin Newsom is facing a potential recall election, in part stemming from the coronavirus pandemic. California voters weary of restrictions that have cut them off from jobs, classroom… [+1213 chars]</td>\n",
       "      <td>1</td>\n",
       "      <td>0.801828</td>\n",
       "    </tr>\n",
       "    <tr>\n",
       "      <th>1201</th>\n",
       "      <td>U.S. COVID Cases Are Down, but the Virus Isn't in Retreat. The outbreak is moving in the right direction, but experts told Newsweek they fear progress could be jeopardized by complacency and new variants.. COVID cases, deaths and hospitalizations in the U.S. have plummeted in recent weeks. However, experts have told Newsweek it may be too soon to view the pandemic as in retreat, particularly as the thr… [+6799 chars]</td>\n",
       "      <td>1</td>\n",
       "      <td>0.802352</td>\n",
       "    </tr>\n",
       "    <tr>\n",
       "      <th>1731</th>\n",
       "      <td>Gov. DeSantis: Florida lifts people up by keeping businesses, schools open amid coronavirus pandemic. Florida Gov. Ron DeSantis told “Fox &amp; Friends Weekend” on Sunday that keeping businesses and schools open amid the coronavirus pandemic has helped “lift people up.”. FloridaGov. Ron DeSantis told \"Fox &amp;amp; Friends Weekend\" on Sunday that keeping businesses and schools open amid the coronavirus pandemic has helped \"lift people up.\" \\r\\n\"As other states have tried t… [+3515 chars]</td>\n",
       "      <td>1</td>\n",
       "      <td>0.806449</td>\n",
       "    </tr>\n",
       "    <tr>\n",
       "      <th>47</th>\n",
       "      <td>CDC chief warns it's too soon in U.S. to lift COVID-19 mask mandates - Reuters. The head of the U.S. Centers for Disease Control and Prevention said on Sunday it is \"absolutely\" too soon to lift mask mandates, citing daily COVID-19 case numbers that despite recent declines remain more than double the levels seen last summer.. NEW YORK (Reuters) - The head of the U.S. Centers for Disease Control and Prevention said on Sunday it is absolutely too soon to lift mask mandates, citing daily COVID-19 case numbers that despite re… [+2474 chars]</td>\n",
       "      <td>1</td>\n",
       "      <td>0.819685</td>\n",
       "    </tr>\n",
       "    <tr>\n",
       "      <th>2389</th>\n",
       "      <td>Health Care Workers Risk Burn Out. How Will They Get the Care They Need? | Opinion. After an already superhuman effort over the last year, working through successive surges in caseloads and the end not yet in sight, three quarters of frontline health care workers report feeling overwhelmed.. It's been a long plague year. COVID-19 hospitalization rates are declining, but the stress level of health care workers remains sky-high. We're in the pandemic's third wave, and only a few weeks away… [+5737 chars]</td>\n",
       "      <td>1</td>\n",
       "      <td>0.832454</td>\n",
       "    </tr>\n",
       "  </tbody>\n",
       "</table>\n",
       "</div>"
      ],
      "text/plain": [
       "                                                                                                                                                                                                                                                                                                                                                                                                                                                                                                                                                                text  \\\n",
       "1764                                                                                                                                                                                                  Things to Know: In pandemic, Americans choose dying at home. Here’s what’s happening Sunday with the coronavirus pandemic in the U.S.:. California Gov. Gavin Newsom is facing a potential recall election, in part stemming from the coronavirus pandemic. California voters weary of restrictions that have cut them off from jobs, classroom… [+1213 chars]   \n",
       "1201                                                                                                                            U.S. COVID Cases Are Down, but the Virus Isn't in Retreat. The outbreak is moving in the right direction, but experts told Newsweek they fear progress could be jeopardized by complacency and new variants.. COVID cases, deaths and hospitalizations in the U.S. have plummeted in recent weeks. However, experts have told Newsweek it may be too soon to view the pandemic as in retreat, particularly as the thr… [+6799 chars]   \n",
       "1731                                                            Gov. DeSantis: Florida lifts people up by keeping businesses, schools open amid coronavirus pandemic. Florida Gov. Ron DeSantis told “Fox & Friends Weekend” on Sunday that keeping businesses and schools open amid the coronavirus pandemic has helped “lift people up.”. FloridaGov. Ron DeSantis told \"Fox &amp; Friends Weekend\" on Sunday that keeping businesses and schools open amid the coronavirus pandemic has helped \"lift people up.\" \\r\\n\"As other states have tried t… [+3515 chars]   \n",
       "47    CDC chief warns it's too soon in U.S. to lift COVID-19 mask mandates - Reuters. The head of the U.S. Centers for Disease Control and Prevention said on Sunday it is \"absolutely\" too soon to lift mask mandates, citing daily COVID-19 case numbers that despite recent declines remain more than double the levels seen last summer.. NEW YORK (Reuters) - The head of the U.S. Centers for Disease Control and Prevention said on Sunday it is absolutely too soon to lift mask mandates, citing daily COVID-19 case numbers that despite re… [+2474 chars]   \n",
       "2389                                     Health Care Workers Risk Burn Out. How Will They Get the Care They Need? | Opinion. After an already superhuman effort over the last year, working through successive surges in caseloads and the end not yet in sight, three quarters of frontline health care workers report feeling overwhelmed.. It's been a long plague year. COVID-19 hospitalization rates are declining, but the stress level of health care workers remains sky-high. We're in the pandemic's third wave, and only a few weeks away… [+5737 chars]   \n",
       "\n",
       "      cluster  distance  \n",
       "1764        1  0.801828  \n",
       "1201        1  0.802352  \n",
       "1731        1  0.806449  \n",
       "47          1  0.819685  \n",
       "2389        1  0.832454  "
      ]
     },
     "execution_count": 20,
     "metadata": {},
     "output_type": "execute_result"
    }
   ],
   "source": [
    "# evaluate closest articles for clusters\n",
    "news_df[['text','cluster','distance']][news_df['cluster'] == 1].sort_values(by=['distance']).head(5)"
   ]
  },
  {
   "cell_type": "code",
   "execution_count": 21,
   "metadata": {},
   "outputs": [
    {
     "data": {
      "text/html": [
       "<div>\n",
       "<style scoped>\n",
       "    .dataframe tbody tr th:only-of-type {\n",
       "        vertical-align: middle;\n",
       "    }\n",
       "\n",
       "    .dataframe tbody tr th {\n",
       "        vertical-align: top;\n",
       "    }\n",
       "\n",
       "    .dataframe thead th {\n",
       "        text-align: right;\n",
       "    }\n",
       "</style>\n",
       "<table border=\"1\" class=\"dataframe\">\n",
       "  <thead>\n",
       "    <tr style=\"text-align: right;\">\n",
       "      <th></th>\n",
       "      <th>text</th>\n",
       "      <th>cluster</th>\n",
       "      <th>distance</th>\n",
       "    </tr>\n",
       "  </thead>\n",
       "  <tbody>\n",
       "    <tr>\n",
       "      <th>2347</th>\n",
       "      <td>Myanmar protesters rally against military coup for fifth day after protester shot. Protesters took to the streets in cities around Myanmar on Wednesday for a fifth day, opposing resistance to a military takeover.. Protesters took to the streets in cities across Myanmar for a fifth consecutive day Wednesday, to oppose a military takeover that ousted the countrys democratically elected leader last week.\\r\\nThe pro… [+2557 chars]</td>\n",
       "      <td>2</td>\n",
       "      <td>0.647353</td>\n",
       "    </tr>\n",
       "    <tr>\n",
       "      <th>1644</th>\n",
       "      <td>At least one killed in protest in Myanmar: emergency service. A man was killed in Myanmar on Saturday when police fired to disperse protesting opponents of a Feb. 1 military coup in the second city of Mandalay, media and an ambulance service said.. By Reuters Staff\\r\\nPolice advance on the street during protests against the military coup, in Mandalay, Myanmar, February 20, 2021. REUTERS/Stringer NO RESALES. NO ARCHIVES.\\r\\n(Reuters) - A man was kil… [+546 chars]</td>\n",
       "      <td>2</td>\n",
       "      <td>0.655500</td>\n",
       "    </tr>\n",
       "    <tr>\n",
       "      <th>1799</th>\n",
       "      <td>In Pictures: Defiance as thousands rally in Myanmar. People pour onto the streets across Myanmar for a second day to protest last week's military coup.. Thousands of anti-coup protesters in Myanmar hit the streets on Sunday as an internet blackout failed to stifle growing outrage at the militarys overthrow of elected leader Aung San Suu Kyi.\\r\\nThe ral… [+701 chars]</td>\n",
       "      <td>2</td>\n",
       "      <td>0.657086</td>\n",
       "    </tr>\n",
       "    <tr>\n",
       "      <th>1488</th>\n",
       "      <td>A ‘war zone’: Witnesses describe violence at Myanmar protests. Security forces in Mandalay are using increasingly violent and lethal methods to snuff out anti-coup protests.. Yangon, Myanmar Saturday was the worst day of bloodshed yet during mass protests in Myanmar against the February 1 military coup, which overthrew the elected government headed by Aung San Suu Kyi and… [+5836 chars]</td>\n",
       "      <td>2</td>\n",
       "      <td>0.657280</td>\n",
       "    </tr>\n",
       "    <tr>\n",
       "      <th>2435</th>\n",
       "      <td>Myanmar leader urges civil servants to return to work - Reuters. Myanmar's junta leader on Thursday urged government employees to return to work after absences that he blamed on harassment by \"unscrupulous persons\", in his first public remarks on the protests against him and a growing civil disobedience campaign.. By Reuters Staff\\r\\nFILE PHOTO: Myanmar Commander in Chief Senior General Min Aung Hlaing salutes as he attends an event marking the anniversary of Martyrs' Day at the Martyrs' Mausoleum in Yangon July… [+559 chars]</td>\n",
       "      <td>2</td>\n",
       "      <td>0.659474</td>\n",
       "    </tr>\n",
       "  </tbody>\n",
       "</table>\n",
       "</div>"
      ],
      "text/plain": [
       "                                                                                                                                                                                                                                                                                                                                                                                                                                                                                                                                                     text  \\\n",
       "2347                                                                                                       Myanmar protesters rally against military coup for fifth day after protester shot. Protesters took to the streets in cities around Myanmar on Wednesday for a fifth day, opposing resistance to a military takeover.. Protesters took to the streets in cities across Myanmar for a fifth consecutive day Wednesday, to oppose a military takeover that ousted the countrys democratically elected leader last week.\\r\\nThe pro… [+2557 chars]   \n",
       "1644                                                                   At least one killed in protest in Myanmar: emergency service. A man was killed in Myanmar on Saturday when police fired to disperse protesting opponents of a Feb. 1 military coup in the second city of Mandalay, media and an ambulance service said.. By Reuters Staff\\r\\nPolice advance on the street during protests against the military coup, in Mandalay, Myanmar, February 20, 2021. REUTERS/Stringer NO RESALES. NO ARCHIVES.\\r\\n(Reuters) - A man was kil… [+546 chars]   \n",
       "1799                                                                                                                                                                     In Pictures: Defiance as thousands rally in Myanmar. People pour onto the streets across Myanmar for a second day to protest last week's military coup.. Thousands of anti-coup protesters in Myanmar hit the streets on Sunday as an internet blackout failed to stifle growing outrage at the militarys overthrow of elected leader Aung San Suu Kyi.\\r\\nThe ral… [+701 chars]   \n",
       "1488                                                                                                                                                A ‘war zone’: Witnesses describe violence at Myanmar protests. Security forces in Mandalay are using increasingly violent and lethal methods to snuff out anti-coup protests.. Yangon, Myanmar Saturday was the worst day of bloodshed yet during mass protests in Myanmar against the February 1 military coup, which overthrew the elected government headed by Aung San Suu Kyi and… [+5836 chars]   \n",
       "2435  Myanmar leader urges civil servants to return to work - Reuters. Myanmar's junta leader on Thursday urged government employees to return to work after absences that he blamed on harassment by \"unscrupulous persons\", in his first public remarks on the protests against him and a growing civil disobedience campaign.. By Reuters Staff\\r\\nFILE PHOTO: Myanmar Commander in Chief Senior General Min Aung Hlaing salutes as he attends an event marking the anniversary of Martyrs' Day at the Martyrs' Mausoleum in Yangon July… [+559 chars]   \n",
       "\n",
       "      cluster  distance  \n",
       "2347        2  0.647353  \n",
       "1644        2  0.655500  \n",
       "1799        2  0.657086  \n",
       "1488        2  0.657280  \n",
       "2435        2  0.659474  "
      ]
     },
     "execution_count": 21,
     "metadata": {},
     "output_type": "execute_result"
    }
   ],
   "source": [
    "# evaluate closest articles for clusters\n",
    "news_df[['text','cluster','distance']][news_df['cluster'] == 2].sort_values(by=['distance']).head(5)"
   ]
  },
  {
   "cell_type": "code",
   "execution_count": 22,
   "metadata": {},
   "outputs": [],
   "source": [
    "# add temporary columns for keywords\n",
    "news_df['keywords'] = numpy.nan\n",
    "\n",
    "# rename distance to topic_perc_contrib to fit legacy schema\n",
    "news_df.rename(columns={'cluster': 'dominant_topic', 'distance': 'topic_perc_contrib'}, inplace=True)\n",
    "\n",
    "# drop embedding columns\n",
    "news_df.drop(['tf_embedding', 'embedding'], axis=1, inplace=True)"
   ]
  },
  {
   "cell_type": "code",
   "execution_count": 23,
   "metadata": {},
   "outputs": [
    {
     "data": {
      "text/html": [
       "<div>\n",
       "<style scoped>\n",
       "    .dataframe tbody tr th:only-of-type {\n",
       "        vertical-align: middle;\n",
       "    }\n",
       "\n",
       "    .dataframe tbody tr th {\n",
       "        vertical-align: top;\n",
       "    }\n",
       "\n",
       "    .dataframe thead th {\n",
       "        text-align: right;\n",
       "    }\n",
       "</style>\n",
       "<table border=\"1\" class=\"dataframe\">\n",
       "  <thead>\n",
       "    <tr style=\"text-align: right;\">\n",
       "      <th></th>\n",
       "      <th>article_id</th>\n",
       "      <th>publishedAt</th>\n",
       "      <th>text</th>\n",
       "      <th>dominant_topic</th>\n",
       "      <th>topic_perc_contrib</th>\n",
       "      <th>keywords</th>\n",
       "    </tr>\n",
       "  </thead>\n",
       "  <tbody>\n",
       "    <tr>\n",
       "      <th>0</th>\n",
       "      <td>f8993822-3164-4478-bacb-643a476fd8f3</td>\n",
       "      <td>2021-02-14 22:00:11+00:00</td>\n",
       "      <td>Here's the biggest news you missed this weeken...</td>\n",
       "      <td>11</td>\n",
       "      <td>0.722240</td>\n",
       "      <td>NaN</td>\n",
       "    </tr>\n",
       "    <tr>\n",
       "      <th>1</th>\n",
       "      <td>e5546dc0-fc08-4fa0-ae0e-0e67e6390e2a</td>\n",
       "      <td>2021-02-14 21:11:11+00:00</td>\n",
       "      <td>Celtics embarrassed by Wiz on the road, drop 2...</td>\n",
       "      <td>15</td>\n",
       "      <td>0.774252</td>\n",
       "      <td>NaN</td>\n",
       "    </tr>\n",
       "    <tr>\n",
       "      <th>2</th>\n",
       "      <td>f37f2f79-0125-4338-852a-43e7e01ca1f9</td>\n",
       "      <td>2021-02-14 21:15:04+00:00</td>\n",
       "      <td>John Wall ready for first return to Washington...</td>\n",
       "      <td>15</td>\n",
       "      <td>0.828915</td>\n",
       "      <td>NaN</td>\n",
       "    </tr>\n",
       "    <tr>\n",
       "      <th>3</th>\n",
       "      <td>1d9bfeb9-484f-4800-b8ef-87b28c3ca836</td>\n",
       "      <td>2021-02-14 21:24:13+00:00</td>\n",
       "      <td>Victor Oladipo remains sidelined for Rockets w...</td>\n",
       "      <td>15</td>\n",
       "      <td>0.779041</td>\n",
       "      <td>NaN</td>\n",
       "    </tr>\n",
       "    <tr>\n",
       "      <th>4</th>\n",
       "      <td>b71ca1c4-2d88-49ca-90db-04ab6dc22398</td>\n",
       "      <td>2021-02-14 21:37:07+00:00</td>\n",
       "      <td>Kevin Durant says he speaks with Klay Thompson...</td>\n",
       "      <td>3</td>\n",
       "      <td>0.875718</td>\n",
       "      <td>NaN</td>\n",
       "    </tr>\n",
       "  </tbody>\n",
       "</table>\n",
       "</div>"
      ],
      "text/plain": [
       "                             article_id               publishedAt  \\\n",
       "0  f8993822-3164-4478-bacb-643a476fd8f3 2021-02-14 22:00:11+00:00   \n",
       "1  e5546dc0-fc08-4fa0-ae0e-0e67e6390e2a 2021-02-14 21:11:11+00:00   \n",
       "2  f37f2f79-0125-4338-852a-43e7e01ca1f9 2021-02-14 21:15:04+00:00   \n",
       "3  1d9bfeb9-484f-4800-b8ef-87b28c3ca836 2021-02-14 21:24:13+00:00   \n",
       "4  b71ca1c4-2d88-49ca-90db-04ab6dc22398 2021-02-14 21:37:07+00:00   \n",
       "\n",
       "                                                text  dominant_topic  \\\n",
       "0  Here's the biggest news you missed this weeken...              11   \n",
       "1  Celtics embarrassed by Wiz on the road, drop 2...              15   \n",
       "2  John Wall ready for first return to Washington...              15   \n",
       "3  Victor Oladipo remains sidelined for Rockets w...              15   \n",
       "4  Kevin Durant says he speaks with Klay Thompson...               3   \n",
       "\n",
       "   topic_perc_contrib  keywords  \n",
       "0            0.722240       NaN  \n",
       "1            0.774252       NaN  \n",
       "2            0.828915       NaN  \n",
       "3            0.779041       NaN  \n",
       "4            0.875718       NaN  "
      ]
     },
     "execution_count": 23,
     "metadata": {},
     "output_type": "execute_result"
    }
   ],
   "source": [
    "pandas.reset_option('display')\n",
    "\n",
    "news_df.head()"
   ]
  },
  {
   "cell_type": "code",
   "execution_count": 24,
   "metadata": {},
   "outputs": [],
   "source": [
    "# output_df.to_parquet('df.parquet.gzip', allow_truncated_timestamps=True)\n",
    "\n",
    "# bq_df = pandas.read_parquet('df.parquet.gzip')"
   ]
  },
  {
   "cell_type": "code",
   "execution_count": 25,
   "metadata": {},
   "outputs": [],
   "source": [
    "# configure BigQuery job\n",
    "job_config = bigquery.LoadJobConfig(\n",
    "    # Specify a (partial) schema. All columns are always written to the\n",
    "    # table. The schema is used to assist in data type definitions.\n",
    "    schema=[\n",
    "        # Specify the type of columns whose type cannot be auto-detected. For\n",
    "        # example the \"title\" column uses pandas dtype \"object\", so its\n",
    "        # data type is ambiguous.\n",
    "        bigquery.SchemaField(\"article_id\", bigquery.enums.SqlTypeNames.STRING),\n",
    "        bigquery.SchemaField(\"publishedAt\", bigquery.enums.SqlTypeNames.TIMESTAMP),\n",
    "        bigquery.SchemaField(\"text\", bigquery.enums.SqlTypeNames.STRING),\n",
    "        bigquery.SchemaField(\"dominant_topic\", bigquery.enums.SqlTypeNames.INT64),\n",
    "        bigquery.SchemaField(\"topic_perc_contrib\", bigquery.enums.SqlTypeNames.FLOAT64),\n",
    "        bigquery.SchemaField(\"keywords\", bigquery.enums.SqlTypeNames.STRING),\n",
    "    ],\n",
    "    # Optionally, set the write disposition. BigQuery appends loaded rows\n",
    "    # to an existing table by default, but with WRITE_TRUNCATE write\n",
    "    # disposition it replaces the table with the loaded data.\n",
    "    write_disposition=\"WRITE_TRUNCATE\",\n",
    ")"
   ]
  },
  {
   "cell_type": "code",
   "execution_count": 26,
   "metadata": {},
   "outputs": [
    {
     "data": {
      "text/plain": [
       "<google.cloud.bigquery.job.LoadJob at 0x193dc6160>"
      ]
     },
     "execution_count": 26,
     "metadata": {},
     "output_type": "execute_result"
    }
   ],
   "source": [
    "table_id = \"news-site-280319.topics.article_topics\"\n",
    "job = client.load_table_from_dataframe(\n",
    "    news_df,\n",
    "    table_id, \n",
    "    job_config=job_config\n",
    ")  # Make an API request.\n",
    "job.result()  # Wait for the job to complete."
   ]
  },
  {
   "cell_type": "code",
   "execution_count": 27,
   "metadata": {
    "tags": []
   },
   "outputs": [
    {
     "data": {
      "text/plain": [
       "'DONE'"
      ]
     },
     "execution_count": 27,
     "metadata": {},
     "output_type": "execute_result"
    }
   ],
   "source": [
    "# check job status\n",
    "job.result().state"
   ]
  },
  {
   "cell_type": "code",
   "execution_count": null,
   "metadata": {},
   "outputs": [],
   "source": []
  }
 ],
 "metadata": {
  "kernelspec": {
   "display_name": "Python 3",
   "language": "python",
   "name": "python3"
  },
  "language_info": {
   "codemirror_mode": {
    "name": "ipython",
    "version": 3
   },
   "file_extension": ".py",
   "mimetype": "text/x-python",
   "name": "python",
   "nbconvert_exporter": "python",
   "pygments_lexer": "ipython3",
   "version": "3.8.0"
  }
 },
 "nbformat": 4,
 "nbformat_minor": 4
}
