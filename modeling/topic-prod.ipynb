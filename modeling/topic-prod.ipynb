{
 "cells": [
  {
   "cell_type": "markdown",
   "metadata": {},
   "source": [
    "# News Topic Modeling\n",
    "\n",
    "This notebook is used to derive topics from news text\n",
    "\n",
    "The model used here is the Universal Sentence Encoder Lite from Tensorflow Hub\n",
    "\n",
    "https://www.tensorflow.org/hub/tutorials/semantic_similarity_with_tf_hub_universal_encoder_lite"
   ]
  },
  {
   "cell_type": "code",
   "execution_count": null,
   "metadata": {
    "tags": []
   },
   "outputs": [],
   "source": [
    "# # change gcloud config for running locally\n",
    "# !gcloud config configurations activate news-site"
   ]
  },
  {
   "cell_type": "code",
   "execution_count": 2,
   "metadata": {},
   "outputs": [
    {
     "name": "stdout",
     "output_type": "stream",
     "text": [
      "WARNING:tensorflow:From /Users/steve/.pyenv/versions/3.8.0/lib/python3.8/site-packages/tensorflow/python/compat/v2_compat.py:107: disable_resource_variables (from tensorflow.python.ops.variable_scope) is deprecated and will be removed in a future version.\n",
      "Instructions for updating:\n",
      "non-resource variables are not supported in the long term\n"
     ]
    }
   ],
   "source": [
    "from google.cloud import bigquery\n",
    "\n",
    "import pandas\n",
    "import re\n",
    "import numpy\n",
    "import tensorflow.compat.v1 as tf\n",
    "tf.disable_v2_behavior()\n",
    "\n",
    "import tensorflow_hub as hub\n",
    "import sentencepiece as spm\n",
    "from sklearn.cluster import KMeans"
   ]
  },
  {
   "cell_type": "code",
   "execution_count": 3,
   "metadata": {},
   "outputs": [],
   "source": [
    "# # use this approach to create local credentials\n",
    "# token = !gcloud auth print-access-token\n",
    "# import google.oauth2.credentials\n",
    "# credentials = google.oauth2.credentials.Credentials(token[0])\n",
    "# client = bigquery.Client(credentials=credentials)"
   ]
  },
  {
   "cell_type": "code",
   "execution_count": 5,
   "metadata": {
    "tags": []
   },
   "outputs": [
    {
     "name": "stdout",
     "output_type": "stream",
     "text": [
      "<class 'pandas.core.frame.DataFrame'>\n",
      "RangeIndex: 200 entries, 0 to 199\n",
      "Data columns (total 3 columns):\n",
      " #   Column       Non-Null Count  Dtype              \n",
      "---  ------       --------------  -----              \n",
      " 0   article_id   200 non-null    object             \n",
      " 1   publishedAt  200 non-null    datetime64[ns, UTC]\n",
      " 2   text         200 non-null    object             \n",
      "dtypes: datetime64[ns, UTC](1), object(2)\n",
      "memory usage: 4.8+ KB\n"
     ]
    }
   ],
   "source": [
    "# use credentials with client when running locally\n",
    "# client = bigquery.Client(credentials=credentials)\n",
    "client = bigquery.Client()\n",
    "\n",
    "sql = \"\"\"\n",
    "    SELECT \n",
    "        article_id,\n",
    "        publishedAt,\n",
    "        CONCAT(title, '. ', description, '. ', content) AS text\n",
    "    FROM `news-site-280319.news.articles`\n",
    "    WHERE\n",
    "      title IS NOT NULL\n",
    "      AND description IS NOT NULL\n",
    "      AND content IS NOT NULL\n",
    "      AND DATE(publishedAt) >= DATE_SUB(CURRENT_DATE(), INTERVAL 7 DAY)\n",
    "\"\"\"\n",
    "\n",
    "df = client.query(sql).to_dataframe()\n",
    "\n",
    "df.info()"
   ]
  },
  {
   "cell_type": "code",
   "execution_count": 6,
   "metadata": {},
   "outputs": [
    {
     "data": {
      "text/html": [
       "<div>\n",
       "<style scoped>\n",
       "    .dataframe tbody tr th:only-of-type {\n",
       "        vertical-align: middle;\n",
       "    }\n",
       "\n",
       "    .dataframe tbody tr th {\n",
       "        vertical-align: top;\n",
       "    }\n",
       "\n",
       "    .dataframe thead th {\n",
       "        text-align: right;\n",
       "    }\n",
       "</style>\n",
       "<table border=\"1\" class=\"dataframe\">\n",
       "  <thead>\n",
       "    <tr style=\"text-align: right;\">\n",
       "      <th></th>\n",
       "      <th>article_id</th>\n",
       "      <th>publishedAt</th>\n",
       "      <th>text</th>\n",
       "    </tr>\n",
       "  </thead>\n",
       "  <tbody>\n",
       "    <tr>\n",
       "      <th>0</th>\n",
       "      <td>c55b6133-5054-4344-985f-f8d6200b5924</td>\n",
       "      <td>2022-06-18 21:20:32+00:00</td>\n",
       "      <td>Canadian Grand Prix: Max Verstappen beats Fern...</td>\n",
       "    </tr>\n",
       "    <tr>\n",
       "      <th>1</th>\n",
       "      <td>95374ef9-8b76-483d-97bd-1f1027624c0c</td>\n",
       "      <td>2022-06-18 20:00:00+00:00</td>\n",
       "      <td>U.S. Open leaders greeted by tough scoring con...</td>\n",
       "    </tr>\n",
       "    <tr>\n",
       "      <th>2</th>\n",
       "      <td>b2ef6f94-a502-46c1-b063-2cc5280f8f43</td>\n",
       "      <td>2022-06-18 20:47:00+00:00</td>\n",
       "      <td>ECB won't solve profound debt issues: Rehn - R...</td>\n",
       "    </tr>\n",
       "    <tr>\n",
       "      <th>3</th>\n",
       "      <td>de62c664-c660-46d3-8fb1-613d6e74859f</td>\n",
       "      <td>2022-06-18 21:15:00+00:00</td>\n",
       "      <td>N.Korea reports 19310 new fever cases amid COV...</td>\n",
       "    </tr>\n",
       "    <tr>\n",
       "      <th>4</th>\n",
       "      <td>e396de49-ab4d-45c5-8c40-508a4fd31b50</td>\n",
       "      <td>2022-06-18 18:58:27+00:00</td>\n",
       "      <td>Premiership final: Leicester Tigers title a dr...</td>\n",
       "    </tr>\n",
       "  </tbody>\n",
       "</table>\n",
       "</div>"
      ],
      "text/plain": [
       "                             article_id               publishedAt  \\\n",
       "0  c55b6133-5054-4344-985f-f8d6200b5924 2022-06-18 21:20:32+00:00   \n",
       "1  95374ef9-8b76-483d-97bd-1f1027624c0c 2022-06-18 20:00:00+00:00   \n",
       "2  b2ef6f94-a502-46c1-b063-2cc5280f8f43 2022-06-18 20:47:00+00:00   \n",
       "3  de62c664-c660-46d3-8fb1-613d6e74859f 2022-06-18 21:15:00+00:00   \n",
       "4  e396de49-ab4d-45c5-8c40-508a4fd31b50 2022-06-18 18:58:27+00:00   \n",
       "\n",
       "                                                text  \n",
       "0  Canadian Grand Prix: Max Verstappen beats Fern...  \n",
       "1  U.S. Open leaders greeted by tough scoring con...  \n",
       "2  ECB won't solve profound debt issues: Rehn - R...  \n",
       "3  N.Korea reports 19310 new fever cases amid COV...  \n",
       "4  Premiership final: Leicester Tigers title a dr...  "
      ]
     },
     "execution_count": 6,
     "metadata": {},
     "output_type": "execute_result"
    }
   ],
   "source": [
    "news_df = df\n",
    "news_df.head()"
   ]
  },
  {
   "cell_type": "code",
   "execution_count": 7,
   "metadata": {},
   "outputs": [],
   "source": [
    "module = hub.Module(\"https://tfhub.dev/google/universal-sentence-encoder-lite/2\")"
   ]
  },
  {
   "cell_type": "code",
   "execution_count": 8,
   "metadata": {},
   "outputs": [
    {
     "name": "stdout",
     "output_type": "stream",
     "text": [
      "INFO:tensorflow:Saver not created because there are no variables in the graph to restore\n"
     ]
    },
    {
     "name": "stderr",
     "output_type": "stream",
     "text": [
      "INFO:tensorflow:Saver not created because there are no variables in the graph to restore\n"
     ]
    }
   ],
   "source": [
    "input_placeholder = tf.sparse_placeholder(tf.int64, shape=[None, None])\n",
    "encodings = module(\n",
    "    inputs=dict(\n",
    "        values=input_placeholder.values,\n",
    "        indices=input_placeholder.indices,\n",
    "        dense_shape=input_placeholder.dense_shape))"
   ]
  },
  {
   "cell_type": "code",
   "execution_count": 9,
   "metadata": {},
   "outputs": [
    {
     "name": "stdout",
     "output_type": "stream",
     "text": [
      "INFO:tensorflow:Saver not created because there are no variables in the graph to restore\n"
     ]
    },
    {
     "name": "stderr",
     "output_type": "stream",
     "text": [
      "INFO:tensorflow:Saver not created because there are no variables in the graph to restore\n"
     ]
    },
    {
     "name": "stdout",
     "output_type": "stream",
     "text": [
      "SentencePiece model loaded at b'/var/folders/99/_fcjbs5d08ndbt_1__blsphm0000gn/T/tfhub_modules/539544f0a997d91c327c23285ea00c37588d92cc/assets/universal_encoder_8k_spm.model'.\n"
     ]
    }
   ],
   "source": [
    "with tf.Session() as sess:\n",
    "    spm_path = sess.run(module(signature=\"spm_path\"))\n",
    "\n",
    "sp = spm.SentencePieceProcessor()\n",
    "with tf.io.gfile.GFile(spm_path, mode=\"rb\") as f:\n",
    "    sp.LoadFromSerializedProto(f.read())\n",
    "print(\"SentencePiece model loaded at {}.\".format(spm_path))"
   ]
  },
  {
   "cell_type": "code",
   "execution_count": 10,
   "metadata": {},
   "outputs": [],
   "source": [
    "def process_to_IDs_in_sparse_format(sp, sentences):\n",
    "    # An utility method that processes sentences with the sentence piece processor\n",
    "    # 'sp' and returns the results in tf.SparseTensor-similar format:\n",
    "    # (values, indices, dense_shape)\n",
    "    ids = [sp.EncodeAsIds(x) for x in sentences]\n",
    "    max_len = max(len(x) for x in ids)\n",
    "    dense_shape=(len(ids), max_len)\n",
    "    values=[item for sublist in ids for item in sublist]\n",
    "    indices=[[row,col] for row in range(len(ids)) for col in range(len(ids[row]))]\n",
    "    return (values, indices, dense_shape)"
   ]
  },
  {
   "cell_type": "code",
   "execution_count": 11,
   "metadata": {},
   "outputs": [],
   "source": [
    "# pass the text field from the news data into the messages\n",
    "messages = news_df['text']\n",
    "values, indices, dense_shape = process_to_IDs_in_sparse_format(sp, messages)"
   ]
  },
  {
   "cell_type": "code",
   "execution_count": 12,
   "metadata": {},
   "outputs": [],
   "source": [
    "# generate embeddings\n",
    "with tf.Session() as session:\n",
    "    session.run([tf.global_variables_initializer(), tf.tables_initializer()])\n",
    "    message_embeddings = session.run(\n",
    "        encodings,\n",
    "        feed_dict={input_placeholder.values: values,\n",
    "                   input_placeholder.indices: indices,\n",
    "                   input_placeholder.dense_shape: dense_shape})"
   ]
  },
  {
   "cell_type": "code",
   "execution_count": 13,
   "metadata": {},
   "outputs": [],
   "source": [
    "# convert message_embeddings to list for use with sklearn kmeans\n",
    "news_df['embedding'] = message_embeddings.tolist()"
   ]
  },
  {
   "cell_type": "code",
   "execution_count": 14,
   "metadata": {},
   "outputs": [
    {
     "data": {
      "text/html": [
       "<div>\n",
       "<style scoped>\n",
       "    .dataframe tbody tr th:only-of-type {\n",
       "        vertical-align: middle;\n",
       "    }\n",
       "\n",
       "    .dataframe tbody tr th {\n",
       "        vertical-align: top;\n",
       "    }\n",
       "\n",
       "    .dataframe thead th {\n",
       "        text-align: right;\n",
       "    }\n",
       "</style>\n",
       "<table border=\"1\" class=\"dataframe\">\n",
       "  <thead>\n",
       "    <tr style=\"text-align: right;\">\n",
       "      <th></th>\n",
       "      <th>article_id</th>\n",
       "      <th>publishedAt</th>\n",
       "      <th>text</th>\n",
       "      <th>embedding</th>\n",
       "    </tr>\n",
       "  </thead>\n",
       "  <tbody>\n",
       "    <tr>\n",
       "      <th>0</th>\n",
       "      <td>c55b6133-5054-4344-985f-f8d6200b5924</td>\n",
       "      <td>2022-06-18 21:20:32+00:00</td>\n",
       "      <td>Canadian Grand Prix: Max Verstappen beats Fern...</td>\n",
       "      <td>[-0.06367803364992142, 0.048824556171894073, 0...</td>\n",
       "    </tr>\n",
       "    <tr>\n",
       "      <th>1</th>\n",
       "      <td>95374ef9-8b76-483d-97bd-1f1027624c0c</td>\n",
       "      <td>2022-06-18 20:00:00+00:00</td>\n",
       "      <td>U.S. Open leaders greeted by tough scoring con...</td>\n",
       "      <td>[0.02407379075884819, 0.020062070339918137, -0...</td>\n",
       "    </tr>\n",
       "    <tr>\n",
       "      <th>2</th>\n",
       "      <td>b2ef6f94-a502-46c1-b063-2cc5280f8f43</td>\n",
       "      <td>2022-06-18 20:47:00+00:00</td>\n",
       "      <td>ECB won't solve profound debt issues: Rehn - R...</td>\n",
       "      <td>[0.018625274300575256, 0.058462224900722504, 0...</td>\n",
       "    </tr>\n",
       "    <tr>\n",
       "      <th>3</th>\n",
       "      <td>de62c664-c660-46d3-8fb1-613d6e74859f</td>\n",
       "      <td>2022-06-18 21:15:00+00:00</td>\n",
       "      <td>N.Korea reports 19310 new fever cases amid COV...</td>\n",
       "      <td>[0.06288798153400421, -0.022045912221074104, -...</td>\n",
       "    </tr>\n",
       "    <tr>\n",
       "      <th>4</th>\n",
       "      <td>e396de49-ab4d-45c5-8c40-508a4fd31b50</td>\n",
       "      <td>2022-06-18 18:58:27+00:00</td>\n",
       "      <td>Premiership final: Leicester Tigers title a dr...</td>\n",
       "      <td>[-0.011827737092971802, 0.046899907290935516, ...</td>\n",
       "    </tr>\n",
       "  </tbody>\n",
       "</table>\n",
       "</div>"
      ],
      "text/plain": [
       "                             article_id               publishedAt  \\\n",
       "0  c55b6133-5054-4344-985f-f8d6200b5924 2022-06-18 21:20:32+00:00   \n",
       "1  95374ef9-8b76-483d-97bd-1f1027624c0c 2022-06-18 20:00:00+00:00   \n",
       "2  b2ef6f94-a502-46c1-b063-2cc5280f8f43 2022-06-18 20:47:00+00:00   \n",
       "3  de62c664-c660-46d3-8fb1-613d6e74859f 2022-06-18 21:15:00+00:00   \n",
       "4  e396de49-ab4d-45c5-8c40-508a4fd31b50 2022-06-18 18:58:27+00:00   \n",
       "\n",
       "                                                text  \\\n",
       "0  Canadian Grand Prix: Max Verstappen beats Fern...   \n",
       "1  U.S. Open leaders greeted by tough scoring con...   \n",
       "2  ECB won't solve profound debt issues: Rehn - R...   \n",
       "3  N.Korea reports 19310 new fever cases amid COV...   \n",
       "4  Premiership final: Leicester Tigers title a dr...   \n",
       "\n",
       "                                           embedding  \n",
       "0  [-0.06367803364992142, 0.048824556171894073, 0...  \n",
       "1  [0.02407379075884819, 0.020062070339918137, -0...  \n",
       "2  [0.018625274300575256, 0.058462224900722504, 0...  \n",
       "3  [0.06288798153400421, -0.022045912221074104, -...  \n",
       "4  [-0.011827737092971802, 0.046899907290935516, ...  "
      ]
     },
     "execution_count": 14,
     "metadata": {},
     "output_type": "execute_result"
    }
   ],
   "source": [
    "news_df.head()"
   ]
  },
  {
   "cell_type": "code",
   "execution_count": 15,
   "metadata": {},
   "outputs": [
    {
     "data": {
      "text/plain": [
       "(200, 512)"
      ]
     },
     "execution_count": 15,
     "metadata": {},
     "output_type": "execute_result"
    }
   ],
   "source": [
    "# rearrange embedding series from dataframe into vertical stack for kmeans model\n",
    "X = numpy.vstack(news_df['embedding'])\n",
    "X.shape"
   ]
  },
  {
   "cell_type": "code",
   "execution_count": 16,
   "metadata": {},
   "outputs": [],
   "source": [
    "#Applying kmeans to the dataset / Creating the kmeans classifier\n",
    "kmeans = KMeans(n_clusters = 20, init = 'k-means++', max_iter = 100, random_state = 0)\n",
    "y_kmeans = kmeans.fit_predict(X)"
   ]
  },
  {
   "cell_type": "code",
   "execution_count": 17,
   "metadata": {},
   "outputs": [],
   "source": [
    "# add cluster predictions to dataframe\n",
    "news_df['cluster'] = y_kmeans"
   ]
  },
  {
   "cell_type": "code",
   "execution_count": 18,
   "metadata": {},
   "outputs": [],
   "source": [
    "# add distance to nearest cluster\n",
    "news_df['distance'] = numpy.min(kmeans.fit_transform(X), axis=1)"
   ]
  },
  {
   "cell_type": "code",
   "execution_count": 19,
   "metadata": {},
   "outputs": [
    {
     "data": {
      "text/html": [
       "<div>\n",
       "<style scoped>\n",
       "    .dataframe tbody tr th:only-of-type {\n",
       "        vertical-align: middle;\n",
       "    }\n",
       "\n",
       "    .dataframe tbody tr th {\n",
       "        vertical-align: top;\n",
       "    }\n",
       "\n",
       "    .dataframe thead th {\n",
       "        text-align: right;\n",
       "    }\n",
       "</style>\n",
       "<table border=\"1\" class=\"dataframe\">\n",
       "  <thead>\n",
       "    <tr style=\"text-align: right;\">\n",
       "      <th></th>\n",
       "      <th>text</th>\n",
       "      <th>cluster</th>\n",
       "      <th>distance</th>\n",
       "    </tr>\n",
       "  </thead>\n",
       "  <tbody>\n",
       "    <tr>\n",
       "      <th>65</th>\n",
       "      <td>Russia Has Already 'Strategically Lost' Ukraine War: UK Defense Chief. Sir Tony Radakin said Friday that \"Russia will never take control of Ukraine,\" calling it a \"dreadful mistake.\". Russian President Vladimir Putin has already \"strategically lost\" the war against Ukraine, British Defense Chief Sir Tony Radakin said Friday.\\r\\nThe Kremlin ordered the invasion in late February with … [+2883 chars]</td>\n",
       "      <td>1</td>\n",
       "      <td>0.397631</td>\n",
       "    </tr>\n",
       "    <tr>\n",
       "      <th>165</th>\n",
       "      <td>Russia Has Already 'Strategically Lost' Ukraine War: UK Defense Chief. Sir Tony Radakin said Friday that \"Russia will never take control of Ukraine,\" calling it a \"dreadful mistake.\". Russian President Vladimir Putin has already \"strategically lost\" the war against Ukraine, British Defense Chief Sir Tony Radakin said Friday.\\r\\nThe Kremlin ordered the invasion in late February with … [+2883 chars]</td>\n",
       "      <td>1</td>\n",
       "      <td>0.397631</td>\n",
       "    </tr>\n",
       "    <tr>\n",
       "      <th>44</th>\n",
       "      <td>Ukraine War: Russia Expert Warns of Putin Pressuring Belarus to Add Troops. Although not directly involved in the invasion, Belarus has allowed Russian forces to operate on its land, acting as an entry point into Ukraine.. Belarusian troops could be on the verge of deploying into Ukraine, said one expert on Russia on Saturday.\\r\\nThe Belarusian military is scheduled to hold mobilization training exercises this month and … [+2712 chars]</td>\n",
       "      <td>1</td>\n",
       "      <td>0.417517</td>\n",
       "    </tr>\n",
       "    <tr>\n",
       "      <th>142</th>\n",
       "      <td>Ukraine War: Russia Expert Warns of Putin Pressuring Belarus to Add Troops. Although not directly involved in the invasion, Belarus has allowed Russian forces to operate on its land, acting as an entry point into Ukraine.. Belarusian troops could be on the verge of deploying into Ukraine, said one expert on Russia on Saturday.\\r\\nThe Belarusian military is scheduled to hold mobilization training exercises this month and … [+2712 chars]</td>\n",
       "      <td>1</td>\n",
       "      <td>0.417517</td>\n",
       "    </tr>\n",
       "    <tr>\n",
       "      <th>87</th>\n",
       "      <td>Ukraine war: Zelensky visits front-line cities of Mykolaiv and Odesa. Ukraine's president makes a rare trip outside the capital to visit bomb-damaged Mykolaiv and Odesa.. The president of Ukraine has made a rare trip outside of the capital Kyiv to visit the southern cities of Mykolaiv and Odesa.\\r\\nVolodymyr Zelensky inspected damaged buildings and met soldiers, officia… [+2586 chars]</td>\n",
       "      <td>1</td>\n",
       "      <td>0.486934</td>\n",
       "    </tr>\n",
       "  </tbody>\n",
       "</table>\n",
       "</div>"
      ],
      "text/plain": [
       "                                                                                                                                                                                                                                                                                                                                                                                                                                                        text  \\\n",
       "65                                          Russia Has Already 'Strategically Lost' Ukraine War: UK Defense Chief. Sir Tony Radakin said Friday that \"Russia will never take control of Ukraine,\" calling it a \"dreadful mistake.\". Russian President Vladimir Putin has already \"strategically lost\" the war against Ukraine, British Defense Chief Sir Tony Radakin said Friday.\\r\\nThe Kremlin ordered the invasion in late February with … [+2883 chars]   \n",
       "165                                         Russia Has Already 'Strategically Lost' Ukraine War: UK Defense Chief. Sir Tony Radakin said Friday that \"Russia will never take control of Ukraine,\" calling it a \"dreadful mistake.\". Russian President Vladimir Putin has already \"strategically lost\" the war against Ukraine, British Defense Chief Sir Tony Radakin said Friday.\\r\\nThe Kremlin ordered the invasion in late February with … [+2883 chars]   \n",
       "44   Ukraine War: Russia Expert Warns of Putin Pressuring Belarus to Add Troops. Although not directly involved in the invasion, Belarus has allowed Russian forces to operate on its land, acting as an entry point into Ukraine.. Belarusian troops could be on the verge of deploying into Ukraine, said one expert on Russia on Saturday.\\r\\nThe Belarusian military is scheduled to hold mobilization training exercises this month and … [+2712 chars]   \n",
       "142  Ukraine War: Russia Expert Warns of Putin Pressuring Belarus to Add Troops. Although not directly involved in the invasion, Belarus has allowed Russian forces to operate on its land, acting as an entry point into Ukraine.. Belarusian troops could be on the verge of deploying into Ukraine, said one expert on Russia on Saturday.\\r\\nThe Belarusian military is scheduled to hold mobilization training exercises this month and … [+2712 chars]   \n",
       "87                                                       Ukraine war: Zelensky visits front-line cities of Mykolaiv and Odesa. Ukraine's president makes a rare trip outside the capital to visit bomb-damaged Mykolaiv and Odesa.. The president of Ukraine has made a rare trip outside of the capital Kyiv to visit the southern cities of Mykolaiv and Odesa.\\r\\nVolodymyr Zelensky inspected damaged buildings and met soldiers, officia… [+2586 chars]   \n",
       "\n",
       "     cluster  distance  \n",
       "65         1  0.397631  \n",
       "165        1  0.397631  \n",
       "44         1  0.417517  \n",
       "142        1  0.417517  \n",
       "87         1  0.486934  "
      ]
     },
     "execution_count": 19,
     "metadata": {},
     "output_type": "execute_result"
    }
   ],
   "source": [
    "# evaluate closest articles for clusters\n",
    "pandas.set_option('display.max_colwidth', None)\n",
    "news_df[['text','cluster','distance']][news_df['cluster'] == 1].sort_values(by=['distance']).head(5)"
   ]
  },
  {
   "cell_type": "code",
   "execution_count": 20,
   "metadata": {},
   "outputs": [
    {
     "data": {
      "text/html": [
       "<div>\n",
       "<style scoped>\n",
       "    .dataframe tbody tr th:only-of-type {\n",
       "        vertical-align: middle;\n",
       "    }\n",
       "\n",
       "    .dataframe tbody tr th {\n",
       "        vertical-align: top;\n",
       "    }\n",
       "\n",
       "    .dataframe thead th {\n",
       "        text-align: right;\n",
       "    }\n",
       "</style>\n",
       "<table border=\"1\" class=\"dataframe\">\n",
       "  <thead>\n",
       "    <tr style=\"text-align: right;\">\n",
       "      <th></th>\n",
       "      <th>text</th>\n",
       "      <th>cluster</th>\n",
       "      <th>distance</th>\n",
       "    </tr>\n",
       "  </thead>\n",
       "  <tbody>\n",
       "    <tr>\n",
       "      <th>2</th>\n",
       "      <td>ECB won't solve profound debt issues: Rehn - Reuters.com. The European Central Bank should limit the rise in borrowing costs of more indebted euro zone members but will not solve their debt issues or let budget concerns dictate monetary policy, ECB policymaker Olli Rehn said on Saturday.. FRANKFURT, June 18 (Reuters) - The European Central Bank should limit the rise in borrowing costs of more indebted euro zone members but will not solve their debt issues or let budget concerns dictat… [+2204 chars]</td>\n",
       "      <td>2</td>\n",
       "      <td>0.469238</td>\n",
       "    </tr>\n",
       "    <tr>\n",
       "      <th>101</th>\n",
       "      <td>ECB won't solve profound debt issues: Rehn - Reuters.com. The European Central Bank should limit the rise in borrowing costs of more indebted euro zone members but will not solve their debt issues or let budget concerns dictate monetary policy, ECB policymaker Olli Rehn said on Saturday.. FRANKFURT, June 18 (Reuters) - The European Central Bank should limit the rise in borrowing costs of more indebted euro zone members but will not solve their debt issues or let budget concerns dictat… [+2204 chars]</td>\n",
       "      <td>2</td>\n",
       "      <td>0.469238</td>\n",
       "    </tr>\n",
       "    <tr>\n",
       "      <th>75</th>\n",
       "      <td>Waller Backs 75 Basis-Point July Hike, Says Fed Is 'All In'. Federal Reserve Governor Christopher Waller said he would support another 75-basis-point rate increase at the central bank’s July meeting should economic data come in as he expects.. Sign up for the New Economy Daily newsletter, follow us @economics and subscribe to our podcast.\\r\\nFederal Reserve Governor Christopher Waller said he would support another 75-basis-point rate increas… [+2796 chars]</td>\n",
       "      <td>2</td>\n",
       "      <td>0.489360</td>\n",
       "    </tr>\n",
       "    <tr>\n",
       "      <th>174</th>\n",
       "      <td>Waller Backs 75 Basis-Point July Hike, Says Fed Is 'All In'. Federal Reserve Governor Christopher Waller said he would support another 75-basis-point rate increase at the central bank’s July meeting should economic data come in as he expects.. Sign up for the New Economy Daily newsletter, follow us @economics and subscribe to our podcast.\\r\\nFederal Reserve Governor Christopher Waller said he would support another 75-basis-point rate increas… [+2796 chars]</td>\n",
       "      <td>2</td>\n",
       "      <td>0.489360</td>\n",
       "    </tr>\n",
       "    <tr>\n",
       "      <th>72</th>\n",
       "      <td>ECB's Rehn Underscores Commitment to Contain Bond-Market Panic. The European Central Bank intends to ensure that its monetary policy is transmitted equally across the euro zone’s 19 member-states by preventing undue turbulence on government bond markets, according to Governing Council member Olli Rehn.. Sign up for the New Economy Daily newsletter, follow us @economics and subscribe to our podcast.\\r\\nThe European Central Bank intends to ensure that its monetary policy is transmitted equally across th… [+2561 chars]</td>\n",
       "      <td>2</td>\n",
       "      <td>0.490171</td>\n",
       "    </tr>\n",
       "  </tbody>\n",
       "</table>\n",
       "</div>"
      ],
      "text/plain": [
       "                                                                                                                                                                                                                                                                                                                                                                                                                                                                                                                                          text  \\\n",
       "2                     ECB won't solve profound debt issues: Rehn - Reuters.com. The European Central Bank should limit the rise in borrowing costs of more indebted euro zone members but will not solve their debt issues or let budget concerns dictate monetary policy, ECB policymaker Olli Rehn said on Saturday.. FRANKFURT, June 18 (Reuters) - The European Central Bank should limit the rise in borrowing costs of more indebted euro zone members but will not solve their debt issues or let budget concerns dictat… [+2204 chars]   \n",
       "101                   ECB won't solve profound debt issues: Rehn - Reuters.com. The European Central Bank should limit the rise in borrowing costs of more indebted euro zone members but will not solve their debt issues or let budget concerns dictate monetary policy, ECB policymaker Olli Rehn said on Saturday.. FRANKFURT, June 18 (Reuters) - The European Central Bank should limit the rise in borrowing costs of more indebted euro zone members but will not solve their debt issues or let budget concerns dictat… [+2204 chars]   \n",
       "75                                                                Waller Backs 75 Basis-Point July Hike, Says Fed Is 'All In'. Federal Reserve Governor Christopher Waller said he would support another 75-basis-point rate increase at the central bank’s July meeting should economic data come in as he expects.. Sign up for the New Economy Daily newsletter, follow us @economics and subscribe to our podcast.\\r\\nFederal Reserve Governor Christopher Waller said he would support another 75-basis-point rate increas… [+2796 chars]   \n",
       "174                                                               Waller Backs 75 Basis-Point July Hike, Says Fed Is 'All In'. Federal Reserve Governor Christopher Waller said he would support another 75-basis-point rate increase at the central bank’s July meeting should economic data come in as he expects.. Sign up for the New Economy Daily newsletter, follow us @economics and subscribe to our podcast.\\r\\nFederal Reserve Governor Christopher Waller said he would support another 75-basis-point rate increas… [+2796 chars]   \n",
       "72   ECB's Rehn Underscores Commitment to Contain Bond-Market Panic. The European Central Bank intends to ensure that its monetary policy is transmitted equally across the euro zone’s 19 member-states by preventing undue turbulence on government bond markets, according to Governing Council member Olli Rehn.. Sign up for the New Economy Daily newsletter, follow us @economics and subscribe to our podcast.\\r\\nThe European Central Bank intends to ensure that its monetary policy is transmitted equally across th… [+2561 chars]   \n",
       "\n",
       "     cluster  distance  \n",
       "2          2  0.469238  \n",
       "101        2  0.469238  \n",
       "75         2  0.489360  \n",
       "174        2  0.489360  \n",
       "72         2  0.490171  "
      ]
     },
     "execution_count": 20,
     "metadata": {},
     "output_type": "execute_result"
    }
   ],
   "source": [
    "# evaluate closest articles for clusters\n",
    "news_df[['text','cluster','distance']][news_df['cluster'] == 2].sort_values(by=['distance']).head(5)"
   ]
  },
  {
   "cell_type": "code",
   "execution_count": 21,
   "metadata": {},
   "outputs": [
    {
     "data": {
      "text/html": [
       "<div>\n",
       "<style scoped>\n",
       "    .dataframe tbody tr th:only-of-type {\n",
       "        vertical-align: middle;\n",
       "    }\n",
       "\n",
       "    .dataframe tbody tr th {\n",
       "        vertical-align: top;\n",
       "    }\n",
       "\n",
       "    .dataframe thead th {\n",
       "        text-align: right;\n",
       "    }\n",
       "</style>\n",
       "<table border=\"1\" class=\"dataframe\">\n",
       "  <thead>\n",
       "    <tr style=\"text-align: right;\">\n",
       "      <th></th>\n",
       "      <th>text</th>\n",
       "      <th>cluster</th>\n",
       "      <th>distance</th>\n",
       "    </tr>\n",
       "  </thead>\n",
       "  <tbody>\n",
       "    <tr>\n",
       "      <th>141</th>\n",
       "      <td>Texans’ Davis Mills places No. 35 in Chris Simms’ QB rankings. Houston Texans quarterback Davis Mills ranked No. 35 in the latest Chris Simms top-40 QB list.. The Houston Texans are placing it all in the hands of Davis Mills in 2022.\\r\\nThe second-year quarterback has had no competition either from the teams free agent signings or the teams draft class. Kyle… [+2024 chars]</td>\n",
       "      <td>3</td>\n",
       "      <td>0.446484</td>\n",
       "    </tr>\n",
       "    <tr>\n",
       "      <th>43</th>\n",
       "      <td>Texans’ Davis Mills places No. 35 in Chris Simms’ QB rankings. Houston Texans quarterback Davis Mills ranked No. 35 in the latest Chris Simms top-40 QB list.. The Houston Texans are placing it all in the hands of Davis Mills in 2022.\\r\\nThe second-year quarterback has had no competition either from the teams free agent signings or the teams draft class. Kyle… [+2024 chars]</td>\n",
       "      <td>3</td>\n",
       "      <td>0.446484</td>\n",
       "    </tr>\n",
       "    <tr>\n",
       "      <th>57</th>\n",
       "      <td>Dolphins grab two impact players in Draft Wire’s early 2023 mock draft. A look at the top talent in next year's draft.. With the Miami Dolphins on break between OTAs and training camp, its important to look to the future.\\r\\nThe Miami Dolphins, due to the trade with the San Francisco 49ers ahead of the 2021 NFL draft, h… [+1710 chars]</td>\n",
       "      <td>3</td>\n",
       "      <td>0.531848</td>\n",
       "    </tr>\n",
       "    <tr>\n",
       "      <th>157</th>\n",
       "      <td>Dolphins grab two impact players in Draft Wire’s early 2023 mock draft. A look at the top talent in next year's draft.. With the Miami Dolphins on break between OTAs and training camp, its important to look to the future.\\r\\nThe Miami Dolphins, due to the trade with the San Francisco 49ers ahead of the 2021 NFL draft, h… [+1710 chars]</td>\n",
       "      <td>3</td>\n",
       "      <td>0.531848</td>\n",
       "    </tr>\n",
       "    <tr>\n",
       "      <th>55</th>\n",
       "      <td>3 teams the Sooners need to play in the Brent Venables era. The Oklahoma Sooners have a few schools they need to go up against in the Brent Venables era.. College football is home to some of the best storylines in American sports. When Lincoln Riley left Oklahoma for USC and Brent Venables replaced him, that was yet another juicy bit of drama in a spor… [+4690 chars]</td>\n",
       "      <td>3</td>\n",
       "      <td>0.541064</td>\n",
       "    </tr>\n",
       "  </tbody>\n",
       "</table>\n",
       "</div>"
      ],
      "text/plain": [
       "                                                                                                                                                                                                                                                                                                                                                                                        text  \\\n",
       "141  Texans’ Davis Mills places No. 35 in Chris Simms’ QB rankings. Houston Texans quarterback Davis Mills ranked No. 35 in the latest Chris Simms top-40 QB list.. The Houston Texans are placing it all in the hands of Davis Mills in 2022.\\r\\nThe second-year quarterback has had no competition either from the teams free agent signings or the teams draft class. Kyle… [+2024 chars]   \n",
       "43   Texans’ Davis Mills places No. 35 in Chris Simms’ QB rankings. Houston Texans quarterback Davis Mills ranked No. 35 in the latest Chris Simms top-40 QB list.. The Houston Texans are placing it all in the hands of Davis Mills in 2022.\\r\\nThe second-year quarterback has had no competition either from the teams free agent signings or the teams draft class. Kyle… [+2024 chars]   \n",
       "57                                          Dolphins grab two impact players in Draft Wire’s early 2023 mock draft. A look at the top talent in next year's draft.. With the Miami Dolphins on break between OTAs and training camp, its important to look to the future.\\r\\nThe Miami Dolphins, due to the trade with the San Francisco 49ers ahead of the 2021 NFL draft, h… [+1710 chars]   \n",
       "157                                         Dolphins grab two impact players in Draft Wire’s early 2023 mock draft. A look at the top talent in next year's draft.. With the Miami Dolphins on break between OTAs and training camp, its important to look to the future.\\r\\nThe Miami Dolphins, due to the trade with the San Francisco 49ers ahead of the 2021 NFL draft, h… [+1710 chars]   \n",
       "55         3 teams the Sooners need to play in the Brent Venables era. The Oklahoma Sooners have a few schools they need to go up against in the Brent Venables era.. College football is home to some of the best storylines in American sports. When Lincoln Riley left Oklahoma for USC and Brent Venables replaced him, that was yet another juicy bit of drama in a spor… [+4690 chars]   \n",
       "\n",
       "     cluster  distance  \n",
       "141        3  0.446484  \n",
       "43         3  0.446484  \n",
       "57         3  0.531848  \n",
       "157        3  0.531848  \n",
       "55         3  0.541064  "
      ]
     },
     "execution_count": 21,
     "metadata": {},
     "output_type": "execute_result"
    }
   ],
   "source": [
    "# evaluate closest articles for clusters\n",
    "news_df[['text','cluster','distance']][news_df['cluster'] == 3].sort_values(by=['distance']).head(5)"
   ]
  },
  {
   "cell_type": "code",
   "execution_count": 22,
   "metadata": {},
   "outputs": [],
   "source": [
    "# add temporary columns for keywords\n",
    "news_df['keywords'] = numpy.nan\n",
    "\n",
    "# rename distance to topic_perc_contrib to fit legacy schema\n",
    "news_df.rename(columns={'cluster': 'dominant_topic', 'distance': 'topic_perc_contrib'}, inplace=True)\n",
    "\n",
    "# drop embedding columns\n",
    "news_df.drop(['embedding'], axis=1, inplace=True)"
   ]
  },
  {
   "cell_type": "code",
   "execution_count": 23,
   "metadata": {},
   "outputs": [
    {
     "data": {
      "text/html": [
       "<div>\n",
       "<style scoped>\n",
       "    .dataframe tbody tr th:only-of-type {\n",
       "        vertical-align: middle;\n",
       "    }\n",
       "\n",
       "    .dataframe tbody tr th {\n",
       "        vertical-align: top;\n",
       "    }\n",
       "\n",
       "    .dataframe thead th {\n",
       "        text-align: right;\n",
       "    }\n",
       "</style>\n",
       "<table border=\"1\" class=\"dataframe\">\n",
       "  <thead>\n",
       "    <tr style=\"text-align: right;\">\n",
       "      <th></th>\n",
       "      <th>article_id</th>\n",
       "      <th>publishedAt</th>\n",
       "      <th>text</th>\n",
       "      <th>dominant_topic</th>\n",
       "      <th>topic_perc_contrib</th>\n",
       "      <th>keywords</th>\n",
       "    </tr>\n",
       "  </thead>\n",
       "  <tbody>\n",
       "    <tr>\n",
       "      <th>0</th>\n",
       "      <td>c55b6133-5054-4344-985f-f8d6200b5924</td>\n",
       "      <td>2022-06-18 21:20:32+00:00</td>\n",
       "      <td>Canadian Grand Prix: Max Verstappen beats Fern...</td>\n",
       "      <td>4</td>\n",
       "      <td>0.747360</td>\n",
       "      <td>NaN</td>\n",
       "    </tr>\n",
       "    <tr>\n",
       "      <th>1</th>\n",
       "      <td>95374ef9-8b76-483d-97bd-1f1027624c0c</td>\n",
       "      <td>2022-06-18 20:00:00+00:00</td>\n",
       "      <td>U.S. Open leaders greeted by tough scoring con...</td>\n",
       "      <td>13</td>\n",
       "      <td>0.655995</td>\n",
       "      <td>NaN</td>\n",
       "    </tr>\n",
       "    <tr>\n",
       "      <th>2</th>\n",
       "      <td>b2ef6f94-a502-46c1-b063-2cc5280f8f43</td>\n",
       "      <td>2022-06-18 20:47:00+00:00</td>\n",
       "      <td>ECB won't solve profound debt issues: Rehn - R...</td>\n",
       "      <td>2</td>\n",
       "      <td>0.469238</td>\n",
       "      <td>NaN</td>\n",
       "    </tr>\n",
       "    <tr>\n",
       "      <th>3</th>\n",
       "      <td>de62c664-c660-46d3-8fb1-613d6e74859f</td>\n",
       "      <td>2022-06-18 21:15:00+00:00</td>\n",
       "      <td>N.Korea reports 19310 new fever cases amid COV...</td>\n",
       "      <td>12</td>\n",
       "      <td>0.626386</td>\n",
       "      <td>NaN</td>\n",
       "    </tr>\n",
       "    <tr>\n",
       "      <th>4</th>\n",
       "      <td>e396de49-ab4d-45c5-8c40-508a4fd31b50</td>\n",
       "      <td>2022-06-18 18:58:27+00:00</td>\n",
       "      <td>Premiership final: Leicester Tigers title a dr...</td>\n",
       "      <td>13</td>\n",
       "      <td>0.603693</td>\n",
       "      <td>NaN</td>\n",
       "    </tr>\n",
       "  </tbody>\n",
       "</table>\n",
       "</div>"
      ],
      "text/plain": [
       "                             article_id               publishedAt  \\\n",
       "0  c55b6133-5054-4344-985f-f8d6200b5924 2022-06-18 21:20:32+00:00   \n",
       "1  95374ef9-8b76-483d-97bd-1f1027624c0c 2022-06-18 20:00:00+00:00   \n",
       "2  b2ef6f94-a502-46c1-b063-2cc5280f8f43 2022-06-18 20:47:00+00:00   \n",
       "3  de62c664-c660-46d3-8fb1-613d6e74859f 2022-06-18 21:15:00+00:00   \n",
       "4  e396de49-ab4d-45c5-8c40-508a4fd31b50 2022-06-18 18:58:27+00:00   \n",
       "\n",
       "                                                text  dominant_topic  \\\n",
       "0  Canadian Grand Prix: Max Verstappen beats Fern...               4   \n",
       "1  U.S. Open leaders greeted by tough scoring con...              13   \n",
       "2  ECB won't solve profound debt issues: Rehn - R...               2   \n",
       "3  N.Korea reports 19310 new fever cases amid COV...              12   \n",
       "4  Premiership final: Leicester Tigers title a dr...              13   \n",
       "\n",
       "   topic_perc_contrib  keywords  \n",
       "0            0.747360       NaN  \n",
       "1            0.655995       NaN  \n",
       "2            0.469238       NaN  \n",
       "3            0.626386       NaN  \n",
       "4            0.603693       NaN  "
      ]
     },
     "execution_count": 23,
     "metadata": {},
     "output_type": "execute_result"
    }
   ],
   "source": [
    "# evaluate data to be written to bigquery\n",
    "pandas.reset_option('display')\n",
    "\n",
    "news_df.head()"
   ]
  },
  {
   "cell_type": "code",
   "execution_count": 24,
   "metadata": {},
   "outputs": [],
   "source": [
    "# configure BigQuery job\n",
    "job_config = bigquery.LoadJobConfig(\n",
    "    # Specify a (partial) schema. All columns are always written to the\n",
    "    # table. The schema is used to assist in data type definitions.\n",
    "    schema=[\n",
    "        # Specify the type of columns whose type cannot be auto-detected. For\n",
    "        # example the \"title\" column uses pandas dtype \"object\", so its\n",
    "        # data type is ambiguous.\n",
    "        bigquery.SchemaField(\"article_id\", bigquery.enums.SqlTypeNames.STRING),\n",
    "        bigquery.SchemaField(\"publishedAt\", bigquery.enums.SqlTypeNames.TIMESTAMP),\n",
    "        bigquery.SchemaField(\"text\", bigquery.enums.SqlTypeNames.STRING),\n",
    "        bigquery.SchemaField(\"dominant_topic\", bigquery.enums.SqlTypeNames.INT64),\n",
    "        bigquery.SchemaField(\"topic_perc_contrib\", bigquery.enums.SqlTypeNames.FLOAT64),\n",
    "        bigquery.SchemaField(\"keywords\", bigquery.enums.SqlTypeNames.STRING),\n",
    "    ],\n",
    "    # Optionally, set the write disposition. BigQuery appends loaded rows\n",
    "    # to an existing table by default, but with WRITE_TRUNCATE write\n",
    "    # disposition it replaces the table with the loaded data.\n",
    "    write_disposition=\"WRITE_TRUNCATE\",\n",
    ")"
   ]
  },
  {
   "cell_type": "code",
   "execution_count": 25,
   "metadata": {},
   "outputs": [
    {
     "data": {
      "text/plain": [
       "<google.cloud.bigquery.job.LoadJob at 0x15382ca30>"
      ]
     },
     "execution_count": 25,
     "metadata": {},
     "output_type": "execute_result"
    }
   ],
   "source": [
    "table_id = \"news-site-280319.topics.article_topics\"\n",
    "job = client.load_table_from_dataframe(\n",
    "    news_df,\n",
    "    table_id, \n",
    "    job_config=job_config\n",
    ")  # Make an API request.\n",
    "job.result()  # Wait for the job to complete."
   ]
  },
  {
   "cell_type": "code",
   "execution_count": 26,
   "metadata": {
    "tags": []
   },
   "outputs": [
    {
     "data": {
      "text/plain": [
       "'DONE'"
      ]
     },
     "execution_count": 26,
     "metadata": {},
     "output_type": "execute_result"
    }
   ],
   "source": [
    "# check job status\n",
    "job.result().state"
   ]
  }
 ],
 "metadata": {
  "kernelspec": {
   "display_name": "Python 3",
   "language": "python",
   "name": "python3"
  },
  "language_info": {
   "codemirror_mode": {
    "name": "ipython",
    "version": 3
   },
   "file_extension": ".py",
   "mimetype": "text/x-python",
   "name": "python",
   "nbconvert_exporter": "python",
   "pygments_lexer": "ipython3",
   "version": "3.8.0"
  }
 },
 "nbformat": 4,
 "nbformat_minor": 4
}
