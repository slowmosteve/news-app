{
 "cells": [
  {
   "cell_type": "markdown",
   "metadata": {},
   "source": [
    "# News Topic Modeling\n",
    "\n",
    "This notebook is used to derive topics from news text\n"
   ]
  },
  {
   "cell_type": "code",
   "execution_count": 1,
   "metadata": {
    "tags": []
   },
   "outputs": [
    {
     "output_type": "stream",
     "name": "stdout",
     "text": "Activated [news-site].\n"
    }
   ],
   "source": [
    "!gcloud config configurations activate news-site"
   ]
  },
  {
   "cell_type": "code",
   "execution_count": 2,
   "metadata": {},
   "outputs": [],
   "source": [
    "from google.cloud import bigquery\n",
    "\n",
    "import gensim\n",
    "import gensim.corpora as corpora\n",
    "from gensim.utils import simple_preprocess\n",
    "from gensim.models import CoherenceModel\n",
    "\n",
    "import spacy\n",
    "from spacy.lemmatizer import Lemmatizer\n",
    "from spacy.lang.en.stop_words import STOP_WORDS\n",
    "import en_core_web_lg\n",
    "\n",
    "import pandas\n",
    "import re\n",
    "from tqdm import tqdm_notebook as tqdm\n",
    "import numpy\n",
    "from pprint import pprint"
   ]
  },
  {
   "cell_type": "code",
   "execution_count": 3,
   "metadata": {
    "tags": []
   },
   "outputs": [
    {
     "output_type": "stream",
     "name": "stdout",
     "text": "<class 'pandas.core.frame.DataFrame'>\nRangeIndex: 622 entries, 0 to 621\nData columns (total 3 columns):\n #   Column       Non-Null Count  Dtype              \n---  ------       --------------  -----              \n 0   article_id   622 non-null    object             \n 1   publishedAt  622 non-null    datetime64[ns, UTC]\n 2   text         622 non-null    object             \ndtypes: datetime64[ns, UTC](1), object(2)\nmemory usage: 14.7+ KB\n"
    }
   ],
   "source": [
    "client = bigquery.Client()\n",
    "sql = \"\"\"\n",
    "    SELECT \n",
    "        article_id,\n",
    "        publishedAt,\n",
    "        CONCAT(title, '. ', description, '. ', content) AS text\n",
    "    FROM `news-site-280319.news.articles`\n",
    "    WHERE\n",
    "      title IS NOT NULL\n",
    "      AND description IS NOT NULL\n",
    "      AND content IS NOT NULL\n",
    "      AND DATE(publishedAt) >= DATE_SUB(CURRENT_DATE(), INTERVAL 7 DAY)\n",
    "\"\"\"\n",
    "\n",
    "df = client.query(sql).to_dataframe()\n",
    "\n",
    "df.info()"
   ]
  },
  {
   "cell_type": "code",
   "execution_count": 4,
   "metadata": {},
   "outputs": [
    {
     "output_type": "execute_result",
     "data": {
      "text/plain": "                             article_id                      publishedAt  \\\n0  b7d51d16-2b40-411c-b709-479a0011887a        2020-07-14 13:33:01+00:00   \n1  0e2771ce-63f3-49a5-9832-5db61973e6ef        2020-07-14 13:33:01+00:00   \n2  bd7035a3-018d-446e-8f9d-106f9e81745e 2020-07-13 12:52:38.035442+00:00   \n3  db614f80-87d0-42d9-adf4-22908c21abdc        2020-07-13 12:02:55+00:00   \n4  71d551f3-c592-44f5-bf7b-eba1a8acdadc        2020-07-13 11:28:00+00:00   \n\n                                                text  \n0  JPMorgan's Q2 earnings beat forecasts as inves...  \n1  JPMorgan's Q2 earnings beat forecasts as inves...  \n2  Andrzej Duda wins re-election as Polish presid...  \n3  Loud Rumors Tease PlayStation 5 Price & Launch...  \n4  No Rahul Gandhi Meet, Says Sachin Pilot, Congr...  ",
      "text/html": "<div>\n<style scoped>\n    .dataframe tbody tr th:only-of-type {\n        vertical-align: middle;\n    }\n\n    .dataframe tbody tr th {\n        vertical-align: top;\n    }\n\n    .dataframe thead th {\n        text-align: right;\n    }\n</style>\n<table border=\"1\" class=\"dataframe\">\n  <thead>\n    <tr style=\"text-align: right;\">\n      <th></th>\n      <th>article_id</th>\n      <th>publishedAt</th>\n      <th>text</th>\n    </tr>\n  </thead>\n  <tbody>\n    <tr>\n      <th>0</th>\n      <td>b7d51d16-2b40-411c-b709-479a0011887a</td>\n      <td>2020-07-14 13:33:01+00:00</td>\n      <td>JPMorgan's Q2 earnings beat forecasts as inves...</td>\n    </tr>\n    <tr>\n      <th>1</th>\n      <td>0e2771ce-63f3-49a5-9832-5db61973e6ef</td>\n      <td>2020-07-14 13:33:01+00:00</td>\n      <td>JPMorgan's Q2 earnings beat forecasts as inves...</td>\n    </tr>\n    <tr>\n      <th>2</th>\n      <td>bd7035a3-018d-446e-8f9d-106f9e81745e</td>\n      <td>2020-07-13 12:52:38.035442+00:00</td>\n      <td>Andrzej Duda wins re-election as Polish presid...</td>\n    </tr>\n    <tr>\n      <th>3</th>\n      <td>db614f80-87d0-42d9-adf4-22908c21abdc</td>\n      <td>2020-07-13 12:02:55+00:00</td>\n      <td>Loud Rumors Tease PlayStation 5 Price &amp; Launch...</td>\n    </tr>\n    <tr>\n      <th>4</th>\n      <td>71d551f3-c592-44f5-bf7b-eba1a8acdadc</td>\n      <td>2020-07-13 11:28:00+00:00</td>\n      <td>No Rahul Gandhi Meet, Says Sachin Pilot, Congr...</td>\n    </tr>\n  </tbody>\n</table>\n</div>"
     },
     "metadata": {},
     "execution_count": 4
    }
   ],
   "source": [
    "df.head()"
   ]
  },
  {
   "cell_type": "code",
   "execution_count": 5,
   "metadata": {},
   "outputs": [
    {
     "output_type": "execute_result",
     "data": {
      "text/plain": "0    JPMorgan's Q2 earnings beat forecasts as inves...\n1    JPMorgan's Q2 earnings beat forecasts as inves...\n2    Andrzej Duda wins re-election as Polish presid...\n3    Loud Rumors Tease PlayStation 5 Price & Launch...\n4    No Rahul Gandhi Meet, Says Sachin Pilot, Congr...\nName: text, dtype: object"
     },
     "metadata": {},
     "execution_count": 5
    }
   ],
   "source": [
    "news_text = df['text']\n",
    "\n",
    "news_text.head()"
   ]
  },
  {
   "cell_type": "code",
   "execution_count": 6,
   "metadata": {},
   "outputs": [],
   "source": [
    "# replace all new line returns with spaces\n",
    "news_text = news_text.str.replace('\\r\\n', ' ', regex=True)"
   ]
  },
  {
   "cell_type": "code",
   "execution_count": 7,
   "metadata": {},
   "outputs": [],
   "source": [
    "# convert to lowercase\n",
    "news_text = news_text.str.lower()"
   ]
  },
  {
   "cell_type": "code",
   "execution_count": 8,
   "metadata": {},
   "outputs": [
    {
     "output_type": "execute_result",
     "data": {
      "text/plain": "'loud rumors tease playstation 5 price & launch date reveal today. rumors suggest sony plans to reveal the ps5 price, release date, and launch pre-orders later today at 12:30 pm pt/9:30 pm cest.. <ul><li>sony will reportedly reveal the ps5 price and release date later on today.</li><li>according to analyst roberto serrano, sony will share the news at around 12:30 pm pt/9:30 pm cest.</li><li>b… [+2511 chars]'"
     },
     "metadata": {},
     "execution_count": 8
    }
   ],
   "source": [
    "news_text[3]"
   ]
  },
  {
   "cell_type": "code",
   "execution_count": 9,
   "metadata": {},
   "outputs": [],
   "source": [
    "nlp = spacy.load(\"en\")"
   ]
  },
  {
   "cell_type": "code",
   "execution_count": 10,
   "metadata": {},
   "outputs": [],
   "source": [
    "def lemmatizer(doc):\n",
    "    doc = [token.lemma_ for token in doc if token.lemma_ != '-PRON-']\n",
    "    doc = u' '.join(doc)\n",
    "    return nlp.make_doc(doc)"
   ]
  },
  {
   "cell_type": "code",
   "execution_count": 11,
   "metadata": {},
   "outputs": [],
   "source": [
    "# update stop words list\n",
    "custom_stop_list = [\"char\", \"   \", \"  \", \"|\"]\n",
    "nlp.Defaults.stop_words.update(custom_stop_list)\n",
    "\n",
    "for word in STOP_WORDS:\n",
    "    lexeme = nlp.vocab[word]\n",
    "    lexeme.is_stop = True\n",
    "\n",
    "def remove_stopwords(doc):\n",
    "    # This will remove stopwords and punctuation.\n",
    "    # Use token.text to return strings, which we'll need for Gensim.\n",
    "    doc = [token.text for token in doc if token.is_stop != True and token.is_punct != True]\n",
    "    return doc"
   ]
  },
  {
   "cell_type": "code",
   "execution_count": 12,
   "metadata": {},
   "outputs": [],
   "source": [
    "# The add_pipe function appends our functions to the default pipeline.\n",
    "nlp.add_pipe(lemmatizer,name='lemmatizer',after='ner')\n",
    "nlp.add_pipe(remove_stopwords, name=\"stopwords\", last=True)"
   ]
  },
  {
   "cell_type": "code",
   "execution_count": 13,
   "metadata": {},
   "outputs": [],
   "source": [
    "doc_list = []\n",
    "# Iterates through each article in the corpus.\n",
    "for doc in news_text:\n",
    "    # Passes that article through the pipeline and adds to a new list.\n",
    "    pr = nlp(doc)\n",
    "    doc_list.append(pr)"
   ]
  },
  {
   "cell_type": "code",
   "execution_count": 14,
   "metadata": {},
   "outputs": [],
   "source": [
    "# Creates mapping of word IDs to words.\n",
    "words = corpora.Dictionary(doc_list)\n",
    "\n",
    "# Turns each document into a bag of words.\n",
    "corpus = [words.doc2bow(doc) for doc in doc_list]"
   ]
  },
  {
   "cell_type": "code",
   "execution_count": 15,
   "metadata": {
    "tags": []
   },
   "outputs": [],
   "source": [
    "lda_model = gensim.models.ldamodel.LdaModel(corpus=corpus,\n",
    "                                           id2word=words,\n",
    "                                           num_topics=50, \n",
    "                                           random_state=0,\n",
    "                                           update_every=1,\n",
    "                                           passes=5,\n",
    "                                           alpha='auto',\n",
    "                                           per_word_topics=True)"
   ]
  },
  {
   "cell_type": "code",
   "execution_count": 16,
   "metadata": {
    "tags": []
   },
   "outputs": [
    {
     "output_type": "stream",
     "name": "stdout",
     "text": "[(21,\n  '0.031*\"uk\" + 0.013*\"announce\" + 0.013*\"misconduct\" + 0.013*\"blanchet\" + '\n  '0.013*\"sexual\" + 0.013*\"allegation\" + 0.013*\"huawei\" + 0.013*\"g\" + '\n  '0.013*\"5\" + 0.011*\"françois\"'),\n (30,\n  '0.030*\"mask\" + 0.027*\"wear\" + 0.019*\"podcast\" + 0.016*\"michelle\" + '\n  '0.016*\"obama\" + 0.013*\"new\" + 0.010*\"july\" + 0.010*\"school\" + '\n  '0.010*\"jackson\" + 0.010*\"ronny\"'),\n (28,\n  '0.014*\"fauci\" + 0.010*\"g\" + 0.010*\"minister\" + 0.010*\"5\" + 0.010*\"house\" + '\n  '0.010*\"white\" + 0.010*\"thousand\" + 0.009*\"anthony\" + 0.009*\"vote\" + '\n  '0.009*\"dr\"'),\n (43,\n  '0.012*\"player\" + 0.009*\"nfl\" + 0.009*\"twitter\" + 0.009*\"lionel\" + '\n  '0.008*\"messi\" + 0.008*\"la\" + 0.008*\"liga\" + 0.007*\"reveal\" + '\n  '0.007*\"account\" + 0.007*\"target\"'),\n (33,\n  '0.017*\"insider\" + 0.012*\"crossfit\" + 0.012*\"ceo\" + 0.012*\"business\" + '\n  '0.010*\"man\" + 0.008*\"community\" + 0.008*\"glassman\" + 0.008*\"allege\" + '\n  '0.008*\"audio\" + 0.008*\"project\"'),\n (26,\n  '0.022*\"travolta\" + 0.016*\"john\" + 0.015*\"die\" + 0.015*\"preston\" + '\n  '0.015*\"kelly\" + 0.013*\"actor\" + 0.013*\"57\" + 0.011*\"husband\" + '\n  '0.010*\"health\" + 0.010*\"minister\"'),\n (25,\n  '0.016*\"12\" + 0.015*\"playstation\" + 0.014*\"12th\" + 0.013*\"covid-19\" + '\n  '0.012*\"5\" + 0.012*\"week\" + 0.011*\"playroom\" + 0.011*\"astro\" + '\n  '0.011*\"dualsense\" + 0.010*\"ps5\"'),\n (0,\n  '0.011*\"payment\" + 0.010*\"court\" + 0.009*\"year\" + 0.008*\"pandemic\" + '\n  '0.008*\"rugby\" + 0.008*\"play\" + 0.008*\"remand\" + 0.008*\"custody\" + '\n  '0.008*\"receive\" + 0.008*\"unemployment\"'),\n (46,\n  '0.015*\"startup\" + 0.015*\"business\" + 0.009*\"small\" + 0.008*\"star\" + '\n  '0.006*\"publish\" + 0.006*\"round\" + 0.006*\"religious\" + 0.006*\"extension\" + '\n  '0.006*\"creed\" + 0.006*\"assassin\"'),\n (31,\n  '0.013*\"house\" + 0.013*\"new\" + 0.009*\"arrest\" + 0.009*\"laptop\" + '\n  '0.009*\"protest\" + 0.009*\"wear\" + 0.008*\"review\" + 0.007*\"sunday\" + '\n  '0.007*\"stimulus\" + 0.007*\"chief\"'),\n (29,\n  '0.012*\"year\" + 0.011*\"new\" + 0.010*\"mueller\" + 0.009*\"book\" + '\n  '0.009*\"investigation\" + 0.009*\"lotto\" + 0.008*\"day\" + 0.008*\"woman\" + '\n  '0.008*\"russia\" + 0.008*\"write\"'),\n (15,\n  '0.027*\"trump\" + 0.017*\"photo\" + 0.013*\"president\" + 0.012*\"news\" + '\n  '0.012*\"wallace\" + 0.012*\"rate\" + 0.011*\"business\" + 0.010*\"face\" + '\n  '0.009*\"covid-19\" + 0.009*\"mortality\"'),\n (44,\n  '0.032*\"school\" + 0.015*\"new\" + 0.014*\"case\" + 0.011*\"reopen\" + '\n  '0.009*\"economic\" + 0.009*\"coronavirus\" + 0.008*\"reuters\" + 0.008*\"warn\" + '\n  '0.007*\"news\" + 0.007*\"day\"'),\n (41,\n  '0.012*\"new\" + 0.012*\"student\" + 0.010*\"watch\" + 0.010*\"ban\" + 0.010*\"world\" '\n  '+ 0.009*\"trump\" + 0.008*\"free\" + 0.008*\"set\" + 0.008*\"police\" + '\n  '0.008*\"university\"'),\n (20,\n  '0.014*\"account\" + 0.013*\">\" + 0.012*\"news\" + 0.009*\"<\" + '\n  '0.009*\"coronavirus\" + 0.008*\"elon\" + 0.008*\"pre\" + 0.008*\"allow\" + '\n  '0.008*\"ul><li\" + 0.007*\"twitter\"'),\n (23,\n  '0.013*\"company\" + 0.010*\"year\" + 0.010*\"covid-19\" + 0.009*\"new\" + '\n  '0.008*\"australian\" + 0.008*\"coronavirus\" + 0.007*\"amazon\" + 0.007*\"chinese\" '\n  '+ 0.006*\"turn\" + 0.006*\"create\"'),\n (42,\n  '0.014*\"new\" + 0.009*\"coronavirus\" + 0.008*\"face\" + 0.008*\"york\" + '\n  '0.008*\"pilot\" + 0.008*\"sachin\" + 0.007*\"police\" + 0.007*\"country\" + '\n  '0.007*\"mask\" + 0.007*\"people\"'),\n (14,\n  '0.036*\"ginsburg\" + 0.030*\"cancer\" + 0.030*\"ruth\" + 0.030*\"bader\" + '\n  '0.026*\"court\" + 0.025*\"justice\" + 0.023*\"supreme\" + 0.019*\"recurrence\" + '\n  '0.018*\"chemotherapy\" + 0.016*\"treat\"'),\n (47,\n  '0.014*\"watch\" + 0.009*\"2020\" + 0.009*\"start\" + 0.008*\"year\" + 0.007*\"dog\" + '\n  '0.007*\"news\" + 0.007*\"free\" + 0.006*\"ubisoft\" + 0.006*\"apple\" + '\n  '0.006*\"state\"'),\n (37,\n  '0.018*\"cbs\" + 0.015*\"cbsn\" + 0.014*\"copyright\" + 0.014*\"interactive\" + '\n  '0.014*\"inc\" + 0.014*\"©\" + 0.014*\"watch\" + 0.014*\"live\" + 0.014*\"reserve\" + '\n  '0.013*\"right\"')]\n"
    }
   ],
   "source": [
    "pprint(lda_model.print_topics(num_words=10))"
   ]
  },
  {
   "cell_type": "code",
   "execution_count": 17,
   "metadata": {
    "tags": []
   },
   "outputs": [
    {
     "output_type": "execute_result",
     "data": {
      "text/plain": "   document_no  dominant_topic  topic_perc_contrib  \\\n0            0            32.0              0.9817   \n1            1            32.0              0.9817   \n2            2            35.0              0.9779   \n3            3            20.0              0.9855   \n4            4            10.0              0.9844   \n5            5            42.0              0.9676   \n6            6            32.0              0.9353   \n7            7             2.0              0.9790   \n8            8             8.0              0.6682   \n9            9             3.0              0.9779   \n\n                                            keywords  \\\n0  earning, investment, old, >, revenue, jpmorgan...   \n1  earning, investment, old, >, revenue, jpmorgan...   \n2  google, fire, fauci, new, announce, ai, facebo...   \n3  account, >, news, <, coronavirus, elon, pre, a...   \n4  berkshire, week, 5, buffett, warren, buy, $, b...   \n5  new, coronavirus, face, york, pilot, sachin, p...   \n6  earning, investment, old, >, revenue, jpmorgan...   \n7  cnn, find, dr, happen, trump, messenger, chat,...   \n8  house, white, trump, fauci, lego, anthony, new...   \n9     >, 5, g, look, ban, huawei, <, new, kit, light   \n\n                                                text  \n0  jpmorgan's q2 earnings beat forecasts as inves...  \n1  jpmorgan's q2 earnings beat forecasts as inves...  \n2  andrzej duda wins re-election as polish presid...  \n3  loud rumors tease playstation 5 price & launch...  \n4  no rahul gandhi meet, says sachin pilot, congr...  \n5  decades later, these remakes haven’t fixed the...  \n6  china imposes sanctions on us lawmakers in ret...  \n7  white house cites this interview in attempt to...  \n8  white house takes aim at anthony fauci over co...  \n9  khloe is a kylie jenner clone - but she's not ...  ",
      "text/html": "<div>\n<style scoped>\n    .dataframe tbody tr th:only-of-type {\n        vertical-align: middle;\n    }\n\n    .dataframe tbody tr th {\n        vertical-align: top;\n    }\n\n    .dataframe thead th {\n        text-align: right;\n    }\n</style>\n<table border=\"1\" class=\"dataframe\">\n  <thead>\n    <tr style=\"text-align: right;\">\n      <th></th>\n      <th>document_no</th>\n      <th>dominant_topic</th>\n      <th>topic_perc_contrib</th>\n      <th>keywords</th>\n      <th>text</th>\n    </tr>\n  </thead>\n  <tbody>\n    <tr>\n      <th>0</th>\n      <td>0</td>\n      <td>32.0</td>\n      <td>0.9817</td>\n      <td>earning, investment, old, &gt;, revenue, jpmorgan...</td>\n      <td>jpmorgan's q2 earnings beat forecasts as inves...</td>\n    </tr>\n    <tr>\n      <th>1</th>\n      <td>1</td>\n      <td>32.0</td>\n      <td>0.9817</td>\n      <td>earning, investment, old, &gt;, revenue, jpmorgan...</td>\n      <td>jpmorgan's q2 earnings beat forecasts as inves...</td>\n    </tr>\n    <tr>\n      <th>2</th>\n      <td>2</td>\n      <td>35.0</td>\n      <td>0.9779</td>\n      <td>google, fire, fauci, new, announce, ai, facebo...</td>\n      <td>andrzej duda wins re-election as polish presid...</td>\n    </tr>\n    <tr>\n      <th>3</th>\n      <td>3</td>\n      <td>20.0</td>\n      <td>0.9855</td>\n      <td>account, &gt;, news, &lt;, coronavirus, elon, pre, a...</td>\n      <td>loud rumors tease playstation 5 price &amp; launch...</td>\n    </tr>\n    <tr>\n      <th>4</th>\n      <td>4</td>\n      <td>10.0</td>\n      <td>0.9844</td>\n      <td>berkshire, week, 5, buffett, warren, buy, $, b...</td>\n      <td>no rahul gandhi meet, says sachin pilot, congr...</td>\n    </tr>\n    <tr>\n      <th>5</th>\n      <td>5</td>\n      <td>42.0</td>\n      <td>0.9676</td>\n      <td>new, coronavirus, face, york, pilot, sachin, p...</td>\n      <td>decades later, these remakes haven’t fixed the...</td>\n    </tr>\n    <tr>\n      <th>6</th>\n      <td>6</td>\n      <td>32.0</td>\n      <td>0.9353</td>\n      <td>earning, investment, old, &gt;, revenue, jpmorgan...</td>\n      <td>china imposes sanctions on us lawmakers in ret...</td>\n    </tr>\n    <tr>\n      <th>7</th>\n      <td>7</td>\n      <td>2.0</td>\n      <td>0.9790</td>\n      <td>cnn, find, dr, happen, trump, messenger, chat,...</td>\n      <td>white house cites this interview in attempt to...</td>\n    </tr>\n    <tr>\n      <th>8</th>\n      <td>8</td>\n      <td>8.0</td>\n      <td>0.6682</td>\n      <td>house, white, trump, fauci, lego, anthony, new...</td>\n      <td>white house takes aim at anthony fauci over co...</td>\n    </tr>\n    <tr>\n      <th>9</th>\n      <td>9</td>\n      <td>3.0</td>\n      <td>0.9779</td>\n      <td>&gt;, 5, g, look, ban, huawei, &lt;, new, kit, light</td>\n      <td>khloe is a kylie jenner clone - but she's not ...</td>\n    </tr>\n  </tbody>\n</table>\n</div>"
     },
     "metadata": {},
     "execution_count": 17
    }
   ],
   "source": [
    "def format_topics_sentences(ldamodel, corpus, texts):\n",
    "    # Init output\n",
    "    sent_topics_df = pandas.DataFrame()\n",
    "\n",
    "    # Get main topic in each document\n",
    "    for i, row in enumerate(ldamodel[corpus]):\n",
    "        row = sorted(row[0], key=lambda x: (x[1]), reverse=True)\n",
    "        # Get the Dominant topic, Perc Contribution and Keywords for each document\n",
    "        for j, (topic_num, prop_topic) in enumerate(row):\n",
    "            if j == 0:  # => dominant topic\n",
    "                wp = ldamodel.show_topic(topic_num)\n",
    "                topic_keywords = \", \".join([word for word, prop in wp])\n",
    "                sent_topics_df = sent_topics_df.append(\n",
    "                        pandas.Series(\n",
    "                            [int(topic_num), round(prop_topic,4),topic_keywords]\n",
    "                        ), ignore_index=True\n",
    "                    )\n",
    "            else:\n",
    "                break\n",
    "    sent_topics_df.columns = ['dominant_topic', 'perc_contribution', 'topic_keywords']\n",
    "\n",
    "    # Add original text to the end of the output\n",
    "    contents = pandas.Series(texts)\n",
    "    sent_topics_df = pandas.concat([sent_topics_df, contents], axis=1)\n",
    "    return(sent_topics_df)\n",
    "\n",
    "\n",
    "df_topic_sents_keywords = format_topics_sentences(ldamodel=lda_model, corpus=corpus, texts=news_text)\n",
    "\n",
    "# Format\n",
    "df_dominant_topic = df_topic_sents_keywords.reset_index()\n",
    "df_dominant_topic.columns = ['document_no', 'dominant_topic', 'topic_perc_contrib', 'keywords', 'text']\n",
    "\n",
    "# Show\n",
    "df_dominant_topic.head(10)"
   ]
  },
  {
   "cell_type": "code",
   "execution_count": 18,
   "metadata": {},
   "outputs": [
    {
     "output_type": "execute_result",
     "data": {
      "text/plain": "    topic_Num  perc_Contribution  \\\n0         0.0             0.9809   \n1         1.0             0.9847   \n2         2.0             0.9858   \n3         3.0             0.9847   \n4         4.0             0.9865   \n5         5.0             0.9844   \n6         6.0             0.9862   \n7         7.0             0.9835   \n8         8.0             0.9855   \n9         9.0             0.9844   \n10       10.0             0.9844   \n11       11.0             0.9847   \n12       12.0             0.9844   \n13       13.0             0.9880   \n14       14.0             0.9850   \n15       15.0             0.9869   \n16       16.0             0.9832   \n17       17.0             0.9842   \n18       18.0             0.9869   \n19       19.0             0.9850   \n\n                                             keywords  \\\n0   payment, court, year, pandemic, rugby, play, r...   \n1   amazon, 2020, shopping, lake, john, lewis, fin...   \n2   cnn, find, dr, happen, trump, messenger, chat,...   \n3      >, 5, g, look, ban, huawei, <, new, kit, light   \n4   year, use, reveal, technology, federal, recogn...   \n5   datum, season, mandela, pope, state, assam, le...   \n6   trump, judge, jail, u.s, president, force, cas...   \n7   late, coronavirus, statue, charge, dublin, kel...   \n8   house, white, trump, fauci, lego, anthony, new...   \n9   coronavirus, country, claim, wear, mask, billi...   \n10  berkshire, week, 5, buffett, warren, buy, $, b...   \n11  people, protester, new, home, find, major, cor...   \n12  washington, snyder, team, nfl, owner, culture,...   \n13  federal, execution, year, $, raise, early, cou...   \n14  ginsburg, cancer, ruth, bader, court, justice,...   \n15  trump, photo, president, news, wallace, rate, ...   \n16  stock, >, chinese, bill, global, dow, biden, b...   \n17  x50, trump, announce, family, sheriff, indepen...   \n18  aishwarya, covid-19, rai, new, start, cancer, ...   \n19  united, game, market, time, covid-19, engineer...   \n\n                                                 text  \n0   kerala gold smuggling case: nia court remands ...  \n1   amazon's smart shopping cart knows what you're...  \n2   analog devices to acquire rival chipmaker maxi...  \n3   russia rejects coronavirus vaccine hacking all...  \n4   with ashampoo 3d cad 7, there’s no design or c...  \n5   obit | zindzi mandela, remembered for her 1985...  \n6   meadows signals imminent indictments in durham...  \n7   'ellen degeneres show' execs held 'low morale'...  \n8   trump says he has 'very good relationship' wit...  \n9   'you have to be here' - african researchers in...  \n10  no rahul gandhi meet, says sachin pilot, congr...  \n11  new ice rule on foreign students spurs confusi...  \n12  toronto family forced to dismantle, move backy...  \n13  pricefx raises $65m series c for its cloud-bas...  \n14  'star trek: lower decks' shows what happens fa...  \n15  meditation app meditopia secures $15m series a...  \n16  dow futures rise but a 20-year-old warning jus...  \n17  gmail is integrating google chat, rooms, and m...  \n18  breaking news:covid-19 positive aishwarya rai ...  \n19  fullstack engineer #1 (atlanta, ga preferred) ...  ",
      "text/html": "<div>\n<style scoped>\n    .dataframe tbody tr th:only-of-type {\n        vertical-align: middle;\n    }\n\n    .dataframe tbody tr th {\n        vertical-align: top;\n    }\n\n    .dataframe thead th {\n        text-align: right;\n    }\n</style>\n<table border=\"1\" class=\"dataframe\">\n  <thead>\n    <tr style=\"text-align: right;\">\n      <th></th>\n      <th>topic_Num</th>\n      <th>perc_Contribution</th>\n      <th>keywords</th>\n      <th>text</th>\n    </tr>\n  </thead>\n  <tbody>\n    <tr>\n      <th>0</th>\n      <td>0.0</td>\n      <td>0.9809</td>\n      <td>payment, court, year, pandemic, rugby, play, r...</td>\n      <td>kerala gold smuggling case: nia court remands ...</td>\n    </tr>\n    <tr>\n      <th>1</th>\n      <td>1.0</td>\n      <td>0.9847</td>\n      <td>amazon, 2020, shopping, lake, john, lewis, fin...</td>\n      <td>amazon's smart shopping cart knows what you're...</td>\n    </tr>\n    <tr>\n      <th>2</th>\n      <td>2.0</td>\n      <td>0.9858</td>\n      <td>cnn, find, dr, happen, trump, messenger, chat,...</td>\n      <td>analog devices to acquire rival chipmaker maxi...</td>\n    </tr>\n    <tr>\n      <th>3</th>\n      <td>3.0</td>\n      <td>0.9847</td>\n      <td>&gt;, 5, g, look, ban, huawei, &lt;, new, kit, light</td>\n      <td>russia rejects coronavirus vaccine hacking all...</td>\n    </tr>\n    <tr>\n      <th>4</th>\n      <td>4.0</td>\n      <td>0.9865</td>\n      <td>year, use, reveal, technology, federal, recogn...</td>\n      <td>with ashampoo 3d cad 7, there’s no design or c...</td>\n    </tr>\n    <tr>\n      <th>5</th>\n      <td>5.0</td>\n      <td>0.9844</td>\n      <td>datum, season, mandela, pope, state, assam, le...</td>\n      <td>obit | zindzi mandela, remembered for her 1985...</td>\n    </tr>\n    <tr>\n      <th>6</th>\n      <td>6.0</td>\n      <td>0.9862</td>\n      <td>trump, judge, jail, u.s, president, force, cas...</td>\n      <td>meadows signals imminent indictments in durham...</td>\n    </tr>\n    <tr>\n      <th>7</th>\n      <td>7.0</td>\n      <td>0.9835</td>\n      <td>late, coronavirus, statue, charge, dublin, kel...</td>\n      <td>'ellen degeneres show' execs held 'low morale'...</td>\n    </tr>\n    <tr>\n      <th>8</th>\n      <td>8.0</td>\n      <td>0.9855</td>\n      <td>house, white, trump, fauci, lego, anthony, new...</td>\n      <td>trump says he has 'very good relationship' wit...</td>\n    </tr>\n    <tr>\n      <th>9</th>\n      <td>9.0</td>\n      <td>0.9844</td>\n      <td>coronavirus, country, claim, wear, mask, billi...</td>\n      <td>'you have to be here' - african researchers in...</td>\n    </tr>\n    <tr>\n      <th>10</th>\n      <td>10.0</td>\n      <td>0.9844</td>\n      <td>berkshire, week, 5, buffett, warren, buy, $, b...</td>\n      <td>no rahul gandhi meet, says sachin pilot, congr...</td>\n    </tr>\n    <tr>\n      <th>11</th>\n      <td>11.0</td>\n      <td>0.9847</td>\n      <td>people, protester, new, home, find, major, cor...</td>\n      <td>new ice rule on foreign students spurs confusi...</td>\n    </tr>\n    <tr>\n      <th>12</th>\n      <td>12.0</td>\n      <td>0.9844</td>\n      <td>washington, snyder, team, nfl, owner, culture,...</td>\n      <td>toronto family forced to dismantle, move backy...</td>\n    </tr>\n    <tr>\n      <th>13</th>\n      <td>13.0</td>\n      <td>0.9880</td>\n      <td>federal, execution, year, $, raise, early, cou...</td>\n      <td>pricefx raises $65m series c for its cloud-bas...</td>\n    </tr>\n    <tr>\n      <th>14</th>\n      <td>14.0</td>\n      <td>0.9850</td>\n      <td>ginsburg, cancer, ruth, bader, court, justice,...</td>\n      <td>'star trek: lower decks' shows what happens fa...</td>\n    </tr>\n    <tr>\n      <th>15</th>\n      <td>15.0</td>\n      <td>0.9869</td>\n      <td>trump, photo, president, news, wallace, rate, ...</td>\n      <td>meditation app meditopia secures $15m series a...</td>\n    </tr>\n    <tr>\n      <th>16</th>\n      <td>16.0</td>\n      <td>0.9832</td>\n      <td>stock, &gt;, chinese, bill, global, dow, biden, b...</td>\n      <td>dow futures rise but a 20-year-old warning jus...</td>\n    </tr>\n    <tr>\n      <th>17</th>\n      <td>17.0</td>\n      <td>0.9842</td>\n      <td>x50, trump, announce, family, sheriff, indepen...</td>\n      <td>gmail is integrating google chat, rooms, and m...</td>\n    </tr>\n    <tr>\n      <th>18</th>\n      <td>18.0</td>\n      <td>0.9869</td>\n      <td>aishwarya, covid-19, rai, new, start, cancer, ...</td>\n      <td>breaking news:covid-19 positive aishwarya rai ...</td>\n    </tr>\n    <tr>\n      <th>19</th>\n      <td>19.0</td>\n      <td>0.9850</td>\n      <td>united, game, market, time, covid-19, engineer...</td>\n      <td>fullstack engineer #1 (atlanta, ga preferred) ...</td>\n    </tr>\n  </tbody>\n</table>\n</div>"
     },
     "metadata": {},
     "execution_count": 18
    }
   ],
   "source": [
    "# Group top 5 sentences under each topic\n",
    "sent_topics_sorteddf = pandas.DataFrame()\n",
    "\n",
    "sent_topics_outdf_grpd = df_topic_sents_keywords.groupby('dominant_topic')\n",
    "\n",
    "for i, grp in sent_topics_outdf_grpd:\n",
    "    sent_topics_sorteddf = pandas.concat([sent_topics_sorteddf, \n",
    "                                             grp.sort_values(['perc_contribution'], \n",
    "                                             ascending=[0]).head(1)],\n",
    "                                             axis=0\n",
    "                                             )\n",
    "\n",
    "# Reset Index    \n",
    "sent_topics_sorteddf.reset_index(drop=True, inplace=True)\n",
    "\n",
    "# Format\n",
    "sent_topics_sorteddf.columns = ['topic_Num', 'perc_Contribution', 'keywords', 'text']\n",
    "\n",
    "# Show\n",
    "sent_topics_sorteddf.head(20)"
   ]
  },
  {
   "cell_type": "code",
   "execution_count": 19,
   "metadata": {},
   "outputs": [
    {
     "output_type": "execute_result",
     "data": {
      "text/plain": "    dominant_topic                                     topic_keywords  \\\n14            14.0  ginsburg, cancer, ruth, bader, court, justice,...   \n37            37.0  cbs, cbsn, copyright, interactive, inc, ©, wat...   \n42            42.0  new, coronavirus, face, york, pilot, sachin, p...   \n36            36.0  netflix, star, stock, warn, year, >, federal, ...   \n47            47.0  watch, 2020, start, year, dog, news, free, ubi...   \n23            23.0  company, year, covid-19, new, australian, coro...   \n20            20.0  account, >, news, <, coronavirus, elon, pre, a...   \n24            24.0  monday, announce, business, roger, insider, tr...   \n29            29.0  year, new, mueller, book, investigation, lotto...   \n8              8.0  house, white, trump, fauci, lego, anthony, new...   \n38            38.0  police, government, president, coronavirus, vi...   \n44            44.0  school, new, case, reopen, economic, coronavir...   \n9              9.0  coronavirus, country, claim, wear, mask, billi...   \n27            27.0  campaign, coronavirus, trump, sunday, kane, ha...   \n41            41.0  new, student, watch, ban, world, trump, free, ...   \n4              4.0  year, use, reveal, technology, federal, recogn...   \n13            13.0  federal, execution, year, $, raise, early, cou...   \n32            32.0  earning, investment, old, >, revenue, jpmorgan...   \n18            18.0  aishwarya, covid-19, rai, new, start, cancer, ...   \n3              3.0     >, 5, g, look, ban, huawei, <, new, kit, light   \n2              2.0  cnn, find, dr, happen, trump, messenger, chat,...   \n40            40.0  5, >, g, july, huawei, live, billion, display,...   \n17            17.0  x50, trump, announce, family, sheriff, indepen...   \n45            45.0  cloud, government, google, covid-19, today, im...   \n35            35.0  google, fire, fauci, new, announce, ai, facebo...   \n15            15.0  trump, photo, president, news, wallace, rate, ...   \n6              6.0  trump, judge, jail, u.s, president, force, cas...   \n48            48.0  mask, use, information, health, cruz, ashevill...   \n22            22.0  state, coronavirus, covid-19, death, datum, tr...   \n16            16.0  stock, >, chinese, bill, global, dow, biden, b...   \n12            12.0  washington, snyder, team, nfl, owner, culture,...   \n39            39.0  work, corporate, amazon, home, ceo, new, emplo...   \n7              7.0  late, coronavirus, statue, charge, dublin, kel...   \n49            49.0  city, covid-19, record, alcohol, today, month,...   \n46            46.0  startup, business, small, star, publish, round...   \n0              0.0  payment, court, year, pandemic, rugby, play, r...   \n34            34.0  company, fisker, state, car, trump, secretary,...   \n26            26.0  travolta, john, die, preston, kelly, actor, 57...   \n19            19.0  united, game, market, time, covid-19, engineer...   \n11            11.0  people, protester, new, home, find, major, cor...   \n10            10.0  berkshire, week, 5, buffett, warren, buy, $, b...   \n5              5.0  datum, season, mandela, pope, state, assam, le...   \n33            33.0  insider, crossfit, ceo, business, man, communi...   \n1              1.0  amazon, 2020, shopping, lake, john, lewis, fin...   \n43            43.0  player, nfl, twitter, lionel, messi, la, liga,...   \n31            31.0  house, new, arrest, laptop, protest, wear, rev...   \n28            28.0  fauci, g, minister, 5, house, white, thousand,...   \n21            21.0  uk, announce, misconduct, blanchet, sexual, al...   \n25            25.0  12, playstation, 12th, covid-19, 5, week, play...   \n30            30.0  mask, wear, podcast, michelle, obama, new, jul...   \n\n    num_documents  perc_documents  \n14             23        3.697749  \n37             22        3.536977  \n42             19        3.054662  \n36             18        2.893891  \n47             18        2.893891  \n23             17        2.733119  \n20             16        2.572347  \n24             15        2.411576  \n29             15        2.411576  \n8              15        2.411576  \n38             15        2.411576  \n44             15        2.411576  \n9              14        2.250804  \n27             14        2.250804  \n41             14        2.250804  \n4              14        2.250804  \n13             13        2.090032  \n32             13        2.090032  \n18             13        2.090032  \n3              13        2.090032  \n2              13        2.090032  \n40             12        1.929260  \n17             12        1.929260  \n45             12        1.929260  \n35             12        1.929260  \n15             12        1.929260  \n6              12        1.929260  \n48             12        1.929260  \n22             11        1.768489  \n16             11        1.768489  \n12             11        1.768489  \n39             11        1.768489  \n7              11        1.768489  \n49             11        1.768489  \n46             10        1.607717  \n0              10        1.607717  \n34             10        1.607717  \n26             10        1.607717  \n19             10        1.607717  \n11             10        1.607717  \n10             10        1.607717  \n5              10        1.607717  \n33              9        1.446945  \n1               9        1.446945  \n43              9        1.446945  \n31              8        1.286174  \n28              8        1.286174  \n21              8        1.286174  \n25              7        1.125402  \n30              5        0.803859  ",
      "text/html": "<div>\n<style scoped>\n    .dataframe tbody tr th:only-of-type {\n        vertical-align: middle;\n    }\n\n    .dataframe tbody tr th {\n        vertical-align: top;\n    }\n\n    .dataframe thead th {\n        text-align: right;\n    }\n</style>\n<table border=\"1\" class=\"dataframe\">\n  <thead>\n    <tr style=\"text-align: right;\">\n      <th></th>\n      <th>dominant_topic</th>\n      <th>topic_keywords</th>\n      <th>num_documents</th>\n      <th>perc_documents</th>\n    </tr>\n  </thead>\n  <tbody>\n    <tr>\n      <th>14</th>\n      <td>14.0</td>\n      <td>ginsburg, cancer, ruth, bader, court, justice,...</td>\n      <td>23</td>\n      <td>3.697749</td>\n    </tr>\n    <tr>\n      <th>37</th>\n      <td>37.0</td>\n      <td>cbs, cbsn, copyright, interactive, inc, ©, wat...</td>\n      <td>22</td>\n      <td>3.536977</td>\n    </tr>\n    <tr>\n      <th>42</th>\n      <td>42.0</td>\n      <td>new, coronavirus, face, york, pilot, sachin, p...</td>\n      <td>19</td>\n      <td>3.054662</td>\n    </tr>\n    <tr>\n      <th>36</th>\n      <td>36.0</td>\n      <td>netflix, star, stock, warn, year, &gt;, federal, ...</td>\n      <td>18</td>\n      <td>2.893891</td>\n    </tr>\n    <tr>\n      <th>47</th>\n      <td>47.0</td>\n      <td>watch, 2020, start, year, dog, news, free, ubi...</td>\n      <td>18</td>\n      <td>2.893891</td>\n    </tr>\n    <tr>\n      <th>23</th>\n      <td>23.0</td>\n      <td>company, year, covid-19, new, australian, coro...</td>\n      <td>17</td>\n      <td>2.733119</td>\n    </tr>\n    <tr>\n      <th>20</th>\n      <td>20.0</td>\n      <td>account, &gt;, news, &lt;, coronavirus, elon, pre, a...</td>\n      <td>16</td>\n      <td>2.572347</td>\n    </tr>\n    <tr>\n      <th>24</th>\n      <td>24.0</td>\n      <td>monday, announce, business, roger, insider, tr...</td>\n      <td>15</td>\n      <td>2.411576</td>\n    </tr>\n    <tr>\n      <th>29</th>\n      <td>29.0</td>\n      <td>year, new, mueller, book, investigation, lotto...</td>\n      <td>15</td>\n      <td>2.411576</td>\n    </tr>\n    <tr>\n      <th>8</th>\n      <td>8.0</td>\n      <td>house, white, trump, fauci, lego, anthony, new...</td>\n      <td>15</td>\n      <td>2.411576</td>\n    </tr>\n    <tr>\n      <th>38</th>\n      <td>38.0</td>\n      <td>police, government, president, coronavirus, vi...</td>\n      <td>15</td>\n      <td>2.411576</td>\n    </tr>\n    <tr>\n      <th>44</th>\n      <td>44.0</td>\n      <td>school, new, case, reopen, economic, coronavir...</td>\n      <td>15</td>\n      <td>2.411576</td>\n    </tr>\n    <tr>\n      <th>9</th>\n      <td>9.0</td>\n      <td>coronavirus, country, claim, wear, mask, billi...</td>\n      <td>14</td>\n      <td>2.250804</td>\n    </tr>\n    <tr>\n      <th>27</th>\n      <td>27.0</td>\n      <td>campaign, coronavirus, trump, sunday, kane, ha...</td>\n      <td>14</td>\n      <td>2.250804</td>\n    </tr>\n    <tr>\n      <th>41</th>\n      <td>41.0</td>\n      <td>new, student, watch, ban, world, trump, free, ...</td>\n      <td>14</td>\n      <td>2.250804</td>\n    </tr>\n    <tr>\n      <th>4</th>\n      <td>4.0</td>\n      <td>year, use, reveal, technology, federal, recogn...</td>\n      <td>14</td>\n      <td>2.250804</td>\n    </tr>\n    <tr>\n      <th>13</th>\n      <td>13.0</td>\n      <td>federal, execution, year, $, raise, early, cou...</td>\n      <td>13</td>\n      <td>2.090032</td>\n    </tr>\n    <tr>\n      <th>32</th>\n      <td>32.0</td>\n      <td>earning, investment, old, &gt;, revenue, jpmorgan...</td>\n      <td>13</td>\n      <td>2.090032</td>\n    </tr>\n    <tr>\n      <th>18</th>\n      <td>18.0</td>\n      <td>aishwarya, covid-19, rai, new, start, cancer, ...</td>\n      <td>13</td>\n      <td>2.090032</td>\n    </tr>\n    <tr>\n      <th>3</th>\n      <td>3.0</td>\n      <td>&gt;, 5, g, look, ban, huawei, &lt;, new, kit, light</td>\n      <td>13</td>\n      <td>2.090032</td>\n    </tr>\n    <tr>\n      <th>2</th>\n      <td>2.0</td>\n      <td>cnn, find, dr, happen, trump, messenger, chat,...</td>\n      <td>13</td>\n      <td>2.090032</td>\n    </tr>\n    <tr>\n      <th>40</th>\n      <td>40.0</td>\n      <td>5, &gt;, g, july, huawei, live, billion, display,...</td>\n      <td>12</td>\n      <td>1.929260</td>\n    </tr>\n    <tr>\n      <th>17</th>\n      <td>17.0</td>\n      <td>x50, trump, announce, family, sheriff, indepen...</td>\n      <td>12</td>\n      <td>1.929260</td>\n    </tr>\n    <tr>\n      <th>45</th>\n      <td>45.0</td>\n      <td>cloud, government, google, covid-19, today, im...</td>\n      <td>12</td>\n      <td>1.929260</td>\n    </tr>\n    <tr>\n      <th>35</th>\n      <td>35.0</td>\n      <td>google, fire, fauci, new, announce, ai, facebo...</td>\n      <td>12</td>\n      <td>1.929260</td>\n    </tr>\n    <tr>\n      <th>15</th>\n      <td>15.0</td>\n      <td>trump, photo, president, news, wallace, rate, ...</td>\n      <td>12</td>\n      <td>1.929260</td>\n    </tr>\n    <tr>\n      <th>6</th>\n      <td>6.0</td>\n      <td>trump, judge, jail, u.s, president, force, cas...</td>\n      <td>12</td>\n      <td>1.929260</td>\n    </tr>\n    <tr>\n      <th>48</th>\n      <td>48.0</td>\n      <td>mask, use, information, health, cruz, ashevill...</td>\n      <td>12</td>\n      <td>1.929260</td>\n    </tr>\n    <tr>\n      <th>22</th>\n      <td>22.0</td>\n      <td>state, coronavirus, covid-19, death, datum, tr...</td>\n      <td>11</td>\n      <td>1.768489</td>\n    </tr>\n    <tr>\n      <th>16</th>\n      <td>16.0</td>\n      <td>stock, &gt;, chinese, bill, global, dow, biden, b...</td>\n      <td>11</td>\n      <td>1.768489</td>\n    </tr>\n    <tr>\n      <th>12</th>\n      <td>12.0</td>\n      <td>washington, snyder, team, nfl, owner, culture,...</td>\n      <td>11</td>\n      <td>1.768489</td>\n    </tr>\n    <tr>\n      <th>39</th>\n      <td>39.0</td>\n      <td>work, corporate, amazon, home, ceo, new, emplo...</td>\n      <td>11</td>\n      <td>1.768489</td>\n    </tr>\n    <tr>\n      <th>7</th>\n      <td>7.0</td>\n      <td>late, coronavirus, statue, charge, dublin, kel...</td>\n      <td>11</td>\n      <td>1.768489</td>\n    </tr>\n    <tr>\n      <th>49</th>\n      <td>49.0</td>\n      <td>city, covid-19, record, alcohol, today, month,...</td>\n      <td>11</td>\n      <td>1.768489</td>\n    </tr>\n    <tr>\n      <th>46</th>\n      <td>46.0</td>\n      <td>startup, business, small, star, publish, round...</td>\n      <td>10</td>\n      <td>1.607717</td>\n    </tr>\n    <tr>\n      <th>0</th>\n      <td>0.0</td>\n      <td>payment, court, year, pandemic, rugby, play, r...</td>\n      <td>10</td>\n      <td>1.607717</td>\n    </tr>\n    <tr>\n      <th>34</th>\n      <td>34.0</td>\n      <td>company, fisker, state, car, trump, secretary,...</td>\n      <td>10</td>\n      <td>1.607717</td>\n    </tr>\n    <tr>\n      <th>26</th>\n      <td>26.0</td>\n      <td>travolta, john, die, preston, kelly, actor, 57...</td>\n      <td>10</td>\n      <td>1.607717</td>\n    </tr>\n    <tr>\n      <th>19</th>\n      <td>19.0</td>\n      <td>united, game, market, time, covid-19, engineer...</td>\n      <td>10</td>\n      <td>1.607717</td>\n    </tr>\n    <tr>\n      <th>11</th>\n      <td>11.0</td>\n      <td>people, protester, new, home, find, major, cor...</td>\n      <td>10</td>\n      <td>1.607717</td>\n    </tr>\n    <tr>\n      <th>10</th>\n      <td>10.0</td>\n      <td>berkshire, week, 5, buffett, warren, buy, $, b...</td>\n      <td>10</td>\n      <td>1.607717</td>\n    </tr>\n    <tr>\n      <th>5</th>\n      <td>5.0</td>\n      <td>datum, season, mandela, pope, state, assam, le...</td>\n      <td>10</td>\n      <td>1.607717</td>\n    </tr>\n    <tr>\n      <th>33</th>\n      <td>33.0</td>\n      <td>insider, crossfit, ceo, business, man, communi...</td>\n      <td>9</td>\n      <td>1.446945</td>\n    </tr>\n    <tr>\n      <th>1</th>\n      <td>1.0</td>\n      <td>amazon, 2020, shopping, lake, john, lewis, fin...</td>\n      <td>9</td>\n      <td>1.446945</td>\n    </tr>\n    <tr>\n      <th>43</th>\n      <td>43.0</td>\n      <td>player, nfl, twitter, lionel, messi, la, liga,...</td>\n      <td>9</td>\n      <td>1.446945</td>\n    </tr>\n    <tr>\n      <th>31</th>\n      <td>31.0</td>\n      <td>house, new, arrest, laptop, protest, wear, rev...</td>\n      <td>8</td>\n      <td>1.286174</td>\n    </tr>\n    <tr>\n      <th>28</th>\n      <td>28.0</td>\n      <td>fauci, g, minister, 5, house, white, thousand,...</td>\n      <td>8</td>\n      <td>1.286174</td>\n    </tr>\n    <tr>\n      <th>21</th>\n      <td>21.0</td>\n      <td>uk, announce, misconduct, blanchet, sexual, al...</td>\n      <td>8</td>\n      <td>1.286174</td>\n    </tr>\n    <tr>\n      <th>25</th>\n      <td>25.0</td>\n      <td>12, playstation, 12th, covid-19, 5, week, play...</td>\n      <td>7</td>\n      <td>1.125402</td>\n    </tr>\n    <tr>\n      <th>30</th>\n      <td>30.0</td>\n      <td>mask, wear, podcast, michelle, obama, new, jul...</td>\n      <td>5</td>\n      <td>0.803859</td>\n    </tr>\n  </tbody>\n</table>\n</div>"
     },
     "metadata": {},
     "execution_count": 19
    }
   ],
   "source": [
    "# Number of Documents for Each Topic\n",
    "topic_counts = df_topic_sents_keywords['dominant_topic'].value_counts()\n",
    "\n",
    "# Topic Number and Keywords\n",
    "topic_num_keywords = df_topic_sents_keywords[['dominant_topic', 'topic_keywords']].groupby(\n",
    "                        ['dominant_topic', 'topic_keywords']\n",
    "                    )['topic_keywords'].count().reset_index(name='num_documents')\n",
    "\n",
    "topic_num_keywords['perc_documents'] = ((topic_num_keywords['num_documents'])/(topic_num_keywords['num_documents'].sum()))*100\n",
    "\n",
    "# show top topics\n",
    "topic_num_keywords.head(50).sort_values(by='perc_documents', ascending=False)"
   ]
  },
  {
   "cell_type": "code",
   "execution_count": 20,
   "metadata": {},
   "outputs": [
    {
     "output_type": "execute_result",
     "data": {
      "text/plain": "0      jpmorgan's q2 earnings beat forecasts as inves...\n1      jpmorgan's q2 earnings beat forecasts as inves...\n2      andrzej duda wins re-election as polish presid...\n3      loud rumors tease playstation 5 price & launch...\n4      no rahul gandhi meet, says sachin pilot, congr...\n                             ...                        \n617    when you hear these names, which k-pop idol do...\n618    what's your favorite bts song for every letter...\n619    teens shared ways that millennials are out of ...\n620    if you were a whimsical tumblr girl in 2012, y...\n621    which deadly animal are you most like?. discov...\nName: text, Length: 622, dtype: object"
     },
     "metadata": {},
     "execution_count": 20
    }
   ],
   "source": [
    "news_text"
   ]
  },
  {
   "cell_type": "code",
   "execution_count": 21,
   "metadata": {},
   "outputs": [
    {
     "output_type": "execute_result",
     "data": {
      "text/plain": "     document_no  dominant_topic  topic_perc_contrib  \\\n0              0            32.0              0.9817   \n1              1            32.0              0.9817   \n2              2            35.0              0.9779   \n3              3            20.0              0.9855   \n4              4            10.0              0.9844   \n..           ...             ...                 ...   \n617          617            35.0              0.9395   \n618          618            23.0              0.9396   \n619          619            38.0              0.9649   \n620          620            24.0              0.9436   \n621          621            17.0              0.9150   \n\n                                              keywords  \\\n0    earning, investment, old, >, revenue, jpmorgan...   \n1    earning, investment, old, >, revenue, jpmorgan...   \n2    google, fire, fauci, new, announce, ai, facebo...   \n3    account, >, news, <, coronavirus, elon, pre, a...   \n4    berkshire, week, 5, buffett, warren, buy, $, b...   \n..                                                 ...   \n617  google, fire, fauci, new, announce, ai, facebo...   \n618  company, year, covid-19, new, australian, coro...   \n619  police, government, president, coronavirus, vi...   \n620  monday, announce, business, roger, insider, tr...   \n621  x50, trump, announce, family, sheriff, indepen...   \n\n                                                  text  \n0    jpmorgan's q2 earnings beat forecasts as inves...  \n1    jpmorgan's q2 earnings beat forecasts as inves...  \n2    andrzej duda wins re-election as polish presid...  \n3    loud rumors tease playstation 5 price & launch...  \n4    no rahul gandhi meet, says sachin pilot, congr...  \n..                                                 ...  \n617  when you hear these names, which k-pop idol do...  \n618  what's your favorite bts song for every letter...  \n619  teens shared ways that millennials are out of ...  \n620  if you were a whimsical tumblr girl in 2012, y...  \n621  which deadly animal are you most like?. discov...  \n\n[622 rows x 5 columns]",
      "text/html": "<div>\n<style scoped>\n    .dataframe tbody tr th:only-of-type {\n        vertical-align: middle;\n    }\n\n    .dataframe tbody tr th {\n        vertical-align: top;\n    }\n\n    .dataframe thead th {\n        text-align: right;\n    }\n</style>\n<table border=\"1\" class=\"dataframe\">\n  <thead>\n    <tr style=\"text-align: right;\">\n      <th></th>\n      <th>document_no</th>\n      <th>dominant_topic</th>\n      <th>topic_perc_contrib</th>\n      <th>keywords</th>\n      <th>text</th>\n    </tr>\n  </thead>\n  <tbody>\n    <tr>\n      <th>0</th>\n      <td>0</td>\n      <td>32.0</td>\n      <td>0.9817</td>\n      <td>earning, investment, old, &gt;, revenue, jpmorgan...</td>\n      <td>jpmorgan's q2 earnings beat forecasts as inves...</td>\n    </tr>\n    <tr>\n      <th>1</th>\n      <td>1</td>\n      <td>32.0</td>\n      <td>0.9817</td>\n      <td>earning, investment, old, &gt;, revenue, jpmorgan...</td>\n      <td>jpmorgan's q2 earnings beat forecasts as inves...</td>\n    </tr>\n    <tr>\n      <th>2</th>\n      <td>2</td>\n      <td>35.0</td>\n      <td>0.9779</td>\n      <td>google, fire, fauci, new, announce, ai, facebo...</td>\n      <td>andrzej duda wins re-election as polish presid...</td>\n    </tr>\n    <tr>\n      <th>3</th>\n      <td>3</td>\n      <td>20.0</td>\n      <td>0.9855</td>\n      <td>account, &gt;, news, &lt;, coronavirus, elon, pre, a...</td>\n      <td>loud rumors tease playstation 5 price &amp; launch...</td>\n    </tr>\n    <tr>\n      <th>4</th>\n      <td>4</td>\n      <td>10.0</td>\n      <td>0.9844</td>\n      <td>berkshire, week, 5, buffett, warren, buy, $, b...</td>\n      <td>no rahul gandhi meet, says sachin pilot, congr...</td>\n    </tr>\n    <tr>\n      <th>...</th>\n      <td>...</td>\n      <td>...</td>\n      <td>...</td>\n      <td>...</td>\n      <td>...</td>\n    </tr>\n    <tr>\n      <th>617</th>\n      <td>617</td>\n      <td>35.0</td>\n      <td>0.9395</td>\n      <td>google, fire, fauci, new, announce, ai, facebo...</td>\n      <td>when you hear these names, which k-pop idol do...</td>\n    </tr>\n    <tr>\n      <th>618</th>\n      <td>618</td>\n      <td>23.0</td>\n      <td>0.9396</td>\n      <td>company, year, covid-19, new, australian, coro...</td>\n      <td>what's your favorite bts song for every letter...</td>\n    </tr>\n    <tr>\n      <th>619</th>\n      <td>619</td>\n      <td>38.0</td>\n      <td>0.9649</td>\n      <td>police, government, president, coronavirus, vi...</td>\n      <td>teens shared ways that millennials are out of ...</td>\n    </tr>\n    <tr>\n      <th>620</th>\n      <td>620</td>\n      <td>24.0</td>\n      <td>0.9436</td>\n      <td>monday, announce, business, roger, insider, tr...</td>\n      <td>if you were a whimsical tumblr girl in 2012, y...</td>\n    </tr>\n    <tr>\n      <th>621</th>\n      <td>621</td>\n      <td>17.0</td>\n      <td>0.9150</td>\n      <td>x50, trump, announce, family, sheriff, indepen...</td>\n      <td>which deadly animal are you most like?. discov...</td>\n    </tr>\n  </tbody>\n</table>\n<p>622 rows × 5 columns</p>\n</div>"
     },
     "metadata": {},
     "execution_count": 21
    }
   ],
   "source": [
    "df_dominant_topic"
   ]
  },
  {
   "cell_type": "code",
   "execution_count": 22,
   "metadata": {},
   "outputs": [
    {
     "output_type": "execute_result",
     "data": {
      "text/plain": "                               article_id                      publishedAt  \\\n0    b7d51d16-2b40-411c-b709-479a0011887a        2020-07-14 13:33:01+00:00   \n1    0e2771ce-63f3-49a5-9832-5db61973e6ef        2020-07-14 13:33:01+00:00   \n2    bd7035a3-018d-446e-8f9d-106f9e81745e 2020-07-13 12:52:38.035442+00:00   \n3    db614f80-87d0-42d9-adf4-22908c21abdc        2020-07-13 12:02:55+00:00   \n4    71d551f3-c592-44f5-bf7b-eba1a8acdadc        2020-07-13 11:28:00+00:00   \n..                                    ...                              ...   \n617  4cd3ff5b-289d-41f9-9a6a-d2864256a4db 2020-07-19 17:07:27.965117+00:00   \n618  087fdf71-52e7-4bfa-a815-7f3a7d0a6879 2020-07-19 16:07:23.328105+00:00   \n619  ecece0fa-234f-4c3e-a51e-2170210d5491 2020-07-19 17:22:24.134988+00:00   \n620  2de8a1a4-8195-4b00-8884-394ff60db9cd 2020-07-19 15:22:27.208455+00:00   \n621  db3f7ea6-c307-44df-923a-4912b2e09932 2020-07-19 15:37:23.378914+00:00   \n\n                                                  text  dominant_topic  \\\n0    jpmorgan's q2 earnings beat forecasts as inves...              32   \n1    jpmorgan's q2 earnings beat forecasts as inves...              32   \n2    andrzej duda wins re-election as polish presid...              35   \n3    loud rumors tease playstation 5 price & launch...              20   \n4    no rahul gandhi meet, says sachin pilot, congr...              10   \n..                                                 ...             ...   \n617  when you hear these names, which k-pop idol do...              35   \n618  what's your favorite bts song for every letter...              23   \n619  teens shared ways that millennials are out of ...              38   \n620  if you were a whimsical tumblr girl in 2012, y...              24   \n621  which deadly animal are you most like?. discov...              17   \n\n     topic_perc_contrib                                           keywords  \n0                0.9817  earning, investment, old, >, revenue, jpmorgan...  \n1                0.9817  earning, investment, old, >, revenue, jpmorgan...  \n2                0.9779  google, fire, fauci, new, announce, ai, facebo...  \n3                0.9855  account, >, news, <, coronavirus, elon, pre, a...  \n4                0.9844  berkshire, week, 5, buffett, warren, buy, $, b...  \n..                  ...                                                ...  \n617              0.9395  google, fire, fauci, new, announce, ai, facebo...  \n618              0.9396  company, year, covid-19, new, australian, coro...  \n619              0.9649  police, government, president, coronavirus, vi...  \n620              0.9436  monday, announce, business, roger, insider, tr...  \n621              0.9150  x50, trump, announce, family, sheriff, indepen...  \n\n[622 rows x 6 columns]",
      "text/html": "<div>\n<style scoped>\n    .dataframe tbody tr th:only-of-type {\n        vertical-align: middle;\n    }\n\n    .dataframe tbody tr th {\n        vertical-align: top;\n    }\n\n    .dataframe thead th {\n        text-align: right;\n    }\n</style>\n<table border=\"1\" class=\"dataframe\">\n  <thead>\n    <tr style=\"text-align: right;\">\n      <th></th>\n      <th>article_id</th>\n      <th>publishedAt</th>\n      <th>text</th>\n      <th>dominant_topic</th>\n      <th>topic_perc_contrib</th>\n      <th>keywords</th>\n    </tr>\n  </thead>\n  <tbody>\n    <tr>\n      <th>0</th>\n      <td>b7d51d16-2b40-411c-b709-479a0011887a</td>\n      <td>2020-07-14 13:33:01+00:00</td>\n      <td>jpmorgan's q2 earnings beat forecasts as inves...</td>\n      <td>32</td>\n      <td>0.9817</td>\n      <td>earning, investment, old, &gt;, revenue, jpmorgan...</td>\n    </tr>\n    <tr>\n      <th>1</th>\n      <td>0e2771ce-63f3-49a5-9832-5db61973e6ef</td>\n      <td>2020-07-14 13:33:01+00:00</td>\n      <td>jpmorgan's q2 earnings beat forecasts as inves...</td>\n      <td>32</td>\n      <td>0.9817</td>\n      <td>earning, investment, old, &gt;, revenue, jpmorgan...</td>\n    </tr>\n    <tr>\n      <th>2</th>\n      <td>bd7035a3-018d-446e-8f9d-106f9e81745e</td>\n      <td>2020-07-13 12:52:38.035442+00:00</td>\n      <td>andrzej duda wins re-election as polish presid...</td>\n      <td>35</td>\n      <td>0.9779</td>\n      <td>google, fire, fauci, new, announce, ai, facebo...</td>\n    </tr>\n    <tr>\n      <th>3</th>\n      <td>db614f80-87d0-42d9-adf4-22908c21abdc</td>\n      <td>2020-07-13 12:02:55+00:00</td>\n      <td>loud rumors tease playstation 5 price &amp; launch...</td>\n      <td>20</td>\n      <td>0.9855</td>\n      <td>account, &gt;, news, &lt;, coronavirus, elon, pre, a...</td>\n    </tr>\n    <tr>\n      <th>4</th>\n      <td>71d551f3-c592-44f5-bf7b-eba1a8acdadc</td>\n      <td>2020-07-13 11:28:00+00:00</td>\n      <td>no rahul gandhi meet, says sachin pilot, congr...</td>\n      <td>10</td>\n      <td>0.9844</td>\n      <td>berkshire, week, 5, buffett, warren, buy, $, b...</td>\n    </tr>\n    <tr>\n      <th>...</th>\n      <td>...</td>\n      <td>...</td>\n      <td>...</td>\n      <td>...</td>\n      <td>...</td>\n      <td>...</td>\n    </tr>\n    <tr>\n      <th>617</th>\n      <td>4cd3ff5b-289d-41f9-9a6a-d2864256a4db</td>\n      <td>2020-07-19 17:07:27.965117+00:00</td>\n      <td>when you hear these names, which k-pop idol do...</td>\n      <td>35</td>\n      <td>0.9395</td>\n      <td>google, fire, fauci, new, announce, ai, facebo...</td>\n    </tr>\n    <tr>\n      <th>618</th>\n      <td>087fdf71-52e7-4bfa-a815-7f3a7d0a6879</td>\n      <td>2020-07-19 16:07:23.328105+00:00</td>\n      <td>what's your favorite bts song for every letter...</td>\n      <td>23</td>\n      <td>0.9396</td>\n      <td>company, year, covid-19, new, australian, coro...</td>\n    </tr>\n    <tr>\n      <th>619</th>\n      <td>ecece0fa-234f-4c3e-a51e-2170210d5491</td>\n      <td>2020-07-19 17:22:24.134988+00:00</td>\n      <td>teens shared ways that millennials are out of ...</td>\n      <td>38</td>\n      <td>0.9649</td>\n      <td>police, government, president, coronavirus, vi...</td>\n    </tr>\n    <tr>\n      <th>620</th>\n      <td>2de8a1a4-8195-4b00-8884-394ff60db9cd</td>\n      <td>2020-07-19 15:22:27.208455+00:00</td>\n      <td>if you were a whimsical tumblr girl in 2012, y...</td>\n      <td>24</td>\n      <td>0.9436</td>\n      <td>monday, announce, business, roger, insider, tr...</td>\n    </tr>\n    <tr>\n      <th>621</th>\n      <td>db3f7ea6-c307-44df-923a-4912b2e09932</td>\n      <td>2020-07-19 15:37:23.378914+00:00</td>\n      <td>which deadly animal are you most like?. discov...</td>\n      <td>17</td>\n      <td>0.9150</td>\n      <td>x50, trump, announce, family, sheriff, indepen...</td>\n    </tr>\n  </tbody>\n</table>\n<p>622 rows × 6 columns</p>\n</div>"
     },
     "metadata": {},
     "execution_count": 22
    }
   ],
   "source": [
    "output_df = pandas.concat([df[['article_id', 'publishedAt']], news_text, df_dominant_topic], axis=1)\n",
    "\n",
    "output_df.columns = ['article_id', 'publishedAt', 'text', 'drop', 'dominant_topic', 'topic_perc_contrib', 'keywords', 'drop']\n",
    "\n",
    "output_df.drop(output_df['drop'], axis=1, inplace=True)\n",
    "\n",
    "output_df['dominant_topic'] = output_df['dominant_topic'].astype(int)\n",
    "\n",
    "output_df"
   ]
  },
  {
   "cell_type": "code",
   "execution_count": 23,
   "metadata": {},
   "outputs": [],
   "source": [
    "output_df.to_parquet('df.parquet.gzip', allow_truncated_timestamps=True)\n",
    "\n",
    "bq_df = pandas.read_parquet('df.parquet.gzip')"
   ]
  },
  {
   "cell_type": "code",
   "execution_count": 24,
   "metadata": {},
   "outputs": [],
   "source": [
    "# configure BigQuery job\n",
    "job_config = bigquery.LoadJobConfig(\n",
    "    # Specify a (partial) schema. All columns are always written to the\n",
    "    # table. The schema is used to assist in data type definitions.\n",
    "    schema=[\n",
    "        # Specify the type of columns whose type cannot be auto-detected. For\n",
    "        # example the \"title\" column uses pandas dtype \"object\", so its\n",
    "        # data type is ambiguous.\n",
    "        bigquery.SchemaField(\"article_id\", bigquery.enums.SqlTypeNames.STRING),\n",
    "        bigquery.SchemaField(\"publishedAt\", bigquery.enums.SqlTypeNames.TIMESTAMP),\n",
    "        bigquery.SchemaField(\"text\", bigquery.enums.SqlTypeNames.STRING),\n",
    "        bigquery.SchemaField(\"dominant_topic\", bigquery.enums.SqlTypeNames.INT64),\n",
    "        bigquery.SchemaField(\"topic_perc_contrib\", bigquery.enums.SqlTypeNames.FLOAT64),\n",
    "        bigquery.SchemaField(\"keywords\", bigquery.enums.SqlTypeNames.STRING),\n",
    "    ],\n",
    "    # Optionally, set the write disposition. BigQuery appends loaded rows\n",
    "    # to an existing table by default, but with WRITE_TRUNCATE write\n",
    "    # disposition it replaces the table with the loaded data.\n",
    "    write_disposition=\"WRITE_TRUNCATE\",\n",
    ")"
   ]
  },
  {
   "cell_type": "code",
   "execution_count": 25,
   "metadata": {},
   "outputs": [
    {
     "output_type": "execute_result",
     "data": {
      "text/plain": "<google.cloud.bigquery.job.LoadJob at 0x129e906a0>"
     },
     "metadata": {},
     "execution_count": 25
    }
   ],
   "source": [
    "table_id = \"news-site-280319.topics.article_topics\"\n",
    "job = client.load_table_from_dataframe(\n",
    "    bq_df,\n",
    "    table_id, \n",
    "    job_config=job_config\n",
    ")  # Make an API request.\n",
    "job.result()  # Wait for the job to complete."
   ]
  },
  {
   "cell_type": "code",
   "execution_count": 26,
   "metadata": {
    "tags": []
   },
   "outputs": [
    {
     "output_type": "execute_result",
     "data": {
      "text/plain": "'DONE'"
     },
     "metadata": {},
     "execution_count": 26
    }
   ],
   "source": [
    "# check job status\n",
    "job.result().state"
   ]
  },
  {
   "cell_type": "code",
   "execution_count": null,
   "metadata": {},
   "outputs": [],
   "source": []
  }
 ],
 "metadata": {
  "language_info": {
   "codemirror_mode": {
    "name": "ipython",
    "version": 3
   },
   "file_extension": ".py",
   "mimetype": "text/x-python",
   "name": "python",
   "nbconvert_exporter": "python",
   "pygments_lexer": "ipython3",
   "version": "3.8.0-final"
  },
  "orig_nbformat": 2,
  "kernelspec": {
   "name": "python38064bit9c1e0c45891f4f5bb47cc2daf8211df6",
   "display_name": "Python 3.8.0 64-bit"
  }
 },
 "nbformat": 4,
 "nbformat_minor": 2
}