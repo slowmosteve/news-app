{
 "cells": [
  {
   "cell_type": "markdown",
   "metadata": {},
   "source": [
    "# News Topic Modeling\n",
    "\n",
    "This notebook is used to derive topics from news text\n"
   ]
  },
  {
   "cell_type": "code",
   "execution_count": 1,
   "metadata": {
    "tags": []
   },
   "outputs": [
    {
     "output_type": "stream",
     "name": "stdout",
     "text": "[core]\naccount = choi.steve@gmail.com\ndisable_usage_reporting = False\nproject = news-site-280319\n\nYour active configuration is: [news-site]\n"
    }
   ],
   "source": [
    "!gcloud config list"
   ]
  },
  {
   "cell_type": "code",
   "execution_count": 2,
   "metadata": {},
   "outputs": [],
   "source": [
    "from google.cloud import bigquery\n",
    "\n",
    "import gensim\n",
    "import gensim.corpora as corpora\n",
    "from gensim.utils import simple_preprocess\n",
    "from gensim.models import CoherenceModel\n",
    "\n",
    "import spacy\n",
    "from spacy.lemmatizer import Lemmatizer\n",
    "from spacy.lang.en.stop_words import STOP_WORDS\n",
    "import en_core_web_lg\n",
    "\n",
    "import pandas\n",
    "import re\n",
    "from tqdm import tqdm_notebook as tqdm\n",
    "import numpy\n",
    "from pprint import pprint"
   ]
  },
  {
   "cell_type": "code",
   "execution_count": 3,
   "metadata": {
    "tags": []
   },
   "outputs": [
    {
     "output_type": "stream",
     "name": "stdout",
     "text": "<class 'pandas.core.frame.DataFrame'>\nRangeIndex: 456 entries, 0 to 455\nData columns (total 3 columns):\n #   Column       Non-Null Count  Dtype              \n---  ------       --------------  -----              \n 0   article_id   456 non-null    object             \n 1   publishedAt  456 non-null    datetime64[ns, UTC]\n 2   text         456 non-null    object             \ndtypes: datetime64[ns, UTC](1), object(2)\nmemory usage: 10.8+ KB\n"
    }
   ],
   "source": [
    "client = bigquery.Client()\n",
    "sql = \"\"\"\n",
    "    SELECT \n",
    "        article_id,\n",
    "        publishedAt,\n",
    "        CONCAT(title, '. ', description, '. ', content) AS text\n",
    "    FROM `news-site-280319.news.articles`\n",
    "    WHERE\n",
    "      title IS NOT NULL\n",
    "      AND description IS NOT NULL\n",
    "      AND content IS NOT NULL\n",
    "\"\"\"\n",
    "\n",
    "df = client.query(sql).to_dataframe()\n",
    "\n",
    "df.info()"
   ]
  },
  {
   "cell_type": "code",
   "execution_count": 4,
   "metadata": {},
   "outputs": [
    {
     "output_type": "execute_result",
     "data": {
      "text/plain": "                             article_id                      publishedAt  \\\n0  9f54d198-91f6-469c-9cbf-c4cf2ff1032c 2020-07-01 00:37:25.913584+00:00   \n1  a4809d5f-32f6-48f5-a100-2aa2cd43223b        2020-07-01 00:32:13+00:00   \n2  bf3bacbb-4ca6-4518-b73f-0c72f6ded8f4 2020-07-01 00:52:19.822680+00:00   \n3  ae5b2f71-73ca-4395-ab9b-a70157fe417e 2020-07-01 00:22:21.011005+00:00   \n4  24ef003d-5f80-49fe-9bc6-0765ed17046f 2020-07-01 00:08:09.012992+00:00   \n\n                                                text  \n0  Biden: Trump's entire presidency has been a gi...  \n1  Premier warns entirety of Victoria could go ba...  \n2  Wall Street stocks seal best quarter since 199...  \n3  Energy Source is back: Is Texas about to sink ...  \n4  Your Life at Home. Parenting, technology and w...  ",
      "text/html": "<div>\n<style scoped>\n    .dataframe tbody tr th:only-of-type {\n        vertical-align: middle;\n    }\n\n    .dataframe tbody tr th {\n        vertical-align: top;\n    }\n\n    .dataframe thead th {\n        text-align: right;\n    }\n</style>\n<table border=\"1\" class=\"dataframe\">\n  <thead>\n    <tr style=\"text-align: right;\">\n      <th></th>\n      <th>article_id</th>\n      <th>publishedAt</th>\n      <th>text</th>\n    </tr>\n  </thead>\n  <tbody>\n    <tr>\n      <th>0</th>\n      <td>9f54d198-91f6-469c-9cbf-c4cf2ff1032c</td>\n      <td>2020-07-01 00:37:25.913584+00:00</td>\n      <td>Biden: Trump's entire presidency has been a gi...</td>\n    </tr>\n    <tr>\n      <th>1</th>\n      <td>a4809d5f-32f6-48f5-a100-2aa2cd43223b</td>\n      <td>2020-07-01 00:32:13+00:00</td>\n      <td>Premier warns entirety of Victoria could go ba...</td>\n    </tr>\n    <tr>\n      <th>2</th>\n      <td>bf3bacbb-4ca6-4518-b73f-0c72f6ded8f4</td>\n      <td>2020-07-01 00:52:19.822680+00:00</td>\n      <td>Wall Street stocks seal best quarter since 199...</td>\n    </tr>\n    <tr>\n      <th>3</th>\n      <td>ae5b2f71-73ca-4395-ab9b-a70157fe417e</td>\n      <td>2020-07-01 00:22:21.011005+00:00</td>\n      <td>Energy Source is back: Is Texas about to sink ...</td>\n    </tr>\n    <tr>\n      <th>4</th>\n      <td>24ef003d-5f80-49fe-9bc6-0765ed17046f</td>\n      <td>2020-07-01 00:08:09.012992+00:00</td>\n      <td>Your Life at Home. Parenting, technology and w...</td>\n    </tr>\n  </tbody>\n</table>\n</div>"
     },
     "metadata": {},
     "execution_count": 4
    }
   ],
   "source": [
    "df.head()"
   ]
  },
  {
   "cell_type": "code",
   "execution_count": 5,
   "metadata": {},
   "outputs": [
    {
     "output_type": "execute_result",
     "data": {
      "text/plain": "0    Biden: Trump's entire presidency has been a gi...\n1    Premier warns entirety of Victoria could go ba...\n2    Wall Street stocks seal best quarter since 199...\n3    Energy Source is back: Is Texas about to sink ...\n4    Your Life at Home. Parenting, technology and w...\nName: text, dtype: object"
     },
     "metadata": {},
     "execution_count": 5
    }
   ],
   "source": [
    "news_text = df['text']\n",
    "\n",
    "news_text.head()"
   ]
  },
  {
   "cell_type": "code",
   "execution_count": 6,
   "metadata": {},
   "outputs": [],
   "source": [
    "# replace all new line returns with spaces\n",
    "news_text = news_text.str.replace('\\r\\n', ' ', regex=True)"
   ]
  },
  {
   "cell_type": "code",
   "execution_count": 7,
   "metadata": {},
   "outputs": [],
   "source": [
    "# convert to lowercase\n",
    "news_text = news_text.str.lower()"
   ]
  },
  {
   "cell_type": "code",
   "execution_count": 8,
   "metadata": {},
   "outputs": [
    {
     "output_type": "execute_result",
     "data": {
      "text/plain": "'energy source is back: is texas about to sink the oil market?. the latest energy news: bernard looney’s plan to ‘reinvent bp’, texas’s oil-price threat, supreme court extends penneast’s pipeline saga. welcome to energy source, the ft’s relaunched newsletter about the world’s most important business. twice a week, starting today, energy source will deliver essential news, smart analysis, and inside… [+9434 chars]'"
     },
     "metadata": {},
     "execution_count": 8
    }
   ],
   "source": [
    "news_text[3]"
   ]
  },
  {
   "cell_type": "code",
   "execution_count": 9,
   "metadata": {},
   "outputs": [],
   "source": [
    "nlp = spacy.load(\"en\")"
   ]
  },
  {
   "cell_type": "code",
   "execution_count": 10,
   "metadata": {},
   "outputs": [],
   "source": [
    "def lemmatizer(doc):\n",
    "    doc = [token.lemma_ for token in doc if token.lemma_ != '-PRON-']\n",
    "    doc = u' '.join(doc)\n",
    "    return nlp.make_doc(doc)"
   ]
  },
  {
   "cell_type": "code",
   "execution_count": 11,
   "metadata": {},
   "outputs": [],
   "source": [
    "# update stop words list\n",
    "custom_stop_list = [\"char\", \"   \", \"  \", \"|\"]\n",
    "nlp.Defaults.stop_words.update(custom_stop_list)\n",
    "\n",
    "for word in STOP_WORDS:\n",
    "    lexeme = nlp.vocab[word]\n",
    "    lexeme.is_stop = True\n",
    "\n",
    "def remove_stopwords(doc):\n",
    "    # This will remove stopwords and punctuation.\n",
    "    # Use token.text to return strings, which we'll need for Gensim.\n",
    "    doc = [token.text for token in doc if token.is_stop != True and token.is_punct != True]\n",
    "    return doc"
   ]
  },
  {
   "cell_type": "code",
   "execution_count": 12,
   "metadata": {},
   "outputs": [],
   "source": [
    "# The add_pipe function appends our functions to the default pipeline.\n",
    "nlp.add_pipe(lemmatizer,name='lemmatizer',after='ner')\n",
    "nlp.add_pipe(remove_stopwords, name=\"stopwords\", last=True)"
   ]
  },
  {
   "cell_type": "code",
   "execution_count": 13,
   "metadata": {},
   "outputs": [],
   "source": [
    "doc_list = []\n",
    "# Iterates through each article in the corpus.\n",
    "for doc in news_text:\n",
    "    # Passes that article through the pipeline and adds to a new list.\n",
    "    pr = nlp(doc)\n",
    "    doc_list.append(pr)"
   ]
  },
  {
   "cell_type": "code",
   "execution_count": 14,
   "metadata": {},
   "outputs": [],
   "source": [
    "# Creates mapping of word IDs to words.\n",
    "words = corpora.Dictionary(doc_list)\n",
    "\n",
    "# Turns each document into a bag of words.\n",
    "corpus = [words.doc2bow(doc) for doc in doc_list]"
   ]
  },
  {
   "cell_type": "code",
   "execution_count": 15,
   "metadata": {},
   "outputs": [],
   "source": [
    "lda_model = gensim.models.ldamodel.LdaModel(corpus=corpus,\n",
    "                                           id2word=words,\n",
    "                                           num_topics=50, \n",
    "                                           random_state=0,\n",
    "                                           update_every=5,\n",
    "                                           passes=100,\n",
    "                                           alpha='auto',\n",
    "                                           per_word_topics=True)"
   ]
  },
  {
   "cell_type": "code",
   "execution_count": 16,
   "metadata": {
    "tags": []
   },
   "outputs": [
    {
     "output_type": "stream",
     "name": "stdout",
     "text": "[(21,\n  '0.020*\"course\" + 0.013*\"cast\" + 0.013*\"x\" + 0.013*\"stewart\" + '\n  '0.013*\"patrick\" + 0.013*\"man\" + 0.013*\"jackman\" + 0.013*\"hugh\" + '\n  '0.013*\"daughter\" + 0.007*\"raise\"'),\n (4,\n  '0.022*\"bubba\" + 0.018*\"north\" + 0.018*\"find\" + 0.014*\"partnership\" + '\n  '0.014*\"rope\" + 0.014*\"carolina\" + 0.014*\"lose\" + 0.014*\"apocalypse\" + '\n  '0.014*\"owner\" + 0.009*\"noose\"'),\n (31,\n  '0.019*\"new\" + 0.015*\"tiny\" + 0.015*\"draw\" + 0.015*\"chance\" + 0.015*\"health\" '\n  '+ 0.015*\"report\" + 0.011*\"protester\" + 0.011*\"ontario\" + 0.011*\"kentucky\" + '\n  '0.011*\"west\"'),\n (9,\n  '0.024*\"intelligence\" + 0.020*\"trump\" + 0.016*\"donald\" + 0.012*\"include\" + '\n  '0.012*\"daily\" + 0.012*\"president\" + 0.012*\"russian\" + 0.012*\"account\" + '\n  '0.012*\"boogaloo\" + 0.008*\"taliban\"'),\n (26,\n  '0.021*\"delhi\" + 0.021*\"face\" + 0.014*\"earthquake\" + 0.010*\"near\" + '\n  '0.010*\"team\" + 0.010*\"snyder\" + 0.010*\"4.7\" + 0.010*\"investment\" + '\n  '0.010*\"hutchinson\" + 0.010*\"change\"'),\n (37,\n  '0.016*\"raji\" + 0.012*\"virus\" + 0.012*\"human\" + 0.012*\"ancient\" + '\n  '0.008*\"toxic\" + 0.008*\"gameplay\" + 0.008*\"minute\" + 0.008*\"7\" + '\n  '0.008*\"epic\" + 0.008*\"young\"'),\n (2,\n  '0.014*\"federal\" + 0.011*\"week\" + 0.011*\"look\" + 0.011*\"summer\" + '\n  '0.008*\"student\" + 0.008*\"government\" + 0.008*\"grant\" + 0.008*\"charity\" + '\n  '0.008*\"w\" + 0.008*\"torvalds\"'),\n (39,\n  '0.014*\"kelleher\" + 0.014*\"mep\" + 0.014*\"election\" + 0.014*\"child\" + '\n  '0.011*\"walker\" + 0.011*\"apologise\" + 0.011*\"micheál\" + 0.011*\"martin\" + '\n  '0.011*\"billy\" + 0.011*\"taoiseach\"'),\n (48,\n  '0.016*\"seat\" + 0.016*\"middle\" + 0.016*\"report\" + 0.016*\"flight\" + '\n  '0.014*\"coronavirus\" + 0.014*\"case\" + 0.011*\"state\" + 0.011*\"senator\" + '\n  '0.011*\"crowded\" + 0.011*\"block\"'),\n (7,\n  '0.023*\"inslee\" + 0.019*\"trump\" + 0.017*\"jay\" + 0.013*\"washington\" + '\n  '0.013*\"governor\" + 0.010*\"shah\" + 0.010*\"mask\" + 0.010*\"pandemic\" + '\n  '0.010*\"coronavirus\" + 0.010*\"ifill\"'),\n (8,\n  '0.013*\"life\" + 0.010*\"john\" + 0.010*\"black\" + 0.010*\"matter\" + '\n  '0.010*\"collins\" + 0.008*\"reiner\" + 0.008*\"carl\" + 0.008*\"decision\" + '\n  '0.006*\"end\" + 0.006*\"old\"'),\n (29,\n  '0.036*\"intelligence\" + 0.027*\"bounty\" + 0.024*\"troop\" + 0.023*\"afghanistan\" '\n  '+ 0.023*\"report\" + 0.021*\"russian\" + 0.020*\"trump\" + 0.017*\"house\" + '\n  '0.016*\"republicans\" + 0.016*\"u.s\"'),\n (5,\n  '0.018*\"prime\" + 0.016*\"minister\" + 0.010*\"new\" + 0.010*\"student\" + '\n  '0.010*\"city\" + 0.010*\"president\" + 0.010*\"news\" + 0.009*\"grant\" + '\n  '0.009*\"charity\" + 0.009*\"900\"'),\n (20,\n  '0.018*\"coronavirus\" + 0.016*\"pandemic\" + 0.009*\"year\" + 0.009*\"new\" + '\n  '0.009*\"update\" + 0.008*\"china\" + 0.008*\"late\" + 0.006*\"day\" + 0.006*\"nolan\" '\n  '+ 0.006*\"flu\"'),\n (46,\n  '0.031*\"case\" + 0.030*\"state\" + 0.027*\"coronavirus\" + 0.015*\"covid-19\" + '\n  '0.011*\"new\" + 0.010*\"public\" + 0.010*\"self\" + 0.008*\"atlantic\" + '\n  '0.008*\"surge\" + 0.008*\"mask\"'),\n (30,\n  '0.060*\"trump\" + 0.043*\"video\" + 0.033*\"power\" + 0.030*\"white\" + '\n  '0.028*\"president\" + 0.021*\"supporter\" + 0.019*\"donald\" + 0.019*\"protester\" '\n  '+ 0.014*\"retweete\" + 0.014*\"shout\"'),\n (13,\n  '0.013*\"$\" + 0.013*\"business\" + 0.010*\"people\" + 0.010*\"small\" + '\n  '0.009*\"pilgrim\" + 0.008*\"man\" + 0.007*\"ign\" + 0.007*\"time\" + 0.007*\"10\" + '\n  '0.007*\"sikh\"'),\n (44,\n  '0.022*\"newsletter\" + 0.022*\"quizzes\" + 0.015*\"trump\" + 0.014*\"senator\" + '\n  '0.013*\"president\" + 0.011*\"quiz\" + 0.011*\"right\" + 0.011*\"deliver\" + '\n  '0.011*\"binge\" + 0.011*\"buzzfeed\"'),\n (38,\n  '0.047*\"nation\" + 0.046*\"2020\" + 0.043*\"face\" + 0.040*\"transcript\" + '\n  '0.027*\"follow\" + 0.026*\"air\" + 0.026*\"interview\" + 0.025*\"sunday\" + '\n  '0.025*\"july\" + 0.024*\"5\"'),\n (40,\n  '0.018*\"trump\" + 0.015*\"cbs\" + 0.014*\"u.s\" + 0.013*\"russia\" + 0.012*\"house\" '\n  '+ 0.011*\"reserve\" + 0.011*\"white\" + 0.010*\"right\" + 0.010*\"live\" + '\n  '0.010*\"cbsn\"')]\n"
    }
   ],
   "source": [
    "pprint(lda_model.print_topics(num_words=10))"
   ]
  },
  {
   "cell_type": "code",
   "execution_count": 17,
   "metadata": {
    "tags": []
   },
   "outputs": [
    {
     "output_type": "execute_result",
     "data": {
      "text/plain": "   document_no  dominant_topic  topic_perc_contrib  \\\n0            0            29.0              0.3724   \n1            1            23.0              0.9892   \n2            2            20.0              0.9890   \n3            3            17.0              0.9901   \n4            4            49.0              0.9787   \n5            5            28.0              0.9906   \n6            6            25.0              0.9884   \n7            7            25.0              0.9805   \n8            8            40.0              0.4943   \n9            9            40.0              0.6938   \n\n                                            keywords  \\\n0  intelligence, bounty, troop, afghanistan, repo...   \n1  coronavirus, case, state, vaccine, covid-19, a...   \n2  coronavirus, pandemic, year, new, update, chin...   \n3  gun, real, energy, sergio, ramos, madrid, pert...   \n4  coronavirus, live, backup, news, world, surge,...   \n5  state, flag, mississippi, confederate, bill, e...   \n6  chinese, movie, watch, tv, dna, india, trading...   \n7  chinese, movie, watch, tv, dna, india, trading...   \n8  trump, cbs, u.s, russia, house, reserve, white...   \n9  trump, cbs, u.s, russia, house, reserve, white...   \n\n                                                text  \n0  biden: trump's entire presidency has been a gi...  \n1  premier warns entirety of victoria could go ba...  \n2  wall street stocks seal best quarter since 199...  \n3  energy source is back: is texas about to sink ...  \n4  your life at home. parenting, technology and w...  \n5  with a pen stroke, mississippi drops confedera...  \n6  uphold rights of international investors, says...  \n7  panetta: russian bounties close to 'act of war...  \n8  u.s. laws allow \"horrific\" child marriages, su...  \n9  white house attacks leaks as lawmakers demand ...  ",
      "text/html": "<div>\n<style scoped>\n    .dataframe tbody tr th:only-of-type {\n        vertical-align: middle;\n    }\n\n    .dataframe tbody tr th {\n        vertical-align: top;\n    }\n\n    .dataframe thead th {\n        text-align: right;\n    }\n</style>\n<table border=\"1\" class=\"dataframe\">\n  <thead>\n    <tr style=\"text-align: right;\">\n      <th></th>\n      <th>document_no</th>\n      <th>dominant_topic</th>\n      <th>topic_perc_contrib</th>\n      <th>keywords</th>\n      <th>text</th>\n    </tr>\n  </thead>\n  <tbody>\n    <tr>\n      <th>0</th>\n      <td>0</td>\n      <td>29.0</td>\n      <td>0.3724</td>\n      <td>intelligence, bounty, troop, afghanistan, repo...</td>\n      <td>biden: trump's entire presidency has been a gi...</td>\n    </tr>\n    <tr>\n      <th>1</th>\n      <td>1</td>\n      <td>23.0</td>\n      <td>0.9892</td>\n      <td>coronavirus, case, state, vaccine, covid-19, a...</td>\n      <td>premier warns entirety of victoria could go ba...</td>\n    </tr>\n    <tr>\n      <th>2</th>\n      <td>2</td>\n      <td>20.0</td>\n      <td>0.9890</td>\n      <td>coronavirus, pandemic, year, new, update, chin...</td>\n      <td>wall street stocks seal best quarter since 199...</td>\n    </tr>\n    <tr>\n      <th>3</th>\n      <td>3</td>\n      <td>17.0</td>\n      <td>0.9901</td>\n      <td>gun, real, energy, sergio, ramos, madrid, pert...</td>\n      <td>energy source is back: is texas about to sink ...</td>\n    </tr>\n    <tr>\n      <th>4</th>\n      <td>4</td>\n      <td>49.0</td>\n      <td>0.9787</td>\n      <td>coronavirus, live, backup, news, world, surge,...</td>\n      <td>your life at home. parenting, technology and w...</td>\n    </tr>\n    <tr>\n      <th>5</th>\n      <td>5</td>\n      <td>28.0</td>\n      <td>0.9906</td>\n      <td>state, flag, mississippi, confederate, bill, e...</td>\n      <td>with a pen stroke, mississippi drops confedera...</td>\n    </tr>\n    <tr>\n      <th>6</th>\n      <td>6</td>\n      <td>25.0</td>\n      <td>0.9884</td>\n      <td>chinese, movie, watch, tv, dna, india, trading...</td>\n      <td>uphold rights of international investors, says...</td>\n    </tr>\n    <tr>\n      <th>7</th>\n      <td>7</td>\n      <td>25.0</td>\n      <td>0.9805</td>\n      <td>chinese, movie, watch, tv, dna, india, trading...</td>\n      <td>panetta: russian bounties close to 'act of war...</td>\n    </tr>\n    <tr>\n      <th>8</th>\n      <td>8</td>\n      <td>40.0</td>\n      <td>0.4943</td>\n      <td>trump, cbs, u.s, russia, house, reserve, white...</td>\n      <td>u.s. laws allow \"horrific\" child marriages, su...</td>\n    </tr>\n    <tr>\n      <th>9</th>\n      <td>9</td>\n      <td>40.0</td>\n      <td>0.6938</td>\n      <td>trump, cbs, u.s, russia, house, reserve, white...</td>\n      <td>white house attacks leaks as lawmakers demand ...</td>\n    </tr>\n  </tbody>\n</table>\n</div>"
     },
     "metadata": {},
     "execution_count": 17
    }
   ],
   "source": [
    "def format_topics_sentences(ldamodel, corpus, texts):\n",
    "    # Init output\n",
    "    sent_topics_df = pandas.DataFrame()\n",
    "\n",
    "    # Get main topic in each document\n",
    "    for i, row in enumerate(ldamodel[corpus]):\n",
    "        row = sorted(row[0], key=lambda x: (x[1]), reverse=True)\n",
    "        # Get the Dominant topic, Perc Contribution and Keywords for each document\n",
    "        for j, (topic_num, prop_topic) in enumerate(row):\n",
    "            if j == 0:  # => dominant topic\n",
    "                wp = ldamodel.show_topic(topic_num)\n",
    "                topic_keywords = \", \".join([word for word, prop in wp])\n",
    "                sent_topics_df = sent_topics_df.append(\n",
    "                        pandas.Series(\n",
    "                            [int(topic_num), round(prop_topic,4),topic_keywords]\n",
    "                        ), ignore_index=True\n",
    "                    )\n",
    "            else:\n",
    "                break\n",
    "    sent_topics_df.columns = ['dominant_topic', 'perc_contribution', 'topic_keywords']\n",
    "\n",
    "    # Add original text to the end of the output\n",
    "    contents = pandas.Series(texts)\n",
    "    sent_topics_df = pandas.concat([sent_topics_df, contents], axis=1)\n",
    "    return(sent_topics_df)\n",
    "\n",
    "\n",
    "df_topic_sents_keywords = format_topics_sentences(ldamodel=lda_model, corpus=corpus, texts=news_text)\n",
    "\n",
    "# Format\n",
    "df_dominant_topic = df_topic_sents_keywords.reset_index()\n",
    "df_dominant_topic.columns = ['document_no', 'dominant_topic', 'topic_perc_contrib', 'keywords', 'text']\n",
    "\n",
    "# Show\n",
    "df_dominant_topic.head(10)"
   ]
  },
  {
   "cell_type": "code",
   "execution_count": 18,
   "metadata": {},
   "outputs": [
    {
     "output_type": "execute_result",
     "data": {
      "text/plain": "    topic_Num  perc_Contribution  \\\n0         0.0             0.9938   \n1         1.0             0.9907   \n2         2.0             0.9905   \n3         3.0             0.9917   \n4         4.0             0.9912   \n5         5.0             0.9916   \n6         6.0             0.9916   \n7         7.0             0.9892   \n8         8.0             0.9906   \n9         9.0             0.9911   \n10       10.0             0.9919   \n11       11.0             0.9919   \n12       12.0             0.9922   \n13       13.0             0.9932   \n14       14.0             0.9911   \n15       15.0             0.9917   \n16       16.0             0.9919   \n17       17.0             0.9905   \n18       18.0             0.9917   \n19       19.0             0.9913   \n\n                                             keywords  \\\n0   taxi, $, >, new, tesla, national, commission, ...   \n1   roberts, amp, load, china, julia, justice, lib...   \n2   federal, week, look, summer, student, governme...   \n3   telescope, sibling, pick, work, popular, templ...   \n4   bubba, north, find, partnership, rope, carolin...   \n5   prime, minister, new, student, city, president...   \n6   state, maxwell, coronavirus, tuesday, ghislain...   \n7   inslee, trump, jay, washington, governor, shah...   \n8   life, john, black, matter, collins, reiner, ca...   \n9   intelligence, trump, donald, include, daily, p...   \n10  coronavirus, pandemic, month, rule, covid-19, ...   \n11  year, chinese, july, stock, close, market, pub...   \n12  trump, sunday, man, campaign, video, cart, sha...   \n13  $, business, people, small, pilgrim, man, ign,...   \n14  face, canadian, morning, hall, ground, rideau,...   \n15  $, student, court, x, teacher, pay, recruit, j...   \n16  >, court, baltimore, charge, statue, saturday,...   \n17  gun, real, energy, sergio, ramos, madrid, pert...   \n18  new, facebook, like, headset, look, $, gen, co...   \n19  wayne, john, airport, county, rename, son, dem...   \n\n                                                 text  \n0   $500 off razer blade 15 intel core i7 gtx 1660...  \n1   john roberts sides with liberals on supreme co...  \n2   linus torvalds:  'i do no coding any more' - s...  \n3   dr. bonnie henry says she's concerned about co...  \n4   north carolina speedway loses partnerships aft...  \n5   new york city gunman shoots man dead, wounds w...  \n6   cendana capital, which has been backing seed f...  \n7   inslee faults trump for failing to push masks ...  \n8   police investigating suspicious death, maintai...  \n9   intelligence on russian bounty plot was includ...  \n10  government plans to extend quarantine rules re...  \n11  charts show how black americans' economic prog...  \n12  uk government takes $500 million stake in spac...  \n13  20 people, mostly sikh pilgrims, feared dead a...  \n14  rcmp to give update on caf member arrested on ...  \n15  new on disney plus in july: hamilton, x-men: d...  \n16  sources: nba plans to paint 'black lives matte...  \n17  athletic bilbao 0-1 real madrid: sergio ramos ...  \n18  facebook’s newest proof-of-concept vr headset ...  \n19  john wayne’s son responds to resolution callin...  ",
      "text/html": "<div>\n<style scoped>\n    .dataframe tbody tr th:only-of-type {\n        vertical-align: middle;\n    }\n\n    .dataframe tbody tr th {\n        vertical-align: top;\n    }\n\n    .dataframe thead th {\n        text-align: right;\n    }\n</style>\n<table border=\"1\" class=\"dataframe\">\n  <thead>\n    <tr style=\"text-align: right;\">\n      <th></th>\n      <th>topic_Num</th>\n      <th>perc_Contribution</th>\n      <th>keywords</th>\n      <th>text</th>\n    </tr>\n  </thead>\n  <tbody>\n    <tr>\n      <th>0</th>\n      <td>0.0</td>\n      <td>0.9938</td>\n      <td>taxi, $, &gt;, new, tesla, national, commission, ...</td>\n      <td>$500 off razer blade 15 intel core i7 gtx 1660...</td>\n    </tr>\n    <tr>\n      <th>1</th>\n      <td>1.0</td>\n      <td>0.9907</td>\n      <td>roberts, amp, load, china, julia, justice, lib...</td>\n      <td>john roberts sides with liberals on supreme co...</td>\n    </tr>\n    <tr>\n      <th>2</th>\n      <td>2.0</td>\n      <td>0.9905</td>\n      <td>federal, week, look, summer, student, governme...</td>\n      <td>linus torvalds:  'i do no coding any more' - s...</td>\n    </tr>\n    <tr>\n      <th>3</th>\n      <td>3.0</td>\n      <td>0.9917</td>\n      <td>telescope, sibling, pick, work, popular, templ...</td>\n      <td>dr. bonnie henry says she's concerned about co...</td>\n    </tr>\n    <tr>\n      <th>4</th>\n      <td>4.0</td>\n      <td>0.9912</td>\n      <td>bubba, north, find, partnership, rope, carolin...</td>\n      <td>north carolina speedway loses partnerships aft...</td>\n    </tr>\n    <tr>\n      <th>5</th>\n      <td>5.0</td>\n      <td>0.9916</td>\n      <td>prime, minister, new, student, city, president...</td>\n      <td>new york city gunman shoots man dead, wounds w...</td>\n    </tr>\n    <tr>\n      <th>6</th>\n      <td>6.0</td>\n      <td>0.9916</td>\n      <td>state, maxwell, coronavirus, tuesday, ghislain...</td>\n      <td>cendana capital, which has been backing seed f...</td>\n    </tr>\n    <tr>\n      <th>7</th>\n      <td>7.0</td>\n      <td>0.9892</td>\n      <td>inslee, trump, jay, washington, governor, shah...</td>\n      <td>inslee faults trump for failing to push masks ...</td>\n    </tr>\n    <tr>\n      <th>8</th>\n      <td>8.0</td>\n      <td>0.9906</td>\n      <td>life, john, black, matter, collins, reiner, ca...</td>\n      <td>police investigating suspicious death, maintai...</td>\n    </tr>\n    <tr>\n      <th>9</th>\n      <td>9.0</td>\n      <td>0.9911</td>\n      <td>intelligence, trump, donald, include, daily, p...</td>\n      <td>intelligence on russian bounty plot was includ...</td>\n    </tr>\n    <tr>\n      <th>10</th>\n      <td>10.0</td>\n      <td>0.9919</td>\n      <td>coronavirus, pandemic, month, rule, covid-19, ...</td>\n      <td>government plans to extend quarantine rules re...</td>\n    </tr>\n    <tr>\n      <th>11</th>\n      <td>11.0</td>\n      <td>0.9919</td>\n      <td>year, chinese, july, stock, close, market, pub...</td>\n      <td>charts show how black americans' economic prog...</td>\n    </tr>\n    <tr>\n      <th>12</th>\n      <td>12.0</td>\n      <td>0.9922</td>\n      <td>trump, sunday, man, campaign, video, cart, sha...</td>\n      <td>uk government takes $500 million stake in spac...</td>\n    </tr>\n    <tr>\n      <th>13</th>\n      <td>13.0</td>\n      <td>0.9932</td>\n      <td>$, business, people, small, pilgrim, man, ign,...</td>\n      <td>20 people, mostly sikh pilgrims, feared dead a...</td>\n    </tr>\n    <tr>\n      <th>14</th>\n      <td>14.0</td>\n      <td>0.9911</td>\n      <td>face, canadian, morning, hall, ground, rideau,...</td>\n      <td>rcmp to give update on caf member arrested on ...</td>\n    </tr>\n    <tr>\n      <th>15</th>\n      <td>15.0</td>\n      <td>0.9917</td>\n      <td>$, student, court, x, teacher, pay, recruit, j...</td>\n      <td>new on disney plus in july: hamilton, x-men: d...</td>\n    </tr>\n    <tr>\n      <th>16</th>\n      <td>16.0</td>\n      <td>0.9919</td>\n      <td>&gt;, court, baltimore, charge, statue, saturday,...</td>\n      <td>sources: nba plans to paint 'black lives matte...</td>\n    </tr>\n    <tr>\n      <th>17</th>\n      <td>17.0</td>\n      <td>0.9905</td>\n      <td>gun, real, energy, sergio, ramos, madrid, pert...</td>\n      <td>athletic bilbao 0-1 real madrid: sergio ramos ...</td>\n    </tr>\n    <tr>\n      <th>18</th>\n      <td>18.0</td>\n      <td>0.9917</td>\n      <td>new, facebook, like, headset, look, $, gen, co...</td>\n      <td>facebook’s newest proof-of-concept vr headset ...</td>\n    </tr>\n    <tr>\n      <th>19</th>\n      <td>19.0</td>\n      <td>0.9913</td>\n      <td>wayne, john, airport, county, rename, son, dem...</td>\n      <td>john wayne’s son responds to resolution callin...</td>\n    </tr>\n  </tbody>\n</table>\n</div>"
     },
     "metadata": {},
     "execution_count": 18
    }
   ],
   "source": [
    "# Group top 5 sentences under each topic\n",
    "sent_topics_sorteddf = pandas.DataFrame()\n",
    "\n",
    "sent_topics_outdf_grpd = df_topic_sents_keywords.groupby('dominant_topic')\n",
    "\n",
    "for i, grp in sent_topics_outdf_grpd:\n",
    "    sent_topics_sorteddf = pandas.concat([sent_topics_sorteddf, \n",
    "                                             grp.sort_values(['perc_contribution'], \n",
    "                                             ascending=[0]).head(1)],\n",
    "                                             axis=0\n",
    "                                             )\n",
    "\n",
    "# Reset Index    \n",
    "sent_topics_sorteddf.reset_index(drop=True, inplace=True)\n",
    "\n",
    "# Format\n",
    "sent_topics_sorteddf.columns = ['topic_Num', 'perc_Contribution', 'keywords', 'text']\n",
    "\n",
    "# Show\n",
    "sent_topics_sorteddf.head(20)"
   ]
  },
  {
   "cell_type": "code",
   "execution_count": 19,
   "metadata": {},
   "outputs": [
    {
     "output_type": "execute_result",
     "data": {
      "text/plain": "    dominant_topic                                     topic_keywords  \\\n40            40.0  trump, cbs, u.s, russia, house, reserve, white...   \n20            20.0  coronavirus, pandemic, year, new, update, chin...   \n46            46.0  case, state, coronavirus, covid-19, new, publi...   \n38            38.0  nation, 2020, face, transcript, follow, air, i...   \n30            30.0  trump, video, power, white, president, support...   \n5              5.0  prime, minister, new, student, city, president...   \n45            45.0  coronavirus, ubisoft, change, covid-19, americ...   \n8              8.0  life, john, black, matter, collins, reiner, ca...   \n44            44.0  newsletter, quizzes, trump, senator, president...   \n13            13.0  $, business, people, small, pilgrim, man, ign,...   \n16            16.0  >, court, baltimore, charge, statue, saturday,...   \n28            28.0  state, flag, mississippi, confederate, bill, e...   \n11            11.0  year, chinese, july, stock, close, market, pub...   \n10            10.0  coronavirus, pandemic, month, rule, covid-19, ...   \n49            49.0  coronavirus, live, backup, news, world, surge,...   \n14            14.0  face, canadian, morning, hall, ground, rideau,...   \n6              6.0  state, maxwell, coronavirus, tuesday, ghislain...   \n3              3.0  telescope, sibling, pick, work, popular, templ...   \n47            47.0  tech, year, coronavirus, huge, cbs, interactiv...   \n29            29.0  intelligence, bounty, troop, afghanistan, repo...   \n27            27.0  movie, cork, covid-19, mlc, fear, bank, conser...   \n36            36.0  trump, cnn, video, world, covid-19, immunity, ...   \n34            34.0  state, appear, hockey, late, list, ballot, can...   \n32            32.0  data, breach, kill, chop, security, man, peopl...   \n0              0.0  taxi, $, >, new, tesla, national, commission, ...   \n17            17.0  gun, real, energy, sergio, ramos, madrid, pert...   \n22            22.0  england, coronavirus, return, curran, quake, t...   \n1              1.0  roberts, amp, load, china, julia, justice, lib...   \n18            18.0  new, facebook, like, headset, look, $, gen, co...   \n12            12.0  trump, sunday, man, campaign, video, cart, sha...   \n25            25.0  chinese, movie, watch, tv, dna, india, trading...   \n24            24.0  app, gray, os, andre, nathaniel, watford, quin...   \n33            33.0  world, number, case, coronavirus, gym, set, ge...   \n23            23.0  coronavirus, case, state, vaccine, covid-19, a...   \n15            15.0  $, student, court, x, teacher, pay, recruit, j...   \n19            19.0  wayne, john, airport, county, rename, son, dem...   \n41            41.0  game, cruz, report, list, national, headline, ...   \n43            43.0  complaint, mogoeng, china, pass, non, motion, ...   \n48            48.0  seat, middle, report, flight, coronavirus, cas...   \n39            39.0  kelleher, mep, election, child, walker, apolog...   \n42            42.0  app, netflix, address, modi, rté, facebook, ne...   \n2              2.0  federal, week, look, summer, student, governme...   \n7              7.0  inslee, trump, jay, washington, governor, shah...   \n35            35.0  hamilton, grand, prix, bottas, austrian, new, ...   \n26            26.0  delhi, face, earthquake, near, team, snyder, 4...   \n31            31.0  new, tiny, draw, chance, health, report, prote...   \n37            37.0  raji, virus, human, ancient, toxic, gameplay, ...   \n4              4.0  bubba, north, find, partnership, rope, carolin...   \n9              9.0  intelligence, trump, donald, include, daily, p...   \n21            21.0  course, cast, x, stewart, patrick, man, jackma...   \n\n    num_documents  perc_documents  \n40             20        4.385965  \n20             16        3.508772  \n46             16        3.508772  \n38             16        3.508772  \n30             14        3.070175  \n5              14        3.070175  \n45             14        3.070175  \n8              14        3.070175  \n44             14        3.070175  \n13             13        2.850877  \n16             12        2.631579  \n28             12        2.631579  \n11             11        2.412281  \n10             11        2.412281  \n49             11        2.412281  \n14             10        2.192982  \n6              10        2.192982  \n3              10        2.192982  \n47             10        2.192982  \n29             10        2.192982  \n27              9        1.973684  \n36              9        1.973684  \n34              9        1.973684  \n32              9        1.973684  \n0               9        1.973684  \n17              9        1.973684  \n22              9        1.973684  \n1               8        1.754386  \n18              8        1.754386  \n12              8        1.754386  \n25              8        1.754386  \n24              7        1.535088  \n33              7        1.535088  \n23              7        1.535088  \n15              7        1.535088  \n19              7        1.535088  \n41              7        1.535088  \n43              7        1.535088  \n48              6        1.315789  \n39              6        1.315789  \n42              6        1.315789  \n2               6        1.315789  \n7               5        1.096491  \n35              5        1.096491  \n26              5        1.096491  \n31              4        0.877193  \n37              4        0.877193  \n4               3        0.657895  \n9               3        0.657895  \n21              1        0.219298  ",
      "text/html": "<div>\n<style scoped>\n    .dataframe tbody tr th:only-of-type {\n        vertical-align: middle;\n    }\n\n    .dataframe tbody tr th {\n        vertical-align: top;\n    }\n\n    .dataframe thead th {\n        text-align: right;\n    }\n</style>\n<table border=\"1\" class=\"dataframe\">\n  <thead>\n    <tr style=\"text-align: right;\">\n      <th></th>\n      <th>dominant_topic</th>\n      <th>topic_keywords</th>\n      <th>num_documents</th>\n      <th>perc_documents</th>\n    </tr>\n  </thead>\n  <tbody>\n    <tr>\n      <th>40</th>\n      <td>40.0</td>\n      <td>trump, cbs, u.s, russia, house, reserve, white...</td>\n      <td>20</td>\n      <td>4.385965</td>\n    </tr>\n    <tr>\n      <th>20</th>\n      <td>20.0</td>\n      <td>coronavirus, pandemic, year, new, update, chin...</td>\n      <td>16</td>\n      <td>3.508772</td>\n    </tr>\n    <tr>\n      <th>46</th>\n      <td>46.0</td>\n      <td>case, state, coronavirus, covid-19, new, publi...</td>\n      <td>16</td>\n      <td>3.508772</td>\n    </tr>\n    <tr>\n      <th>38</th>\n      <td>38.0</td>\n      <td>nation, 2020, face, transcript, follow, air, i...</td>\n      <td>16</td>\n      <td>3.508772</td>\n    </tr>\n    <tr>\n      <th>30</th>\n      <td>30.0</td>\n      <td>trump, video, power, white, president, support...</td>\n      <td>14</td>\n      <td>3.070175</td>\n    </tr>\n    <tr>\n      <th>5</th>\n      <td>5.0</td>\n      <td>prime, minister, new, student, city, president...</td>\n      <td>14</td>\n      <td>3.070175</td>\n    </tr>\n    <tr>\n      <th>45</th>\n      <td>45.0</td>\n      <td>coronavirus, ubisoft, change, covid-19, americ...</td>\n      <td>14</td>\n      <td>3.070175</td>\n    </tr>\n    <tr>\n      <th>8</th>\n      <td>8.0</td>\n      <td>life, john, black, matter, collins, reiner, ca...</td>\n      <td>14</td>\n      <td>3.070175</td>\n    </tr>\n    <tr>\n      <th>44</th>\n      <td>44.0</td>\n      <td>newsletter, quizzes, trump, senator, president...</td>\n      <td>14</td>\n      <td>3.070175</td>\n    </tr>\n    <tr>\n      <th>13</th>\n      <td>13.0</td>\n      <td>$, business, people, small, pilgrim, man, ign,...</td>\n      <td>13</td>\n      <td>2.850877</td>\n    </tr>\n    <tr>\n      <th>16</th>\n      <td>16.0</td>\n      <td>&gt;, court, baltimore, charge, statue, saturday,...</td>\n      <td>12</td>\n      <td>2.631579</td>\n    </tr>\n    <tr>\n      <th>28</th>\n      <td>28.0</td>\n      <td>state, flag, mississippi, confederate, bill, e...</td>\n      <td>12</td>\n      <td>2.631579</td>\n    </tr>\n    <tr>\n      <th>11</th>\n      <td>11.0</td>\n      <td>year, chinese, july, stock, close, market, pub...</td>\n      <td>11</td>\n      <td>2.412281</td>\n    </tr>\n    <tr>\n      <th>10</th>\n      <td>10.0</td>\n      <td>coronavirus, pandemic, month, rule, covid-19, ...</td>\n      <td>11</td>\n      <td>2.412281</td>\n    </tr>\n    <tr>\n      <th>49</th>\n      <td>49.0</td>\n      <td>coronavirus, live, backup, news, world, surge,...</td>\n      <td>11</td>\n      <td>2.412281</td>\n    </tr>\n    <tr>\n      <th>14</th>\n      <td>14.0</td>\n      <td>face, canadian, morning, hall, ground, rideau,...</td>\n      <td>10</td>\n      <td>2.192982</td>\n    </tr>\n    <tr>\n      <th>6</th>\n      <td>6.0</td>\n      <td>state, maxwell, coronavirus, tuesday, ghislain...</td>\n      <td>10</td>\n      <td>2.192982</td>\n    </tr>\n    <tr>\n      <th>3</th>\n      <td>3.0</td>\n      <td>telescope, sibling, pick, work, popular, templ...</td>\n      <td>10</td>\n      <td>2.192982</td>\n    </tr>\n    <tr>\n      <th>47</th>\n      <td>47.0</td>\n      <td>tech, year, coronavirus, huge, cbs, interactiv...</td>\n      <td>10</td>\n      <td>2.192982</td>\n    </tr>\n    <tr>\n      <th>29</th>\n      <td>29.0</td>\n      <td>intelligence, bounty, troop, afghanistan, repo...</td>\n      <td>10</td>\n      <td>2.192982</td>\n    </tr>\n    <tr>\n      <th>27</th>\n      <td>27.0</td>\n      <td>movie, cork, covid-19, mlc, fear, bank, conser...</td>\n      <td>9</td>\n      <td>1.973684</td>\n    </tr>\n    <tr>\n      <th>36</th>\n      <td>36.0</td>\n      <td>trump, cnn, video, world, covid-19, immunity, ...</td>\n      <td>9</td>\n      <td>1.973684</td>\n    </tr>\n    <tr>\n      <th>34</th>\n      <td>34.0</td>\n      <td>state, appear, hockey, late, list, ballot, can...</td>\n      <td>9</td>\n      <td>1.973684</td>\n    </tr>\n    <tr>\n      <th>32</th>\n      <td>32.0</td>\n      <td>data, breach, kill, chop, security, man, peopl...</td>\n      <td>9</td>\n      <td>1.973684</td>\n    </tr>\n    <tr>\n      <th>0</th>\n      <td>0.0</td>\n      <td>taxi, $, &gt;, new, tesla, national, commission, ...</td>\n      <td>9</td>\n      <td>1.973684</td>\n    </tr>\n    <tr>\n      <th>17</th>\n      <td>17.0</td>\n      <td>gun, real, energy, sergio, ramos, madrid, pert...</td>\n      <td>9</td>\n      <td>1.973684</td>\n    </tr>\n    <tr>\n      <th>22</th>\n      <td>22.0</td>\n      <td>england, coronavirus, return, curran, quake, t...</td>\n      <td>9</td>\n      <td>1.973684</td>\n    </tr>\n    <tr>\n      <th>1</th>\n      <td>1.0</td>\n      <td>roberts, amp, load, china, julia, justice, lib...</td>\n      <td>8</td>\n      <td>1.754386</td>\n    </tr>\n    <tr>\n      <th>18</th>\n      <td>18.0</td>\n      <td>new, facebook, like, headset, look, $, gen, co...</td>\n      <td>8</td>\n      <td>1.754386</td>\n    </tr>\n    <tr>\n      <th>12</th>\n      <td>12.0</td>\n      <td>trump, sunday, man, campaign, video, cart, sha...</td>\n      <td>8</td>\n      <td>1.754386</td>\n    </tr>\n    <tr>\n      <th>25</th>\n      <td>25.0</td>\n      <td>chinese, movie, watch, tv, dna, india, trading...</td>\n      <td>8</td>\n      <td>1.754386</td>\n    </tr>\n    <tr>\n      <th>24</th>\n      <td>24.0</td>\n      <td>app, gray, os, andre, nathaniel, watford, quin...</td>\n      <td>7</td>\n      <td>1.535088</td>\n    </tr>\n    <tr>\n      <th>33</th>\n      <td>33.0</td>\n      <td>world, number, case, coronavirus, gym, set, ge...</td>\n      <td>7</td>\n      <td>1.535088</td>\n    </tr>\n    <tr>\n      <th>23</th>\n      <td>23.0</td>\n      <td>coronavirus, case, state, vaccine, covid-19, a...</td>\n      <td>7</td>\n      <td>1.535088</td>\n    </tr>\n    <tr>\n      <th>15</th>\n      <td>15.0</td>\n      <td>$, student, court, x, teacher, pay, recruit, j...</td>\n      <td>7</td>\n      <td>1.535088</td>\n    </tr>\n    <tr>\n      <th>19</th>\n      <td>19.0</td>\n      <td>wayne, john, airport, county, rename, son, dem...</td>\n      <td>7</td>\n      <td>1.535088</td>\n    </tr>\n    <tr>\n      <th>41</th>\n      <td>41.0</td>\n      <td>game, cruz, report, list, national, headline, ...</td>\n      <td>7</td>\n      <td>1.535088</td>\n    </tr>\n    <tr>\n      <th>43</th>\n      <td>43.0</td>\n      <td>complaint, mogoeng, china, pass, non, motion, ...</td>\n      <td>7</td>\n      <td>1.535088</td>\n    </tr>\n    <tr>\n      <th>48</th>\n      <td>48.0</td>\n      <td>seat, middle, report, flight, coronavirus, cas...</td>\n      <td>6</td>\n      <td>1.315789</td>\n    </tr>\n    <tr>\n      <th>39</th>\n      <td>39.0</td>\n      <td>kelleher, mep, election, child, walker, apolog...</td>\n      <td>6</td>\n      <td>1.315789</td>\n    </tr>\n    <tr>\n      <th>42</th>\n      <td>42.0</td>\n      <td>app, netflix, address, modi, rté, facebook, ne...</td>\n      <td>6</td>\n      <td>1.315789</td>\n    </tr>\n    <tr>\n      <th>2</th>\n      <td>2.0</td>\n      <td>federal, week, look, summer, student, governme...</td>\n      <td>6</td>\n      <td>1.315789</td>\n    </tr>\n    <tr>\n      <th>7</th>\n      <td>7.0</td>\n      <td>inslee, trump, jay, washington, governor, shah...</td>\n      <td>5</td>\n      <td>1.096491</td>\n    </tr>\n    <tr>\n      <th>35</th>\n      <td>35.0</td>\n      <td>hamilton, grand, prix, bottas, austrian, new, ...</td>\n      <td>5</td>\n      <td>1.096491</td>\n    </tr>\n    <tr>\n      <th>26</th>\n      <td>26.0</td>\n      <td>delhi, face, earthquake, near, team, snyder, 4...</td>\n      <td>5</td>\n      <td>1.096491</td>\n    </tr>\n    <tr>\n      <th>31</th>\n      <td>31.0</td>\n      <td>new, tiny, draw, chance, health, report, prote...</td>\n      <td>4</td>\n      <td>0.877193</td>\n    </tr>\n    <tr>\n      <th>37</th>\n      <td>37.0</td>\n      <td>raji, virus, human, ancient, toxic, gameplay, ...</td>\n      <td>4</td>\n      <td>0.877193</td>\n    </tr>\n    <tr>\n      <th>4</th>\n      <td>4.0</td>\n      <td>bubba, north, find, partnership, rope, carolin...</td>\n      <td>3</td>\n      <td>0.657895</td>\n    </tr>\n    <tr>\n      <th>9</th>\n      <td>9.0</td>\n      <td>intelligence, trump, donald, include, daily, p...</td>\n      <td>3</td>\n      <td>0.657895</td>\n    </tr>\n    <tr>\n      <th>21</th>\n      <td>21.0</td>\n      <td>course, cast, x, stewart, patrick, man, jackma...</td>\n      <td>1</td>\n      <td>0.219298</td>\n    </tr>\n  </tbody>\n</table>\n</div>"
     },
     "metadata": {},
     "execution_count": 19
    }
   ],
   "source": [
    "# Number of Documents for Each Topic\n",
    "topic_counts = df_topic_sents_keywords['dominant_topic'].value_counts()\n",
    "\n",
    "# Topic Number and Keywords\n",
    "topic_num_keywords = df_topic_sents_keywords[['dominant_topic', 'topic_keywords']].groupby(\n",
    "                        ['dominant_topic', 'topic_keywords']\n",
    "                    )['topic_keywords'].count().reset_index(name='num_documents')\n",
    "\n",
    "topic_num_keywords['perc_documents'] = ((topic_num_keywords['num_documents'])/(topic_num_keywords['num_documents'].sum()))*100\n",
    "\n",
    "# show top topics\n",
    "topic_num_keywords.head(50).sort_values(by='perc_documents', ascending=False)"
   ]
  },
  {
   "cell_type": "code",
   "execution_count": 20,
   "metadata": {},
   "outputs": [
    {
     "output_type": "execute_result",
     "data": {
      "text/plain": "0      biden: trump's entire presidency has been a gi...\n1      premier warns entirety of victoria could go ba...\n2      wall street stocks seal best quarter since 199...\n3      energy source is back: is texas about to sink ...\n4      your life at home. parenting, technology and w...\n                             ...                        \n451    here are the hardest \"grease\" questions about ...\n452    here's everything you need to know about that ...\n453    your taste in tattoos will reveal what movie o...\n454    what gemstone will be in your engagement ring ...\n455    coronavirus australia live updates: melbourne ...\nName: text, Length: 456, dtype: object"
     },
     "metadata": {},
     "execution_count": 20
    }
   ],
   "source": [
    "news_text"
   ]
  },
  {
   "cell_type": "code",
   "execution_count": 21,
   "metadata": {},
   "outputs": [
    {
     "output_type": "execute_result",
     "data": {
      "text/plain": "     document_no  dominant_topic  topic_perc_contrib  \\\n0              0            29.0              0.3724   \n1              1            23.0              0.9892   \n2              2            20.0              0.9890   \n3              3            17.0              0.9901   \n4              4            49.0              0.9787   \n..           ...             ...                 ...   \n451          451            46.0              0.9634   \n452          452            10.0              0.9684   \n453          453            25.0              0.9722   \n454          454            13.0              0.5081   \n455          455            20.0              0.9900   \n\n                                              keywords  \\\n0    intelligence, bounty, troop, afghanistan, repo...   \n1    coronavirus, case, state, vaccine, covid-19, a...   \n2    coronavirus, pandemic, year, new, update, chin...   \n3    gun, real, energy, sergio, ramos, madrid, pert...   \n4    coronavirus, live, backup, news, world, surge,...   \n..                                                 ...   \n451  case, state, coronavirus, covid-19, new, publi...   \n452  coronavirus, pandemic, month, rule, covid-19, ...   \n453  chinese, movie, watch, tv, dna, india, trading...   \n454  $, business, people, small, pilgrim, man, ign,...   \n455  coronavirus, pandemic, year, new, update, chin...   \n\n                                                  text  \n0    biden: trump's entire presidency has been a gi...  \n1    premier warns entirety of victoria could go ba...  \n2    wall street stocks seal best quarter since 199...  \n3    energy source is back: is texas about to sink ...  \n4    your life at home. parenting, technology and w...  \n..                                                 ...  \n451  here are the hardest \"grease\" questions about ...  \n452  here's everything you need to know about that ...  \n453  your taste in tattoos will reveal what movie o...  \n454  what gemstone will be in your engagement ring ...  \n455  coronavirus australia live updates: melbourne ...  \n\n[456 rows x 5 columns]",
      "text/html": "<div>\n<style scoped>\n    .dataframe tbody tr th:only-of-type {\n        vertical-align: middle;\n    }\n\n    .dataframe tbody tr th {\n        vertical-align: top;\n    }\n\n    .dataframe thead th {\n        text-align: right;\n    }\n</style>\n<table border=\"1\" class=\"dataframe\">\n  <thead>\n    <tr style=\"text-align: right;\">\n      <th></th>\n      <th>document_no</th>\n      <th>dominant_topic</th>\n      <th>topic_perc_contrib</th>\n      <th>keywords</th>\n      <th>text</th>\n    </tr>\n  </thead>\n  <tbody>\n    <tr>\n      <th>0</th>\n      <td>0</td>\n      <td>29.0</td>\n      <td>0.3724</td>\n      <td>intelligence, bounty, troop, afghanistan, repo...</td>\n      <td>biden: trump's entire presidency has been a gi...</td>\n    </tr>\n    <tr>\n      <th>1</th>\n      <td>1</td>\n      <td>23.0</td>\n      <td>0.9892</td>\n      <td>coronavirus, case, state, vaccine, covid-19, a...</td>\n      <td>premier warns entirety of victoria could go ba...</td>\n    </tr>\n    <tr>\n      <th>2</th>\n      <td>2</td>\n      <td>20.0</td>\n      <td>0.9890</td>\n      <td>coronavirus, pandemic, year, new, update, chin...</td>\n      <td>wall street stocks seal best quarter since 199...</td>\n    </tr>\n    <tr>\n      <th>3</th>\n      <td>3</td>\n      <td>17.0</td>\n      <td>0.9901</td>\n      <td>gun, real, energy, sergio, ramos, madrid, pert...</td>\n      <td>energy source is back: is texas about to sink ...</td>\n    </tr>\n    <tr>\n      <th>4</th>\n      <td>4</td>\n      <td>49.0</td>\n      <td>0.9787</td>\n      <td>coronavirus, live, backup, news, world, surge,...</td>\n      <td>your life at home. parenting, technology and w...</td>\n    </tr>\n    <tr>\n      <th>...</th>\n      <td>...</td>\n      <td>...</td>\n      <td>...</td>\n      <td>...</td>\n      <td>...</td>\n    </tr>\n    <tr>\n      <th>451</th>\n      <td>451</td>\n      <td>46.0</td>\n      <td>0.9634</td>\n      <td>case, state, coronavirus, covid-19, new, publi...</td>\n      <td>here are the hardest \"grease\" questions about ...</td>\n    </tr>\n    <tr>\n      <th>452</th>\n      <td>452</td>\n      <td>10.0</td>\n      <td>0.9684</td>\n      <td>coronavirus, pandemic, month, rule, covid-19, ...</td>\n      <td>here's everything you need to know about that ...</td>\n    </tr>\n    <tr>\n      <th>453</th>\n      <td>453</td>\n      <td>25.0</td>\n      <td>0.9722</td>\n      <td>chinese, movie, watch, tv, dna, india, trading...</td>\n      <td>your taste in tattoos will reveal what movie o...</td>\n    </tr>\n    <tr>\n      <th>454</th>\n      <td>454</td>\n      <td>13.0</td>\n      <td>0.5081</td>\n      <td>$, business, people, small, pilgrim, man, ign,...</td>\n      <td>what gemstone will be in your engagement ring ...</td>\n    </tr>\n    <tr>\n      <th>455</th>\n      <td>455</td>\n      <td>20.0</td>\n      <td>0.9900</td>\n      <td>coronavirus, pandemic, year, new, update, chin...</td>\n      <td>coronavirus australia live updates: melbourne ...</td>\n    </tr>\n  </tbody>\n</table>\n<p>456 rows × 5 columns</p>\n</div>"
     },
     "metadata": {},
     "execution_count": 21
    }
   ],
   "source": [
    "df_dominant_topic"
   ]
  },
  {
   "cell_type": "code",
   "execution_count": 22,
   "metadata": {},
   "outputs": [
    {
     "output_type": "execute_result",
     "data": {
      "text/plain": "                               article_id                      publishedAt  \\\n0    9f54d198-91f6-469c-9cbf-c4cf2ff1032c 2020-07-01 00:37:25.913584+00:00   \n1    a4809d5f-32f6-48f5-a100-2aa2cd43223b        2020-07-01 00:32:13+00:00   \n2    bf3bacbb-4ca6-4518-b73f-0c72f6ded8f4 2020-07-01 00:52:19.822680+00:00   \n3    ae5b2f71-73ca-4395-ab9b-a70157fe417e 2020-07-01 00:22:21.011005+00:00   \n4    24ef003d-5f80-49fe-9bc6-0765ed17046f 2020-07-01 00:08:09.012992+00:00   \n..                                    ...                              ...   \n451  ecb79e27-e4f6-4b64-8510-caafea74950c 2020-06-30 23:52:26.565947+00:00   \n452  7123aed3-b55e-4ba7-8fd4-2826039a0b09 2020-06-30 00:52:27.296074+00:00   \n453  ae355183-9fb4-4e94-a79e-e843e4079dc3 2020-06-30 00:52:25.687100+00:00   \n454  ac9bbb3c-06ff-4558-9281-55ea1aaeb60f 2020-06-30 00:22:26.341299+00:00   \n455  e26ff965-fed4-43a9-8da2-d7861de2e6a2        2020-07-05 23:39:33+00:00   \n\n                                                  text  dominant_topic  \\\n0    biden: trump's entire presidency has been a gi...              29   \n1    premier warns entirety of victoria could go ba...              23   \n2    wall street stocks seal best quarter since 199...              20   \n3    energy source is back: is texas about to sink ...              17   \n4    your life at home. parenting, technology and w...              49   \n..                                                 ...             ...   \n451  here are the hardest \"grease\" questions about ...              46   \n452  here's everything you need to know about that ...              10   \n453  your taste in tattoos will reveal what movie o...              25   \n454  what gemstone will be in your engagement ring ...              13   \n455  coronavirus australia live updates: melbourne ...              20   \n\n     topic_perc_contrib                                           keywords  \n0                0.3724  intelligence, bounty, troop, afghanistan, repo...  \n1                0.9892  coronavirus, case, state, vaccine, covid-19, a...  \n2                0.9890  coronavirus, pandemic, year, new, update, chin...  \n3                0.9901  gun, real, energy, sergio, ramos, madrid, pert...  \n4                0.9787  coronavirus, live, backup, news, world, surge,...  \n..                  ...                                                ...  \n451              0.9634  case, state, coronavirus, covid-19, new, publi...  \n452              0.9684  coronavirus, pandemic, month, rule, covid-19, ...  \n453              0.9722  chinese, movie, watch, tv, dna, india, trading...  \n454              0.5081  $, business, people, small, pilgrim, man, ign,...  \n455              0.9900  coronavirus, pandemic, year, new, update, chin...  \n\n[456 rows x 6 columns]",
      "text/html": "<div>\n<style scoped>\n    .dataframe tbody tr th:only-of-type {\n        vertical-align: middle;\n    }\n\n    .dataframe tbody tr th {\n        vertical-align: top;\n    }\n\n    .dataframe thead th {\n        text-align: right;\n    }\n</style>\n<table border=\"1\" class=\"dataframe\">\n  <thead>\n    <tr style=\"text-align: right;\">\n      <th></th>\n      <th>article_id</th>\n      <th>publishedAt</th>\n      <th>text</th>\n      <th>dominant_topic</th>\n      <th>topic_perc_contrib</th>\n      <th>keywords</th>\n    </tr>\n  </thead>\n  <tbody>\n    <tr>\n      <th>0</th>\n      <td>9f54d198-91f6-469c-9cbf-c4cf2ff1032c</td>\n      <td>2020-07-01 00:37:25.913584+00:00</td>\n      <td>biden: trump's entire presidency has been a gi...</td>\n      <td>29</td>\n      <td>0.3724</td>\n      <td>intelligence, bounty, troop, afghanistan, repo...</td>\n    </tr>\n    <tr>\n      <th>1</th>\n      <td>a4809d5f-32f6-48f5-a100-2aa2cd43223b</td>\n      <td>2020-07-01 00:32:13+00:00</td>\n      <td>premier warns entirety of victoria could go ba...</td>\n      <td>23</td>\n      <td>0.9892</td>\n      <td>coronavirus, case, state, vaccine, covid-19, a...</td>\n    </tr>\n    <tr>\n      <th>2</th>\n      <td>bf3bacbb-4ca6-4518-b73f-0c72f6ded8f4</td>\n      <td>2020-07-01 00:52:19.822680+00:00</td>\n      <td>wall street stocks seal best quarter since 199...</td>\n      <td>20</td>\n      <td>0.9890</td>\n      <td>coronavirus, pandemic, year, new, update, chin...</td>\n    </tr>\n    <tr>\n      <th>3</th>\n      <td>ae5b2f71-73ca-4395-ab9b-a70157fe417e</td>\n      <td>2020-07-01 00:22:21.011005+00:00</td>\n      <td>energy source is back: is texas about to sink ...</td>\n      <td>17</td>\n      <td>0.9901</td>\n      <td>gun, real, energy, sergio, ramos, madrid, pert...</td>\n    </tr>\n    <tr>\n      <th>4</th>\n      <td>24ef003d-5f80-49fe-9bc6-0765ed17046f</td>\n      <td>2020-07-01 00:08:09.012992+00:00</td>\n      <td>your life at home. parenting, technology and w...</td>\n      <td>49</td>\n      <td>0.9787</td>\n      <td>coronavirus, live, backup, news, world, surge,...</td>\n    </tr>\n    <tr>\n      <th>...</th>\n      <td>...</td>\n      <td>...</td>\n      <td>...</td>\n      <td>...</td>\n      <td>...</td>\n      <td>...</td>\n    </tr>\n    <tr>\n      <th>451</th>\n      <td>ecb79e27-e4f6-4b64-8510-caafea74950c</td>\n      <td>2020-06-30 23:52:26.565947+00:00</td>\n      <td>here are the hardest \"grease\" questions about ...</td>\n      <td>46</td>\n      <td>0.9634</td>\n      <td>case, state, coronavirus, covid-19, new, publi...</td>\n    </tr>\n    <tr>\n      <th>452</th>\n      <td>7123aed3-b55e-4ba7-8fd4-2826039a0b09</td>\n      <td>2020-06-30 00:52:27.296074+00:00</td>\n      <td>here's everything you need to know about that ...</td>\n      <td>10</td>\n      <td>0.9684</td>\n      <td>coronavirus, pandemic, month, rule, covid-19, ...</td>\n    </tr>\n    <tr>\n      <th>453</th>\n      <td>ae355183-9fb4-4e94-a79e-e843e4079dc3</td>\n      <td>2020-06-30 00:52:25.687100+00:00</td>\n      <td>your taste in tattoos will reveal what movie o...</td>\n      <td>25</td>\n      <td>0.9722</td>\n      <td>chinese, movie, watch, tv, dna, india, trading...</td>\n    </tr>\n    <tr>\n      <th>454</th>\n      <td>ac9bbb3c-06ff-4558-9281-55ea1aaeb60f</td>\n      <td>2020-06-30 00:22:26.341299+00:00</td>\n      <td>what gemstone will be in your engagement ring ...</td>\n      <td>13</td>\n      <td>0.5081</td>\n      <td>$, business, people, small, pilgrim, man, ign,...</td>\n    </tr>\n    <tr>\n      <th>455</th>\n      <td>e26ff965-fed4-43a9-8da2-d7861de2e6a2</td>\n      <td>2020-07-05 23:39:33+00:00</td>\n      <td>coronavirus australia live updates: melbourne ...</td>\n      <td>20</td>\n      <td>0.9900</td>\n      <td>coronavirus, pandemic, year, new, update, chin...</td>\n    </tr>\n  </tbody>\n</table>\n<p>456 rows × 6 columns</p>\n</div>"
     },
     "metadata": {},
     "execution_count": 22
    }
   ],
   "source": [
    "output_df = pandas.concat([df[['article_id', 'publishedAt']], news_text, df_dominant_topic], axis=1)\n",
    "\n",
    "output_df.columns = ['article_id', 'publishedAt', 'text', 'drop', 'dominant_topic', 'topic_perc_contrib', 'keywords', 'drop']\n",
    "\n",
    "output_df.drop(output_df['drop'], axis=1, inplace=True)\n",
    "\n",
    "output_df['dominant_topic'] = output_df['dominant_topic'].astype(int)\n",
    "\n",
    "output_df"
   ]
  },
  {
   "cell_type": "code",
   "execution_count": 23,
   "metadata": {},
   "outputs": [],
   "source": [
    "output_df.to_parquet('df.parquet.gzip', allow_truncated_timestamps=True)\n",
    "\n",
    "bq_df = pandas.read_parquet('df.parquet.gzip')"
   ]
  },
  {
   "cell_type": "code",
   "execution_count": 24,
   "metadata": {},
   "outputs": [],
   "source": [
    "# configure BigQuery job\n",
    "job_config = bigquery.LoadJobConfig(\n",
    "    # Specify a (partial) schema. All columns are always written to the\n",
    "    # table. The schema is used to assist in data type definitions.\n",
    "    schema=[\n",
    "        # Specify the type of columns whose type cannot be auto-detected. For\n",
    "        # example the \"title\" column uses pandas dtype \"object\", so its\n",
    "        # data type is ambiguous.\n",
    "        bigquery.SchemaField(\"article_id\", bigquery.enums.SqlTypeNames.STRING),\n",
    "        bigquery.SchemaField(\"publishedAt\", bigquery.enums.SqlTypeNames.TIMESTAMP),\n",
    "        bigquery.SchemaField(\"text\", bigquery.enums.SqlTypeNames.STRING),\n",
    "        bigquery.SchemaField(\"dominant_topic\", bigquery.enums.SqlTypeNames.INT64),\n",
    "        bigquery.SchemaField(\"topic_perc_contrib\", bigquery.enums.SqlTypeNames.FLOAT64),\n",
    "        bigquery.SchemaField(\"keywords\", bigquery.enums.SqlTypeNames.STRING),\n",
    "    ],\n",
    "    # Optionally, set the write disposition. BigQuery appends loaded rows\n",
    "    # to an existing table by default, but with WRITE_TRUNCATE write\n",
    "    # disposition it replaces the table with the loaded data.\n",
    "    write_disposition=\"WRITE_TRUNCATE\",\n",
    ")"
   ]
  },
  {
   "cell_type": "code",
   "execution_count": 25,
   "metadata": {},
   "outputs": [
    {
     "output_type": "execute_result",
     "data": {
      "text/plain": "<google.cloud.bigquery.job.LoadJob at 0x127168c70>"
     },
     "metadata": {},
     "execution_count": 25
    }
   ],
   "source": [
    "table_id = \"news-site-280319.topics.article_topics\"\n",
    "job = client.load_table_from_dataframe(\n",
    "    bq_df,\n",
    "    table_id, \n",
    "    job_config=job_config\n",
    ")  # Make an API request.\n",
    "job.result()  # Wait for the job to complete."
   ]
  },
  {
   "cell_type": "code",
   "execution_count": 26,
   "metadata": {
    "tags": []
   },
   "outputs": [
    {
     "output_type": "execute_result",
     "data": {
      "text/plain": "'DONE'"
     },
     "metadata": {},
     "execution_count": 26
    }
   ],
   "source": [
    "# check job status\n",
    "job.result().state"
   ]
  }
 ],
 "metadata": {
  "language_info": {
   "codemirror_mode": {
    "name": "ipython",
    "version": 3
   },
   "file_extension": ".py",
   "mimetype": "text/x-python",
   "name": "python",
   "nbconvert_exporter": "python",
   "pygments_lexer": "ipython3",
   "version": "3.8.0-final"
  },
  "orig_nbformat": 2,
  "kernelspec": {
   "name": "python38064bit9c1e0c45891f4f5bb47cc2daf8211df6",
   "display_name": "Python 3.8.0 64-bit"
  }
 },
 "nbformat": 4,
 "nbformat_minor": 2
}