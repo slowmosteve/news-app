{
 "cells": [
  {
   "cell_type": "markdown",
   "metadata": {},
   "source": [
    "# News Topic Modeling\n",
    "\n",
    "This notebook is used to derive topics from news text\n"
   ]
  },
  {
   "cell_type": "code",
   "execution_count": 1,
   "metadata": {
    "tags": []
   },
   "outputs": [
    {
     "output_type": "stream",
     "name": "stdout",
     "text": "Activated [news-site].\n"
    }
   ],
   "source": [
    "!gcloud config configurations activate news-site"
   ]
  },
  {
   "cell_type": "code",
   "execution_count": 2,
   "metadata": {},
   "outputs": [],
   "source": [
    "from google.cloud import bigquery\n",
    "\n",
    "import gensim\n",
    "import gensim.corpora as corpora\n",
    "from gensim.utils import simple_preprocess\n",
    "from gensim.models import CoherenceModel\n",
    "\n",
    "import spacy\n",
    "from spacy.lemmatizer import Lemmatizer\n",
    "from spacy.lang.en.stop_words import STOP_WORDS\n",
    "import en_core_web_md\n",
    "\n",
    "import pandas\n",
    "import re\n",
    "from tqdm import tqdm_notebook as tqdm\n",
    "import numpy\n",
    "from pprint import pprint"
   ]
  },
  {
   "cell_type": "code",
   "execution_count": 3,
   "metadata": {
    "tags": []
   },
   "outputs": [
    {
     "output_type": "stream",
     "name": "stdout",
     "text": "&lt;class &#39;pandas.core.frame.DataFrame&#39;&gt;\nRangeIndex: 889 entries, 0 to 888\nData columns (total 3 columns):\n #   Column       Non-Null Count  Dtype              \n---  ------       --------------  -----              \n 0   article_id   889 non-null    object             \n 1   publishedAt  889 non-null    datetime64[ns, UTC]\n 2   text         889 non-null    object             \ndtypes: datetime64[ns, UTC](1), object(2)\nmemory usage: 21.0+ KB\n"
    }
   ],
   "source": [
    "client = bigquery.Client()\n",
    "sql = \"\"\"\n",
    "    SELECT \n",
    "        article_id,\n",
    "        publishedAt,\n",
    "        CONCAT(title, '. ', description, '. ', content) AS text\n",
    "    FROM `news-site-280319.news.articles`\n",
    "    WHERE\n",
    "      title IS NOT NULL\n",
    "      AND description IS NOT NULL\n",
    "      AND content IS NOT NULL\n",
    "      AND DATE(publishedAt) >= DATE_SUB(CURRENT_DATE(), INTERVAL 7 DAY)\n",
    "\"\"\"\n",
    "\n",
    "df = client.query(sql).to_dataframe()\n",
    "\n",
    "df.info()"
   ]
  },
  {
   "cell_type": "code",
   "execution_count": 4,
   "metadata": {},
   "outputs": [
    {
     "output_type": "execute_result",
     "data": {
      "text/plain": "                             article_id               publishedAt  \\\n0  a23e6a41-e4b7-4454-ab61-5f5f976a6676 2020-09-28 11:48:01+00:00   \n1  9eca8dbd-da7f-4b78-b341-ff068addf30c 2020-09-30 11:50:05+00:00   \n2  2bd0895f-c264-444b-ac7b-be77d3b78187 2020-09-28 11:06:00+00:00   \n3  1bcd7cb9-c8b5-40e9-a7c7-fb96a6659710 2020-09-28 11:14:27+00:00   \n4  cd7c854a-fe31-46de-8874-0f71425a8b9a 2020-09-28 11:28:37+00:00   \n\n                                                text  \n0  Turkey ‘indicts six more Saudis’ over Jamal Kh...  \n1  Earthquake swarm in California as 4 tremors sh...  \n2  2020/09/28 11:00 GMT. The latest five minute n...  \n3  French Open 2020: Petra Kvitova beats Oceane D...  \n4  Ben Curran: Northamptonshire opener signs new ...  ",
      "text/html": "<div>\n<style scoped>\n    .dataframe tbody tr th:only-of-type {\n        vertical-align: middle;\n    }\n\n    .dataframe tbody tr th {\n        vertical-align: top;\n    }\n\n    .dataframe thead th {\n        text-align: right;\n    }\n</style>\n<table border=\"1\" class=\"dataframe\">\n  <thead>\n    <tr style=\"text-align: right;\">\n      <th></th>\n      <th>article_id</th>\n      <th>publishedAt</th>\n      <th>text</th>\n    </tr>\n  </thead>\n  <tbody>\n    <tr>\n      <th>0</th>\n      <td>a23e6a41-e4b7-4454-ab61-5f5f976a6676</td>\n      <td>2020-09-28 11:48:01+00:00</td>\n      <td>Turkey ‘indicts six more Saudis’ over Jamal Kh...</td>\n    </tr>\n    <tr>\n      <th>1</th>\n      <td>9eca8dbd-da7f-4b78-b341-ff068addf30c</td>\n      <td>2020-09-30 11:50:05+00:00</td>\n      <td>Earthquake swarm in California as 4 tremors sh...</td>\n    </tr>\n    <tr>\n      <th>2</th>\n      <td>2bd0895f-c264-444b-ac7b-be77d3b78187</td>\n      <td>2020-09-28 11:06:00+00:00</td>\n      <td>2020/09/28 11:00 GMT. The latest five minute n...</td>\n    </tr>\n    <tr>\n      <th>3</th>\n      <td>1bcd7cb9-c8b5-40e9-a7c7-fb96a6659710</td>\n      <td>2020-09-28 11:14:27+00:00</td>\n      <td>French Open 2020: Petra Kvitova beats Oceane D...</td>\n    </tr>\n    <tr>\n      <th>4</th>\n      <td>cd7c854a-fe31-46de-8874-0f71425a8b9a</td>\n      <td>2020-09-28 11:28:37+00:00</td>\n      <td>Ben Curran: Northamptonshire opener signs new ...</td>\n    </tr>\n  </tbody>\n</table>\n</div>"
     },
     "metadata": {},
     "execution_count": 4
    }
   ],
   "source": [
    "df.head()"
   ]
  },
  {
   "cell_type": "code",
   "execution_count": 5,
   "metadata": {},
   "outputs": [
    {
     "output_type": "execute_result",
     "data": {
      "text/plain": "0    Turkey ‘indicts six more Saudis’ over Jamal Kh...\n1    Earthquake swarm in California as 4 tremors sh...\n2    2020/09/28 11:00 GMT. The latest five minute n...\n3    French Open 2020: Petra Kvitova beats Oceane D...\n4    Ben Curran: Northamptonshire opener signs new ...\nName: text, dtype: object"
     },
     "metadata": {},
     "execution_count": 5
    }
   ],
   "source": [
    "news_text = df['text']\n",
    "\n",
    "news_text.head()"
   ]
  },
  {
   "cell_type": "code",
   "execution_count": 6,
   "metadata": {},
   "outputs": [],
   "source": [
    "# replace all new line returns with spaces\n",
    "news_text = news_text.str.replace('\\r\\n', ' ', regex=True)"
   ]
  },
  {
   "cell_type": "code",
   "execution_count": 7,
   "metadata": {},
   "outputs": [],
   "source": [
    "# convert to lowercase\n",
    "news_text = news_text.str.lower()"
   ]
  },
  {
   "cell_type": "code",
   "execution_count": 8,
   "metadata": {},
   "outputs": [
    {
     "output_type": "execute_result",
     "data": {
      "text/plain": "&quot;french open 2020: petra kvitova beats oceane dodin to move into second round. seventh seed petra kvitova moves into the second round of the french open by beating france&#39;s oceane dodin on day two in paris.. a maximum of 1,000 fans were able to watch petra kvitova beat oceane dodin on court philippe chatrier &lt;table&gt;&lt;tr&gt;&lt;th&gt;french open 2020&lt;/th&gt;&lt;/tr&gt; &lt;tr&gt;&lt;td&gt;dates: 27 september - 11 october. venue: rola… [+815 chars]&quot;"
     },
     "metadata": {},
     "execution_count": 8
    }
   ],
   "source": [
    "news_text[3]"
   ]
  },
  {
   "cell_type": "code",
   "execution_count": 9,
   "metadata": {},
   "outputs": [],
   "source": [
    "nlp = spacy.load(\"en_core_web_md\")"
   ]
  },
  {
   "cell_type": "code",
   "execution_count": 10,
   "metadata": {},
   "outputs": [],
   "source": [
    "def lemmatizer(doc):\n",
    "    doc = [token.lemma_ for token in doc if token.lemma_ != '-PRON-']\n",
    "    doc = u' '.join(doc)\n",
    "    return nlp.make_doc(doc)"
   ]
  },
  {
   "cell_type": "code",
   "execution_count": 11,
   "metadata": {},
   "outputs": [],
   "source": [
    "# update stop words list\n",
    "custom_stop_list = [\"char\", \"   \", \"  \", \"|\", \"reuters\"]\n",
    "nlp.Defaults.stop_words.update(custom_stop_list)\n",
    "\n",
    "for word in STOP_WORDS:\n",
    "    lexeme = nlp.vocab[word]\n",
    "    lexeme.is_stop = True\n",
    "\n",
    "def remove_stopwords(doc):\n",
    "    # This will remove stopwords and punctuation.\n",
    "    # Use token.text to return strings, which we'll need for Gensim.\n",
    "    doc = [token.text for token in doc if token.is_stop != True and token.is_punct != True]\n",
    "    return doc"
   ]
  },
  {
   "cell_type": "code",
   "execution_count": 12,
   "metadata": {},
   "outputs": [],
   "source": [
    "# The add_pipe function appends our functions to the default pipeline.\n",
    "nlp.add_pipe(lemmatizer,name='lemmatizer',after='ner')\n",
    "nlp.add_pipe(remove_stopwords, name=\"stopwords\", last=True)"
   ]
  },
  {
   "cell_type": "code",
   "execution_count": 13,
   "metadata": {},
   "outputs": [],
   "source": [
    "doc_list = []\n",
    "# Iterates through each article in the corpus.\n",
    "for doc in news_text:\n",
    "    # Passes that article through the pipeline and adds to a new list.\n",
    "    pr = nlp(doc)\n",
    "    doc_list.append(pr)"
   ]
  },
  {
   "cell_type": "code",
   "execution_count": 14,
   "metadata": {},
   "outputs": [],
   "source": [
    "# Creates mapping of word IDs to words.\n",
    "words = corpora.Dictionary(doc_list)\n",
    "\n",
    "# Turns each document into a bag of words.\n",
    "corpus = [words.doc2bow(doc) for doc in doc_list]"
   ]
  },
  {
   "cell_type": "code",
   "execution_count": 15,
   "metadata": {
    "tags": []
   },
   "outputs": [],
   "source": [
    "lda_model = gensim.models.ldamodel.LdaModel(corpus=corpus,\n",
    "                                           id2word=words,\n",
    "                                           num_topics=20, \n",
    "                                           random_state=0,\n",
    "                                           update_every=1,\n",
    "                                           passes=100,\n",
    "                                           alpha='auto',\n",
    "                                           per_word_topics=True)"
   ]
  },
  {
   "cell_type": "code",
   "execution_count": 16,
   "metadata": {
    "tags": []
   },
   "outputs": [
    {
     "output_type": "stream",
     "name": "stdout",
     "text": "[(0,\n  &#39;0.014*&quot;6&quot; + 0.010*&quot;french&quot; + 0.009*&quot;new&quot; + 0.009*&quot;covid-19&quot; + 0.008*&quot;7&quot; + &#39;\n  &#39;0.008*&quot;work&quot; + 0.007*&quot;2&quot; + 0.006*&quot;seed&quot; + 0.006*&quot;end&quot; + 0.006*&quot;season&quot;&#39;),\n (1,\n  &#39;0.010*&quot;game&quot; + 0.010*&quot;google&quot; + 0.007*&quot;fight&quot; + 0.007*&quot;2020&quot; + &#39;\n  &#39;0.007*&quot;bundesliga&quot; + 0.007*&quot;eu&quot; + 0.006*&quot;score&quot; + 0.006*&quot;fitbit&quot; + &#39;\n  &#39;0.006*&quot;4&quot; + 0.006*&quot;braut&quot;&#39;),\n (2,\n  &#39;0.018*&quot;trump&quot; + 0.016*&quot;ap&quot; + 0.013*&quot;madrid&quot; + 0.011*&quot;white&quot; + &#39;\n  &#39;0.010*&quot;thursday&quot; + 0.009*&quot;house&quot; + 0.009*&quot;friday&quot; + 0.008*&quot;covid-19&quot; + &#39;\n  &#39;0.008*&quot;president&quot; + 0.007*&quot;bethesda&quot;&#39;),\n (3,\n  &#39;0.011*&quot;european&quot; + 0.009*&quot;new&quot; + 0.008*&quot;police&quot; + 0.008*&quot;story&quot; + 0.007*&quot;$&quot; &#39;\n  &#39;+ 0.007*&quot;open&quot; + 0.006*&quot;union&quot; + 0.006*&quot;file&quot; + 0.006*&quot;launch&quot; + &#39;\n  &#39;0.005*&quot;ap&quot;&#39;),\n (4,\n  &#39;0.013*&quot;new&quot; + 0.011*&quot;coronavirus&quot; + 0.008*&quot;senate&quot; + 0.007*&quot;trump&quot; + &#39;\n  &#39;0.007*&quot;republicans&quot; + 0.006*&quot;day&quot; + 0.006*&quot;president&quot; + 0.006*&quot;work&quot; + &#39;\n  &#39;0.005*&quot;legislative&quot; + 0.005*&quot;spend&quot;&#39;),\n (5,\n  &#39;0.013*&quot;company&quot; + 0.012*&quot;u.s&quot; + 0.010*&quot;uk&quot; + 0.009*&quot;hit&quot; + 0.008*&quot;pgl&quot; + &#39;\n  &#39;0.008*&quot;dollar&quot; + 0.007*&quot;million&quot; + 0.007*&quot;coronavirus&quot; + 0.006*&quot;travel&quot; + &#39;\n  &#39;0.006*&quot;business&quot;&#39;),\n (6,\n  &#39;0.022*&quot;debate&quot; + 0.018*&quot;presidential&quot; + 0.015*&quot;biden&quot; + 0.009*&quot;year&quot; + &#39;\n  &#39;0.009*&quot;candidate&quot; + 0.009*&quot;joe&quot; + 0.007*&quot;face&quot; + 0.007*&quot;tuesday&quot; + &#39;\n  &#39;0.007*&quot;future&quot; + 0.007*&quot;saturday&quot;&#39;),\n (7,\n  &#39;0.017*&quot;armenia&quot; + 0.013*&quot;karabakh&quot; + 0.013*&quot;nagorno&quot; + 0.012*&quot;azerbaijan&quot; + &#39;\n  &#39;0.011*&quot;ufc&quot; + 0.009*&quot;week&quot; + 0.009*&quot;region&quot; + 0.008*&quot;live&quot; + &#39;\n  &#39;0.008*&quot;armenian&quot; + 0.007*&quot;mvp&quot;&#39;),\n (8,\n  &#39;0.014*&quot;new&quot; + 0.007*&quot;india&quot; + 0.007*&quot;exchange&quot; + 0.007*&quot;york&quot; + 0.007*&quot;$&quot; + &#39;\n  &#39;0.006*&quot;year&quot; + 0.006*&quot;mexico&quot; + 0.006*&quot;city&quot; + 0.005*&quot;stock&quot; + &#39;\n  &#39;0.005*&quot;regeneron&quot;&#39;),\n (9,\n  &#39;0.011*&quot;prime&quot; + 0.011*&quot;johnson&quot; + 0.011*&quot;start&quot; + 0.010*&quot;saturday&quot; + &#39;\n  &#39;0.008*&quot;time&quot; + 0.008*&quot;minister&quot; + 0.007*&quot;ap&quot; + 0.007*&quot;fight&quot; + &#39;\n  &#39;0.006*&quot;coronavirus&quot; + 0.005*&quot;indianapolis&quot;&#39;),\n (10,\n  &#39;0.021*&quot;everton&quot; + 0.017*&quot;brighton&quot; + 0.015*&quot;2&quot; + 0.015*&quot;league&quot; + &#39;\n  &#39;0.013*&quot;premier&quot; + 0.012*&quot;4&quot; + 0.011*&quot;james&quot; + 0.011*&quot;saturday&quot; + &#39;\n  &#39;0.010*&quot;rodriguez&quot; + 0.010*&quot;calvert&quot;&#39;),\n (11,\n  &#39;0.018*&quot;coronavirus&quot; + 0.013*&quot;case&quot; + 0.012*&quot;u.s&quot; + 0.012*&quot;new&quot; + &#39;\n  &#39;0.011*&quot;covid-19&quot; + 0.010*&quot;pandemic&quot; + 0.007*&quot;student&quot; + 0.006*&quot;school&quot; + &#39;\n  &#39;0.006*&quot;government&quot; + 0.006*&quot;state&quot;&#39;),\n (12,\n  &#39;0.015*&quot;french&quot; + 0.015*&quot;open&quot; + 0.011*&quot;canadian&quot; + 0.010*&quot;reach&quot; + &#39;\n  &#39;0.010*&quot;kvitova&quot; + 0.009*&quot;3&quot; + 0.009*&quot;&gt;&quot; + 0.009*&quot;start&quot; + 0.009*&quot;6&quot; + &#39;\n  &#39;0.008*&quot;lead&quot;&#39;),\n (13,\n  &#39;0.011*&quot;staff&quot; + 0.011*&quot;saturday&quot; + 0.010*&quot;minute&quot; + 0.010*&quot;bbc&quot; + &#39;\n  &#39;0.009*&quot;world&quot; + 0.009*&quot;news&quot; + 0.009*&quot;late&quot; + 0.008*&quot;6&quot; + 0.008*&quot;bulletin&quot; &#39;\n  &#39;+ 0.008*&quot;service&quot;&#39;),\n (14,\n  &#39;0.008*&quot;week&quot; + 0.008*&quot;walmart&quot; + 0.007*&quot;staff&quot; + 0.007*&quot;britain&quot; + &#39;\n  &#39;0.007*&quot;uk&quot; + 0.007*&quot;election&quot; + 0.007*&quot;inc&quot; + 0.006*&quot;new&quot; + 0.006*&quot;$&quot; + &#39;\n  &#39;0.006*&quot;minister&quot;&#39;),\n (15,\n  &#39;0.022*&quot;court&quot; + 0.022*&quot;u.s&quot; + 0.019*&quot;supreme&quot; + 0.016*&quot;trump&quot; + &#39;\n  &#39;0.014*&quot;saturday&quot; + 0.014*&quot;senate&quot; + 0.014*&quot;president&quot; + 0.013*&quot;barrett&quot; + &#39;\n  &#39;0.012*&quot;nominee&quot; + 0.011*&quot;donald&quot;&#39;),\n (16,\n  &#39;0.009*&quot;new&quot; + 0.007*&quot;amazon&quot; + 0.007*&quot;french&quot; + 0.007*&quot;event&quot; + &#39;\n  &#39;0.007*&quot;month&quot; + 0.007*&quot;paris&quot; + 0.006*&quot;day&quot; + 0.006*&quot;covid-19&quot; + &#39;\n  &#39;0.006*&quot;staff&quot; + 0.006*&quot;man&quot;&#39;),\n (17,\n  &#39;0.070*&quot;trump&quot; + 0.048*&quot;president&quot; + 0.022*&quot;covid-19&quot; + 0.020*&quot;donald&quot; + &#39;\n  &#39;0.019*&quot;test&quot; + 0.018*&quot;positive&quot; + 0.017*&quot;coronavirus&quot; + 0.012*&quot;house&quot; + &#39;\n  &#39;0.011*&quot;white&quot; + 0.010*&quot;reed&quot;&#39;),\n (18,\n  &#39;0.007*&quot;atlanta&quot; + 0.006*&quot;year&quot; + 0.006*&quot;home&quot; + 0.005*&quot;coronavirus&quot; + &#39;\n  &#39;0.005*&quot;pandemic&quot; + 0.005*&quot;photo&quot; + 0.005*&quot;covid-19&quot; + 0.005*&quot;neal&quot; + &#39;\n  &#39;0.005*&quot;koo&quot; + 0.005*&quot;exchange&quot;&#39;),\n (19,\n  &#39;0.010*&quot;space&quot; + 0.008*&quot;year&quot; + 0.008*&quot;french&quot; + 0.008*&quot;open&quot; + &#39;\n  &#39;0.007*&quot;paris&quot; + 0.007*&quot;million&quot; + 0.007*&quot;toilet&quot; + 0.007*&quot;trump&quot; + &#39;\n  &#39;0.006*&quot;president&quot; + 0.006*&quot;world&quot;&#39;)]\n"
    }
   ],
   "source": [
    "pprint(lda_model.print_topics(num_words=10))"
   ]
  },
  {
   "cell_type": "code",
   "execution_count": 17,
   "metadata": {
    "tags": []
   },
   "outputs": [
    {
     "output_type": "execute_result",
     "data": {
      "text/plain": "   document_no  dominant_topic  topic_perc_contrib  \\\n0            0            19.0              0.5884   \n1            1             1.0              0.9943   \n2            2            13.0              0.9234   \n3            3            12.0              0.5680   \n4            4            13.0              0.9935   \n5            5             5.0              0.9942   \n6            6             3.0              0.9946   \n7            7            10.0              0.4382   \n8            8            13.0              0.9940   \n9            9             9.0              0.5718   \n\n                                            keywords  \\\n0  space, year, french, open, paris, million, toi...   \n1  game, google, fight, 2020, bundesliga, eu, sco...   \n2  staff, saturday, minute, bbc, world, news, lat...   \n3  french, open, canadian, reach, kvitova, 3, &gt;, ...   \n4  staff, saturday, minute, bbc, world, news, lat...   \n5  company, u.s, uk, hit, pgl, dollar, million, c...   \n6  european, new, police, story, $, open, union, ...   \n7  everton, brighton, 2, league, premier, 4, jame...   \n8  staff, saturday, minute, bbc, world, news, lat...   \n9  prime, johnson, start, saturday, time, ministe...   \n\n                                                text  \n0  turkey ‘indicts six more saudis’ over jamal kh...  \n1  earthquake swarm in california as 4 tremors sh...  \n2  2020/09/28 11:00 gmt. the latest five minute n...  \n3  french open 2020: petra kvitova beats oceane d...  \n4  ben curran: northamptonshire opener signs new ...  \n5  japan&#39;s little-known nikkei 500 hits record hi...  \n6  exclusive: eu chair germany proposes rule of l...  \n7  coronavirus: rugby players association calls f...  \n8  saudi arabia to host first ladies european tou...  \n9  the morning after: amazon prime day is happeni...  ",
      "text/html": "<div>\n<style scoped>\n    .dataframe tbody tr th:only-of-type {\n        vertical-align: middle;\n    }\n\n    .dataframe tbody tr th {\n        vertical-align: top;\n    }\n\n    .dataframe thead th {\n        text-align: right;\n    }\n</style>\n<table border=\"1\" class=\"dataframe\">\n  <thead>\n    <tr style=\"text-align: right;\">\n      <th></th>\n      <th>document_no</th>\n      <th>dominant_topic</th>\n      <th>topic_perc_contrib</th>\n      <th>keywords</th>\n      <th>text</th>\n    </tr>\n  </thead>\n  <tbody>\n    <tr>\n      <th>0</th>\n      <td>0</td>\n      <td>19.0</td>\n      <td>0.5884</td>\n      <td>space, year, french, open, paris, million, toi...</td>\n      <td>turkey ‘indicts six more saudis’ over jamal kh...</td>\n    </tr>\n    <tr>\n      <th>1</th>\n      <td>1</td>\n      <td>1.0</td>\n      <td>0.9943</td>\n      <td>game, google, fight, 2020, bundesliga, eu, sco...</td>\n      <td>earthquake swarm in california as 4 tremors sh...</td>\n    </tr>\n    <tr>\n      <th>2</th>\n      <td>2</td>\n      <td>13.0</td>\n      <td>0.9234</td>\n      <td>staff, saturday, minute, bbc, world, news, lat...</td>\n      <td>2020/09/28 11:00 gmt. the latest five minute n...</td>\n    </tr>\n    <tr>\n      <th>3</th>\n      <td>3</td>\n      <td>12.0</td>\n      <td>0.5680</td>\n      <td>french, open, canadian, reach, kvitova, 3, &gt;, ...</td>\n      <td>french open 2020: petra kvitova beats oceane d...</td>\n    </tr>\n    <tr>\n      <th>4</th>\n      <td>4</td>\n      <td>13.0</td>\n      <td>0.9935</td>\n      <td>staff, saturday, minute, bbc, world, news, lat...</td>\n      <td>ben curran: northamptonshire opener signs new ...</td>\n    </tr>\n    <tr>\n      <th>5</th>\n      <td>5</td>\n      <td>5.0</td>\n      <td>0.9942</td>\n      <td>company, u.s, uk, hit, pgl, dollar, million, c...</td>\n      <td>japan's little-known nikkei 500 hits record hi...</td>\n    </tr>\n    <tr>\n      <th>6</th>\n      <td>6</td>\n      <td>3.0</td>\n      <td>0.9946</td>\n      <td>european, new, police, story, $, open, union, ...</td>\n      <td>exclusive: eu chair germany proposes rule of l...</td>\n    </tr>\n    <tr>\n      <th>7</th>\n      <td>7</td>\n      <td>10.0</td>\n      <td>0.4382</td>\n      <td>everton, brighton, 2, league, premier, 4, jame...</td>\n      <td>coronavirus: rugby players association calls f...</td>\n    </tr>\n    <tr>\n      <th>8</th>\n      <td>8</td>\n      <td>13.0</td>\n      <td>0.9940</td>\n      <td>staff, saturday, minute, bbc, world, news, lat...</td>\n      <td>saudi arabia to host first ladies european tou...</td>\n    </tr>\n    <tr>\n      <th>9</th>\n      <td>9</td>\n      <td>9.0</td>\n      <td>0.5718</td>\n      <td>prime, johnson, start, saturday, time, ministe...</td>\n      <td>the morning after: amazon prime day is happeni...</td>\n    </tr>\n  </tbody>\n</table>\n</div>"
     },
     "metadata": {},
     "execution_count": 17
    }
   ],
   "source": [
    "def format_topics_sentences(ldamodel, corpus, texts):\n",
    "    # Init output\n",
    "    sent_topics_df = pandas.DataFrame()\n",
    "\n",
    "    # Get main topic in each document\n",
    "    for i, row in enumerate(ldamodel[corpus]):\n",
    "        row = sorted(row[0], key=lambda x: (x[1]), reverse=True)\n",
    "        # Get the Dominant topic, Perc Contribution and Keywords for each document\n",
    "        for j, (topic_num, prop_topic) in enumerate(row):\n",
    "            if j == 0:  # => dominant topic\n",
    "                wp = ldamodel.show_topic(topic_num)\n",
    "                topic_keywords = \", \".join([word for word, prop in wp])\n",
    "                sent_topics_df = sent_topics_df.append(\n",
    "                        pandas.Series(\n",
    "                            [int(topic_num), round(prop_topic,4),topic_keywords]\n",
    "                        ), ignore_index=True\n",
    "                    )\n",
    "            else:\n",
    "                break\n",
    "    sent_topics_df.columns = ['dominant_topic', 'perc_contribution', 'topic_keywords']\n",
    "\n",
    "    # Add original text to the end of the output\n",
    "    contents = pandas.Series(texts)\n",
    "    sent_topics_df = pandas.concat([sent_topics_df, contents], axis=1)\n",
    "    return(sent_topics_df)\n",
    "\n",
    "\n",
    "df_topic_sents_keywords = format_topics_sentences(ldamodel=lda_model, corpus=corpus, texts=news_text)\n",
    "\n",
    "# Format\n",
    "df_dominant_topic = df_topic_sents_keywords.reset_index()\n",
    "df_dominant_topic.columns = ['document_no', 'dominant_topic', 'topic_perc_contrib', 'keywords', 'text']\n",
    "\n",
    "# Show\n",
    "df_dominant_topic.head(10)"
   ]
  },
  {
   "cell_type": "code",
   "execution_count": 18,
   "metadata": {},
   "outputs": [
    {
     "output_type": "execute_result",
     "data": {
      "text/plain": "    topic_Num  perc_Contribution  \\\n0         0.0             0.9955   \n1         1.0             0.9958   \n2         2.0             0.9953   \n3         3.0             0.9958   \n4         4.0             0.9952   \n5         5.0             0.9954   \n6         6.0             0.9950   \n7         7.0             0.9947   \n8         8.0             0.9951   \n9         9.0             0.9953   \n10       10.0             0.9957   \n11       11.0             0.9955   \n12       12.0             0.9953   \n13       13.0             0.9953   \n14       14.0             0.9953   \n15       15.0             0.9963   \n16       16.0             0.9956   \n17       17.0             0.9960   \n18       18.0             0.9958   \n19       19.0             0.9952   \n\n                                             keywords  \\\n0   6, french, new, covid-19, 7, work, 2, seed, en...   \n1   game, google, fight, 2020, bundesliga, eu, sco...   \n2   trump, ap, madrid, white, thursday, house, fri...   \n3   european, new, police, story, $, open, union, ...   \n4   new, coronavirus, senate, trump, republicans, ...   \n5   company, u.s, uk, hit, pgl, dollar, million, c...   \n6   debate, presidential, biden, year, candidate, ...   \n7   armenia, karabakh, nagorno, azerbaijan, ufc, w...   \n8   new, india, exchange, york, $, year, mexico, c...   \n9   prime, johnson, start, saturday, time, ministe...   \n10  everton, brighton, 2, league, premier, 4, jame...   \n11  coronavirus, case, u.s, new, covid-19, pandemi...   \n12  french, open, canadian, reach, kvitova, 3, &gt;, ...   \n13  staff, saturday, minute, bbc, world, news, lat...   \n14  week, walmart, staff, britain, uk, election, i...   \n15  court, u.s, supreme, trump, saturday, senate, ...   \n16  new, amazon, french, event, month, paris, day,...   \n17  trump, president, covid-19, donald, test, posi...   \n18  atlanta, year, home, coronavirus, pandemic, ph...   \n19  space, year, french, open, paris, million, toi...   \n\n                                                 text  \n0   teenager sinner stuns 11th seed goffin on fren...  \n1   exclusive: google set to win eu approval for f...  \n2   swiss voters split on $6.5 billion purchase of...  \n3   mubadala to invest $2 bln in u.s. private equi...  \n4   asia&#39;s capital raising rush delivers record fe...  \n5   fortune 100 companies commit $3.3 billion to f...  \n6   euro zone inflation will remain negative this ...  \n7   pensioners&#39; paradise lost: covid sows fear amo...  \n8   lebanon to allow hard-hit students abroad to g...  \n9   the 145th preakness stakes live stream, post p...  \n10  2 goals, assist for james rodríguez as everton...  \n11  sri lanka seeks fresh currency swap facility, ...  \n12  update 1-spain&#39;s asterion buys stake in italia...  \n13  chiefs-patriots game off amid report newton ha...  \n14  caesars to offer 30 million shares to fund wil...  \n15  shale producer devon energy to buy peer wpx en...  \n16  amazon’s $4.99-a-month personal shopper servic...  \n17  hailo challenges intel and google with its new...  \n18  silverlake adds a $2 billion “longterm” hedge ...  \n19  turkey orders 17 jailed pending trial over 201...  ",
      "text/html": "<div>\n<style scoped>\n    .dataframe tbody tr th:only-of-type {\n        vertical-align: middle;\n    }\n\n    .dataframe tbody tr th {\n        vertical-align: top;\n    }\n\n    .dataframe thead th {\n        text-align: right;\n    }\n</style>\n<table border=\"1\" class=\"dataframe\">\n  <thead>\n    <tr style=\"text-align: right;\">\n      <th></th>\n      <th>topic_Num</th>\n      <th>perc_Contribution</th>\n      <th>keywords</th>\n      <th>text</th>\n    </tr>\n  </thead>\n  <tbody>\n    <tr>\n      <th>0</th>\n      <td>0.0</td>\n      <td>0.9955</td>\n      <td>6, french, new, covid-19, 7, work, 2, seed, en...</td>\n      <td>teenager sinner stuns 11th seed goffin on fren...</td>\n    </tr>\n    <tr>\n      <th>1</th>\n      <td>1.0</td>\n      <td>0.9958</td>\n      <td>game, google, fight, 2020, bundesliga, eu, sco...</td>\n      <td>exclusive: google set to win eu approval for f...</td>\n    </tr>\n    <tr>\n      <th>2</th>\n      <td>2.0</td>\n      <td>0.9953</td>\n      <td>trump, ap, madrid, white, thursday, house, fri...</td>\n      <td>swiss voters split on $6.5 billion purchase of...</td>\n    </tr>\n    <tr>\n      <th>3</th>\n      <td>3.0</td>\n      <td>0.9958</td>\n      <td>european, new, police, story, $, open, union, ...</td>\n      <td>mubadala to invest $2 bln in u.s. private equi...</td>\n    </tr>\n    <tr>\n      <th>4</th>\n      <td>4.0</td>\n      <td>0.9952</td>\n      <td>new, coronavirus, senate, trump, republicans, ...</td>\n      <td>asia's capital raising rush delivers record fe...</td>\n    </tr>\n    <tr>\n      <th>5</th>\n      <td>5.0</td>\n      <td>0.9954</td>\n      <td>company, u.s, uk, hit, pgl, dollar, million, c...</td>\n      <td>fortune 100 companies commit $3.3 billion to f...</td>\n    </tr>\n    <tr>\n      <th>6</th>\n      <td>6.0</td>\n      <td>0.9950</td>\n      <td>debate, presidential, biden, year, candidate, ...</td>\n      <td>euro zone inflation will remain negative this ...</td>\n    </tr>\n    <tr>\n      <th>7</th>\n      <td>7.0</td>\n      <td>0.9947</td>\n      <td>armenia, karabakh, nagorno, azerbaijan, ufc, w...</td>\n      <td>pensioners' paradise lost: covid sows fear amo...</td>\n    </tr>\n    <tr>\n      <th>8</th>\n      <td>8.0</td>\n      <td>0.9951</td>\n      <td>new, india, exchange, york, $, year, mexico, c...</td>\n      <td>lebanon to allow hard-hit students abroad to g...</td>\n    </tr>\n    <tr>\n      <th>9</th>\n      <td>9.0</td>\n      <td>0.9953</td>\n      <td>prime, johnson, start, saturday, time, ministe...</td>\n      <td>the 145th preakness stakes live stream, post p...</td>\n    </tr>\n    <tr>\n      <th>10</th>\n      <td>10.0</td>\n      <td>0.9957</td>\n      <td>everton, brighton, 2, league, premier, 4, jame...</td>\n      <td>2 goals, assist for james rodríguez as everton...</td>\n    </tr>\n    <tr>\n      <th>11</th>\n      <td>11.0</td>\n      <td>0.9955</td>\n      <td>coronavirus, case, u.s, new, covid-19, pandemi...</td>\n      <td>sri lanka seeks fresh currency swap facility, ...</td>\n    </tr>\n    <tr>\n      <th>12</th>\n      <td>12.0</td>\n      <td>0.9953</td>\n      <td>french, open, canadian, reach, kvitova, 3, &gt;, ...</td>\n      <td>update 1-spain's asterion buys stake in italia...</td>\n    </tr>\n    <tr>\n      <th>13</th>\n      <td>13.0</td>\n      <td>0.9953</td>\n      <td>staff, saturday, minute, bbc, world, news, lat...</td>\n      <td>chiefs-patriots game off amid report newton ha...</td>\n    </tr>\n    <tr>\n      <th>14</th>\n      <td>14.0</td>\n      <td>0.9953</td>\n      <td>week, walmart, staff, britain, uk, election, i...</td>\n      <td>caesars to offer 30 million shares to fund wil...</td>\n    </tr>\n    <tr>\n      <th>15</th>\n      <td>15.0</td>\n      <td>0.9963</td>\n      <td>court, u.s, supreme, trump, saturday, senate, ...</td>\n      <td>shale producer devon energy to buy peer wpx en...</td>\n    </tr>\n    <tr>\n      <th>16</th>\n      <td>16.0</td>\n      <td>0.9956</td>\n      <td>new, amazon, french, event, month, paris, day,...</td>\n      <td>amazon’s $4.99-a-month personal shopper servic...</td>\n    </tr>\n    <tr>\n      <th>17</th>\n      <td>17.0</td>\n      <td>0.9960</td>\n      <td>trump, president, covid-19, donald, test, posi...</td>\n      <td>hailo challenges intel and google with its new...</td>\n    </tr>\n    <tr>\n      <th>18</th>\n      <td>18.0</td>\n      <td>0.9958</td>\n      <td>atlanta, year, home, coronavirus, pandemic, ph...</td>\n      <td>silverlake adds a $2 billion “longterm” hedge ...</td>\n    </tr>\n    <tr>\n      <th>19</th>\n      <td>19.0</td>\n      <td>0.9952</td>\n      <td>space, year, french, open, paris, million, toi...</td>\n      <td>turkey orders 17 jailed pending trial over 201...</td>\n    </tr>\n  </tbody>\n</table>\n</div>"
     },
     "metadata": {},
     "execution_count": 18
    }
   ],
   "source": [
    "# Group top 5 sentences under each topic\n",
    "sent_topics_sorteddf = pandas.DataFrame()\n",
    "\n",
    "sent_topics_outdf_grpd = df_topic_sents_keywords.groupby('dominant_topic')\n",
    "\n",
    "for i, grp in sent_topics_outdf_grpd:\n",
    "    sent_topics_sorteddf = pandas.concat([sent_topics_sorteddf, \n",
    "                                             grp.sort_values(['perc_contribution'], \n",
    "                                             ascending=[0]).head(1)],\n",
    "                                             axis=0\n",
    "                                             )\n",
    "\n",
    "# Reset Index    \n",
    "sent_topics_sorteddf.reset_index(drop=True, inplace=True)\n",
    "\n",
    "# Format\n",
    "sent_topics_sorteddf.columns = ['topic_Num', 'perc_Contribution', 'keywords', 'text']\n",
    "\n",
    "# Show\n",
    "sent_topics_sorteddf.head(20)"
   ]
  },
  {
   "cell_type": "code",
   "execution_count": 19,
   "metadata": {},
   "outputs": [
    {
     "output_type": "execute_result",
     "data": {
      "text/plain": "    dominant_topic                                     topic_keywords  \\\n15            15.0  court, u.s, supreme, trump, saturday, senate, ...   \n17            17.0  trump, president, covid-19, donald, test, posi...   \n13            13.0  staff, saturday, minute, bbc, world, news, lat...   \n11            11.0  coronavirus, case, u.s, new, covid-19, pandemi...   \n10            10.0  everton, brighton, 2, league, premier, 4, jame...   \n9              9.0  prime, johnson, start, saturday, time, ministe...   \n12            12.0  french, open, canadian, reach, kvitova, 3, &gt;, ...   \n14            14.0  week, walmart, staff, britain, uk, election, i...   \n19            19.0  space, year, french, open, paris, million, toi...   \n3              3.0  european, new, police, story, $, open, union, ...   \n1              1.0  game, google, fight, 2020, bundesliga, eu, sco...   \n6              6.0  debate, presidential, biden, year, candidate, ...   \n2              2.0  trump, ap, madrid, white, thursday, house, fri...   \n18            18.0  atlanta, year, home, coronavirus, pandemic, ph...   \n7              7.0  armenia, karabakh, nagorno, azerbaijan, ufc, w...   \n0              0.0  6, french, new, covid-19, 7, work, 2, seed, en...   \n16            16.0  new, amazon, french, event, month, paris, day,...   \n4              4.0  new, coronavirus, senate, trump, republicans, ...   \n8              8.0  new, india, exchange, york, $, year, mexico, c...   \n5              5.0  company, u.s, uk, hit, pgl, dollar, million, c...   \n\n    num_documents  perc_documents  \n15             77        8.661417  \n17             75        8.436445  \n13             63        7.086614  \n11             54        6.074241  \n10             53        5.961755  \n9              44        4.949381  \n12             44        4.949381  \n14             43        4.836895  \n19             43        4.836895  \n3              42        4.724409  \n1              41        4.611924  \n6              38        4.274466  \n2              38        4.274466  \n18             37        4.161980  \n7              36        4.049494  \n0              35        3.937008  \n16             34        3.824522  \n4              33        3.712036  \n8              32        3.599550  \n5              27        3.037120  ",
      "text/html": "<div>\n<style scoped>\n    .dataframe tbody tr th:only-of-type {\n        vertical-align: middle;\n    }\n\n    .dataframe tbody tr th {\n        vertical-align: top;\n    }\n\n    .dataframe thead th {\n        text-align: right;\n    }\n</style>\n<table border=\"1\" class=\"dataframe\">\n  <thead>\n    <tr style=\"text-align: right;\">\n      <th></th>\n      <th>dominant_topic</th>\n      <th>topic_keywords</th>\n      <th>num_documents</th>\n      <th>perc_documents</th>\n    </tr>\n  </thead>\n  <tbody>\n    <tr>\n      <th>15</th>\n      <td>15.0</td>\n      <td>court, u.s, supreme, trump, saturday, senate, ...</td>\n      <td>77</td>\n      <td>8.661417</td>\n    </tr>\n    <tr>\n      <th>17</th>\n      <td>17.0</td>\n      <td>trump, president, covid-19, donald, test, posi...</td>\n      <td>75</td>\n      <td>8.436445</td>\n    </tr>\n    <tr>\n      <th>13</th>\n      <td>13.0</td>\n      <td>staff, saturday, minute, bbc, world, news, lat...</td>\n      <td>63</td>\n      <td>7.086614</td>\n    </tr>\n    <tr>\n      <th>11</th>\n      <td>11.0</td>\n      <td>coronavirus, case, u.s, new, covid-19, pandemi...</td>\n      <td>54</td>\n      <td>6.074241</td>\n    </tr>\n    <tr>\n      <th>10</th>\n      <td>10.0</td>\n      <td>everton, brighton, 2, league, premier, 4, jame...</td>\n      <td>53</td>\n      <td>5.961755</td>\n    </tr>\n    <tr>\n      <th>9</th>\n      <td>9.0</td>\n      <td>prime, johnson, start, saturday, time, ministe...</td>\n      <td>44</td>\n      <td>4.949381</td>\n    </tr>\n    <tr>\n      <th>12</th>\n      <td>12.0</td>\n      <td>french, open, canadian, reach, kvitova, 3, &gt;, ...</td>\n      <td>44</td>\n      <td>4.949381</td>\n    </tr>\n    <tr>\n      <th>14</th>\n      <td>14.0</td>\n      <td>week, walmart, staff, britain, uk, election, i...</td>\n      <td>43</td>\n      <td>4.836895</td>\n    </tr>\n    <tr>\n      <th>19</th>\n      <td>19.0</td>\n      <td>space, year, french, open, paris, million, toi...</td>\n      <td>43</td>\n      <td>4.836895</td>\n    </tr>\n    <tr>\n      <th>3</th>\n      <td>3.0</td>\n      <td>european, new, police, story, $, open, union, ...</td>\n      <td>42</td>\n      <td>4.724409</td>\n    </tr>\n    <tr>\n      <th>1</th>\n      <td>1.0</td>\n      <td>game, google, fight, 2020, bundesliga, eu, sco...</td>\n      <td>41</td>\n      <td>4.611924</td>\n    </tr>\n    <tr>\n      <th>6</th>\n      <td>6.0</td>\n      <td>debate, presidential, biden, year, candidate, ...</td>\n      <td>38</td>\n      <td>4.274466</td>\n    </tr>\n    <tr>\n      <th>2</th>\n      <td>2.0</td>\n      <td>trump, ap, madrid, white, thursday, house, fri...</td>\n      <td>38</td>\n      <td>4.274466</td>\n    </tr>\n    <tr>\n      <th>18</th>\n      <td>18.0</td>\n      <td>atlanta, year, home, coronavirus, pandemic, ph...</td>\n      <td>37</td>\n      <td>4.161980</td>\n    </tr>\n    <tr>\n      <th>7</th>\n      <td>7.0</td>\n      <td>armenia, karabakh, nagorno, azerbaijan, ufc, w...</td>\n      <td>36</td>\n      <td>4.049494</td>\n    </tr>\n    <tr>\n      <th>0</th>\n      <td>0.0</td>\n      <td>6, french, new, covid-19, 7, work, 2, seed, en...</td>\n      <td>35</td>\n      <td>3.937008</td>\n    </tr>\n    <tr>\n      <th>16</th>\n      <td>16.0</td>\n      <td>new, amazon, french, event, month, paris, day,...</td>\n      <td>34</td>\n      <td>3.824522</td>\n    </tr>\n    <tr>\n      <th>4</th>\n      <td>4.0</td>\n      <td>new, coronavirus, senate, trump, republicans, ...</td>\n      <td>33</td>\n      <td>3.712036</td>\n    </tr>\n    <tr>\n      <th>8</th>\n      <td>8.0</td>\n      <td>new, india, exchange, york, $, year, mexico, c...</td>\n      <td>32</td>\n      <td>3.599550</td>\n    </tr>\n    <tr>\n      <th>5</th>\n      <td>5.0</td>\n      <td>company, u.s, uk, hit, pgl, dollar, million, c...</td>\n      <td>27</td>\n      <td>3.037120</td>\n    </tr>\n  </tbody>\n</table>\n</div>"
     },
     "metadata": {},
     "execution_count": 19
    }
   ],
   "source": [
    "# Number of Documents for Each Topic\n",
    "topic_counts = df_topic_sents_keywords['dominant_topic'].value_counts()\n",
    "\n",
    "# Topic Number and Keywords\n",
    "topic_num_keywords = df_topic_sents_keywords[['dominant_topic', 'topic_keywords']].groupby(\n",
    "                        ['dominant_topic', 'topic_keywords']\n",
    "                    )['topic_keywords'].count().reset_index(name='num_documents')\n",
    "\n",
    "topic_num_keywords['perc_documents'] = ((topic_num_keywords['num_documents'])/(topic_num_keywords['num_documents'].sum()))*100\n",
    "\n",
    "# show top topics\n",
    "topic_num_keywords.head(50).sort_values(by='perc_documents', ascending=False)"
   ]
  },
  {
   "cell_type": "code",
   "execution_count": 20,
   "metadata": {},
   "outputs": [
    {
     "output_type": "execute_result",
     "data": {
      "text/plain": "0      turkey ‘indicts six more saudis’ over jamal kh...\n1      earthquake swarm in california as 4 tremors sh...\n2      2020/09/28 11:00 gmt. the latest five minute n...\n3      french open 2020: petra kvitova beats oceane d...\n4      ben curran: northamptonshire opener signs new ...\n                             ...                        \n884    meatpackers in the americas accelerate automat...\n885    focus-meatpackers in the americas accelerate a...\n886    ask the captain: how does ice on the wing affe...\n887    us jobless claims likely remained high as layo...\n888    coronavirus updates: massive airline layoffs c...\nName: text, Length: 889, dtype: object"
     },
     "metadata": {},
     "execution_count": 20
    }
   ],
   "source": [
    "news_text"
   ]
  },
  {
   "cell_type": "code",
   "execution_count": 21,
   "metadata": {},
   "outputs": [
    {
     "output_type": "execute_result",
     "data": {
      "text/plain": "     document_no  dominant_topic  topic_perc_contrib  \\\n0              0            19.0              0.5884   \n1              1             1.0              0.9943   \n2              2            13.0              0.9234   \n3              3            12.0              0.5680   \n4              4            13.0              0.9935   \n..           ...             ...                 ...   \n884          884            18.0              0.8310   \n885          885            18.0              0.9943   \n886          886             7.0              0.9931   \n887          887            11.0              0.5511   \n888          888             1.0              0.4999   \n\n                                              keywords  \\\n0    space, year, french, open, paris, million, toi...   \n1    game, google, fight, 2020, bundesliga, eu, sco...   \n2    staff, saturday, minute, bbc, world, news, lat...   \n3    french, open, canadian, reach, kvitova, 3, &gt;, ...   \n4    staff, saturday, minute, bbc, world, news, lat...   \n..                                                 ...   \n884  atlanta, year, home, coronavirus, pandemic, ph...   \n885  atlanta, year, home, coronavirus, pandemic, ph...   \n886  armenia, karabakh, nagorno, azerbaijan, ufc, w...   \n887  coronavirus, case, u.s, new, covid-19, pandemi...   \n888  game, google, fight, 2020, bundesliga, eu, sco...   \n\n                                                  text  \n0    turkey ‘indicts six more saudis’ over jamal kh...  \n1    earthquake swarm in california as 4 tremors sh...  \n2    2020/09/28 11:00 gmt. the latest five minute n...  \n3    french open 2020: petra kvitova beats oceane d...  \n4    ben curran: northamptonshire opener signs new ...  \n..                                                 ...  \n884  meatpackers in the americas accelerate automat...  \n885  focus-meatpackers in the americas accelerate a...  \n886  ask the captain: how does ice on the wing affe...  \n887  us jobless claims likely remained high as layo...  \n888  coronavirus updates: massive airline layoffs c...  \n\n[889 rows x 5 columns]",
      "text/html": "<div>\n<style scoped>\n    .dataframe tbody tr th:only-of-type {\n        vertical-align: middle;\n    }\n\n    .dataframe tbody tr th {\n        vertical-align: top;\n    }\n\n    .dataframe thead th {\n        text-align: right;\n    }\n</style>\n<table border=\"1\" class=\"dataframe\">\n  <thead>\n    <tr style=\"text-align: right;\">\n      <th></th>\n      <th>document_no</th>\n      <th>dominant_topic</th>\n      <th>topic_perc_contrib</th>\n      <th>keywords</th>\n      <th>text</th>\n    </tr>\n  </thead>\n  <tbody>\n    <tr>\n      <th>0</th>\n      <td>0</td>\n      <td>19.0</td>\n      <td>0.5884</td>\n      <td>space, year, french, open, paris, million, toi...</td>\n      <td>turkey ‘indicts six more saudis’ over jamal kh...</td>\n    </tr>\n    <tr>\n      <th>1</th>\n      <td>1</td>\n      <td>1.0</td>\n      <td>0.9943</td>\n      <td>game, google, fight, 2020, bundesliga, eu, sco...</td>\n      <td>earthquake swarm in california as 4 tremors sh...</td>\n    </tr>\n    <tr>\n      <th>2</th>\n      <td>2</td>\n      <td>13.0</td>\n      <td>0.9234</td>\n      <td>staff, saturday, minute, bbc, world, news, lat...</td>\n      <td>2020/09/28 11:00 gmt. the latest five minute n...</td>\n    </tr>\n    <tr>\n      <th>3</th>\n      <td>3</td>\n      <td>12.0</td>\n      <td>0.5680</td>\n      <td>french, open, canadian, reach, kvitova, 3, &gt;, ...</td>\n      <td>french open 2020: petra kvitova beats oceane d...</td>\n    </tr>\n    <tr>\n      <th>4</th>\n      <td>4</td>\n      <td>13.0</td>\n      <td>0.9935</td>\n      <td>staff, saturday, minute, bbc, world, news, lat...</td>\n      <td>ben curran: northamptonshire opener signs new ...</td>\n    </tr>\n    <tr>\n      <th>...</th>\n      <td>...</td>\n      <td>...</td>\n      <td>...</td>\n      <td>...</td>\n      <td>...</td>\n    </tr>\n    <tr>\n      <th>884</th>\n      <td>884</td>\n      <td>18.0</td>\n      <td>0.8310</td>\n      <td>atlanta, year, home, coronavirus, pandemic, ph...</td>\n      <td>meatpackers in the americas accelerate automat...</td>\n    </tr>\n    <tr>\n      <th>885</th>\n      <td>885</td>\n      <td>18.0</td>\n      <td>0.9943</td>\n      <td>atlanta, year, home, coronavirus, pandemic, ph...</td>\n      <td>focus-meatpackers in the americas accelerate a...</td>\n    </tr>\n    <tr>\n      <th>886</th>\n      <td>886</td>\n      <td>7.0</td>\n      <td>0.9931</td>\n      <td>armenia, karabakh, nagorno, azerbaijan, ufc, w...</td>\n      <td>ask the captain: how does ice on the wing affe...</td>\n    </tr>\n    <tr>\n      <th>887</th>\n      <td>887</td>\n      <td>11.0</td>\n      <td>0.5511</td>\n      <td>coronavirus, case, u.s, new, covid-19, pandemi...</td>\n      <td>us jobless claims likely remained high as layo...</td>\n    </tr>\n    <tr>\n      <th>888</th>\n      <td>888</td>\n      <td>1.0</td>\n      <td>0.4999</td>\n      <td>game, google, fight, 2020, bundesliga, eu, sco...</td>\n      <td>coronavirus updates: massive airline layoffs c...</td>\n    </tr>\n  </tbody>\n</table>\n<p>889 rows × 5 columns</p>\n</div>"
     },
     "metadata": {},
     "execution_count": 21
    }
   ],
   "source": [
    "df_dominant_topic"
   ]
  },
  {
   "cell_type": "code",
   "execution_count": 22,
   "metadata": {},
   "outputs": [
    {
     "output_type": "execute_result",
     "data": {
      "text/plain": "                               article_id               publishedAt  \\\n0    a23e6a41-e4b7-4454-ab61-5f5f976a6676 2020-09-28 11:48:01+00:00   \n1    9eca8dbd-da7f-4b78-b341-ff068addf30c 2020-09-30 11:50:05+00:00   \n2    2bd0895f-c264-444b-ac7b-be77d3b78187 2020-09-28 11:06:00+00:00   \n3    1bcd7cb9-c8b5-40e9-a7c7-fb96a6659710 2020-09-28 11:14:27+00:00   \n4    cd7c854a-fe31-46de-8874-0f71425a8b9a 2020-09-28 11:28:37+00:00   \n..                                    ...                       ...   \n884  6a050c53-c560-4030-ab36-faaf8e18b836 2020-10-01 11:14:54+00:00   \n885  9c88b86d-2ebe-49be-9dc0-1518038adb44 2020-10-01 11:00:00+00:00   \n886  b7b9928f-909b-4edb-9921-dbe4c7e2ce4d 2020-10-01 11:17:55+00:00   \n887  87f165b7-4e6e-4cd1-a365-ebd4d5ac7dee 2020-10-01 10:57:30+00:00   \n888  aea97082-cab0-4e9c-9bd6-4b09f76f75a7 2020-10-01 10:59:02+00:00   \n\n                                                  text  dominant_topic  \\\n0    turkey ‘indicts six more saudis’ over jamal kh...              19   \n1    earthquake swarm in california as 4 tremors sh...               1   \n2    2020/09/28 11:00 gmt. the latest five minute n...              13   \n3    french open 2020: petra kvitova beats oceane d...              12   \n4    ben curran: northamptonshire opener signs new ...              13   \n..                                                 ...             ...   \n884  meatpackers in the americas accelerate automat...              18   \n885  focus-meatpackers in the americas accelerate a...              18   \n886  ask the captain: how does ice on the wing affe...               7   \n887  us jobless claims likely remained high as layo...              11   \n888  coronavirus updates: massive airline layoffs c...               1   \n\n     topic_perc_contrib                                           keywords  \n0                0.5884  space, year, french, open, paris, million, toi...  \n1                0.9943  game, google, fight, 2020, bundesliga, eu, sco...  \n2                0.9234  staff, saturday, minute, bbc, world, news, lat...  \n3                0.5680  french, open, canadian, reach, kvitova, 3, &gt;, ...  \n4                0.9935  staff, saturday, minute, bbc, world, news, lat...  \n..                  ...                                                ...  \n884              0.8310  atlanta, year, home, coronavirus, pandemic, ph...  \n885              0.9943  atlanta, year, home, coronavirus, pandemic, ph...  \n886              0.9931  armenia, karabakh, nagorno, azerbaijan, ufc, w...  \n887              0.5511  coronavirus, case, u.s, new, covid-19, pandemi...  \n888              0.4999  game, google, fight, 2020, bundesliga, eu, sco...  \n\n[889 rows x 6 columns]",
      "text/html": "<div>\n<style scoped>\n    .dataframe tbody tr th:only-of-type {\n        vertical-align: middle;\n    }\n\n    .dataframe tbody tr th {\n        vertical-align: top;\n    }\n\n    .dataframe thead th {\n        text-align: right;\n    }\n</style>\n<table border=\"1\" class=\"dataframe\">\n  <thead>\n    <tr style=\"text-align: right;\">\n      <th></th>\n      <th>article_id</th>\n      <th>publishedAt</th>\n      <th>text</th>\n      <th>dominant_topic</th>\n      <th>topic_perc_contrib</th>\n      <th>keywords</th>\n    </tr>\n  </thead>\n  <tbody>\n    <tr>\n      <th>0</th>\n      <td>a23e6a41-e4b7-4454-ab61-5f5f976a6676</td>\n      <td>2020-09-28 11:48:01+00:00</td>\n      <td>turkey ‘indicts six more saudis’ over jamal kh...</td>\n      <td>19</td>\n      <td>0.5884</td>\n      <td>space, year, french, open, paris, million, toi...</td>\n    </tr>\n    <tr>\n      <th>1</th>\n      <td>9eca8dbd-da7f-4b78-b341-ff068addf30c</td>\n      <td>2020-09-30 11:50:05+00:00</td>\n      <td>earthquake swarm in california as 4 tremors sh...</td>\n      <td>1</td>\n      <td>0.9943</td>\n      <td>game, google, fight, 2020, bundesliga, eu, sco...</td>\n    </tr>\n    <tr>\n      <th>2</th>\n      <td>2bd0895f-c264-444b-ac7b-be77d3b78187</td>\n      <td>2020-09-28 11:06:00+00:00</td>\n      <td>2020/09/28 11:00 gmt. the latest five minute n...</td>\n      <td>13</td>\n      <td>0.9234</td>\n      <td>staff, saturday, minute, bbc, world, news, lat...</td>\n    </tr>\n    <tr>\n      <th>3</th>\n      <td>1bcd7cb9-c8b5-40e9-a7c7-fb96a6659710</td>\n      <td>2020-09-28 11:14:27+00:00</td>\n      <td>french open 2020: petra kvitova beats oceane d...</td>\n      <td>12</td>\n      <td>0.5680</td>\n      <td>french, open, canadian, reach, kvitova, 3, &gt;, ...</td>\n    </tr>\n    <tr>\n      <th>4</th>\n      <td>cd7c854a-fe31-46de-8874-0f71425a8b9a</td>\n      <td>2020-09-28 11:28:37+00:00</td>\n      <td>ben curran: northamptonshire opener signs new ...</td>\n      <td>13</td>\n      <td>0.9935</td>\n      <td>staff, saturday, minute, bbc, world, news, lat...</td>\n    </tr>\n    <tr>\n      <th>...</th>\n      <td>...</td>\n      <td>...</td>\n      <td>...</td>\n      <td>...</td>\n      <td>...</td>\n      <td>...</td>\n    </tr>\n    <tr>\n      <th>884</th>\n      <td>6a050c53-c560-4030-ab36-faaf8e18b836</td>\n      <td>2020-10-01 11:14:54+00:00</td>\n      <td>meatpackers in the americas accelerate automat...</td>\n      <td>18</td>\n      <td>0.8310</td>\n      <td>atlanta, year, home, coronavirus, pandemic, ph...</td>\n    </tr>\n    <tr>\n      <th>885</th>\n      <td>9c88b86d-2ebe-49be-9dc0-1518038adb44</td>\n      <td>2020-10-01 11:00:00+00:00</td>\n      <td>focus-meatpackers in the americas accelerate a...</td>\n      <td>18</td>\n      <td>0.9943</td>\n      <td>atlanta, year, home, coronavirus, pandemic, ph...</td>\n    </tr>\n    <tr>\n      <th>886</th>\n      <td>b7b9928f-909b-4edb-9921-dbe4c7e2ce4d</td>\n      <td>2020-10-01 11:17:55+00:00</td>\n      <td>ask the captain: how does ice on the wing affe...</td>\n      <td>7</td>\n      <td>0.9931</td>\n      <td>armenia, karabakh, nagorno, azerbaijan, ufc, w...</td>\n    </tr>\n    <tr>\n      <th>887</th>\n      <td>87f165b7-4e6e-4cd1-a365-ebd4d5ac7dee</td>\n      <td>2020-10-01 10:57:30+00:00</td>\n      <td>us jobless claims likely remained high as layo...</td>\n      <td>11</td>\n      <td>0.5511</td>\n      <td>coronavirus, case, u.s, new, covid-19, pandemi...</td>\n    </tr>\n    <tr>\n      <th>888</th>\n      <td>aea97082-cab0-4e9c-9bd6-4b09f76f75a7</td>\n      <td>2020-10-01 10:59:02+00:00</td>\n      <td>coronavirus updates: massive airline layoffs c...</td>\n      <td>1</td>\n      <td>0.4999</td>\n      <td>game, google, fight, 2020, bundesliga, eu, sco...</td>\n    </tr>\n  </tbody>\n</table>\n<p>889 rows × 6 columns</p>\n</div>"
     },
     "metadata": {},
     "execution_count": 22
    }
   ],
   "source": [
    "output_df = pandas.concat([df[['article_id', 'publishedAt']], news_text, df_dominant_topic], axis=1)\n",
    "\n",
    "output_df.columns = ['article_id', 'publishedAt', 'text', 'drop', 'dominant_topic', 'topic_perc_contrib', 'keywords', 'drop']\n",
    "\n",
    "output_df.drop(output_df['drop'], axis=1, inplace=True)\n",
    "\n",
    "output_df['dominant_topic'] = output_df['dominant_topic'].astype(int)\n",
    "\n",
    "output_df"
   ]
  },
  {
   "cell_type": "code",
   "execution_count": 23,
   "metadata": {},
   "outputs": [],
   "source": [
    "# output_df.to_parquet('df.parquet.gzip', allow_truncated_timestamps=True)\n",
    "\n",
    "# bq_df = pandas.read_parquet('df.parquet.gzip')"
   ]
  },
  {
   "cell_type": "code",
   "execution_count": 24,
   "metadata": {},
   "outputs": [],
   "source": [
    "# configure BigQuery job\n",
    "job_config = bigquery.LoadJobConfig(\n",
    "    # Specify a (partial) schema. All columns are always written to the\n",
    "    # table. The schema is used to assist in data type definitions.\n",
    "    schema=[\n",
    "        # Specify the type of columns whose type cannot be auto-detected. For\n",
    "        # example the \"title\" column uses pandas dtype \"object\", so its\n",
    "        # data type is ambiguous.\n",
    "        bigquery.SchemaField(\"article_id\", bigquery.enums.SqlTypeNames.STRING),\n",
    "        bigquery.SchemaField(\"publishedAt\", bigquery.enums.SqlTypeNames.TIMESTAMP),\n",
    "        bigquery.SchemaField(\"text\", bigquery.enums.SqlTypeNames.STRING),\n",
    "        bigquery.SchemaField(\"dominant_topic\", bigquery.enums.SqlTypeNames.INT64),\n",
    "        bigquery.SchemaField(\"topic_perc_contrib\", bigquery.enums.SqlTypeNames.FLOAT64),\n",
    "        bigquery.SchemaField(\"keywords\", bigquery.enums.SqlTypeNames.STRING),\n",
    "    ],\n",
    "    # Optionally, set the write disposition. BigQuery appends loaded rows\n",
    "    # to an existing table by default, but with WRITE_TRUNCATE write\n",
    "    # disposition it replaces the table with the loaded data.\n",
    "    write_disposition=\"WRITE_TRUNCATE\",\n",
    ")"
   ]
  },
  {
   "cell_type": "code",
   "execution_count": 25,
   "metadata": {},
   "outputs": [
    {
     "output_type": "execute_result",
     "data": {
      "text/plain": "&lt;google.cloud.bigquery.job.LoadJob at 0x1324f6370&gt;"
     },
     "metadata": {},
     "execution_count": 25
    }
   ],
   "source": [
    "table_id = \"news-site-280319.topics.article_topics\"\n",
    "job = client.load_table_from_dataframe(\n",
    "    # bq_df,\n",
    "    output_df,\n",
    "    table_id, \n",
    "    job_config=job_config\n",
    ")  # Make an API request.\n",
    "job.result()  # Wait for the job to complete."
   ]
  },
  {
   "cell_type": "code",
   "execution_count": 26,
   "metadata": {
    "tags": []
   },
   "outputs": [
    {
     "output_type": "execute_result",
     "data": {
      "text/plain": "&#39;DONE&#39;"
     },
     "metadata": {},
     "execution_count": 26
    }
   ],
   "source": [
    "# check job status\n",
    "job.result().state"
   ]
  },
  {
   "cell_type": "code",
   "execution_count": null,
   "metadata": {},
   "outputs": [],
   "source": []
  }
 ],
 "metadata": {
  "language_info": {
   "codemirror_mode": {
    "name": "ipython",
    "version": 3
   },
   "file_extension": ".py",
   "mimetype": "text/x-python",
   "name": "python",
   "nbconvert_exporter": "python",
   "pygments_lexer": "ipython3",
   "version": "3.8.0-final"
  },
  "orig_nbformat": 2,
  "kernelspec": {
   "name": "python38064bit9c1e0c45891f4f5bb47cc2daf8211df6",
   "display_name": "Python 3.8.0 64-bit"
  }
 },
 "nbformat": 4,
 "nbformat_minor": 2
}